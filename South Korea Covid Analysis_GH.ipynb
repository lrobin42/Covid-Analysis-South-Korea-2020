{
 "cells": [
  {
   "cell_type": "markdown",
   "id": "26a99dfc",
   "metadata": {},
   "source": [
    "### Key Research Question\n",
    "What did South Korea do right during this pandemic, and what can other countries learn from their response at this initial phase of their coronavirus response? "
   ]
  },
  {
   "cell_type": "markdown",
   "id": "229539b1",
   "metadata": {},
   "source": [
    "# Project Outline \n",
    "- Import and inspect data\n",
    "- Understand the distribution of cases within the country\n",
    "- Understand the effect of international movement on case numbers\n",
    "- Understand effects of policies enacted by Korean government\n",
    "- Breakdown patient mortality across province, age, and gender\n",
    "- Understand why Daegu is so different from other provinces\n",
    "- Investigate public tranmission and case clusters\n",
    "- Make policy recommendations based on findings"
   ]
  },
  {
   "cell_type": "markdown",
   "id": "19ef3253",
   "metadata": {},
   "source": [
    "# Initial Setup"
   ]
  },
  {
   "cell_type": "markdown",
   "id": "bef62059",
   "metadata": {},
   "source": [
    "### Setting directory"
   ]
  },
  {
   "cell_type": "code",
   "execution_count": 1,
   "id": "8011765e",
   "metadata": {
    "ExecuteTime": {
     "end_time": "2023-12-27T19:28:35.048037Z",
     "start_time": "2023-12-27T19:28:35.040684Z"
    }
   },
   "outputs": [],
   "source": [
    "import warnings\n",
    "import sys\n",
    "import os\n",
    "\n",
    "warnings.filterwarnings(\"ignore\")\n",
    "os.chdir(\"/Users/lemuelrobinson/Documents/Turing_College/1_Sprint_4_Covid\")"
   ]
  },
  {
   "cell_type": "markdown",
   "id": "cdab3b64",
   "metadata": {},
   "source": [
    "### Importing modules and files"
   ]
  },
  {
   "cell_type": "code",
   "execution_count": 2,
   "id": "d0b6786b",
   "metadata": {
    "ExecuteTime": {
     "end_time": "2023-12-28T01:25:06.657786Z",
     "start_time": "2023-12-28T01:25:06.613576Z"
    }
   },
   "outputs": [],
   "source": [
    "import seaborn as sns\n",
    "import pandas as pd\n",
    "import numpy as np\n",
    "import matplotlib.pyplot as plt\n",
    "import plotly.express as px\n",
    "import plotly.graph_objects as go\n",
    "import plotly.io as pio\n",
    "from datetime import datetime as dt\n",
    "from scipy import stats\n",
    "import collections"
   ]
  },
  {
   "cell_type": "markdown",
   "id": "79b6a293",
   "metadata": {},
   "source": [
    "### Inspecting the data"
   ]
  },
  {
   "cell_type": "code",
   "execution_count": 3,
   "id": "ffe22c57",
   "metadata": {
    "ExecuteTime": {
     "end_time": "2023-12-27T19:28:37.780563Z",
     "start_time": "2023-12-27T19:28:37.368056Z"
    }
   },
   "outputs": [],
   "source": [
    "# Create a dataframe for each csv file\n",
    "case_df = pd.read_csv(\"Case.csv\")\n",
    "patient_info_df = pd.read_csv(\"PatientInfo.csv\")\n",
    "policy_df = pd.read_csv(\"Policy.csv\")\n",
    "region_df = pd.read_csv(\"Region.csv\")\n",
    "search_trend_df = pd.read_csv(\"SearchTrend.csv\")\n",
    "seoul_floating_df = pd.read_csv(\"SeoulFloating.csv\")\n",
    "time_df = pd.read_csv(\"Time.csv\")\n",
    "timeage_df = pd.read_csv(\"TimeAge.csv\")\n",
    "timegender_df = pd.read_csv(\"TimeGender.csv\")\n",
    "timeprovince_df = pd.read_csv(\"TimeProvince.csv\")\n",
    "weather_df = pd.read_csv(\"Weather.csv\")"
   ]
  },
  {
   "cell_type": "markdown",
   "id": "5e6eb153",
   "metadata": {},
   "source": [
    "Before we do any manipulation or analysis of the data we'll check for duplicates and null values in case there are adjustments we'll have to make the data before going further, or any workarounds we'll need to do to make the most of the datasets we have here. Let's begin by defining the function we'll need to check for duplicates and missing values, and then we'll pass each of our imported dataframes to it in turn. "
   ]
  },
  {
   "cell_type": "code",
   "execution_count": 4,
   "id": "1efbc488",
   "metadata": {
    "ExecuteTime": {
     "end_time": "2023-12-27T19:28:38.037344Z",
     "start_time": "2023-12-27T19:28:37.781266Z"
    }
   },
   "outputs": [
    {
     "name": "stdout",
     "output_type": "stream",
     "text": [
      "nulls in 1\n",
      "nulls in 2\n",
      "nulls in 10\n"
     ]
    }
   ],
   "source": [
    "def duplicate_and_null_checker(list_of_dataframes):\n",
    "    \"\"\"Function takes list of dataframes as an input, checking that\n",
    "    there are no null values or duplicates in each. It returns either a message\n",
    "    confirming no duplicates and no nulls, or names of each dataframe requiring deeper investigation.\n",
    "    \"\"\"\n",
    "\n",
    "    for i, df in enumerate(list_of_dataframes):\n",
    "        if df.duplicated().any().sum() > 0:\n",
    "            print(f\"duplicates in {i}\")\n",
    "        if df.isnull().any().sum() > 0:\n",
    "            print(f\"nulls in {i}\")\n",
    "\n",
    "\n",
    "# Create list of all dataframes to pass to our helper function in the next cell\n",
    "dataframe_list = [\n",
    "    case_df,\n",
    "    patient_info_df,\n",
    "    policy_df,\n",
    "    region_df,\n",
    "    search_trend_df,\n",
    "    seoul_floating_df,\n",
    "    time_df,\n",
    "    timeage_df,\n",
    "    timegender_df,\n",
    "    timeprovince_df,\n",
    "    weather_df,\n",
    "]\n",
    "\n",
    "# Now that we have that function written, we'll see which need further investigation\n",
    "duplicate_and_null_checker(dataframe_list)"
   ]
  },
  {
   "cell_type": "markdown",
   "id": "4cdff032",
   "metadata": {
    "ExecuteTime": {
     "end_time": "2023-12-15T19:30:31.010430Z",
     "start_time": "2023-12-15T19:30:30.992424Z"
    }
   },
   "source": [
    "From the previous cell we see that we have null values in the indices corresponding to patient_info, policy, and weather. So we'll dig a little deeper into these in the next cells."
   ]
  },
  {
   "cell_type": "code",
   "execution_count": 5,
   "id": "67ffe4c3",
   "metadata": {
    "ExecuteTime": {
     "end_time": "2023-12-27T19:28:38.043616Z",
     "start_time": "2023-12-27T19:28:38.038526Z"
    }
   },
   "outputs": [
    {
     "data": {
      "text/plain": [
       "patient_id               0\n",
       "sex                   1122\n",
       "age                   1380\n",
       "country                  0\n",
       "province                 0\n",
       "city                    94\n",
       "infection_case         919\n",
       "infected_by           3819\n",
       "contact_number        4374\n",
       "symptom_onset_date    4475\n",
       "confirmed_date           3\n",
       "released_date         3578\n",
       "deceased_date         5099\n",
       "state                    0\n",
       "dtype: int64"
      ]
     },
     "execution_count": 5,
     "metadata": {},
     "output_type": "execute_result"
    }
   ],
   "source": [
    "patient_info_df.isna().sum()"
   ]
  },
  {
   "cell_type": "markdown",
   "id": "34c83e1c",
   "metadata": {
    "ExecuteTime": {
     "end_time": "2023-12-15T19:55:16.045132Z",
     "start_time": "2023-12-15T19:55:16.030330Z"
    }
   },
   "source": [
    "From the info table above, we can see that most of the columns have some missing data, which is pretty common for healthcare data collection. Some features like contact_number might not be as important for our analysis (i.e. contact number, but we might have to infer other datapoints like symptom_onset_date using data from the search trend dataframe or other tables"
   ]
  },
  {
   "cell_type": "code",
   "execution_count": 6,
   "id": "e942f511",
   "metadata": {
    "ExecuteTime": {
     "end_time": "2023-12-27T19:28:38.941325Z",
     "start_time": "2023-12-27T19:28:38.933366Z"
    }
   },
   "outputs": [
    {
     "data": {
      "text/plain": [
       "policy_id      0\n",
       "country        0\n",
       "type           0\n",
       "gov_policy     0\n",
       "detail         2\n",
       "start_date     0\n",
       "end_date      37\n",
       "dtype: int64"
      ]
     },
     "execution_count": 6,
     "metadata": {},
     "output_type": "execute_result"
    }
   ],
   "source": [
    "policy_df.isna().sum()"
   ]
  },
  {
   "cell_type": "markdown",
   "id": "b5295027",
   "metadata": {},
   "source": [
    "The info table shows that we are missing two values from the detail column, and there 37 missing from the end_date column. So we know when the Korean government started each policy, but not when or if the policies were phased out. We might be limited to measuring how strong the effect of each policy on infection rates was. For now though, we'll take a closer look at the last dataframe. "
   ]
  },
  {
   "cell_type": "code",
   "execution_count": 7,
   "id": "b9726fe2",
   "metadata": {
    "ExecuteTime": {
     "end_time": "2023-12-27T19:28:39.667394Z",
     "start_time": "2023-12-27T19:28:39.657294Z"
    }
   },
   "outputs": [
    {
     "data": {
      "text/plain": [
       "code                      0\n",
       "province                  0\n",
       "date                      0\n",
       "avg_temp                 15\n",
       "min_temp                  5\n",
       "max_temp                  3\n",
       "precipitation             0\n",
       "max_wind_speed            9\n",
       "most_wind_direction      29\n",
       "avg_relative_humidity    20\n",
       "dtype: int64"
      ]
     },
     "execution_count": 7,
     "metadata": {},
     "output_type": "execute_result"
    }
   ],
   "source": [
    "weather_df.isna().sum()"
   ]
  },
  {
   "cell_type": "markdown",
   "id": "6369a210",
   "metadata": {},
   "source": [
    "There are few missing values here, but this is more minor in relation to the other files we imported as dataframes. Considering that date and province are the columns that connect this data to other tables, it's good that these columns are complete. Now that this bit of due diligence is complete, let's get into the data. "
   ]
  },
  {
   "cell_type": "markdown",
   "id": "dd75268c",
   "metadata": {},
   "source": [
    "# Analysis"
   ]
  },
  {
   "cell_type": "markdown",
   "id": "3c9d3399",
   "metadata": {
    "ExecuteTime": {
     "end_time": "2023-12-16T00:26:02.331526Z",
     "start_time": "2023-12-16T00:26:02.322100Z"
    }
   },
   "source": [
    "### Geographic baseline\n"
   ]
  },
  {
   "cell_type": "code",
   "execution_count": 8,
   "id": "ea574a63",
   "metadata": {},
   "outputs": [],
   "source": [
    " import os\n",
    "\n",
    "if not os.path.exists(\"images\"):\n",
    "    os.mkdir(\"images\")"
   ]
  },
  {
   "cell_type": "code",
   "execution_count": 9,
   "id": "89a1ad04",
   "metadata": {
    "ExecuteTime": {
     "end_time": "2023-12-27T19:28:41.342073Z",
     "start_time": "2023-12-27T19:28:41.193765Z"
    }
   },
   "outputs": [],
   "source": [
    "# Mapbox density heatmap shows confirmed cases in Daegu and Seoul (Daegu has more)\n",
    "pio.renderers.default = \"vscode\"\n",
    "fig = go.Figure(\n",
    "    go.Densitymapbox(lat=case_df.latitude, lon=case_df.longitude)\n",
    ")\n",
    "fig.update_layout(mapbox_style=\"open-street-map\", mapbox_center_lon=180)\n",
    "fig.update_layout(margin={\"r\": 0, \"t\": 0, \"l\": 0, \"b\": 0})\n",
    "\n",
    "fig.write_image(\"images/fig1.jpeg\")"
   ]
  },
  {
   "cell_type": "markdown",
   "id": "b2c6991d",
   "metadata": {},
   "source": [
    "From the map above, it looks like we have a huge of number of cases in Seoul, some in Daegu, and a smattering of cases around the country.Let's print out tallies of cases by province to have a tabular view as well. "
   ]
  },
  {
   "cell_type": "code",
   "execution_count": 10,
   "id": "6ff41ae2",
   "metadata": {},
   "outputs": [
    {
     "data": {
      "text/html": [
       "<div>\n",
       "<style scoped>\n",
       "    .dataframe tbody tr th:only-of-type {\n",
       "        vertical-align: middle;\n",
       "    }\n",
       "\n",
       "    .dataframe tbody tr th {\n",
       "        vertical-align: top;\n",
       "    }\n",
       "\n",
       "    .dataframe thead th {\n",
       "        text-align: right;\n",
       "    }\n",
       "</style>\n",
       "<table border=\"1\" class=\"dataframe\">\n",
       "  <thead>\n",
       "    <tr style=\"text-align: right;\">\n",
       "      <th></th>\n",
       "      <th>confirmed</th>\n",
       "      <th>released</th>\n",
       "      <th>deceased</th>\n",
       "    </tr>\n",
       "    <tr>\n",
       "      <th>province</th>\n",
       "      <th></th>\n",
       "      <th></th>\n",
       "      <th></th>\n",
       "    </tr>\n",
       "  </thead>\n",
       "  <tbody>\n",
       "    <tr>\n",
       "      <th>Daegu</th>\n",
       "      <td>6906</td>\n",
       "      <td>6700</td>\n",
       "      <td>189</td>\n",
       "    </tr>\n",
       "    <tr>\n",
       "      <th>Gyeongsangbuk-do</th>\n",
       "      <td>1389</td>\n",
       "      <td>1328</td>\n",
       "      <td>54</td>\n",
       "    </tr>\n",
       "    <tr>\n",
       "      <th>Seoul</th>\n",
       "      <td>1312</td>\n",
       "      <td>985</td>\n",
       "      <td>7</td>\n",
       "    </tr>\n",
       "    <tr>\n",
       "      <th>Gyeonggi-do</th>\n",
       "      <td>1207</td>\n",
       "      <td>931</td>\n",
       "      <td>23</td>\n",
       "    </tr>\n",
       "    <tr>\n",
       "      <th>Incheon</th>\n",
       "      <td>341</td>\n",
       "      <td>290</td>\n",
       "      <td>1</td>\n",
       "    </tr>\n",
       "    <tr>\n",
       "      <th>Chungcheongnam-do</th>\n",
       "      <td>167</td>\n",
       "      <td>150</td>\n",
       "      <td>0</td>\n",
       "    </tr>\n",
       "    <tr>\n",
       "      <th>Busan</th>\n",
       "      <td>154</td>\n",
       "      <td>142</td>\n",
       "      <td>3</td>\n",
       "    </tr>\n",
       "    <tr>\n",
       "      <th>Gyeongsangnam-do</th>\n",
       "      <td>134</td>\n",
       "      <td>128</td>\n",
       "      <td>0</td>\n",
       "    </tr>\n",
       "    <tr>\n",
       "      <th>Daejeon</th>\n",
       "      <td>117</td>\n",
       "      <td>44</td>\n",
       "      <td>1</td>\n",
       "    </tr>\n",
       "    <tr>\n",
       "      <th>Gangwon-do</th>\n",
       "      <td>65</td>\n",
       "      <td>54</td>\n",
       "      <td>3</td>\n",
       "    </tr>\n",
       "    <tr>\n",
       "      <th>Chungcheongbuk-do</th>\n",
       "      <td>65</td>\n",
       "      <td>60</td>\n",
       "      <td>0</td>\n",
       "    </tr>\n",
       "    <tr>\n",
       "      <th>Ulsan</th>\n",
       "      <td>55</td>\n",
       "      <td>50</td>\n",
       "      <td>1</td>\n",
       "    </tr>\n",
       "    <tr>\n",
       "      <th>Sejong</th>\n",
       "      <td>50</td>\n",
       "      <td>47</td>\n",
       "      <td>0</td>\n",
       "    </tr>\n",
       "    <tr>\n",
       "      <th>Gwangju</th>\n",
       "      <td>44</td>\n",
       "      <td>32</td>\n",
       "      <td>0</td>\n",
       "    </tr>\n",
       "    <tr>\n",
       "      <th>Jeollabuk-do</th>\n",
       "      <td>27</td>\n",
       "      <td>21</td>\n",
       "      <td>0</td>\n",
       "    </tr>\n",
       "    <tr>\n",
       "      <th>Jeollanam-do</th>\n",
       "      <td>24</td>\n",
       "      <td>19</td>\n",
       "      <td>0</td>\n",
       "    </tr>\n",
       "    <tr>\n",
       "      <th>Jeju-do</th>\n",
       "      <td>19</td>\n",
       "      <td>16</td>\n",
       "      <td>0</td>\n",
       "    </tr>\n",
       "  </tbody>\n",
       "</table>\n",
       "</div>"
      ],
      "text/plain": [
       "                   confirmed  released  deceased\n",
       "province                                        \n",
       "Daegu                   6906      6700       189\n",
       "Gyeongsangbuk-do        1389      1328        54\n",
       "Seoul                   1312       985         7\n",
       "Gyeonggi-do             1207       931        23\n",
       "Incheon                  341       290         1\n",
       "Chungcheongnam-do        167       150         0\n",
       "Busan                    154       142         3\n",
       "Gyeongsangnam-do         134       128         0\n",
       "Daejeon                  117        44         1\n",
       "Gangwon-do                65        54         3\n",
       "Chungcheongbuk-do         65        60         0\n",
       "Ulsan                     55        50         1\n",
       "Sejong                    50        47         0\n",
       "Gwangju                   44        32         0\n",
       "Jeollabuk-do              27        21         0\n",
       "Jeollanam-do              24        19         0\n",
       "Jeju-do                   19        16         0"
      ]
     },
     "execution_count": 10,
     "metadata": {},
     "output_type": "execute_result"
    }
   ],
   "source": [
    "# Pull final date from Timeprovince for each region and use that as the total deceased number since the metric is cumulative\n",
    "df = timeprovince_df.loc[timeprovince_df.date == timeprovince_df.date.max()].copy()\n",
    "\n",
    "# Drop extraneous columns\n",
    "patient_totals_by_region_df = df.drop(columns=[\"time\", \"date\"])\n",
    "\n",
    "# Set province as the index for the table\n",
    "patient_totals_by_region_df = patient_totals_by_region_df.set_index(\"province\")\n",
    "\n",
    "# Sort confirmed patient numbers in descending order\n",
    "patient_totals_by_region_df.sort_values(by=\"confirmed\", ascending=False, inplace=True)\n",
    "patient_totals_by_region_df"
   ]
  },
  {
   "cell_type": "markdown",
   "id": "3b62b07d",
   "metadata": {},
   "source": [
    "We can see here that we have a lot more cases in provinces outside of Daegu and Seoul, so we should look at each region graphically to determine when and where our spikes in cases are for each region. First we'll group case numbers by region by day, then we'll plot each region. "
   ]
  },
  {
   "cell_type": "code",
   "execution_count": 11,
   "id": "8df117c4",
   "metadata": {},
   "outputs": [
    {
     "data": {
      "text/html": [
       "<div>\n",
       "<style scoped>\n",
       "    .dataframe tbody tr th:only-of-type {\n",
       "        vertical-align: middle;\n",
       "    }\n",
       "\n",
       "    .dataframe tbody tr th {\n",
       "        vertical-align: top;\n",
       "    }\n",
       "\n",
       "    .dataframe thead th {\n",
       "        text-align: right;\n",
       "    }\n",
       "</style>\n",
       "<table border=\"1\" class=\"dataframe\">\n",
       "  <thead>\n",
       "    <tr style=\"text-align: right;\">\n",
       "      <th></th>\n",
       "      <th></th>\n",
       "      <th>patient_id</th>\n",
       "    </tr>\n",
       "    <tr>\n",
       "      <th>province</th>\n",
       "      <th>confirmed_date</th>\n",
       "      <th></th>\n",
       "    </tr>\n",
       "  </thead>\n",
       "  <tbody>\n",
       "    <tr>\n",
       "      <th rowspan=\"5\" valign=\"top\">Busan</th>\n",
       "      <th>2020-02-21</th>\n",
       "      <td>2</td>\n",
       "    </tr>\n",
       "    <tr>\n",
       "      <th>2020-02-22</th>\n",
       "      <td>14</td>\n",
       "    </tr>\n",
       "    <tr>\n",
       "      <th>2020-02-23</th>\n",
       "      <td>22</td>\n",
       "    </tr>\n",
       "    <tr>\n",
       "      <th>2020-02-24</th>\n",
       "      <td>6</td>\n",
       "    </tr>\n",
       "    <tr>\n",
       "      <th>2020-02-25</th>\n",
       "      <td>11</td>\n",
       "    </tr>\n",
       "    <tr>\n",
       "      <th>...</th>\n",
       "      <th>...</th>\n",
       "      <td>...</td>\n",
       "    </tr>\n",
       "    <tr>\n",
       "      <th rowspan=\"5\" valign=\"top\">Ulsan</th>\n",
       "      <th>2020-05-18</th>\n",
       "      <td>4</td>\n",
       "    </tr>\n",
       "    <tr>\n",
       "      <th>2020-05-21</th>\n",
       "      <td>1</td>\n",
       "    </tr>\n",
       "    <tr>\n",
       "      <th>2020-05-29</th>\n",
       "      <td>2</td>\n",
       "    </tr>\n",
       "    <tr>\n",
       "      <th>2020-06-06</th>\n",
       "      <td>1</td>\n",
       "    </tr>\n",
       "    <tr>\n",
       "      <th>2020-06-23</th>\n",
       "      <td>2</td>\n",
       "    </tr>\n",
       "  </tbody>\n",
       "</table>\n",
       "<p>904 rows × 1 columns</p>\n",
       "</div>"
      ],
      "text/plain": [
       "                         patient_id\n",
       "province confirmed_date            \n",
       "Busan    2020-02-21               2\n",
       "         2020-02-22              14\n",
       "         2020-02-23              22\n",
       "         2020-02-24               6\n",
       "         2020-02-25              11\n",
       "...                             ...\n",
       "Ulsan    2020-05-18               4\n",
       "         2020-05-21               1\n",
       "         2020-05-29               2\n",
       "         2020-06-06               1\n",
       "         2020-06-23               2\n",
       "\n",
       "[904 rows x 1 columns]"
      ]
     },
     "execution_count": 11,
     "metadata": {},
     "output_type": "execute_result"
    }
   ],
   "source": [
    "# Change confirmed_date column to datetime\n",
    "patient_info_df[\"confirmed_date\"] = pd.to_datetime(\n",
    "    patient_info_df[\"confirmed_date\"], errors=\"ignore\"\n",
    ")\n",
    "\n",
    "# Group patient_info by region and confirmed_date\n",
    "patient_date_region_df = (\n",
    "    patient_info_df[[\"province\", \"patient_id\", \"confirmed_date\"]]\n",
    "    .groupby([\"province\", \"confirmed_date\"])\n",
    "    .count()\n",
    "    .sort_values(by=[\"province\", \"confirmed_date\"])\n",
    ")\n",
    "patient_date_region_df"
   ]
  },
  {
   "cell_type": "code",
   "execution_count": 43,
   "id": "7a1da1ae",
   "metadata": {},
   "outputs": [
    {
     "data": {
      "image/svg+xml": [
       "<svg class=\"main-svg\" xmlns=\"http://www.w3.org/2000/svg\" xmlns:xlink=\"http://www.w3.org/1999/xlink\" width=\"700\" height=\"500\" style=\"\" viewBox=\"0 0 700 500\"><rect x=\"0\" y=\"0\" width=\"700\" height=\"500\" style=\"fill: rgb(255, 255, 255); fill-opacity: 1;\"/><defs id=\"defs-3b4a30\"><g class=\"clips\"><clipPath id=\"clip3b4a30xyplot\" class=\"plotclip\"><rect width=\"425\" height=\"320\"/></clipPath><clipPath class=\"axesclip\" id=\"clip3b4a30x\"><rect x=\"80\" y=\"0\" width=\"425\" height=\"500\"/></clipPath><clipPath class=\"axesclip\" id=\"clip3b4a30y\"><rect x=\"0\" y=\"100\" width=\"700\" height=\"320\"/></clipPath><clipPath class=\"axesclip\" id=\"clip3b4a30xy\"><rect x=\"80\" y=\"100\" width=\"425\" height=\"320\"/></clipPath></g><g class=\"gradients\"/><g class=\"patterns\"/></defs><g class=\"bglayer\"><rect class=\"bg\" x=\"80\" y=\"100\" width=\"425\" height=\"320\" style=\"fill: rgb(229, 236, 246); fill-opacity: 1; stroke-width: 0;\"/></g><g class=\"layer-below\"><g class=\"imagelayer\"/><g class=\"shapelayer\"/></g><g class=\"cartesianlayer\"><g class=\"subplot xy\"><g class=\"layer-subplot\"><g class=\"shapelayer\"/><g class=\"imagelayer\"/></g><g class=\"minor-gridlayer\"><g class=\"x\"/><g class=\"y\"/></g><g class=\"gridlayer\"><g class=\"x\"><path class=\"xgrid crisp\" transform=\"translate(111.48,0)\" d=\"M0,100v320\" style=\"stroke: rgb(255, 255, 255); stroke-opacity: 1; stroke-width: 1px;\"/><path class=\"xgrid crisp\" transform=\"translate(187.56,0)\" d=\"M0,100v320\" style=\"stroke: rgb(255, 255, 255); stroke-opacity: 1; stroke-width: 1px;\"/><path class=\"xgrid crisp\" transform=\"translate(268.89,0)\" d=\"M0,100v320\" style=\"stroke: rgb(255, 255, 255); stroke-opacity: 1; stroke-width: 1px;\"/><path class=\"xgrid crisp\" transform=\"translate(347.59,0)\" d=\"M0,100v320\" style=\"stroke: rgb(255, 255, 255); stroke-opacity: 1; stroke-width: 1px;\"/><path class=\"xgrid crisp\" transform=\"translate(428.92,0)\" d=\"M0,100v320\" style=\"stroke: rgb(255, 255, 255); stroke-opacity: 1; stroke-width: 1px;\"/></g><g class=\"y\"><path class=\"ygrid crisp\" transform=\"translate(0,357.23)\" d=\"M80,0h425\" style=\"stroke: rgb(255, 255, 255); stroke-opacity: 1; stroke-width: 1px;\"/><path class=\"ygrid crisp\" transform=\"translate(0,308)\" d=\"M80,0h425\" style=\"stroke: rgb(255, 255, 255); stroke-opacity: 1; stroke-width: 1px;\"/><path class=\"ygrid crisp\" transform=\"translate(0,258.77)\" d=\"M80,0h425\" style=\"stroke: rgb(255, 255, 255); stroke-opacity: 1; stroke-width: 1px;\"/><path class=\"ygrid crisp\" transform=\"translate(0,209.54000000000002)\" d=\"M80,0h425\" style=\"stroke: rgb(255, 255, 255); stroke-opacity: 1; stroke-width: 1px;\"/><path class=\"ygrid crisp\" transform=\"translate(0,160.31)\" d=\"M80,0h425\" style=\"stroke: rgb(255, 255, 255); stroke-opacity: 1; stroke-width: 1px;\"/><path class=\"ygrid crisp\" transform=\"translate(0,111.08)\" d=\"M80,0h425\" style=\"stroke: rgb(255, 255, 255); stroke-opacity: 1; stroke-width: 1px;\"/></g></g><g class=\"zerolinelayer\"><path class=\"yzl zl crisp\" transform=\"translate(0,406.46)\" d=\"M80,0h425\" style=\"stroke: rgb(255, 255, 255); stroke-opacity: 1; stroke-width: 2px;\"/></g><path class=\"xlines-below\"/><path class=\"ylines-below\"/><g class=\"overlines-below\"/><g class=\"xaxislayer-below\"/><g class=\"yaxislayer-below\"/><g class=\"overaxes-below\"/><g class=\"plot\" transform=\"translate(80,100)\" clip-path=\"url(#clip3b4a30xyplot)\"><g class=\"scatterlayer mlayer\"><g class=\"trace scatter traceb15752\" style=\"stroke-miterlimit: 2; opacity: 1;\"><g class=\"fills\"/><g class=\"errorbars\"/><g class=\"lines\"><path class=\"js-line\" d=\"M83.95,301.54L86.57,272L89.2,252.31L91.82,291.69L94.44,279.38L97.07,294.15L99.69,291.69L102.31,294.15L104.94,294.15L110.19,304L112.81,299.08L115.43,304L118.06,304L120.68,299.08L123.3,304L131.17,301.54L133.8,301.54L136.42,304L139.04,296.62L141.67,301.54L144.29,304L149.54,304L152.16,301.54L162.65,299.08L167.9,304L173.15,304L175.77,301.54L181.02,301.54L186.27,299.08L202.01,304L204.63,301.54L209.88,304L222.99,304L225.62,299.08L233.49,301.54L241.36,301.54L243.98,304L267.59,304L283.33,301.54L285.96,304L293.83,304L296.45,301.54L335.8,304L385.65,304L396.14,301.54L406.64,301.54L419.75,304L422.38,304\" style=\"vector-effect: none; fill: none; stroke: rgb(99, 110, 250); stroke-opacity: 1; stroke-width: 2px; opacity: 1;\"/></g><g class=\"points\"/><g class=\"text\"/></g><g class=\"trace scatter tracecc8f9f\" style=\"stroke-miterlimit: 2; opacity: 1;\"><g class=\"fills\"/><g class=\"errorbars\"/><g class=\"lines\"><path class=\"js-line\" d=\"M81.33,304L86.57,301.54L94.44,299.08L97.07,304L99.69,299.08L104.94,304L115.43,304L120.68,294.15L123.3,296.62L125.93,304L128.55,304L139.04,304L141.67,299.08L149.54,304L152.16,304L160.03,304L162.65,299.08L170.52,304L173.15,301.54L181.02,299.08L191.51,304L306.94,304L309.57,301.54L327.93,304L362.04,304L417.13,304\" style=\"vector-effect: none; fill: none; stroke: rgb(239, 85, 59); stroke-opacity: 1; stroke-width: 2px; opacity: 1;\"/></g><g class=\"points\"/><g class=\"text\"/></g><g class=\"trace scatter trace9c320c\" style=\"stroke-miterlimit: 2; opacity: 1;\"><g class=\"fills\"/><g class=\"errorbars\"/><g class=\"lines\"><path class=\"js-line\" d=\"M83.95,304L94.44,299.08L97.07,294.15L99.69,284.31L102.31,240L104.94,264.62L107.56,272L110.19,299.08L112.81,301.54L115.43,299.08L118.06,294.15L120.68,299.08L123.3,296.62L125.93,296.62L128.55,301.54L131.17,281.85L133.8,304L149.54,299.08L154.78,304L160.03,304L167.9,299.08L170.52,304L175.77,301.54L178.4,304L183.64,304L186.27,299.08L188.89,301.54L191.51,304L194.14,304L225.62,304L230.86,301.54L241.36,304L254.48,304L359.41,304L367.28,301.54L383.02,304L385.65,304L388.27,304L390.9,301.54L396.14,301.54L398.77,304L401.39,301.54L404.01,304L409.26,304L411.88,299.08L417.13,304L425,304\" style=\"vector-effect: none; fill: none; stroke: rgb(0, 204, 150); stroke-opacity: 1; stroke-width: 2px; opacity: 1;\"/></g><g class=\"points\"/><g class=\"text\"/></g><g class=\"trace scatter tracebfcc4b\" style=\"stroke-miterlimit: 2; opacity: 1;\"><g class=\"fills\"/><g class=\"errorbars\"/><g class=\"lines\"><path class=\"js-line\" d=\"M76.08,291.69L78.7,257.23L81.33,262.15L83.95,304L91.82,304L97.07,304L99.69,301.54L102.31,299.08L104.94,299.08L107.56,294.15L118.06,304L236.11,304L238.73,301.54L241.36,304L243.98,296.62L246.6,299.08L249.23,299.08L254.48,304L257.1,301.54L259.72,299.08L270.22,299.08L283.33,299.08L288.58,301.54L293.83,304L296.45,301.54L299.07,304L301.7,299.08L304.32,304L306.94,304L330.56,304L333.18,299.08L335.8,304L338.43,304L341.05,301.54L343.67,304L375.15,304L377.78,299.08L380.4,301.54L388.27,304L390.9,301.54L396.14,301.54L398.77,304L401.39,304L404.01,304L406.64,301.54L411.88,304L419.75,301.54\" style=\"vector-effect: none; fill: none; stroke: rgb(171, 99, 250); stroke-opacity: 1; stroke-width: 2px; opacity: 1;\"/></g><g class=\"points\"/><g class=\"text\"/></g><g class=\"trace scatter trace96c98c\" style=\"stroke-miterlimit: 2; opacity: 1;\"><g class=\"fills\"/><g class=\"errorbars\"/><g class=\"lines\"><path class=\"js-line\" d=\"M83.95,304L89.2,304L97.07,294.15L99.69,304L102.31,299.08L107.56,304L112.81,304L115.43,299.08L133.8,301.54L160.03,301.54L167.9,299.08L170.52,299.08L173.15,304L178.4,299.08L183.64,301.54L199.38,301.54L207.25,304L280.71,304L293.83,301.54L306.94,304L322.69,304L343.67,304L385.65,299.08L388.27,296.62L390.9,291.69L393.52,289.23L396.14,296.62L398.77,281.85L404.01,299.08L406.64,289.23L409.26,286.77L411.88,301.54L414.51,301.54L417.13,291.69L419.75,301.54L422.38,294.15L425,296.62\" style=\"vector-effect: none; fill: none; stroke: rgb(255, 161, 90); stroke-opacity: 1; stroke-width: 2px; opacity: 1;\"/></g><g class=\"points\"/><g class=\"text\"/></g><g class=\"trace scatter traceda21ec\" style=\"stroke-miterlimit: 2; opacity: 1;\"><g class=\"fills\"/><g class=\"errorbars\"/><g class=\"lines\"><path class=\"js-line\" d=\"M86.57,291.69L99.69,304L104.94,304L107.56,281.85L110.19,301.54L112.81,304L115.43,296.62L118.06,304L123.3,304L175.77,304L178.4,301.54L191.51,301.54L194.14,304L196.76,301.54L199.38,304L202.01,301.54L204.63,304L222.99,301.54L230.86,304L380.4,304L396.14,301.54L404.01,304L411.88,301.54\" style=\"vector-effect: none; fill: none; stroke: rgb(25, 211, 243); stroke-opacity: 1; stroke-width: 2px; opacity: 1;\"/></g><g class=\"points\"/><g class=\"text\"/></g><g class=\"trace scatter trace053863\" style=\"stroke-miterlimit: 2; opacity: 1;\"><g class=\"fills\"/><g class=\"errorbars\"/><g class=\"lines\"><path class=\"js-line\" d=\"M36.73,304L81.33,304L83.95,299.08L89.2,304L110.19,299.08L115.43,304L123.3,304L141.67,304L149.54,301.54L157.41,304L173.15,304L186.27,296.62L188.89,304L222.99,304L228.24,301.54L341.05,301.54L417.13,294.15L419.75,294.15L422.38,301.54\" style=\"vector-effect: none; fill: none; stroke: rgb(255, 102, 146); stroke-opacity: 1; stroke-width: 2px; opacity: 1;\"/></g><g class=\"points\"/><g class=\"text\"/></g><g class=\"trace scatter tracec2ce4f\" style=\"stroke-miterlimit: 2; opacity: 1;\"><g class=\"fills\"/><g class=\"errorbars\"/><g class=\"lines\"><path class=\"js-line\" d=\"M15.74,304L31.48,304L34.1,301.54L41.98,301.54L52.47,299.08L55.09,304L76.08,304L83.95,301.54L86.57,289.23L89.2,296.62L91.82,276.92L94.44,289.23L97.07,284.31L102.31,279.38L104.94,281.85L107.56,284.31L110.19,301.54L112.81,286.77L115.43,289.23L118.06,281.85L120.68,279.38L123.3,281.85L125.93,276.92L128.55,276.92L131.17,281.85L133.8,294.15L136.42,291.69L139.04,269.54L141.67,281.85L144.29,257.23L146.91,225.23L149.54,269.54L152.16,254.77L154.78,276.92L157.41,279.38L160.03,269.54L162.65,269.54L165.28,276.92L167.9,249.85L170.52,269.54L173.15,274.46L175.77,259.69L178.4,257.23L181.02,279.38L183.64,276.92L186.27,249.85L188.89,259.69L191.51,242.46L194.14,264.62L196.76,274.46L199.38,289.23L202.01,286.77L204.63,286.77L207.25,284.31L209.88,286.77L212.5,286.77L215.12,294.15L217.75,294.15L220.37,289.23L228.24,304L230.86,296.62L236.11,301.54L238.73,301.54L243.98,304L246.6,304L249.23,301.54L251.85,289.23L254.48,299.08L257.1,301.54L259.72,301.54L262.35,304L264.97,304L270.22,301.54L272.84,304L280.71,304L283.33,304L285.96,294.15L288.58,291.69L291.2,296.62L293.83,286.77L296.45,301.54L299.07,291.69L301.7,296.62L304.32,299.08L306.94,304L309.57,301.54L312.19,301.54L314.81,286.77L317.44,296.62L320.06,299.08L322.69,274.46L325.31,289.23L327.93,291.69L330.56,301.54L333.18,294.15L335.8,254.77L338.43,254.77L343.67,281.85L346.3,276.92L348.92,267.08L351.54,274.46L356.79,274.46L359.41,289.23L362.04,259.69L364.66,286.77L367.28,272L369.91,244.92L372.53,274.46L375.15,264.62L377.78,269.54L380.4,279.38L385.65,294.15L388.27,267.08L390.9,272L393.52,279.38L396.14,264.62L398.77,274.46L401.39,294.15L404.01,294.15L406.64,284.31L409.26,291.69L411.88,294.15L414.51,262.15L419.75,267.08L422.38,291.69\" style=\"vector-effect: none; fill: none; stroke: rgb(182, 232, 128); stroke-opacity: 1; stroke-width: 2px; opacity: 1;\"/></g><g class=\"points\"/><g class=\"text\"/></g><g class=\"trace scatter trace0367f4\" style=\"stroke-miterlimit: 2; opacity: 1;\"><g class=\"fills\"/><g class=\"errorbars\"/><g class=\"lines\"><path class=\"js-line\" d=\"M76.08,301.54L78.7,294.15L81.33,276.92L83.95,252.31L86.57,235.08L89.2,222.77L91.82,235.08L94.44,178.46L97.07,139.08L99.69,178.46L102.31,161.23L104.94,176L107.56,116.92L110.19,188.31L112.81,80L115.43,104.62L118.06,16L123.3,242.46L125.93,252.31L128.55,274.46L131.17,272L133.8,272L136.42,304L139.04,296.62L141.67,291.69L144.29,284.31L146.91,294.15L149.54,281.85L152.16,264.62L154.78,276.92L157.41,205.54L160.03,284.31L162.65,301.54L165.28,304L167.9,291.69L170.52,281.85L173.15,279.38L175.77,299.08L178.4,301.54L181.02,279.38L183.64,296.62L186.27,299.08L188.89,299.08L191.51,294.15L194.14,301.54L196.76,294.15L199.38,301.54L202.01,304L204.63,296.62L209.88,289.23L212.5,299.08L215.12,299.08L217.75,296.62L220.37,296.62L222.99,291.69L225.62,294.15L228.24,294.15L230.86,301.54L233.49,304L236.11,304L241.36,301.54L249.23,301.54L257.1,304L299.07,304L320.06,301.54L325.31,296.62L330.56,304L401.39,304L406.64,301.54L411.88,304L419.75,304L422.38,304\" style=\"vector-effect: none; fill: none; stroke: rgb(255, 151, 255); stroke-opacity: 1; stroke-width: 2px; opacity: 1;\"/></g><g class=\"points\"/><g class=\"text\"/></g><g class=\"trace scatter tracee651fd\" style=\"stroke-miterlimit: 2; opacity: 1;\"><g class=\"fills\"/><g class=\"errorbars\"/><g class=\"lines\"><path class=\"js-line\" d=\"M81.33,299.08L83.95,304L86.57,296.62L89.2,284.31L91.82,291.69L94.44,294.15L97.07,269.54L99.69,294.15L102.31,276.92L104.94,304L107.56,301.54L110.19,304L112.81,301.54L115.43,286.77L118.06,296.62L120.68,299.08L123.3,304L173.15,304L178.4,299.08L181.02,304L186.27,284.31L188.89,304L191.51,304L196.76,304L199.38,301.54L202.01,304L204.63,304L207.25,301.54L228.24,304L296.45,304L306.94,301.54L322.69,304L359.41,304L367.28,304L369.91,301.54L383.02,299.08L385.65,301.54L398.77,304L419.75,304\" style=\"vector-effect: none; fill: none; stroke: rgb(254, 203, 82); stroke-opacity: 1; stroke-width: 2px; opacity: 1;\"/></g><g class=\"points\"/><g class=\"text\"/></g><g class=\"trace scatter trace34d3a2\" style=\"stroke-miterlimit: 2; opacity: 1;\"><g class=\"fills\"/><g class=\"errorbars\"/><g class=\"lines\"><path class=\"js-line\" d=\"M0,304L94.44,304L102.31,299.08L107.56,304L112.81,301.54L128.55,274.46L131.17,299.08L133.8,304L136.42,304L139.04,304L141.67,301.54L146.91,304L149.54,304L154.78,289.23L157.41,304L165.28,301.54L170.52,301.54L173.15,299.08L175.77,294.15L178.4,289.23L181.02,301.54L183.64,294.15L186.27,296.62L188.89,296.62L191.51,304L194.14,299.08L196.76,304L199.38,304L204.63,299.08L209.88,301.54L212.5,304L272.84,304L285.96,301.54L288.58,296.62L291.2,301.54L296.45,299.08L299.07,274.46L301.7,299.08L309.57,304L312.19,304L314.81,286.77L317.44,291.69L320.06,304L325.31,301.54L327.93,301.54L330.56,301.54L333.18,284.31L335.8,237.54L338.43,272L341.05,294.15L343.67,296.62L346.3,264.62L348.92,267.08L351.54,284.31L354.17,291.69L356.79,286.77L359.41,269.54L362.04,301.54L364.66,299.08L367.28,299.08L369.91,286.77L372.53,291.69L375.15,304L377.78,304L380.4,279.38L385.65,304L388.27,301.54L390.9,304L393.52,301.54L396.14,296.62L401.39,304L406.64,299.08L409.26,304L411.88,301.54L414.51,304L419.75,304L422.38,301.54L425,301.54\" style=\"vector-effect: none; fill: none; stroke: rgb(99, 110, 250); stroke-opacity: 1; stroke-width: 2px; opacity: 1;\"/></g><g class=\"points\"/><g class=\"text\"/></g><g class=\"trace scatter trace69423d\" style=\"stroke-miterlimit: 2; opacity: 1;\"><g class=\"fills\"/><g class=\"errorbars\"/><g class=\"lines\"><path class=\"js-line\" d=\"M81.33,304L115.43,304L167.9,301.54L170.52,304L175.77,304L181.02,304L194.14,299.08L222.99,304L288.58,304L388.27,304L393.52,299.08\" style=\"vector-effect: none; fill: none; stroke: rgb(239, 85, 59); stroke-opacity: 1; stroke-width: 2px; opacity: 1;\"/></g><g class=\"points\"/><g class=\"text\"/></g><g class=\"trace scatter trace2d4a40\" style=\"stroke-miterlimit: 2; opacity: 1;\"><g class=\"fills\"/><g class=\"errorbars\"/><g class=\"lines\"><path class=\"js-line\" d=\"M26.23,304L83.95,304L97.07,301.54L104.94,304L110.19,304L149.54,301.54L152.16,304L178.4,301.54L181.02,304L419.75,304\" style=\"vector-effect: none; fill: none; stroke: rgb(0, 204, 150); stroke-opacity: 1; stroke-width: 2px; opacity: 1;\"/></g><g class=\"points\"/><g class=\"text\"/></g><g class=\"trace scatter trace2790fd\" style=\"stroke-miterlimit: 2; opacity: 1;\"><g class=\"fills\"/><g class=\"errorbars\"/><g class=\"lines\"><path class=\"js-line\" d=\"M44.6,304L160.03,304L167.9,301.54L178.4,304L183.64,301.54L186.27,301.54L188.89,304L346.3,304L417.13,299.08L419.75,304\" style=\"vector-effect: none; fill: none; stroke: rgb(171, 99, 250); stroke-opacity: 1; stroke-width: 2px; opacity: 1;\"/></g><g class=\"points\"/><g class=\"text\"/></g><g class=\"trace scatter tracedce675\" style=\"stroke-miterlimit: 2; opacity: 1;\"><g class=\"fills\"/><g class=\"errorbars\"/><g class=\"lines\"><path class=\"js-line\" d=\"M83.95,304L123.3,304L125.93,301.54L128.55,301.54L131.17,291.69L133.8,289.23L136.42,279.38L139.04,304L141.67,304L162.65,304L167.9,301.54L178.4,301.54L204.63,299.08L207.25,304L220.37,304L422.38,304\" style=\"vector-effect: none; fill: none; stroke: rgb(255, 161, 90); stroke-opacity: 1; stroke-width: 2px; opacity: 1;\"/></g><g class=\"points\"/><g class=\"text\"/></g><g class=\"trace scatter trace0efbed\" style=\"stroke-miterlimit: 2; opacity: 1;\"><g class=\"fills\"/><g class=\"errorbars\"/><g class=\"lines\"><path class=\"js-line\" d=\"M7.87,304L28.86,299.08L34.1,304L41.98,301.54L44.6,304L47.22,304L70.83,301.54L78.7,301.54L81.33,294.15L83.95,301.54L86.57,296.62L89.2,296.62L91.82,301.54L94.44,286.77L97.07,281.85L99.69,262.15L102.31,289.23L104.94,281.85L107.56,289.23L110.19,291.69L115.43,294.15L118.06,301.54L120.68,289.23L123.3,289.23L125.93,281.85L131.17,193.23L133.8,262.15L136.42,279.38L139.04,284.31L141.67,286.77L144.29,291.69L146.91,274.46L149.54,296.62L154.78,264.62L157.41,264.62L160.03,286.77L162.65,291.69L165.28,291.69L167.9,274.46L170.52,274.46L173.15,272L175.77,269.54L178.4,252.31L183.64,257.23L186.27,247.38L188.89,267.08L191.51,259.69L194.14,257.23L196.76,259.69L199.38,279.38L202.01,286.77L204.63,281.85L207.25,279.38L209.88,294.15L212.5,299.08L215.12,301.54L217.75,286.77L220.37,299.08L222.99,296.62L225.62,301.54L228.24,304L230.86,299.08L233.49,304L238.73,304L241.36,301.54L249.23,304L257.1,296.62L264.97,304L267.59,304L278.09,304L285.96,272L291.2,257.23L293.83,276.92L299.07,294.15L301.7,276.92L304.32,291.69L306.94,296.62L309.57,304L312.19,289.23L314.81,284.31L317.44,296.62L320.06,299.08L322.69,299.08L325.31,291.69L327.93,289.23L330.56,286.77L333.18,259.69L335.8,244.92L338.43,259.69L341.05,284.31L343.67,291.69L346.3,304L348.92,272L351.54,257.23L354.17,272L356.79,269.54L359.41,240L362.04,237.54L364.66,267.08L367.28,262.15L369.91,272L377.78,232.62L380.4,276.92L383.02,289.23L385.65,279.38L388.27,272L390.9,247.38L393.52,262.15L396.14,267.08L398.77,269.54L401.39,286.77L404.01,296.62L406.64,281.85L409.26,284.31L411.88,264.62L414.51,264.62L417.13,272L419.75,289.23L422.38,289.23\" style=\"vector-effect: none; fill: none; stroke: rgb(25, 211, 243); stroke-opacity: 1; stroke-width: 2px; opacity: 1;\"/></g><g class=\"points\"/><g class=\"text\"/></g><g class=\"trace scatter tracedc8b29\" style=\"stroke-miterlimit: 2; opacity: 1;\"><g class=\"fills\"/><g class=\"errorbars\"/><g class=\"lines\"><path class=\"js-line\" d=\"M86.57,304L91.82,304L94.44,301.54L97.07,304L99.69,294.15L102.31,291.69L107.56,299.08L112.81,301.54L123.3,304L131.17,304L136.42,301.54L141.67,304L149.54,301.54L152.16,296.62L167.9,304L173.15,301.54L175.77,304L293.83,304L296.45,301.54L312.19,296.62L320.06,304L341.05,301.54L362.04,304L406.64,301.54\" style=\"vector-effect: none; fill: none; stroke: rgb(255, 102, 146); stroke-opacity: 1; stroke-width: 2px; opacity: 1;\"/></g><g class=\"points\"/><g class=\"text\"/></g></g></g><g class=\"overplot\"/><path class=\"xlines-above crisp\" d=\"M0,0\" style=\"fill: none;\"/><path class=\"ylines-above crisp\" d=\"M0,0\" style=\"fill: none;\"/><g class=\"overlines-above\"/><g class=\"xaxislayer-above\"><g class=\"xtick\"><text text-anchor=\"middle\" x=\"0\" y=\"433\" transform=\"translate(111.48,0)\" style=\"font-family: 'Open Sans', verdana, arial, sans-serif; font-size: 12px; fill: rgb(42, 63, 95); fill-opacity: 1; white-space: pre; opacity: 1;\">Feb 2020</text></g><g class=\"xtick\"><text text-anchor=\"middle\" x=\"0\" y=\"433\" style=\"font-family: 'Open Sans', verdana, arial, sans-serif; font-size: 12px; fill: rgb(42, 63, 95); fill-opacity: 1; white-space: pre; opacity: 1;\" transform=\"translate(187.56,0)\">Mar 2020</text></g><g class=\"xtick\"><text text-anchor=\"middle\" x=\"0\" y=\"433\" style=\"font-family: 'Open Sans', verdana, arial, sans-serif; font-size: 12px; fill: rgb(42, 63, 95); fill-opacity: 1; white-space: pre; opacity: 1;\" transform=\"translate(268.89,0)\">Apr 2020</text></g><g class=\"xtick\"><text text-anchor=\"middle\" x=\"0\" y=\"433\" style=\"font-family: 'Open Sans', verdana, arial, sans-serif; font-size: 12px; fill: rgb(42, 63, 95); fill-opacity: 1; white-space: pre; opacity: 1;\" transform=\"translate(347.59,0)\">May 2020</text></g><g class=\"xtick\"><text text-anchor=\"middle\" x=\"0\" y=\"433\" style=\"font-family: 'Open Sans', verdana, arial, sans-serif; font-size: 12px; fill: rgb(42, 63, 95); fill-opacity: 1; white-space: pre; opacity: 1;\" transform=\"translate(428.92,0)\">Jun 2020</text></g></g><g class=\"yaxislayer-above\"><g class=\"ytick\"><text text-anchor=\"end\" x=\"79\" y=\"4.199999999999999\" transform=\"translate(0,406.46)\" style=\"font-family: 'Open Sans', verdana, arial, sans-serif; font-size: 12px; fill: rgb(42, 63, 95); fill-opacity: 1; white-space: pre; opacity: 1;\">0</text></g><g class=\"ytick\"><text text-anchor=\"end\" x=\"79\" y=\"4.199999999999999\" style=\"font-family: 'Open Sans', verdana, arial, sans-serif; font-size: 12px; fill: rgb(42, 63, 95); fill-opacity: 1; white-space: pre; opacity: 1;\" transform=\"translate(0,357.23)\">20</text></g><g class=\"ytick\"><text text-anchor=\"end\" x=\"79\" y=\"4.199999999999999\" style=\"font-family: 'Open Sans', verdana, arial, sans-serif; font-size: 12px; fill: rgb(42, 63, 95); fill-opacity: 1; white-space: pre; opacity: 1;\" transform=\"translate(0,308)\">40</text></g><g class=\"ytick\"><text text-anchor=\"end\" x=\"79\" y=\"4.199999999999999\" style=\"font-family: 'Open Sans', verdana, arial, sans-serif; font-size: 12px; fill: rgb(42, 63, 95); fill-opacity: 1; white-space: pre; opacity: 1;\" transform=\"translate(0,258.77)\">60</text></g><g class=\"ytick\"><text text-anchor=\"end\" x=\"79\" y=\"4.199999999999999\" style=\"font-family: 'Open Sans', verdana, arial, sans-serif; font-size: 12px; fill: rgb(42, 63, 95); fill-opacity: 1; white-space: pre; opacity: 1;\" transform=\"translate(0,209.54000000000002)\">80</text></g><g class=\"ytick\"><text text-anchor=\"end\" x=\"79\" y=\"4.199999999999999\" style=\"font-family: 'Open Sans', verdana, arial, sans-serif; font-size: 12px; fill: rgb(42, 63, 95); fill-opacity: 1; white-space: pre; opacity: 1;\" transform=\"translate(0,160.31)\">100</text></g><g class=\"ytick\"><text text-anchor=\"end\" x=\"79\" y=\"4.199999999999999\" style=\"font-family: 'Open Sans', verdana, arial, sans-serif; font-size: 12px; fill: rgb(42, 63, 95); fill-opacity: 1; white-space: pre; opacity: 1;\" transform=\"translate(0,111.08)\">120</text></g></g><g class=\"overaxes-above\"/></g></g><g class=\"polarlayer\"/><g class=\"smithlayer\"/><g class=\"ternarylayer\"/><g class=\"geolayer\"/><g class=\"funnelarealayer\"/><g class=\"pielayer\"/><g class=\"iciclelayer\"/><g class=\"treemaplayer\"/><g class=\"sunburstlayer\"/><g class=\"glimages\"/><defs id=\"topdefs-3b4a30\"><g class=\"clips\"/><clipPath id=\"legend3b4a30\"><rect width=\"174\" height=\"320\" x=\"0\" y=\"0\"/></clipPath></defs><g class=\"layer-above\"><g class=\"imagelayer\"/><g class=\"shapelayer\"/></g><g class=\"infolayer\"><g class=\"legend\" pointer-events=\"all\" transform=\"translate(513.5,100)\"><rect class=\"bg\" shape-rendering=\"crispEdges\" width=\"174\" height=\"320\" x=\"0\" y=\"0\" style=\"stroke: rgb(68, 68, 68); stroke-opacity: 1; fill: rgb(255, 255, 255); fill-opacity: 1; stroke-width: 0px;\"/><g class=\"scrollbox\" transform=\"\" clip-path=\"url(#legend3b4a30)\"><text class=\"legendtitletext\" text-anchor=\"start\" x=\"2\" y=\"18.2\" style=\"font-family: 'Open Sans', verdana, arial, sans-serif; font-size: 14px; fill: rgb(42, 63, 95); fill-opacity: 1; white-space: pre;\">province</text><g class=\"groups\" transform=\"\"><g class=\"traces\" transform=\"translate(0,32.7)\" style=\"opacity: 1;\"><text class=\"legendtext\" text-anchor=\"start\" x=\"40\" y=\"4.680000000000001\" style=\"font-family: 'Open Sans', verdana, arial, sans-serif; font-size: 12px; fill: rgb(42, 63, 95); fill-opacity: 1; white-space: pre;\">Busan</text><g class=\"layers\" style=\"opacity: 1;\"><g class=\"legendfill\"/><g class=\"legendlines\"><path class=\"js-line\" d=\"M5,0h30\" style=\"fill: none; stroke: rgb(99, 110, 250); stroke-opacity: 1; stroke-width: 2px;\"/></g><g class=\"legendsymbols\"><g class=\"legendpoints\"/></g></g><rect class=\"legendtoggle\" x=\"0\" y=\"-9.5\" width=\"168.671875\" height=\"19\" style=\"fill: rgb(0, 0, 0); fill-opacity: 0;\"/></g></g><g class=\"groups\" transform=\"\"><g class=\"traces\" transform=\"translate(0,51.7)\" style=\"opacity: 1;\"><text class=\"legendtext\" text-anchor=\"start\" x=\"40\" y=\"4.680000000000001\" style=\"font-family: 'Open Sans', verdana, arial, sans-serif; font-size: 12px; fill: rgb(42, 63, 95); fill-opacity: 1; white-space: pre;\">Chungcheongbuk-do</text><g class=\"layers\" style=\"opacity: 1;\"><g class=\"legendfill\"/><g class=\"legendlines\"><path class=\"js-line\" d=\"M5,0h30\" style=\"fill: none; stroke: rgb(239, 85, 59); stroke-opacity: 1; stroke-width: 2px;\"/></g><g class=\"legendsymbols\"><g class=\"legendpoints\"/></g></g><rect class=\"legendtoggle\" x=\"0\" y=\"-9.5\" width=\"168.671875\" height=\"19\" style=\"fill: rgb(0, 0, 0); fill-opacity: 0;\"/></g></g><g class=\"groups\" transform=\"\"><g class=\"traces\" transform=\"translate(0,70.7)\" style=\"opacity: 1;\"><text class=\"legendtext\" text-anchor=\"start\" x=\"40\" y=\"4.680000000000001\" style=\"font-family: 'Open Sans', verdana, arial, sans-serif; font-size: 12px; fill: rgb(42, 63, 95); fill-opacity: 1; white-space: pre;\">Chungcheongnam-do</text><g class=\"layers\" style=\"opacity: 1;\"><g class=\"legendfill\"/><g class=\"legendlines\"><path class=\"js-line\" d=\"M5,0h30\" style=\"fill: none; stroke: rgb(0, 204, 150); stroke-opacity: 1; stroke-width: 2px;\"/></g><g class=\"legendsymbols\"><g class=\"legendpoints\"/></g></g><rect class=\"legendtoggle\" x=\"0\" y=\"-9.5\" width=\"168.671875\" height=\"19\" style=\"fill: rgb(0, 0, 0); fill-opacity: 0;\"/></g></g><g class=\"groups\" transform=\"\"><g class=\"traces\" transform=\"translate(0,89.7)\" style=\"opacity: 1;\"><text class=\"legendtext\" text-anchor=\"start\" x=\"40\" y=\"4.680000000000001\" style=\"font-family: 'Open Sans', verdana, arial, sans-serif; font-size: 12px; fill: rgb(42, 63, 95); fill-opacity: 1; white-space: pre;\">Daegu</text><g class=\"layers\" style=\"opacity: 1;\"><g class=\"legendfill\"/><g class=\"legendlines\"><path class=\"js-line\" d=\"M5,0h30\" style=\"fill: none; stroke: rgb(171, 99, 250); stroke-opacity: 1; stroke-width: 2px;\"/></g><g class=\"legendsymbols\"><g class=\"legendpoints\"/></g></g><rect class=\"legendtoggle\" x=\"0\" y=\"-9.5\" width=\"168.671875\" height=\"19\" style=\"fill: rgb(0, 0, 0); fill-opacity: 0;\"/></g></g><g class=\"groups\" transform=\"\"><g class=\"traces\" transform=\"translate(0,108.7)\" style=\"opacity: 1;\"><text class=\"legendtext\" text-anchor=\"start\" x=\"40\" y=\"4.680000000000001\" style=\"font-family: 'Open Sans', verdana, arial, sans-serif; font-size: 12px; fill: rgb(42, 63, 95); fill-opacity: 1; white-space: pre;\">Daejeon</text><g class=\"layers\" style=\"opacity: 1;\"><g class=\"legendfill\"/><g class=\"legendlines\"><path class=\"js-line\" d=\"M5,0h30\" style=\"fill: none; stroke: rgb(255, 161, 90); stroke-opacity: 1; stroke-width: 2px;\"/></g><g class=\"legendsymbols\"><g class=\"legendpoints\"/></g></g><rect class=\"legendtoggle\" x=\"0\" y=\"-9.5\" width=\"168.671875\" height=\"19\" style=\"fill: rgb(0, 0, 0); fill-opacity: 0;\"/></g></g><g class=\"groups\" transform=\"\"><g class=\"traces\" transform=\"translate(0,127.7)\" style=\"opacity: 1;\"><text class=\"legendtext\" text-anchor=\"start\" x=\"40\" y=\"4.680000000000001\" style=\"font-family: 'Open Sans', verdana, arial, sans-serif; font-size: 12px; fill: rgb(42, 63, 95); fill-opacity: 1; white-space: pre;\">Gangwon-do</text><g class=\"layers\" style=\"opacity: 1;\"><g class=\"legendfill\"/><g class=\"legendlines\"><path class=\"js-line\" d=\"M5,0h30\" style=\"fill: none; stroke: rgb(25, 211, 243); stroke-opacity: 1; stroke-width: 2px;\"/></g><g class=\"legendsymbols\"><g class=\"legendpoints\"/></g></g><rect class=\"legendtoggle\" x=\"0\" y=\"-9.5\" width=\"168.671875\" height=\"19\" style=\"fill: rgb(0, 0, 0); fill-opacity: 0;\"/></g></g><g class=\"groups\" transform=\"\"><g class=\"traces\" transform=\"translate(0,146.7)\" style=\"opacity: 1;\"><text class=\"legendtext\" text-anchor=\"start\" x=\"40\" y=\"4.680000000000001\" style=\"font-family: 'Open Sans', verdana, arial, sans-serif; font-size: 12px; fill: rgb(42, 63, 95); fill-opacity: 1; white-space: pre;\">Gwangju</text><g class=\"layers\" style=\"opacity: 1;\"><g class=\"legendfill\"/><g class=\"legendlines\"><path class=\"js-line\" d=\"M5,0h30\" style=\"fill: none; stroke: rgb(255, 102, 146); stroke-opacity: 1; stroke-width: 2px;\"/></g><g class=\"legendsymbols\"><g class=\"legendpoints\"/></g></g><rect class=\"legendtoggle\" x=\"0\" y=\"-9.5\" width=\"168.671875\" height=\"19\" style=\"fill: rgb(0, 0, 0); fill-opacity: 0;\"/></g></g><g class=\"groups\" transform=\"\"><g class=\"traces\" transform=\"translate(0,165.7)\" style=\"opacity: 1;\"><text class=\"legendtext\" text-anchor=\"start\" x=\"40\" y=\"4.680000000000001\" style=\"font-family: 'Open Sans', verdana, arial, sans-serif; font-size: 12px; fill: rgb(42, 63, 95); fill-opacity: 1; white-space: pre;\">Gyeonggi-do</text><g class=\"layers\" style=\"opacity: 1;\"><g class=\"legendfill\"/><g class=\"legendlines\"><path class=\"js-line\" d=\"M5,0h30\" style=\"fill: none; stroke: rgb(182, 232, 128); stroke-opacity: 1; stroke-width: 2px;\"/></g><g class=\"legendsymbols\"><g class=\"legendpoints\"/></g></g><rect class=\"legendtoggle\" x=\"0\" y=\"-9.5\" width=\"168.671875\" height=\"19\" style=\"fill: rgb(0, 0, 0); fill-opacity: 0;\"/></g></g><g class=\"groups\" transform=\"\"><g class=\"traces\" transform=\"translate(0,184.7)\" style=\"opacity: 1;\"><text class=\"legendtext\" text-anchor=\"start\" x=\"40\" y=\"4.680000000000001\" style=\"font-family: 'Open Sans', verdana, arial, sans-serif; font-size: 12px; fill: rgb(42, 63, 95); fill-opacity: 1; white-space: pre;\">Gyeongsangbuk-do</text><g class=\"layers\" style=\"opacity: 1;\"><g class=\"legendfill\"/><g class=\"legendlines\"><path class=\"js-line\" d=\"M5,0h30\" style=\"fill: none; stroke: rgb(255, 151, 255); stroke-opacity: 1; stroke-width: 2px;\"/></g><g class=\"legendsymbols\"><g class=\"legendpoints\"/></g></g><rect class=\"legendtoggle\" x=\"0\" y=\"-9.5\" width=\"168.671875\" height=\"19\" style=\"fill: rgb(0, 0, 0); fill-opacity: 0;\"/></g></g><g class=\"groups\" transform=\"\"><g class=\"traces\" transform=\"translate(0,203.7)\" style=\"opacity: 1;\"><text class=\"legendtext\" text-anchor=\"start\" x=\"40\" y=\"4.680000000000001\" style=\"font-family: 'Open Sans', verdana, arial, sans-serif; font-size: 12px; fill: rgb(42, 63, 95); fill-opacity: 1; white-space: pre;\">Gyeongsangnam-do</text><g class=\"layers\" style=\"opacity: 1;\"><g class=\"legendfill\"/><g class=\"legendlines\"><path class=\"js-line\" d=\"M5,0h30\" style=\"fill: none; stroke: rgb(254, 203, 82); stroke-opacity: 1; stroke-width: 2px;\"/></g><g class=\"legendsymbols\"><g class=\"legendpoints\"/></g></g><rect class=\"legendtoggle\" x=\"0\" y=\"-9.5\" width=\"168.671875\" height=\"19\" style=\"fill: rgb(0, 0, 0); fill-opacity: 0;\"/></g></g><g class=\"groups\" transform=\"\"><g class=\"traces\" transform=\"translate(0,222.7)\" style=\"opacity: 1;\"><text class=\"legendtext\" text-anchor=\"start\" x=\"40\" y=\"4.680000000000001\" style=\"font-family: 'Open Sans', verdana, arial, sans-serif; font-size: 12px; fill: rgb(42, 63, 95); fill-opacity: 1; white-space: pre;\">Incheon</text><g class=\"layers\" style=\"opacity: 1;\"><g class=\"legendfill\"/><g class=\"legendlines\"><path class=\"js-line\" d=\"M5,0h30\" style=\"fill: none; stroke: rgb(99, 110, 250); stroke-opacity: 1; stroke-width: 2px;\"/></g><g class=\"legendsymbols\"><g class=\"legendpoints\"/></g></g><rect class=\"legendtoggle\" x=\"0\" y=\"-9.5\" width=\"168.671875\" height=\"19\" style=\"fill: rgb(0, 0, 0); fill-opacity: 0;\"/></g></g><g class=\"groups\" transform=\"\"><g class=\"traces\" transform=\"translate(0,241.7)\" style=\"opacity: 1;\"><text class=\"legendtext\" text-anchor=\"start\" x=\"40\" y=\"4.680000000000001\" style=\"font-family: 'Open Sans', verdana, arial, sans-serif; font-size: 12px; fill: rgb(42, 63, 95); fill-opacity: 1; white-space: pre;\">Jeju-do</text><g class=\"layers\" style=\"opacity: 1;\"><g class=\"legendfill\"/><g class=\"legendlines\"><path class=\"js-line\" d=\"M5,0h30\" style=\"fill: none; stroke: rgb(239, 85, 59); stroke-opacity: 1; stroke-width: 2px;\"/></g><g class=\"legendsymbols\"><g class=\"legendpoints\"/></g></g><rect class=\"legendtoggle\" x=\"0\" y=\"-9.5\" width=\"168.671875\" height=\"19\" style=\"fill: rgb(0, 0, 0); fill-opacity: 0;\"/></g></g><g class=\"groups\" transform=\"\"><g class=\"traces\" transform=\"translate(0,260.7)\" style=\"opacity: 1;\"><text class=\"legendtext\" text-anchor=\"start\" x=\"40\" y=\"4.680000000000001\" style=\"font-family: 'Open Sans', verdana, arial, sans-serif; font-size: 12px; fill: rgb(42, 63, 95); fill-opacity: 1; white-space: pre;\">Jeollabuk-do</text><g class=\"layers\" style=\"opacity: 1;\"><g class=\"legendfill\"/><g class=\"legendlines\"><path class=\"js-line\" d=\"M5,0h30\" style=\"fill: none; stroke: rgb(0, 204, 150); stroke-opacity: 1; stroke-width: 2px;\"/></g><g class=\"legendsymbols\"><g class=\"legendpoints\"/></g></g><rect class=\"legendtoggle\" x=\"0\" y=\"-9.5\" width=\"168.671875\" height=\"19\" style=\"fill: rgb(0, 0, 0); fill-opacity: 0;\"/></g></g><g class=\"groups\" transform=\"\"><g class=\"traces\" transform=\"translate(0,279.7)\" style=\"opacity: 1;\"><text class=\"legendtext\" text-anchor=\"start\" x=\"40\" y=\"4.680000000000001\" style=\"font-family: 'Open Sans', verdana, arial, sans-serif; font-size: 12px; fill: rgb(42, 63, 95); fill-opacity: 1; white-space: pre;\">Jeollanam-do</text><g class=\"layers\" style=\"opacity: 1;\"><g class=\"legendfill\"/><g class=\"legendlines\"><path class=\"js-line\" d=\"M5,0h30\" style=\"fill: none; stroke: rgb(171, 99, 250); stroke-opacity: 1; stroke-width: 2px;\"/></g><g class=\"legendsymbols\"><g class=\"legendpoints\"/></g></g><rect class=\"legendtoggle\" x=\"0\" y=\"-9.5\" width=\"168.671875\" height=\"19\" style=\"fill: rgb(0, 0, 0); fill-opacity: 0;\"/></g></g><g class=\"groups\" transform=\"\"><g class=\"traces\" transform=\"translate(0,298.7)\" style=\"opacity: 1;\"><text class=\"legendtext\" text-anchor=\"start\" x=\"40\" y=\"4.680000000000001\" style=\"font-family: 'Open Sans', verdana, arial, sans-serif; font-size: 12px; fill: rgb(42, 63, 95); fill-opacity: 1; white-space: pre;\">Sejong</text><g class=\"layers\" style=\"opacity: 1;\"><g class=\"legendfill\"/><g class=\"legendlines\"><path class=\"js-line\" d=\"M5,0h30\" style=\"fill: none; stroke: rgb(255, 161, 90); stroke-opacity: 1; stroke-width: 2px;\"/></g><g class=\"legendsymbols\"><g class=\"legendpoints\"/></g></g><rect class=\"legendtoggle\" x=\"0\" y=\"-9.5\" width=\"168.671875\" height=\"19\" style=\"fill: rgb(0, 0, 0); fill-opacity: 0;\"/></g></g><g class=\"groups\" transform=\"\"><g class=\"traces\" transform=\"translate(0,317.7)\" style=\"opacity: 1;\"><text class=\"legendtext\" text-anchor=\"start\" x=\"40\" y=\"4.680000000000001\" style=\"font-family: 'Open Sans', verdana, arial, sans-serif; font-size: 12px; fill: rgb(42, 63, 95); fill-opacity: 1; white-space: pre;\">Seoul</text><g class=\"layers\" style=\"opacity: 1;\"><g class=\"legendfill\"/><g class=\"legendlines\"><path class=\"js-line\" d=\"M5,0h30\" style=\"fill: none; stroke: rgb(25, 211, 243); stroke-opacity: 1; stroke-width: 2px;\"/></g><g class=\"legendsymbols\"><g class=\"legendpoints\"/></g></g><rect class=\"legendtoggle\" x=\"0\" y=\"-9.5\" width=\"168.671875\" height=\"19\" style=\"fill: rgb(0, 0, 0); fill-opacity: 0;\"/></g></g><g class=\"groups\" transform=\"\"><g class=\"traces\" transform=\"translate(0,336.7)\" style=\"opacity: 1;\"><text class=\"legendtext\" text-anchor=\"start\" x=\"40\" y=\"4.680000000000001\" style=\"font-family: 'Open Sans', verdana, arial, sans-serif; font-size: 12px; fill: rgb(42, 63, 95); fill-opacity: 1; white-space: pre;\">Ulsan</text><g class=\"layers\" style=\"opacity: 1;\"><g class=\"legendfill\"/><g class=\"legendlines\"><path class=\"js-line\" d=\"M5,0h30\" style=\"fill: none; stroke: rgb(255, 102, 146); stroke-opacity: 1; stroke-width: 2px;\"/></g><g class=\"legendsymbols\"><g class=\"legendpoints\"/></g></g><rect class=\"legendtoggle\" x=\"0\" y=\"-9.5\" width=\"168.671875\" height=\"19\" style=\"fill: rgb(0, 0, 0); fill-opacity: 0;\"/></g></g></g><rect class=\"scrollbar\" rx=\"20\" ry=\"3\" width=\"0\" height=\"0\" x=\"0\" y=\"0\" style=\"fill: rgb(128, 139, 164); fill-opacity: 1;\"/></g><g class=\"g-gtitle\"><text class=\"gtitle\" x=\"35\" y=\"50\" text-anchor=\"start\" dy=\"0em\" style=\"font-family: 'Open Sans', verdana, arial, sans-serif; font-size: 17px; fill: rgb(42, 63, 95); opacity: 1; font-weight: normal; white-space: pre;\">Number of cases per day by region</text></g><g class=\"g-xtitle\"><text class=\"xtitle\" x=\"292.5\" y=\"459.8\" text-anchor=\"middle\" style=\"font-family: 'Open Sans', verdana, arial, sans-serif; font-size: 14px; fill: rgb(42, 63, 95); opacity: 1; font-weight: normal; white-space: pre;\">Confirmed Date</text></g><g class=\"g-ytitle\"><text class=\"ytitle\" transform=\"rotate(-90,31.809375000000003,260)\" x=\"31.809375000000003\" y=\"260\" text-anchor=\"middle\" style=\"font-family: 'Open Sans', verdana, arial, sans-serif; font-size: 14px; fill: rgb(42, 63, 95); opacity: 1; font-weight: normal; white-space: pre;\">Number of covid cases</text></g></g></svg>"
      ]
     },
     "metadata": {},
     "output_type": "display_data"
    }
   ],
   "source": [
    "# Plot confirmed cases each day by province\n",
    "df = patient_date_region_df.reset_index()\n",
    "fig=px.line(\n",
    "    df,\n",
    "    x=\"confirmed_date\",\n",
    "    y=\"patient_id\",\n",
    "    color=\"province\",\n",
    "    labels={\"confirmed_date\": \"Confirmed Date\", \"patient_id\": \"Number of covid cases\"},\n",
    "    title=\"Number of cases per day by region\",\n",
    ")\n",
    "\n",
    "fig.show('svg')"
   ]
  },
  {
   "cell_type": "markdown",
   "id": "5776e037",
   "metadata": {},
   "source": [
    "This graph shows us the spread of cases across the provinces throughout the country, which fluctuate a decent amount at the beginning of pandemic. Futhermore, Gyeongsangbuk-do has the highest number of cases in a single day, recorded on March 5, 2020. This seems reasonable given that Gyeongsangbuk-do is South Korea's largest province. From this graph it seems like cases dwindled in mid-April nationwide, before appearing again in mid-May. <br> <br> Now that we have a general idea of the spread of cases across regions during this time, we should consider how international movement affects contagion before we can make recommendations--countries are not closed systems, so international movement could increase pandemic risks to the general population. "
   ]
  },
  {
   "cell_type": "markdown",
   "id": "669218e0",
   "metadata": {},
   "source": [
    "## Cases from international movement"
   ]
  },
  {
   "cell_type": "code",
   "execution_count": 44,
   "id": "6491bca0",
   "metadata": {},
   "outputs": [
    {
     "data": {
      "image/svg+xml": [
       "<svg class=\"main-svg\" xmlns=\"http://www.w3.org/2000/svg\" xmlns:xlink=\"http://www.w3.org/1999/xlink\" width=\"700\" height=\"500\" style=\"\" viewBox=\"0 0 700 500\"><rect x=\"0\" y=\"0\" width=\"700\" height=\"500\" style=\"fill: rgb(255, 255, 255); fill-opacity: 1;\"/><defs id=\"defs-fce2d5\"><g class=\"clips\"><clipPath id=\"clipfce2d5xyplot\" class=\"plotclip\"><rect width=\"540\" height=\"320\"/></clipPath><clipPath class=\"axesclip\" id=\"clipfce2d5x\"><rect x=\"80\" y=\"0\" width=\"540\" height=\"500\"/></clipPath><clipPath class=\"axesclip\" id=\"clipfce2d5y\"><rect x=\"0\" y=\"100\" width=\"700\" height=\"320\"/></clipPath><clipPath class=\"axesclip\" id=\"clipfce2d5xy\"><rect x=\"80\" y=\"100\" width=\"540\" height=\"320\"/></clipPath></g><g class=\"gradients\"/><g class=\"patterns\"/></defs><g class=\"bglayer\"><rect class=\"bg\" x=\"80\" y=\"100\" width=\"540\" height=\"320\" style=\"fill: rgb(229, 236, 246); fill-opacity: 1; stroke-width: 0;\"/></g><g class=\"layer-below\"><g class=\"imagelayer\"/><g class=\"shapelayer\"/></g><g class=\"cartesianlayer\"><g class=\"subplot xy\"><g class=\"layer-subplot\"><g class=\"shapelayer\"/><g class=\"imagelayer\"/></g><g class=\"minor-gridlayer\"><g class=\"x\"/><g class=\"y\"/></g><g class=\"gridlayer\"><g class=\"x\"><path class=\"xgrid crisp\" transform=\"translate(120,0)\" d=\"M0,100v320\" style=\"stroke: rgb(255, 255, 255); stroke-opacity: 1; stroke-width: 1px;\"/><path class=\"xgrid crisp\" transform=\"translate(216.67,0)\" d=\"M0,100v320\" style=\"stroke: rgb(255, 255, 255); stroke-opacity: 1; stroke-width: 1px;\"/><path class=\"xgrid crisp\" transform=\"translate(320,0)\" d=\"M0,100v320\" style=\"stroke: rgb(255, 255, 255); stroke-opacity: 1; stroke-width: 1px;\"/><path class=\"xgrid crisp\" transform=\"translate(420,0)\" d=\"M0,100v320\" style=\"stroke: rgb(255, 255, 255); stroke-opacity: 1; stroke-width: 1px;\"/><path class=\"xgrid crisp\" transform=\"translate(523.3299999999999,0)\" d=\"M0,100v320\" style=\"stroke: rgb(255, 255, 255); stroke-opacity: 1; stroke-width: 1px;\"/></g><g class=\"y\"><path class=\"ygrid crisp\" transform=\"translate(0,347.65)\" d=\"M80,0h540\" style=\"stroke: rgb(255, 255, 255); stroke-opacity: 1; stroke-width: 1px;\"/><path class=\"ygrid crisp\" transform=\"translate(0,285.03999999999996)\" d=\"M80,0h540\" style=\"stroke: rgb(255, 255, 255); stroke-opacity: 1; stroke-width: 1px;\"/><path class=\"ygrid crisp\" transform=\"translate(0,222.43)\" d=\"M80,0h540\" style=\"stroke: rgb(255, 255, 255); stroke-opacity: 1; stroke-width: 1px;\"/><path class=\"ygrid crisp\" transform=\"translate(0,159.82999999999998)\" d=\"M80,0h540\" style=\"stroke: rgb(255, 255, 255); stroke-opacity: 1; stroke-width: 1px;\"/></g></g><g class=\"zerolinelayer\"><path class=\"yzl zl crisp\" transform=\"translate(0,410.26)\" d=\"M80,0h540\" style=\"stroke: rgb(255, 255, 255); stroke-opacity: 1; stroke-width: 2px;\"/></g><path class=\"xlines-below\"/><path class=\"ylines-below\"/><g class=\"overlines-below\"/><g class=\"xaxislayer-below\"/><g class=\"yaxislayer-below\"/><g class=\"overaxes-below\"/><g class=\"plot\" transform=\"translate(80,100)\" clip-path=\"url(#clipfce2d5xyplot)\"><g class=\"scatterlayer mlayer\"><g class=\"trace scatter trace8cea14\" style=\"stroke-miterlimit: 2; opacity: 1;\"><g class=\"fills\"/><g class=\"errorbars\"/><g class=\"lines\"><path class=\"js-line\" d=\"M0,304L23.33,304L33.33,291.48L43.33,304L46.67,304L53.33,297.74L56.67,304L110,304L113.33,297.74L120,297.74L123.33,304L126.67,291.48L133.33,304L163.33,304L166.67,297.74L170,297.74L173.33,285.22L183.33,304L186.67,291.48L190,228.87L193.33,216.35L196.67,235.13L200,216.35L203.33,266.43L206.67,260.17L210,247.65L213.33,153.74L216.67,172.52L220,185.04L223.33,128.7L226.67,16L230,153.74L233.33,160L236.67,66.09L240,128.7L243.33,147.48L246.67,178.78L250,178.78L253.33,222.61L256.67,247.65L260,210.09L263.33,210.09L266.67,260.17L270,272.7L273.33,297.74L276.67,235.13L280,278.96L283.33,253.91L286.67,272.7L290,285.22L293.33,272.7L296.67,297.74L300,291.48L303.33,297.74L306.67,285.22L310,304L313.33,304L316.67,297.74L320,260.17L323.33,291.48L326.67,266.43L330,297.74L333.33,304L336.67,291.48L340,291.48L343.33,278.96L346.67,291.48L353.33,297.74L356.67,297.74L360,285.22L363.33,297.74L370,297.74L373.33,278.96L376.67,291.48L380,285.22L386.67,297.74L390,291.48L393.33,291.48L396.67,285.22L400,272.7L403.33,304L406.67,297.74L410,304L413.33,272.7L416.67,304L423.33,304L426.67,285.22L430,278.96L433.33,247.65L436.67,272.7L440,291.48L443.33,297.74L446.67,278.96L450,297.74L453.33,297.74L463.33,297.74L466.67,291.48L470,304L473.33,285.22L476.67,297.74L480,285.22L483.33,297.74L486.67,272.7L490,285.22L493.33,272.7L496.67,278.96L500,266.43L503.33,235.13L506.67,285.22L510,266.43L513.33,285.22L516.67,260.17L520,304L523.33,278.96L526.67,247.65L530,278.96L533.33,266.43L536.67,272.7L540,285.22\" style=\"vector-effect: none; fill: none; stroke: rgb(99, 110, 250); stroke-opacity: 1; stroke-width: 2px; opacity: 1;\"/></g><g class=\"points\"/><g class=\"text\"/></g></g></g><g class=\"overplot\"/><path class=\"xlines-above crisp\" d=\"M0,0\" style=\"fill: none;\"/><path class=\"ylines-above crisp\" d=\"M0,0\" style=\"fill: none;\"/><g class=\"overlines-above\"/><g class=\"xaxislayer-above\"><g class=\"xtick\"><text text-anchor=\"middle\" x=\"0\" y=\"433\" transform=\"translate(120,0)\" style=\"font-family: 'Open Sans', verdana, arial, sans-serif; font-size: 12px; fill: rgb(42, 63, 95); fill-opacity: 1; white-space: pre; opacity: 1;\">Feb 2020</text></g><g class=\"xtick\"><text text-anchor=\"middle\" x=\"0\" y=\"433\" style=\"font-family: 'Open Sans', verdana, arial, sans-serif; font-size: 12px; fill: rgb(42, 63, 95); fill-opacity: 1; white-space: pre; opacity: 1;\" transform=\"translate(216.67,0)\">Mar 2020</text></g><g class=\"xtick\"><text text-anchor=\"middle\" x=\"0\" y=\"433\" style=\"font-family: 'Open Sans', verdana, arial, sans-serif; font-size: 12px; fill: rgb(42, 63, 95); fill-opacity: 1; white-space: pre; opacity: 1;\" transform=\"translate(320,0)\">Apr 2020</text></g><g class=\"xtick\"><text text-anchor=\"middle\" x=\"0\" y=\"433\" style=\"font-family: 'Open Sans', verdana, arial, sans-serif; font-size: 12px; fill: rgb(42, 63, 95); fill-opacity: 1; white-space: pre; opacity: 1;\" transform=\"translate(420,0)\">May 2020</text></g><g class=\"xtick\"><text text-anchor=\"middle\" x=\"0\" y=\"433\" style=\"font-family: 'Open Sans', verdana, arial, sans-serif; font-size: 12px; fill: rgb(42, 63, 95); fill-opacity: 1; white-space: pre; opacity: 1;\" transform=\"translate(523.3299999999999,0)\">Jun 2020</text></g></g><g class=\"yaxislayer-above\"><g class=\"ytick\"><text text-anchor=\"end\" x=\"79\" y=\"4.199999999999999\" transform=\"translate(0,410.26)\" style=\"font-family: 'Open Sans', verdana, arial, sans-serif; font-size: 12px; fill: rgb(42, 63, 95); fill-opacity: 1; white-space: pre; opacity: 1;\">0</text></g><g class=\"ytick\"><text text-anchor=\"end\" x=\"79\" y=\"4.199999999999999\" style=\"font-family: 'Open Sans', verdana, arial, sans-serif; font-size: 12px; fill: rgb(42, 63, 95); fill-opacity: 1; white-space: pre; opacity: 1;\" transform=\"translate(0,347.65)\">10</text></g><g class=\"ytick\"><text text-anchor=\"end\" x=\"79\" y=\"4.199999999999999\" style=\"font-family: 'Open Sans', verdana, arial, sans-serif; font-size: 12px; fill: rgb(42, 63, 95); fill-opacity: 1; white-space: pre; opacity: 1;\" transform=\"translate(0,285.03999999999996)\">20</text></g><g class=\"ytick\"><text text-anchor=\"end\" x=\"79\" y=\"4.199999999999999\" style=\"font-family: 'Open Sans', verdana, arial, sans-serif; font-size: 12px; fill: rgb(42, 63, 95); fill-opacity: 1; white-space: pre; opacity: 1;\" transform=\"translate(0,222.43)\">30</text></g><g class=\"ytick\"><text text-anchor=\"end\" x=\"79\" y=\"4.199999999999999\" style=\"font-family: 'Open Sans', verdana, arial, sans-serif; font-size: 12px; fill: rgb(42, 63, 95); fill-opacity: 1; white-space: pre; opacity: 1;\" transform=\"translate(0,159.82999999999998)\">40</text></g></g><g class=\"overaxes-above\"/></g></g><g class=\"polarlayer\"/><g class=\"smithlayer\"/><g class=\"ternarylayer\"/><g class=\"geolayer\"/><g class=\"funnelarealayer\"/><g class=\"pielayer\"/><g class=\"iciclelayer\"/><g class=\"treemaplayer\"/><g class=\"sunburstlayer\"/><g class=\"glimages\"/><defs id=\"topdefs-fce2d5\"><g class=\"clips\"/></defs><g class=\"layer-above\"><g class=\"imagelayer\"/><g class=\"shapelayer\"/></g><g class=\"infolayer\"><g class=\"g-gtitle\"><text class=\"gtitle\" x=\"35\" y=\"50\" text-anchor=\"start\" dy=\"0em\" style=\"font-family: 'Open Sans', verdana, arial, sans-serif; font-size: 17px; fill: rgb(42, 63, 95); opacity: 1; font-weight: normal; white-space: pre;\">International inflow covid cases by day</text></g><g class=\"g-xtitle\"><text class=\"xtitle\" x=\"350\" y=\"459.8\" text-anchor=\"middle\" style=\"font-family: 'Open Sans', verdana, arial, sans-serif; font-size: 14px; fill: rgb(42, 63, 95); opacity: 1; font-weight: normal; white-space: pre;\">Date</text></g><g class=\"g-ytitle\"><text class=\"ytitle\" transform=\"rotate(-90,39.434375,260)\" x=\"39.434375\" y=\"260\" text-anchor=\"middle\" style=\"font-family: 'Open Sans', verdana, arial, sans-serif; font-size: 14px; fill: rgb(42, 63, 95); opacity: 1; font-weight: normal; white-space: pre;\">Covid cases</text></g></g></svg>"
      ]
     },
     "metadata": {},
     "output_type": "display_data"
    },
    {
     "data": {
      "image/svg+xml": [
       "<svg class=\"main-svg\" xmlns=\"http://www.w3.org/2000/svg\" xmlns:xlink=\"http://www.w3.org/1999/xlink\" width=\"700\" height=\"500\" style=\"\" viewBox=\"0 0 700 500\"><rect x=\"0\" y=\"0\" width=\"700\" height=\"500\" style=\"fill: rgb(255, 255, 255); fill-opacity: 1;\"/><defs id=\"defs-0cbc31\"><g class=\"clips\"><clipPath id=\"clip0cbc31xyplot\" class=\"plotclip\"><rect width=\"403\" height=\"320\"/></clipPath><clipPath class=\"axesclip\" id=\"clip0cbc31x\"><rect x=\"135\" y=\"0\" width=\"403\" height=\"500\"/></clipPath><clipPath class=\"axesclip\" id=\"clip0cbc31y\"><rect x=\"0\" y=\"100\" width=\"700\" height=\"320\"/></clipPath><clipPath class=\"axesclip\" id=\"clip0cbc31xy\"><rect x=\"135\" y=\"100\" width=\"403\" height=\"320\"/></clipPath></g><g class=\"gradients\"/><g class=\"patterns\"/></defs><g class=\"bglayer\"><rect class=\"bg\" x=\"135\" y=\"100\" width=\"403\" height=\"320\" style=\"fill: rgb(229, 236, 246); fill-opacity: 1; stroke-width: 0;\"/></g><g class=\"layer-below\"><g class=\"imagelayer\"/><g class=\"shapelayer\"/></g><g class=\"cartesianlayer\"><g class=\"subplot xy\"><g class=\"layer-subplot\"><g class=\"shapelayer\"/><g class=\"imagelayer\"/></g><g class=\"minor-gridlayer\"><g class=\"x\"/><g class=\"y\"/></g><g class=\"gridlayer\"><g class=\"x\"><path class=\"xgrid crisp\" transform=\"translate(147.75,0)\" d=\"M0,100v320\" style=\"stroke: rgb(255, 255, 255); stroke-opacity: 1; stroke-width: 1px;\"/><path class=\"xgrid crisp\" transform=\"translate(219.3,0)\" d=\"M0,100v320\" style=\"stroke: rgb(255, 255, 255); stroke-opacity: 1; stroke-width: 1px;\"/><path class=\"xgrid crisp\" transform=\"translate(295.78999999999996,0)\" d=\"M0,100v320\" style=\"stroke: rgb(255, 255, 255); stroke-opacity: 1; stroke-width: 1px;\"/><path class=\"xgrid crisp\" transform=\"translate(369.81,0)\" d=\"M0,100v320\" style=\"stroke: rgb(255, 255, 255); stroke-opacity: 1; stroke-width: 1px;\"/><path class=\"xgrid crisp\" transform=\"translate(446.3,0)\" d=\"M0,100v320\" style=\"stroke: rgb(255, 255, 255); stroke-opacity: 1; stroke-width: 1px;\"/><path class=\"xgrid crisp\" transform=\"translate(520.3199999999999,0)\" d=\"M0,100v320\" style=\"stroke: rgb(255, 255, 255); stroke-opacity: 1; stroke-width: 1px;\"/></g><g class=\"y\"/></g><g class=\"zerolinelayer\"/><path class=\"xlines-below\"/><path class=\"ylines-below\"/><g class=\"overlines-below\"/><g class=\"xaxislayer-below\"/><g class=\"yaxislayer-below\"/><g class=\"overaxes-below\"/><g class=\"plot\" transform=\"translate(135,100)\" clip-path=\"url(#clip0cbc31xyplot)\"><g class=\"barlayer mlayer\"><g class=\"trace bars\" style=\"opacity: 1;\"><g class=\"points\"><g class=\"point\"><path d=\"M20.15,22.15V2.46H382.85V22.15Z\" style=\"vector-effect: none; opacity: 1; stroke-width: 0.5px; fill: rgb(229, 134, 6); fill-opacity: 1; stroke: rgb(229, 236, 246); stroke-opacity: 1;\"/></g></g></g><g class=\"trace bars\" style=\"opacity: 1;\"><g class=\"points\"><g class=\"point\"><path d=\"M39.89,46.77V27.08H382.85V46.77Z\" style=\"vector-effect: none; opacity: 1; stroke-width: 0.5px; fill: rgb(93, 105, 177); fill-opacity: 1; stroke: rgb(229, 236, 246); stroke-opacity: 1;\"/></g></g></g><g class=\"trace bars\" style=\"opacity: 1;\"><g class=\"points\"><g class=\"point\"><path d=\"M39.89,71.38V51.69H382.85V71.38Z\" style=\"vector-effect: none; opacity: 1; stroke-width: 0.5px; fill: rgb(82, 188, 163); fill-opacity: 1; stroke: rgb(229, 236, 246); stroke-opacity: 1;\"/></g></g></g><g class=\"trace bars\" style=\"opacity: 1;\"><g class=\"points\"><g class=\"point\"><path d=\"M104.04,96V76.31H382.85V96Z\" style=\"vector-effect: none; opacity: 1; stroke-width: 0.5px; fill: rgb(153, 201, 69); fill-opacity: 1; stroke: rgb(229, 236, 246); stroke-opacity: 1;\"/></g></g></g><g class=\"trace bars\" style=\"opacity: 1;\"><g class=\"points\"><g class=\"point\"><path d=\"M111.44,120.62V100.92H382.85V120.62Z\" style=\"vector-effect: none; opacity: 1; stroke-width: 0.5px; fill: rgb(204, 97, 176); fill-opacity: 1; stroke: rgb(229, 236, 246); stroke-opacity: 1;\"/></g></g></g><g class=\"trace bars\" style=\"opacity: 1;\"><g class=\"points\"><g class=\"point\"><path d=\"M111.44,145.23V125.54H382.85V145.23Z\" style=\"vector-effect: none; opacity: 1; stroke-width: 0.5px; fill: rgb(36, 121, 108); fill-opacity: 1; stroke: rgb(229, 236, 246); stroke-opacity: 1;\"/></g></g></g><g class=\"trace bars\" style=\"opacity: 1;\"><g class=\"points\"><g class=\"point\"><path d=\"M118.84,169.85V150.15H382.85V169.85Z\" style=\"vector-effect: none; opacity: 1; stroke-width: 0.5px; fill: rgb(218, 165, 27); fill-opacity: 1; stroke: rgb(229, 236, 246); stroke-opacity: 1;\"/></g></g></g><g class=\"trace bars\" style=\"opacity: 1;\"><g class=\"points\"><g class=\"point\"><path d=\"M118.84,194.46V174.77H382.85V194.46Z\" style=\"vector-effect: none; opacity: 1; stroke-width: 0.5px; fill: rgb(47, 138, 196); fill-opacity: 1; stroke: rgb(229, 236, 246); stroke-opacity: 1;\"/></g></g></g><g class=\"trace bars\" style=\"opacity: 1;\"><g class=\"points\"><g class=\"point\"><path d=\"M118.84,219.08V199.38H382.85V219.08Z\" style=\"vector-effect: none; opacity: 1; stroke-width: 0.5px; fill: rgb(118, 78, 159); fill-opacity: 1; stroke: rgb(229, 236, 246); stroke-opacity: 1;\"/></g></g></g><g class=\"trace bars\" style=\"opacity: 1;\"><g class=\"points\"><g class=\"point\"><path d=\"M118.84,243.69V224H382.85V243.69Z\" style=\"vector-effect: none; opacity: 1; stroke-width: 0.5px; fill: rgb(237, 100, 90); fill-opacity: 1; stroke: rgb(229, 236, 246); stroke-opacity: 1;\"/></g></g></g><g class=\"trace bars\" style=\"opacity: 1;\"><g class=\"points\"><g class=\"point\"><path d=\"M118.84,268.31V248.62H382.85V268.31Z\" style=\"vector-effect: none; opacity: 1; stroke-width: 0.5px; fill: rgb(165, 170, 153); fill-opacity: 1; stroke: rgb(229, 236, 246); stroke-opacity: 1;\"/></g></g></g><g class=\"trace bars\" style=\"opacity: 1;\"><g class=\"points\"><g class=\"point\"><path d=\"M121.31,292.92V273.23H382.85V292.92Z\" style=\"vector-effect: none; opacity: 1; stroke-width: 0.5px; fill: rgb(229, 134, 6); fill-opacity: 1; stroke: rgb(229, 236, 246); stroke-opacity: 1;\"/></g></g></g><g class=\"trace bars\" style=\"opacity: 1;\"><g class=\"points\"><g class=\"point\"><path d=\"M128.71,317.54V297.85H382.85V317.54Z\" style=\"vector-effect: none; opacity: 1; stroke-width: 0.5px; fill: rgb(93, 105, 177); fill-opacity: 1; stroke: rgb(229, 236, 246); stroke-opacity: 1;\"/></g></g></g></g></g><g class=\"overplot\"/><path class=\"xlines-above crisp\" d=\"M0,0\" style=\"fill: none;\"/><path class=\"ylines-above crisp\" d=\"M0,0\" style=\"fill: none;\"/><g class=\"overlines-above\"/><g class=\"xaxislayer-above\"><g class=\"xtick\"><text text-anchor=\"middle\" x=\"0\" y=\"433\" transform=\"translate(147.75,0)\" style=\"font-family: 'Open Sans', verdana, arial, sans-serif; font-size: 12px; fill: rgb(42, 63, 95); fill-opacity: 1; white-space: pre; opacity: 1;\">Feb 2020</text></g><g class=\"xtick\"><text text-anchor=\"middle\" x=\"0\" y=\"433\" style=\"font-family: 'Open Sans', verdana, arial, sans-serif; font-size: 12px; fill: rgb(42, 63, 95); fill-opacity: 1; white-space: pre; opacity: 1;\" transform=\"translate(219.3,0)\">Mar 2020</text></g><g class=\"xtick\"><text text-anchor=\"middle\" x=\"0\" y=\"433\" style=\"font-family: 'Open Sans', verdana, arial, sans-serif; font-size: 12px; fill: rgb(42, 63, 95); fill-opacity: 1; white-space: pre; opacity: 1;\" transform=\"translate(295.78999999999996,0)\">Apr 2020</text></g><g class=\"xtick\"><text text-anchor=\"middle\" x=\"0\" y=\"433\" style=\"font-family: 'Open Sans', verdana, arial, sans-serif; font-size: 12px; fill: rgb(42, 63, 95); fill-opacity: 1; white-space: pre; opacity: 1;\" transform=\"translate(369.81,0)\">May 2020</text></g><g class=\"xtick\"><text text-anchor=\"middle\" x=\"0\" y=\"433\" style=\"font-family: 'Open Sans', verdana, arial, sans-serif; font-size: 12px; fill: rgb(42, 63, 95); fill-opacity: 1; white-space: pre; opacity: 1;\" transform=\"translate(446.3,0)\">Jun 2020</text></g><g class=\"xtick\"><text text-anchor=\"middle\" x=\"0\" y=\"433\" style=\"font-family: 'Open Sans', verdana, arial, sans-serif; font-size: 12px; fill: rgb(42, 63, 95); fill-opacity: 1; white-space: pre; opacity: 1;\" transform=\"translate(520.3199999999999,0)\">Jul 2020</text></g></g><g class=\"yaxislayer-above\"><g class=\"ytick\"><text text-anchor=\"end\" x=\"134\" y=\"4.199999999999999\" transform=\"translate(0,407.69)\" style=\"font-family: 'Open Sans', verdana, arial, sans-serif; font-size: 12px; fill: rgb(42, 63, 95); fill-opacity: 1; white-space: pre; opacity: 1;\">all the countries</text></g><g class=\"ytick\"><text text-anchor=\"end\" x=\"134\" y=\"4.199999999999999\" transform=\"translate(0,383.08)\" style=\"font-family: 'Open Sans', verdana, arial, sans-serif; font-size: 12px; fill: rgb(42, 63, 95); fill-opacity: 1; white-space: pre; opacity: 1;\">Europe</text></g><g class=\"ytick\"><text text-anchor=\"end\" x=\"134\" y=\"4.199999999999999\" transform=\"translate(0,358.46)\" style=\"font-family: 'Open Sans', verdana, arial, sans-serif; font-size: 12px; fill: rgb(42, 63, 95); fill-opacity: 1; white-space: pre; opacity: 1;\">Netherlands</text></g><g class=\"ytick\"><text text-anchor=\"end\" x=\"134\" y=\"4.199999999999999\" transform=\"translate(0,333.85)\" style=\"font-family: 'Open Sans', verdana, arial, sans-serif; font-size: 12px; fill: rgb(42, 63, 95); fill-opacity: 1; white-space: pre; opacity: 1;\">U.K.</text></g><g class=\"ytick\"><text text-anchor=\"end\" x=\"134\" y=\"4.199999999999999\" transform=\"translate(0,309.23)\" style=\"font-family: 'Open Sans', verdana, arial, sans-serif; font-size: 12px; fill: rgb(42, 63, 95); fill-opacity: 1; white-space: pre; opacity: 1;\">Spain</text></g><g class=\"ytick\"><text text-anchor=\"end\" x=\"134\" y=\"4.199999999999999\" transform=\"translate(0,284.62)\" style=\"font-family: 'Open Sans', verdana, arial, sans-serif; font-size: 12px; fill: rgb(42, 63, 95); fill-opacity: 1; white-space: pre; opacity: 1;\">Germany</text></g><g class=\"ytick\"><text text-anchor=\"end\" x=\"134\" y=\"4.199999999999999\" transform=\"translate(0,260)\" style=\"font-family: 'Open Sans', verdana, arial, sans-serif; font-size: 12px; fill: rgb(42, 63, 95); fill-opacity: 1; white-space: pre; opacity: 1;\">France</text></g><g class=\"ytick\"><text text-anchor=\"end\" x=\"134\" y=\"4.199999999999999\" transform=\"translate(0,235.38)\" style=\"font-family: 'Open Sans', verdana, arial, sans-serif; font-size: 12px; fill: rgb(42, 63, 95); fill-opacity: 1; white-space: pre; opacity: 1;\">Iran</text></g><g class=\"ytick\"><text text-anchor=\"end\" x=\"134\" y=\"4.199999999999999\" transform=\"translate(0,210.76999999999998)\" style=\"font-family: 'Open Sans', verdana, arial, sans-serif; font-size: 12px; fill: rgb(42, 63, 95); fill-opacity: 1; white-space: pre; opacity: 1;\">Italy</text></g><g class=\"ytick\"><text text-anchor=\"end\" x=\"134\" y=\"4.199999999999999\" transform=\"translate(0,186.15)\" style=\"font-family: 'Open Sans', verdana, arial, sans-serif; font-size: 12px; fill: rgb(42, 63, 95); fill-opacity: 1; white-space: pre; opacity: 1;\">Japan</text></g><g class=\"ytick\"><text text-anchor=\"end\" x=\"134\" y=\"4.199999999999999\" transform=\"translate(0,161.54)\" style=\"font-family: 'Open Sans', verdana, arial, sans-serif; font-size: 12px; fill: rgb(42, 63, 95); fill-opacity: 1; white-space: pre; opacity: 1;\">Macau</text></g><g class=\"ytick\"><text text-anchor=\"end\" x=\"134\" y=\"4.199999999999999\" transform=\"translate(0,136.92000000000002)\" style=\"font-family: 'Open Sans', verdana, arial, sans-serif; font-size: 12px; fill: rgb(42, 63, 95); fill-opacity: 1; white-space: pre; opacity: 1;\">Hong Kong</text></g><g class=\"ytick\"><text text-anchor=\"end\" x=\"134\" y=\"4.199999999999999\" transform=\"translate(0,112.31)\" style=\"font-family: 'Open Sans', verdana, arial, sans-serif; font-size: 12px; fill: rgb(42, 63, 95); fill-opacity: 1; white-space: pre; opacity: 1;\">China</text></g></g><g class=\"overaxes-above\"/></g></g><g class=\"polarlayer\"/><g class=\"smithlayer\"/><g class=\"ternarylayer\"/><g class=\"geolayer\"/><g class=\"funnelarealayer\"/><g class=\"pielayer\"/><g class=\"iciclelayer\"/><g class=\"treemaplayer\"/><g class=\"sunburstlayer\"/><g class=\"glimages\"/><defs id=\"topdefs-0cbc31\"><g class=\"clips\"/><clipPath id=\"legend0cbc31\"><rect width=\"142\" height=\"276\" x=\"0\" y=\"0\"/></clipPath></defs><g class=\"layer-above\"><g class=\"imagelayer\"/><g class=\"shapelayer\"/></g><g class=\"infolayer\"><g class=\"legend\" pointer-events=\"all\" transform=\"translate(546.06,100)\"><rect class=\"bg\" shape-rendering=\"crispEdges\" style=\"stroke: rgb(68, 68, 68); stroke-opacity: 1; fill: rgb(255, 255, 255); fill-opacity: 1; stroke-width: 0px;\" width=\"142\" height=\"276\" x=\"0\" y=\"0\"/><g class=\"scrollbox\" transform=\"\" clip-path=\"url(#legend0cbc31)\"><text class=\"legendtitletext\" text-anchor=\"start\" x=\"2\" y=\"18.2\" style=\"font-family: 'Open Sans', verdana, arial, sans-serif; font-size: 14px; fill: rgb(42, 63, 95); fill-opacity: 1; white-space: pre;\">Country of Origin</text><g class=\"groups\" transform=\"\"><g class=\"traces\" transform=\"translate(0,32.7)\" style=\"opacity: 1;\"><text class=\"legendtext\" text-anchor=\"start\" x=\"40\" y=\"4.680000000000001\" style=\"font-family: 'Open Sans', verdana, arial, sans-serif; font-size: 12px; fill: rgb(42, 63, 95); fill-opacity: 1; white-space: pre;\">China</text><g class=\"layers\" style=\"opacity: 1;\"><g class=\"legendfill\"/><g class=\"legendlines\"/><g class=\"legendsymbols\"><g class=\"legendpoints\"><path class=\"legendundefined\" d=\"M6,6H-6V-6H6Z\" transform=\"translate(20,0)\" style=\"stroke-width: 0.5px; fill: rgb(229, 134, 6); fill-opacity: 1; stroke: rgb(229, 236, 246); stroke-opacity: 1;\"/></g></g></g><rect class=\"legendtoggle\" x=\"0\" y=\"-9.5\" width=\"136.96875\" height=\"19\" style=\"fill: rgb(0, 0, 0); fill-opacity: 0;\"/></g></g><g class=\"groups\" transform=\"\"><g class=\"traces\" transform=\"translate(0,51.7)\" style=\"opacity: 1;\"><text class=\"legendtext\" text-anchor=\"start\" x=\"40\" y=\"4.680000000000001\" style=\"font-family: 'Open Sans', verdana, arial, sans-serif; font-size: 12px; fill: rgb(42, 63, 95); fill-opacity: 1; white-space: pre;\">Hong Kong</text><g class=\"layers\" style=\"opacity: 1;\"><g class=\"legendfill\"/><g class=\"legendlines\"/><g class=\"legendsymbols\"><g class=\"legendpoints\"><path class=\"legendundefined\" d=\"M6,6H-6V-6H6Z\" transform=\"translate(20,0)\" style=\"stroke-width: 0.5px; fill: rgb(93, 105, 177); fill-opacity: 1; stroke: rgb(229, 236, 246); stroke-opacity: 1;\"/></g></g></g><rect class=\"legendtoggle\" x=\"0\" y=\"-9.5\" width=\"136.96875\" height=\"19\" style=\"fill: rgb(0, 0, 0); fill-opacity: 0;\"/></g></g><g class=\"groups\" transform=\"\"><g class=\"traces\" transform=\"translate(0,70.7)\" style=\"opacity: 1;\"><text class=\"legendtext\" text-anchor=\"start\" x=\"40\" y=\"4.680000000000001\" style=\"font-family: 'Open Sans', verdana, arial, sans-serif; font-size: 12px; fill: rgb(42, 63, 95); fill-opacity: 1; white-space: pre;\">Macau</text><g class=\"layers\" style=\"opacity: 1;\"><g class=\"legendfill\"/><g class=\"legendlines\"/><g class=\"legendsymbols\"><g class=\"legendpoints\"><path class=\"legendundefined\" d=\"M6,6H-6V-6H6Z\" transform=\"translate(20,0)\" style=\"stroke-width: 0.5px; fill: rgb(82, 188, 163); fill-opacity: 1; stroke: rgb(229, 236, 246); stroke-opacity: 1;\"/></g></g></g><rect class=\"legendtoggle\" x=\"0\" y=\"-9.5\" width=\"136.96875\" height=\"19\" style=\"fill: rgb(0, 0, 0); fill-opacity: 0;\"/></g></g><g class=\"groups\" transform=\"\"><g class=\"traces\" transform=\"translate(0,89.7)\" style=\"opacity: 1;\"><text class=\"legendtext\" text-anchor=\"start\" x=\"40\" y=\"4.680000000000001\" style=\"font-family: 'Open Sans', verdana, arial, sans-serif; font-size: 12px; fill: rgb(42, 63, 95); fill-opacity: 1; white-space: pre;\">Japan</text><g class=\"layers\" style=\"opacity: 1;\"><g class=\"legendfill\"/><g class=\"legendlines\"/><g class=\"legendsymbols\"><g class=\"legendpoints\"><path class=\"legendundefined\" d=\"M6,6H-6V-6H6Z\" transform=\"translate(20,0)\" style=\"stroke-width: 0.5px; fill: rgb(153, 201, 69); fill-opacity: 1; stroke: rgb(229, 236, 246); stroke-opacity: 1;\"/></g></g></g><rect class=\"legendtoggle\" x=\"0\" y=\"-9.5\" width=\"136.96875\" height=\"19\" style=\"fill: rgb(0, 0, 0); fill-opacity: 0;\"/></g></g><g class=\"groups\" transform=\"\"><g class=\"traces\" transform=\"translate(0,108.7)\" style=\"opacity: 1;\"><text class=\"legendtext\" text-anchor=\"start\" x=\"40\" y=\"4.680000000000001\" style=\"font-family: 'Open Sans', verdana, arial, sans-serif; font-size: 12px; fill: rgb(42, 63, 95); fill-opacity: 1; white-space: pre;\">Italy</text><g class=\"layers\" style=\"opacity: 1;\"><g class=\"legendfill\"/><g class=\"legendlines\"/><g class=\"legendsymbols\"><g class=\"legendpoints\"><path class=\"legendundefined\" d=\"M6,6H-6V-6H6Z\" transform=\"translate(20,0)\" style=\"stroke-width: 0.5px; fill: rgb(204, 97, 176); fill-opacity: 1; stroke: rgb(229, 236, 246); stroke-opacity: 1;\"/></g></g></g><rect class=\"legendtoggle\" x=\"0\" y=\"-9.5\" width=\"136.96875\" height=\"19\" style=\"fill: rgb(0, 0, 0); fill-opacity: 0;\"/></g></g><g class=\"groups\" transform=\"\"><g class=\"traces\" transform=\"translate(0,127.7)\" style=\"opacity: 1;\"><text class=\"legendtext\" text-anchor=\"start\" x=\"40\" y=\"4.680000000000001\" style=\"font-family: 'Open Sans', verdana, arial, sans-serif; font-size: 12px; fill: rgb(42, 63, 95); fill-opacity: 1; white-space: pre;\">Iran</text><g class=\"layers\" style=\"opacity: 1;\"><g class=\"legendfill\"/><g class=\"legendlines\"/><g class=\"legendsymbols\"><g class=\"legendpoints\"><path class=\"legendundefined\" d=\"M6,6H-6V-6H6Z\" transform=\"translate(20,0)\" style=\"stroke-width: 0.5px; fill: rgb(36, 121, 108); fill-opacity: 1; stroke: rgb(229, 236, 246); stroke-opacity: 1;\"/></g></g></g><rect class=\"legendtoggle\" x=\"0\" y=\"-9.5\" width=\"136.96875\" height=\"19\" style=\"fill: rgb(0, 0, 0); fill-opacity: 0;\"/></g></g><g class=\"groups\" transform=\"\"><g class=\"traces\" transform=\"translate(0,146.7)\" style=\"opacity: 1;\"><text class=\"legendtext\" text-anchor=\"start\" x=\"40\" y=\"4.680000000000001\" style=\"font-family: 'Open Sans', verdana, arial, sans-serif; font-size: 12px; fill: rgb(42, 63, 95); fill-opacity: 1; white-space: pre;\">France</text><g class=\"layers\" style=\"opacity: 1;\"><g class=\"legendfill\"/><g class=\"legendlines\"/><g class=\"legendsymbols\"><g class=\"legendpoints\"><path class=\"legendundefined\" d=\"M6,6H-6V-6H6Z\" transform=\"translate(20,0)\" style=\"stroke-width: 0.5px; fill: rgb(218, 165, 27); fill-opacity: 1; stroke: rgb(229, 236, 246); stroke-opacity: 1;\"/></g></g></g><rect class=\"legendtoggle\" x=\"0\" y=\"-9.5\" width=\"136.96875\" height=\"19\" style=\"fill: rgb(0, 0, 0); fill-opacity: 0;\"/></g></g><g class=\"groups\" transform=\"\"><g class=\"traces\" transform=\"translate(0,165.7)\" style=\"opacity: 1;\"><text class=\"legendtext\" text-anchor=\"start\" x=\"40\" y=\"4.680000000000001\" style=\"font-family: 'Open Sans', verdana, arial, sans-serif; font-size: 12px; fill: rgb(42, 63, 95); fill-opacity: 1; white-space: pre;\">Germany</text><g class=\"layers\" style=\"opacity: 1;\"><g class=\"legendfill\"/><g class=\"legendlines\"/><g class=\"legendsymbols\"><g class=\"legendpoints\"><path class=\"legendundefined\" d=\"M6,6H-6V-6H6Z\" transform=\"translate(20,0)\" style=\"stroke-width: 0.5px; fill: rgb(47, 138, 196); fill-opacity: 1; stroke: rgb(229, 236, 246); stroke-opacity: 1;\"/></g></g></g><rect class=\"legendtoggle\" x=\"0\" y=\"-9.5\" width=\"136.96875\" height=\"19\" style=\"fill: rgb(0, 0, 0); fill-opacity: 0;\"/></g></g><g class=\"groups\" transform=\"\"><g class=\"traces\" transform=\"translate(0,184.7)\" style=\"opacity: 1;\"><text class=\"legendtext\" text-anchor=\"start\" x=\"40\" y=\"4.680000000000001\" style=\"font-family: 'Open Sans', verdana, arial, sans-serif; font-size: 12px; fill: rgb(42, 63, 95); fill-opacity: 1; white-space: pre;\">Spain</text><g class=\"layers\" style=\"opacity: 1;\"><g class=\"legendfill\"/><g class=\"legendlines\"/><g class=\"legendsymbols\"><g class=\"legendpoints\"><path class=\"legendundefined\" d=\"M6,6H-6V-6H6Z\" transform=\"translate(20,0)\" style=\"stroke-width: 0.5px; fill: rgb(118, 78, 159); fill-opacity: 1; stroke: rgb(229, 236, 246); stroke-opacity: 1;\"/></g></g></g><rect class=\"legendtoggle\" x=\"0\" y=\"-9.5\" width=\"136.96875\" height=\"19\" style=\"fill: rgb(0, 0, 0); fill-opacity: 0;\"/></g></g><g class=\"groups\" transform=\"\"><g class=\"traces\" transform=\"translate(0,203.7)\" style=\"opacity: 1;\"><text class=\"legendtext\" text-anchor=\"start\" x=\"40\" y=\"4.680000000000001\" style=\"font-family: 'Open Sans', verdana, arial, sans-serif; font-size: 12px; fill: rgb(42, 63, 95); fill-opacity: 1; white-space: pre;\">U.K.</text><g class=\"layers\" style=\"opacity: 1;\"><g class=\"legendfill\"/><g class=\"legendlines\"/><g class=\"legendsymbols\"><g class=\"legendpoints\"><path class=\"legendundefined\" d=\"M6,6H-6V-6H6Z\" transform=\"translate(20,0)\" style=\"stroke-width: 0.5px; fill: rgb(237, 100, 90); fill-opacity: 1; stroke: rgb(229, 236, 246); stroke-opacity: 1;\"/></g></g></g><rect class=\"legendtoggle\" x=\"0\" y=\"-9.5\" width=\"136.96875\" height=\"19\" style=\"fill: rgb(0, 0, 0); fill-opacity: 0;\"/></g></g><g class=\"groups\" transform=\"\"><g class=\"traces\" transform=\"translate(0,222.7)\" style=\"opacity: 1;\"><text class=\"legendtext\" text-anchor=\"start\" x=\"40\" y=\"4.680000000000001\" style=\"font-family: 'Open Sans', verdana, arial, sans-serif; font-size: 12px; fill: rgb(42, 63, 95); fill-opacity: 1; white-space: pre;\">Netherlands</text><g class=\"layers\" style=\"opacity: 1;\"><g class=\"legendfill\"/><g class=\"legendlines\"/><g class=\"legendsymbols\"><g class=\"legendpoints\"><path class=\"legendundefined\" d=\"M6,6H-6V-6H6Z\" transform=\"translate(20,0)\" style=\"stroke-width: 0.5px; fill: rgb(165, 170, 153); fill-opacity: 1; stroke: rgb(229, 236, 246); stroke-opacity: 1;\"/></g></g></g><rect class=\"legendtoggle\" x=\"0\" y=\"-9.5\" width=\"136.96875\" height=\"19\" style=\"fill: rgb(0, 0, 0); fill-opacity: 0;\"/></g></g><g class=\"groups\" transform=\"\"><g class=\"traces\" transform=\"translate(0,241.7)\" style=\"opacity: 1;\"><text class=\"legendtext\" text-anchor=\"start\" x=\"40\" y=\"4.680000000000001\" style=\"font-family: 'Open Sans', verdana, arial, sans-serif; font-size: 12px; fill: rgb(42, 63, 95); fill-opacity: 1; white-space: pre;\">Europe</text><g class=\"layers\" style=\"opacity: 1;\"><g class=\"legendfill\"/><g class=\"legendlines\"/><g class=\"legendsymbols\"><g class=\"legendpoints\"><path class=\"legendundefined\" d=\"M6,6H-6V-6H6Z\" transform=\"translate(20,0)\" style=\"stroke-width: 0.5px; fill: rgb(229, 134, 6); fill-opacity: 1; stroke: rgb(229, 236, 246); stroke-opacity: 1;\"/></g></g></g><rect class=\"legendtoggle\" x=\"0\" y=\"-9.5\" width=\"136.96875\" height=\"19\" style=\"fill: rgb(0, 0, 0); fill-opacity: 0;\"/></g></g><g class=\"groups\" transform=\"\"><g class=\"traces\" transform=\"translate(0,260.7)\" style=\"opacity: 1;\"><text class=\"legendtext\" text-anchor=\"start\" x=\"40\" y=\"4.680000000000001\" style=\"font-family: 'Open Sans', verdana, arial, sans-serif; font-size: 12px; fill: rgb(42, 63, 95); fill-opacity: 1; white-space: pre;\">all the countries</text><g class=\"layers\" style=\"opacity: 1;\"><g class=\"legendfill\"/><g class=\"legendlines\"/><g class=\"legendsymbols\"><g class=\"legendpoints\"><path class=\"legendundefined\" d=\"M6,6H-6V-6H6Z\" transform=\"translate(20,0)\" style=\"stroke-width: 0.5px; fill: rgb(93, 105, 177); fill-opacity: 1; stroke: rgb(229, 236, 246); stroke-opacity: 1;\"/></g></g></g><rect class=\"legendtoggle\" x=\"0\" y=\"-9.5\" width=\"136.96875\" height=\"19\" style=\"fill: rgb(0, 0, 0); fill-opacity: 0;\"/></g></g></g><rect class=\"scrollbar\" rx=\"20\" ry=\"3\" width=\"0\" height=\"0\" style=\"fill: rgb(128, 139, 164); fill-opacity: 1;\" x=\"0\" y=\"0\"/></g><g class=\"g-gtitle\"><text class=\"gtitle\" x=\"35\" y=\"50\" text-anchor=\"start\" dy=\"0em\" style=\"font-family: 'Open Sans', verdana, arial, sans-serif; font-size: 17px; fill: rgb(42, 63, 95); opacity: 1; font-weight: normal; white-space: pre;\">COVID-19 Special Immigration Procedures by Start Date</text></g><g class=\"g-xtitle\"/><g class=\"g-ytitle\" transform=\"translate(1.2685546875,0)\"><text class=\"ytitle\" transform=\"rotate(-90,12.731250000000003,260)\" x=\"12.731250000000003\" y=\"260\" text-anchor=\"middle\" style=\"font-family: 'Open Sans', verdana, arial, sans-serif; font-size: 14px; fill: rgb(42, 63, 95); opacity: 1; font-weight: normal; white-space: pre;\">Country of Origin</text></g></g></svg>"
      ]
     },
     "metadata": {},
     "output_type": "display_data"
    },
    {
     "data": {
      "text/html": [
       "<div>\n",
       "<style scoped>\n",
       "    .dataframe tbody tr th:only-of-type {\n",
       "        vertical-align: middle;\n",
       "    }\n",
       "\n",
       "    .dataframe tbody tr th {\n",
       "        vertical-align: top;\n",
       "    }\n",
       "\n",
       "    .dataframe thead th {\n",
       "        text-align: right;\n",
       "    }\n",
       "</style>\n",
       "<table border=\"1\" class=\"dataframe\">\n",
       "  <thead>\n",
       "    <tr style=\"text-align: right;\">\n",
       "      <th></th>\n",
       "      <th>policy_id</th>\n",
       "      <th>country</th>\n",
       "      <th>type</th>\n",
       "      <th>gov_policy</th>\n",
       "      <th>country of origin</th>\n",
       "      <th>start_date</th>\n",
       "      <th>end_date</th>\n",
       "    </tr>\n",
       "  </thead>\n",
       "  <tbody>\n",
       "    <tr>\n",
       "      <th>4</th>\n",
       "      <td>5</td>\n",
       "      <td>Korea</td>\n",
       "      <td>Immigration</td>\n",
       "      <td>Special Immigration Procedure</td>\n",
       "      <td>China</td>\n",
       "      <td>2020-02-04</td>\n",
       "      <td>2020-06-30</td>\n",
       "    </tr>\n",
       "    <tr>\n",
       "      <th>5</th>\n",
       "      <td>6</td>\n",
       "      <td>Korea</td>\n",
       "      <td>Immigration</td>\n",
       "      <td>Special Immigration Procedure</td>\n",
       "      <td>Hong Kong</td>\n",
       "      <td>2020-02-12</td>\n",
       "      <td>2020-06-30</td>\n",
       "    </tr>\n",
       "    <tr>\n",
       "      <th>6</th>\n",
       "      <td>7</td>\n",
       "      <td>Korea</td>\n",
       "      <td>Immigration</td>\n",
       "      <td>Special Immigration Procedure</td>\n",
       "      <td>Macau</td>\n",
       "      <td>2020-02-12</td>\n",
       "      <td>2020-06-30</td>\n",
       "    </tr>\n",
       "    <tr>\n",
       "      <th>7</th>\n",
       "      <td>8</td>\n",
       "      <td>Korea</td>\n",
       "      <td>Immigration</td>\n",
       "      <td>Special Immigration Procedure</td>\n",
       "      <td>Japan</td>\n",
       "      <td>2020-03-09</td>\n",
       "      <td>2020-06-30</td>\n",
       "    </tr>\n",
       "    <tr>\n",
       "      <th>8</th>\n",
       "      <td>9</td>\n",
       "      <td>Korea</td>\n",
       "      <td>Immigration</td>\n",
       "      <td>Special Immigration Procedure</td>\n",
       "      <td>Italy</td>\n",
       "      <td>2020-03-12</td>\n",
       "      <td>2020-06-30</td>\n",
       "    </tr>\n",
       "    <tr>\n",
       "      <th>9</th>\n",
       "      <td>10</td>\n",
       "      <td>Korea</td>\n",
       "      <td>Immigration</td>\n",
       "      <td>Special Immigration Procedure</td>\n",
       "      <td>Iran</td>\n",
       "      <td>2020-03-12</td>\n",
       "      <td>2020-06-30</td>\n",
       "    </tr>\n",
       "    <tr>\n",
       "      <th>10</th>\n",
       "      <td>11</td>\n",
       "      <td>Korea</td>\n",
       "      <td>Immigration</td>\n",
       "      <td>Special Immigration Procedure</td>\n",
       "      <td>France</td>\n",
       "      <td>2020-03-15</td>\n",
       "      <td>2020-06-30</td>\n",
       "    </tr>\n",
       "    <tr>\n",
       "      <th>11</th>\n",
       "      <td>12</td>\n",
       "      <td>Korea</td>\n",
       "      <td>Immigration</td>\n",
       "      <td>Special Immigration Procedure</td>\n",
       "      <td>Germany</td>\n",
       "      <td>2020-03-15</td>\n",
       "      <td>2020-06-30</td>\n",
       "    </tr>\n",
       "    <tr>\n",
       "      <th>12</th>\n",
       "      <td>13</td>\n",
       "      <td>Korea</td>\n",
       "      <td>Immigration</td>\n",
       "      <td>Special Immigration Procedure</td>\n",
       "      <td>Spain</td>\n",
       "      <td>2020-03-15</td>\n",
       "      <td>2020-06-30</td>\n",
       "    </tr>\n",
       "    <tr>\n",
       "      <th>13</th>\n",
       "      <td>14</td>\n",
       "      <td>Korea</td>\n",
       "      <td>Immigration</td>\n",
       "      <td>Special Immigration Procedure</td>\n",
       "      <td>U.K.</td>\n",
       "      <td>2020-03-15</td>\n",
       "      <td>2020-06-30</td>\n",
       "    </tr>\n",
       "    <tr>\n",
       "      <th>14</th>\n",
       "      <td>15</td>\n",
       "      <td>Korea</td>\n",
       "      <td>Immigration</td>\n",
       "      <td>Special Immigration Procedure</td>\n",
       "      <td>Netherlands</td>\n",
       "      <td>2020-03-15</td>\n",
       "      <td>2020-06-30</td>\n",
       "    </tr>\n",
       "    <tr>\n",
       "      <th>15</th>\n",
       "      <td>16</td>\n",
       "      <td>Korea</td>\n",
       "      <td>Immigration</td>\n",
       "      <td>Special Immigration Procedure</td>\n",
       "      <td>Europe</td>\n",
       "      <td>2020-03-16</td>\n",
       "      <td>2020-06-30</td>\n",
       "    </tr>\n",
       "    <tr>\n",
       "      <th>16</th>\n",
       "      <td>17</td>\n",
       "      <td>Korea</td>\n",
       "      <td>Immigration</td>\n",
       "      <td>Special Immigration Procedure</td>\n",
       "      <td>all the countries</td>\n",
       "      <td>2020-03-19</td>\n",
       "      <td>2020-06-30</td>\n",
       "    </tr>\n",
       "  </tbody>\n",
       "</table>\n",
       "</div>"
      ],
      "text/plain": [
       "    policy_id country         type                     gov_policy  \\\n",
       "4           5   Korea  Immigration  Special Immigration Procedure   \n",
       "5           6   Korea  Immigration  Special Immigration Procedure   \n",
       "6           7   Korea  Immigration  Special Immigration Procedure   \n",
       "7           8   Korea  Immigration  Special Immigration Procedure   \n",
       "8           9   Korea  Immigration  Special Immigration Procedure   \n",
       "9          10   Korea  Immigration  Special Immigration Procedure   \n",
       "10         11   Korea  Immigration  Special Immigration Procedure   \n",
       "11         12   Korea  Immigration  Special Immigration Procedure   \n",
       "12         13   Korea  Immigration  Special Immigration Procedure   \n",
       "13         14   Korea  Immigration  Special Immigration Procedure   \n",
       "14         15   Korea  Immigration  Special Immigration Procedure   \n",
       "15         16   Korea  Immigration  Special Immigration Procedure   \n",
       "16         17   Korea  Immigration  Special Immigration Procedure   \n",
       "\n",
       "    country of origin  start_date   end_date  \n",
       "4               China  2020-02-04 2020-06-30  \n",
       "5           Hong Kong  2020-02-12 2020-06-30  \n",
       "6               Macau  2020-02-12 2020-06-30  \n",
       "7               Japan  2020-03-09 2020-06-30  \n",
       "8               Italy  2020-03-12 2020-06-30  \n",
       "9                Iran  2020-03-12 2020-06-30  \n",
       "10             France  2020-03-15 2020-06-30  \n",
       "11            Germany  2020-03-15 2020-06-30  \n",
       "12              Spain  2020-03-15 2020-06-30  \n",
       "13               U.K.  2020-03-15 2020-06-30  \n",
       "14        Netherlands  2020-03-15 2020-06-30  \n",
       "15             Europe  2020-03-16 2020-06-30  \n",
       "16  all the countries  2020-03-19 2020-06-30  "
      ]
     },
     "execution_count": 44,
     "metadata": {},
     "output_type": "execute_result"
    }
   ],
   "source": [
    "# Isolate infection_case='overseas inflow'\n",
    "inflows_df = patient_info_df.loc[patient_info_df[\"infection_case\"] == \"overseas inflow\"]\n",
    "\n",
    "# Group international inflow cases per day\n",
    "inflow_cases_df = (\n",
    "    inflows_df[[\"patient_id\", \"confirmed_date\"]]\n",
    "    .groupby([\"confirmed_date\"])\n",
    "    .count()\n",
    "    .sort_values(by=[\"confirmed_date\"])\n",
    ")\n",
    "\n",
    "# Isolate the list of immigration controls and their start dates\n",
    "immigration_procedures_df = policy_df.loc[\n",
    "    policy_df.gov_policy == \"Special Immigration Procedure\"\n",
    "]\n",
    "\n",
    "# Impute patient_info_df.max() as the end date for these immigration controls\n",
    "immigration_procedures_df.end_date = inflow_cases_df.index.max()\n",
    "\n",
    "# Modify the detail column to read more clearly\n",
    "immigration_procedures_df.detail = immigration_procedures_df.detail.map(lambda x: x[5:])\n",
    "immigration_procedures_df.rename(columns={\"detail\": \"country of origin\"}, inplace=True)\n",
    "\n",
    "# Plot cases by date\n",
    "fig = px.line(\n",
    "    inflow_cases_df,\n",
    "    x=inflow_cases_df.index,\n",
    "    y=\"patient_id\",\n",
    "    title=\"International inflow covid cases by day\",\n",
    "    labels={\"confirmed_date\": \"Date\", \"patient_id\": \"Covid cases\"},\n",
    ")\n",
    "fig.show('svg')\n",
    "\n",
    "# Plot Special immigration procedures by start date\n",
    "fig2 = px.timeline(\n",
    "    immigration_procedures_df,\n",
    "    x_start=\"start_date\",\n",
    "    x_end=\"end_date\",\n",
    "    y=\"country of origin\",\n",
    "    color_discrete_sequence=px.colors.qualitative.Vivid,\n",
    "    color=\"country of origin\",\n",
    "    title=\"COVID-19 Special Immigration Procedures by Start Date\",\n",
    "    hover_data=[\"country of origin\"],\n",
    "    labels={\n",
    "        \"start_date\": \"Policy Start Date\",\n",
    "        \"end_date\": \"End Date\",\n",
    "        \"country of origin\": \"Country of Origin\",\n",
    "    },\n",
    ")\n",
    "\n",
    "fig2.show('svg')\n",
    "\n",
    "# Show special immigration procedures df for reference\n",
    "immigration_procedures_df"
   ]
  },
  {
   "cell_type": "markdown",
   "id": "0a07501e",
   "metadata": {},
   "source": [
    "This graph follows the same shape as our previous graphs of the overall case pool, from the immigration_procedures_df table we see that \"special immigration procedures\" i.e. quarantine policies for international travelers were enacted starting on Feb 2nd, expanding to all countries by Mar 19th. This predates the our huge spike in cases at the end of March. International cases crested on March 28 (9 days after the all-country-controls policy was launched), with a steep decline after, which suggests that in the medium term, these special immigration procedures had a positive effect in minimizing the number of cases from international inflows into the country. \n",
    "\n"
   ]
  },
  {
   "cell_type": "markdown",
   "id": "6e257a8d",
   "metadata": {},
   "source": [
    "## Policy effects "
   ]
  },
  {
   "cell_type": "markdown",
   "id": "37eb6805",
   "metadata": {},
   "source": [
    "We'll first segment policies into timebound policies and stacked policies, which have no recorded end date in this dataset. From there, we'll create timelines of the policies and graph them alongside the patient counts for the country."
   ]
  },
  {
   "cell_type": "code",
   "execution_count": 14,
   "id": "46a035eb",
   "metadata": {},
   "outputs": [],
   "source": [
    "# Create a dataframe of policies with both a start and end date\n",
    "time_bound_policies_df = policy_df.dropna(subset=[\"start_date\", \"end_date\"])\n",
    "\n",
    "# Create a dataframe of policies without end dates and\n",
    "# impute the last patient release date from patient_info to \"cap\" data reasonably\n",
    "stacked_policies_df = policy_df.drop(index=time_bound_policies_df.index)\n",
    "stacked_policies_df.end_date = pd.to_datetime(patient_info_df.released_date).max()"
   ]
  },
  {
   "cell_type": "markdown",
   "id": "5dcef965",
   "metadata": {},
   "source": [
    "To create an ending point for the stacked_policies dataframe, I used the latest patient release date to give all datapoints a non-null end-date that makes sense for our dataset. This slight modification will make our timelines below computable. "
   ]
  },
  {
   "cell_type": "code",
   "execution_count": 45,
   "id": "879dacb0",
   "metadata": {},
   "outputs": [
    {
     "data": {
      "image/svg+xml": [
       "<svg class=\"main-svg\" xmlns=\"http://www.w3.org/2000/svg\" xmlns:xlink=\"http://www.w3.org/1999/xlink\" width=\"700\" height=\"500\" style=\"\" viewBox=\"0 0 700 500\"><rect x=\"0\" y=\"0\" width=\"700\" height=\"500\" style=\"fill: rgb(255, 255, 255); fill-opacity: 1;\"/><defs id=\"defs-4377d0\"><g class=\"clips\"><clipPath id=\"clip4377d0xyplot\" class=\"plotclip\"><rect width=\"260\" height=\"320\"/></clipPath><clipPath class=\"axesclip\" id=\"clip4377d0x\"><rect x=\"286\" y=\"0\" width=\"260\" height=\"500\"/></clipPath><clipPath class=\"axesclip\" id=\"clip4377d0y\"><rect x=\"0\" y=\"100\" width=\"700\" height=\"320\"/></clipPath><clipPath class=\"axesclip\" id=\"clip4377d0xy\"><rect x=\"286\" y=\"100\" width=\"260\" height=\"320\"/></clipPath></g><g class=\"gradients\"/><g class=\"patterns\"/></defs><g class=\"bglayer\"><rect class=\"bg\" x=\"286\" y=\"100\" width=\"260\" height=\"320\" style=\"fill: rgb(229, 236, 246); fill-opacity: 1; stroke-width: 0;\"/></g><g class=\"layer-below\"><g class=\"imagelayer\"/><g class=\"shapelayer\"/></g><g class=\"cartesianlayer\"><g class=\"subplot xy\"><g class=\"layer-subplot\"><g class=\"shapelayer\"/><g class=\"imagelayer\"/></g><g class=\"minor-gridlayer\"><g class=\"x\"/><g class=\"y\"/></g><g class=\"gridlayer\"><g class=\"x\"><path class=\"xgrid crisp\" transform=\"translate(296.13,0)\" d=\"M0,100v320\" style=\"stroke: rgb(255, 255, 255); stroke-opacity: 1; stroke-width: 1px;\"/><path class=\"xgrid crisp\" transform=\"translate(382.26,0)\" d=\"M0,100v320\" style=\"stroke: rgb(255, 255, 255); stroke-opacity: 1; stroke-width: 1px;\"/><path class=\"xgrid crisp\" transform=\"translate(469.83000000000004,0)\" d=\"M0,100v320\" style=\"stroke: rgb(255, 255, 255); stroke-opacity: 1; stroke-width: 1px;\"/></g><g class=\"y\"/></g><g class=\"zerolinelayer\"/><path class=\"xlines-below\"/><path class=\"ylines-below\"/><g class=\"overlines-below\"/><g class=\"xaxislayer-below\"/><g class=\"yaxislayer-below\"/><g class=\"overaxes-below\"/><g class=\"plot\" transform=\"translate(286,100)\" clip-path=\"url(#clip4377d0xyplot)\"><g class=\"barlayer mlayer\"><g class=\"trace bars\" style=\"opacity: 1;\"><g class=\"points\"><g class=\"point\"><path d=\"M13,4V36H35.97V4Z\" style=\"vector-effect: none; opacity: 1; stroke-width: 0.5px; fill: rgb(31, 119, 180); fill-opacity: 1; stroke: rgb(229, 236, 246); stroke-opacity: 1;\"/></g><g class=\"point\"><path d=\"M37.4,4V36H47.45V4Z\" style=\"vector-effect: none; opacity: 1; stroke-width: 0.5px; fill: rgb(31, 119, 180); fill-opacity: 1; stroke: rgb(229, 236, 246); stroke-opacity: 1;\"/></g><g class=\"point\"><path d=\"M48.89,4V36H84.78V4Z\" style=\"vector-effect: none; opacity: 1; stroke-width: 0.5px; fill: rgb(31, 119, 180); fill-opacity: 1; stroke: rgb(229, 236, 246); stroke-opacity: 1;\"/></g></g></g><g class=\"trace bars\" style=\"opacity: 1;\"><g class=\"points\"><g class=\"point\"><path d=\"M94.83,44V76H124.98V44Z\" style=\"vector-effect: none; opacity: 1; stroke-width: 0.5px; fill: rgb(255, 127, 14); fill-opacity: 1; stroke: rgb(229, 236, 246); stroke-opacity: 1;\"/></g><g class=\"point\"><path d=\"M126.41,44V76H166.61V44Z\" style=\"vector-effect: none; opacity: 1; stroke-width: 0.5px; fill: rgb(255, 127, 14); fill-opacity: 1; stroke: rgb(229, 236, 246); stroke-opacity: 1;\"/></g><g class=\"point\"><path d=\"M168.04,44V76H189.58V44Z\" style=\"vector-effect: none; opacity: 1; stroke-width: 0.5px; fill: rgb(255, 127, 14); fill-opacity: 1; stroke: rgb(229, 236, 246); stroke-opacity: 1;\"/></g></g></g><g class=\"trace bars\" style=\"opacity: 1;\"><g class=\"points\"><g class=\"point\"><path d=\"M97.7,84V116H147.94V84Z\" style=\"vector-effect: none; opacity: 1; stroke-width: 0.5px; fill: rgb(44, 160, 44); fill-opacity: 1; stroke: rgb(229, 236, 246); stroke-opacity: 1;\"/></g><g class=\"point\"><path d=\"M97.7,84V116H147.94V84Z\" style=\"vector-effect: none; opacity: 1; stroke-width: 0.5px; fill: rgb(44, 160, 44); fill-opacity: 1; stroke: rgb(229, 236, 246); stroke-opacity: 1;\"/></g><g class=\"point\"><path d=\"M97.7,84V116H147.94V84Z\" style=\"vector-effect: none; opacity: 1; stroke-width: 0.5px; fill: rgb(44, 160, 44); fill-opacity: 1; stroke: rgb(229, 236, 246); stroke-opacity: 1;\"/></g><g class=\"point\"><path d=\"M97.7,84V116H147.94V84Z\" style=\"vector-effect: none; opacity: 1; stroke-width: 0.5px; fill: rgb(44, 160, 44); fill-opacity: 1; stroke: rgb(229, 236, 246); stroke-opacity: 1;\"/></g><g class=\"point\"><path d=\"M152.25,124V156H211.11V124Z\" style=\"vector-effect: none; opacity: 1; stroke-width: 0.5px; fill: rgb(44, 160, 44); fill-opacity: 1; stroke: rgb(229, 236, 246); stroke-opacity: 1;\"/></g><g class=\"point\"><path d=\"M162.3,124V156H221.16V124Z\" style=\"vector-effect: none; opacity: 1; stroke-width: 0.5px; fill: rgb(44, 160, 44); fill-opacity: 1; stroke: rgb(229, 236, 246); stroke-opacity: 1;\"/></g><g class=\"point\"><path d=\"M162.3,124V156H231.21V124Z\" style=\"vector-effect: none; opacity: 1; stroke-width: 0.5px; fill: rgb(44, 160, 44); fill-opacity: 1; stroke: rgb(229, 236, 246); stroke-opacity: 1;\"/></g><g class=\"point\"><path d=\"M152.25,124V156H221.16V124Z\" style=\"vector-effect: none; opacity: 1; stroke-width: 0.5px; fill: rgb(44, 160, 44); fill-opacity: 1; stroke: rgb(229, 236, 246); stroke-opacity: 1;\"/></g><g class=\"point\"><path d=\"M162.3,124V156H231.21V124Z\" style=\"vector-effect: none; opacity: 1; stroke-width: 0.5px; fill: rgb(44, 160, 44); fill-opacity: 1; stroke: rgb(229, 236, 246); stroke-opacity: 1;\"/></g><g class=\"point\"><path d=\"M162.3,124V156H238.39V124Z\" style=\"vector-effect: none; opacity: 1; stroke-width: 0.5px; fill: rgb(44, 160, 44); fill-opacity: 1; stroke: rgb(229, 236, 246); stroke-opacity: 1;\"/></g><g class=\"point\"><path d=\"M162.3,124V156H238.39V124Z\" style=\"vector-effect: none; opacity: 1; stroke-width: 0.5px; fill: rgb(44, 160, 44); fill-opacity: 1; stroke: rgb(229, 236, 246); stroke-opacity: 1;\"/></g><g class=\"point\"><path d=\"M162.3,124V156H231.21V124Z\" style=\"vector-effect: none; opacity: 1; stroke-width: 0.5px; fill: rgb(44, 160, 44); fill-opacity: 1; stroke: rgb(229, 236, 246); stroke-opacity: 1;\"/></g><g class=\"point\"><path d=\"M168.04,124V156H231.21V124Z\" style=\"vector-effect: none; opacity: 1; stroke-width: 0.5px; fill: rgb(44, 160, 44); fill-opacity: 1; stroke: rgb(229, 236, 246); stroke-opacity: 1;\"/></g><g class=\"point\"><path d=\"M168.04,124V156H221.16V124Z\" style=\"vector-effect: none; opacity: 1; stroke-width: 0.5px; fill: rgb(44, 160, 44); fill-opacity: 1; stroke: rgb(229, 236, 246); stroke-opacity: 1;\"/></g></g></g><g class=\"trace bars\" style=\"opacity: 1;\"><g class=\"points\"><g class=\"point\"><path d=\"M193.88,164V196H236.95V164Z\" style=\"vector-effect: none; opacity: 1; stroke-width: 0.5px; fill: rgb(214, 39, 40); fill-opacity: 1; stroke: rgb(229, 236, 246); stroke-opacity: 1;\"/></g><g class=\"point\"><path d=\"M212.55,204V236H231.21V204Z\" style=\"vector-effect: none; opacity: 1; stroke-width: 0.5px; fill: rgb(214, 39, 40); fill-opacity: 1; stroke: rgb(229, 236, 246); stroke-opacity: 1;\"/></g></g></g><g class=\"trace bars\" style=\"opacity: 1;\"><g class=\"points\"><g class=\"point\"><path d=\"M224.03,244V276H242.69V244Z\" style=\"vector-effect: none; opacity: 1; stroke-width: 0.5px; fill: rgb(148, 103, 189); fill-opacity: 1; stroke: rgb(229, 236, 246); stroke-opacity: 1;\"/></g></g></g><g class=\"trace bars\" style=\"opacity: 1;\"><g class=\"points\"><g class=\"point\"><path d=\"M222.6,284V316H247V284Z\" style=\"vector-effect: none; opacity: 1; stroke-width: 0.5px; fill: rgb(140, 86, 75); fill-opacity: 1; stroke: rgb(229, 236, 246); stroke-opacity: 1;\"/></g></g></g></g></g><g class=\"overplot\"/><path class=\"xlines-above crisp\" d=\"M0,0\" style=\"fill: none;\"/><path class=\"ylines-above crisp\" d=\"M0,0\" style=\"fill: none;\"/><g class=\"overlines-above\"/><g class=\"xaxislayer-above\"><g class=\"xtick\"><text text-anchor=\"middle\" x=\"0\" y=\"433\" transform=\"translate(296.13,0)\" style=\"font-family: 'Open Sans', verdana, arial, sans-serif; font-size: 12px; fill: rgb(42, 63, 95); fill-opacity: 1; white-space: pre; opacity: 1;\">Jan 2020</text></g><g class=\"xtick\"><text text-anchor=\"middle\" x=\"0\" y=\"433\" style=\"font-family: 'Open Sans', verdana, arial, sans-serif; font-size: 12px; fill: rgb(42, 63, 95); fill-opacity: 1; white-space: pre; opacity: 1;\" transform=\"translate(382.26,0)\">Mar 2020</text></g><g class=\"xtick\"><text text-anchor=\"middle\" x=\"0\" y=\"433\" style=\"font-family: 'Open Sans', verdana, arial, sans-serif; font-size: 12px; fill: rgb(42, 63, 95); fill-opacity: 1; white-space: pre; opacity: 1;\" transform=\"translate(469.83000000000004,0)\">May 2020</text></g></g><g class=\"yaxislayer-above\"><g class=\"ytick\"><text text-anchor=\"end\" x=\"285\" y=\"4.199999999999999\" transform=\"translate(0,400)\" style=\"font-family: 'Open Sans', verdana, arial, sans-serif; font-size: 12px; fill: rgb(42, 63, 95); fill-opacity: 1; white-space: pre; opacity: 1;\">Extends Tightened Quarantine Measures </text></g><g class=\"ytick\"><text text-anchor=\"end\" x=\"285\" y=\"4.199999999999999\" transform=\"translate(0,360)\" style=\"font-family: 'Open Sans', verdana, arial, sans-serif; font-size: 12px; fill: rgb(42, 63, 95); fill-opacity: 1; white-space: pre; opacity: 1;\">Logistics center</text></g><g class=\"ytick\"><text text-anchor=\"end\" x=\"285\" y=\"4.199999999999999\" transform=\"translate(0,320)\" style=\"font-family: 'Open Sans', verdana, arial, sans-serif; font-size: 12px; fill: rgb(42, 63, 95); fill-opacity: 1; white-space: pre; opacity: 1;\">Close karaoke</text></g><g class=\"ytick\"><text text-anchor=\"end\" x=\"285\" y=\"4.199999999999999\" transform=\"translate(0,280)\" style=\"font-family: 'Open Sans', verdana, arial, sans-serif; font-size: 12px; fill: rgb(42, 63, 95); fill-opacity: 1; white-space: pre; opacity: 1;\">Close bars and clubs</text></g><g class=\"ytick\"><text text-anchor=\"end\" x=\"285\" y=\"4.199999999999999\" transform=\"translate(0,240)\" style=\"font-family: 'Open Sans', verdana, arial, sans-serif; font-size: 12px; fill: rgb(42, 63, 95); fill-opacity: 1; white-space: pre; opacity: 1;\">School Opening with Online Class</text></g><g class=\"ytick\"><text text-anchor=\"end\" x=\"285\" y=\"4.199999999999999\" transform=\"translate(0,200)\" style=\"font-family: 'Open Sans', verdana, arial, sans-serif; font-size: 12px; fill: rgb(42, 63, 95); fill-opacity: 1; white-space: pre; opacity: 1;\">School Opening Delay</text></g><g class=\"ytick\"><text text-anchor=\"end\" x=\"285\" y=\"4.199999999999999\" transform=\"translate(0,160)\" style=\"font-family: 'Open Sans', verdana, arial, sans-serif; font-size: 12px; fill: rgb(42, 63, 95); fill-opacity: 1; white-space: pre; opacity: 1;\">Social Distancing Campaign</text></g><g class=\"ytick\"><text text-anchor=\"end\" x=\"285\" y=\"4.199999999999999\" transform=\"translate(0,120)\" style=\"font-family: 'Open Sans', verdana, arial, sans-serif; font-size: 12px; fill: rgb(42, 63, 95); fill-opacity: 1; white-space: pre; opacity: 1;\">Infectious Disease Alert Level</text></g></g><g class=\"overaxes-above\"/></g></g><g class=\"polarlayer\"/><g class=\"smithlayer\"/><g class=\"ternarylayer\"/><g class=\"geolayer\"/><g class=\"funnelarealayer\"/><g class=\"pielayer\"/><g class=\"iciclelayer\"/><g class=\"treemaplayer\"/><g class=\"sunburstlayer\"/><g class=\"glimages\"/><defs id=\"topdefs-4377d0\"><g class=\"clips\"/><clipPath id=\"legend4377d0\"><rect width=\"137\" height=\"143\" x=\"0\" y=\"0\"/></clipPath></defs><g class=\"layer-above\"><g class=\"imagelayer\"/><g class=\"shapelayer\"/></g><g class=\"infolayer\"><g class=\"legend\" pointer-events=\"all\" transform=\"translate(551.2,100)\"><rect class=\"bg\" shape-rendering=\"crispEdges\" style=\"stroke: rgb(68, 68, 68); stroke-opacity: 1; fill: rgb(255, 255, 255); fill-opacity: 1; stroke-width: 0px;\" width=\"137\" height=\"143\" x=\"0\" y=\"0\"/><g class=\"scrollbox\" transform=\"\" clip-path=\"url(#legend4377d0)\"><text class=\"legendtitletext\" text-anchor=\"start\" x=\"2\" y=\"18.2\" style=\"font-family: 'Open Sans', verdana, arial, sans-serif; font-size: 14px; fill: rgb(42, 63, 95); fill-opacity: 1; white-space: pre;\">Policy</text><g class=\"groups\" transform=\"\"><g class=\"traces\" transform=\"translate(0,32.7)\" style=\"opacity: 1;\"><text class=\"legendtext\" text-anchor=\"start\" x=\"40\" y=\"4.680000000000001\" style=\"font-family: 'Open Sans', verdana, arial, sans-serif; font-size: 12px; fill: rgb(42, 63, 95); fill-opacity: 1; white-space: pre;\">Alert</text><g class=\"layers\" style=\"opacity: 1;\"><g class=\"legendfill\"/><g class=\"legendlines\"/><g class=\"legendsymbols\"><g class=\"legendpoints\"><path class=\"legendundefined\" d=\"M6,6H-6V-6H6Z\" transform=\"translate(20,0)\" style=\"stroke-width: 0.5px; fill: rgb(31, 119, 180); fill-opacity: 1; stroke: rgb(229, 236, 246); stroke-opacity: 1;\"/></g></g></g><rect class=\"legendtoggle\" x=\"0\" y=\"-9.5\" width=\"131.96875\" height=\"19\" style=\"fill: rgb(0, 0, 0); fill-opacity: 0;\"/></g></g><g class=\"groups\" transform=\"\"><g class=\"traces\" transform=\"translate(0,51.7)\" style=\"opacity: 1;\"><text class=\"legendtext\" text-anchor=\"start\" x=\"40\" y=\"4.680000000000001\" style=\"font-family: 'Open Sans', verdana, arial, sans-serif; font-size: 12px; fill: rgb(42, 63, 95); fill-opacity: 1; white-space: pre;\">Social</text><g class=\"layers\" style=\"opacity: 1;\"><g class=\"legendfill\"/><g class=\"legendlines\"/><g class=\"legendsymbols\"><g class=\"legendpoints\"><path class=\"legendundefined\" d=\"M6,6H-6V-6H6Z\" transform=\"translate(20,0)\" style=\"stroke-width: 0.5px; fill: rgb(255, 127, 14); fill-opacity: 1; stroke: rgb(229, 236, 246); stroke-opacity: 1;\"/></g></g></g><rect class=\"legendtoggle\" x=\"0\" y=\"-9.5\" width=\"131.96875\" height=\"19\" style=\"fill: rgb(0, 0, 0); fill-opacity: 0;\"/></g></g><g class=\"groups\" transform=\"\"><g class=\"traces\" transform=\"translate(0,70.7)\" style=\"opacity: 1;\"><text class=\"legendtext\" text-anchor=\"start\" x=\"40\" y=\"4.680000000000001\" style=\"font-family: 'Open Sans', verdana, arial, sans-serif; font-size: 12px; fill: rgb(42, 63, 95); fill-opacity: 1; white-space: pre;\">Education</text><g class=\"layers\" style=\"opacity: 1;\"><g class=\"legendfill\"/><g class=\"legendlines\"/><g class=\"legendsymbols\"><g class=\"legendpoints\"><path class=\"legendundefined\" d=\"M6,6H-6V-6H6Z\" transform=\"translate(20,0)\" style=\"stroke-width: 0.5px; fill: rgb(44, 160, 44); fill-opacity: 1; stroke: rgb(229, 236, 246); stroke-opacity: 1;\"/></g></g></g><rect class=\"legendtoggle\" x=\"0\" y=\"-9.5\" width=\"131.96875\" height=\"19\" style=\"fill: rgb(0, 0, 0); fill-opacity: 0;\"/></g></g><g class=\"groups\" transform=\"\"><g class=\"traces\" transform=\"translate(0,89.7)\" style=\"opacity: 1;\"><text class=\"legendtext\" text-anchor=\"start\" x=\"40\" y=\"4.680000000000001\" style=\"font-family: 'Open Sans', verdana, arial, sans-serif; font-size: 12px; fill: rgb(42, 63, 95); fill-opacity: 1; white-space: pre;\">Administrative</text><g class=\"layers\" style=\"opacity: 1;\"><g class=\"legendfill\"/><g class=\"legendlines\"/><g class=\"legendsymbols\"><g class=\"legendpoints\"><path class=\"legendundefined\" d=\"M6,6H-6V-6H6Z\" transform=\"translate(20,0)\" style=\"stroke-width: 0.5px; fill: rgb(214, 39, 40); fill-opacity: 1; stroke: rgb(229, 236, 246); stroke-opacity: 1;\"/></g></g></g><rect class=\"legendtoggle\" x=\"0\" y=\"-9.5\" width=\"131.96875\" height=\"19\" style=\"fill: rgb(0, 0, 0); fill-opacity: 0;\"/></g></g><g class=\"groups\" transform=\"\"><g class=\"traces\" transform=\"translate(0,108.7)\" style=\"opacity: 1;\"><text class=\"legendtext\" text-anchor=\"start\" x=\"40\" y=\"4.680000000000001\" style=\"font-family: 'Open Sans', verdana, arial, sans-serif; font-size: 12px; fill: rgb(42, 63, 95); fill-opacity: 1; white-space: pre;\">Transformation</text><g class=\"layers\" style=\"opacity: 1;\"><g class=\"legendfill\"/><g class=\"legendlines\"/><g class=\"legendsymbols\"><g class=\"legendpoints\"><path class=\"legendundefined\" d=\"M6,6H-6V-6H6Z\" transform=\"translate(20,0)\" style=\"stroke-width: 0.5px; fill: rgb(148, 103, 189); fill-opacity: 1; stroke: rgb(229, 236, 246); stroke-opacity: 1;\"/></g></g></g><rect class=\"legendtoggle\" x=\"0\" y=\"-9.5\" width=\"131.96875\" height=\"19\" style=\"fill: rgb(0, 0, 0); fill-opacity: 0;\"/></g></g><g class=\"groups\" transform=\"\"><g class=\"traces\" transform=\"translate(0,127.7)\" style=\"opacity: 1;\"><text class=\"legendtext\" text-anchor=\"start\" x=\"40\" y=\"4.680000000000001\" style=\"font-family: 'Open Sans', verdana, arial, sans-serif; font-size: 12px; fill: rgb(42, 63, 95); fill-opacity: 1; white-space: pre;\">Health</text><g class=\"layers\" style=\"opacity: 1;\"><g class=\"legendfill\"/><g class=\"legendlines\"/><g class=\"legendsymbols\"><g class=\"legendpoints\"><path class=\"legendundefined\" d=\"M6,6H-6V-6H6Z\" transform=\"translate(20,0)\" style=\"stroke-width: 0.5px; fill: rgb(140, 86, 75); fill-opacity: 1; stroke: rgb(229, 236, 246); stroke-opacity: 1;\"/></g></g></g><rect class=\"legendtoggle\" x=\"0\" y=\"-9.5\" width=\"131.96875\" height=\"19\" style=\"fill: rgb(0, 0, 0); fill-opacity: 0;\"/></g></g></g><rect class=\"scrollbar\" rx=\"20\" ry=\"3\" width=\"0\" height=\"0\" style=\"fill: rgb(128, 139, 164); fill-opacity: 1;\" x=\"0\" y=\"0\"/></g><g class=\"g-gtitle\"><text class=\"gtitle\" x=\"35\" y=\"50\" text-anchor=\"start\" dy=\"0em\" style=\"font-family: 'Open Sans', verdana, arial, sans-serif; font-size: 17px; fill: rgb(42, 63, 95); opacity: 1; font-weight: normal; white-space: pre;\">COVID-19 Related Government Policies Completed in 2020</text></g><g class=\"g-xtitle\"/><g class=\"g-ytitle\" transform=\"translate(1.6904296875,0)\"><text class=\"ytitle\" transform=\"rotate(-90,12.309374999999989,260)\" x=\"12.309374999999989\" y=\"260\" text-anchor=\"middle\" style=\"font-family: 'Open Sans', verdana, arial, sans-serif; font-size: 14px; fill: rgb(42, 63, 95); opacity: 1; font-weight: normal; white-space: pre;\">Government Policy</text></g></g></svg>"
      ]
     },
     "metadata": {},
     "output_type": "display_data"
    },
    {
     "data": {
      "image/svg+xml": [
       "<svg class=\"main-svg\" xmlns=\"http://www.w3.org/2000/svg\" xmlns:xlink=\"http://www.w3.org/1999/xlink\" width=\"700\" height=\"500\" style=\"\" viewBox=\"0 0 700 500\"><rect x=\"0\" y=\"0\" width=\"700\" height=\"500\" style=\"fill: rgb(255, 255, 255); fill-opacity: 1;\"/><defs id=\"defs-8d7300\"><g class=\"clips\"><clipPath id=\"clip8d7300xyplot\" class=\"plotclip\"><rect width=\"223\" height=\"320\"/></clipPath><clipPath class=\"axesclip\" id=\"clip8d7300x\"><rect x=\"324\" y=\"0\" width=\"223\" height=\"500\"/></clipPath><clipPath class=\"axesclip\" id=\"clip8d7300y\"><rect x=\"0\" y=\"100\" width=\"700\" height=\"320\"/></clipPath><clipPath class=\"axesclip\" id=\"clip8d7300xy\"><rect x=\"324\" y=\"100\" width=\"223\" height=\"320\"/></clipPath></g><g class=\"gradients\"/><g class=\"patterns\"/></defs><g class=\"bglayer\"><rect class=\"bg\" x=\"324\" y=\"100\" width=\"223\" height=\"320\" style=\"fill: rgb(229, 236, 246); fill-opacity: 1; stroke-width: 0;\"/></g><g class=\"layer-below\"><g class=\"imagelayer\"/><g class=\"shapelayer\"/></g><g class=\"cartesianlayer\"><g class=\"subplot xy\"><g class=\"layer-subplot\"><g class=\"shapelayer\"/><g class=\"imagelayer\"/></g><g class=\"minor-gridlayer\"><g class=\"x\"/><g class=\"y\"/></g><g class=\"gridlayer\"><g class=\"x\"><path class=\"xgrid crisp\" transform=\"translate(386.58,0)\" d=\"M0,100v320\" style=\"stroke: rgb(255, 255, 255); stroke-opacity: 1; stroke-width: 1px;\"/><path class=\"xgrid crisp\" transform=\"translate(463.1,0)\" d=\"M0,100v320\" style=\"stroke: rgb(255, 255, 255); stroke-opacity: 1; stroke-width: 1px;\"/><path class=\"xgrid crisp\" transform=\"translate(539.61,0)\" d=\"M0,100v320\" style=\"stroke: rgb(255, 255, 255); stroke-opacity: 1; stroke-width: 1px;\"/></g><g class=\"y\"/></g><g class=\"zerolinelayer\"/><path class=\"xlines-below\"/><path class=\"ylines-below\"/><g class=\"overlines-below\"/><g class=\"xaxislayer-below\"/><g class=\"yaxislayer-below\"/><g class=\"overaxes-below\"/><g class=\"plot\" transform=\"translate(324,100)\" clip-path=\"url(#clip8d7300xyplot)\"><g class=\"barlayer mlayer\"><g class=\"trace bars\" style=\"opacity: 1;\"><g class=\"points\"><g class=\"point\"><path d=\"M53.8,318.22V304H211.85V318.22Z\" style=\"vector-effect: none; opacity: 1; stroke-width: 0.5px; fill: rgb(31, 119, 180); fill-opacity: 1; stroke: rgb(229, 236, 246); stroke-opacity: 1;\"/></g></g></g><g class=\"trace bars\" style=\"opacity: 1;\"><g class=\"points\"><g class=\"point\"><path d=\"M29.97,300.44V286.22H211.85V300.44Z\" style=\"vector-effect: none; opacity: 1; stroke-width: 0.5px; fill: rgb(255, 127, 14); fill-opacity: 1; stroke: rgb(229, 236, 246); stroke-opacity: 1;\"/></g><g class=\"point\"><path d=\"M40,300.44V286.22H211.85V300.44Z\" style=\"vector-effect: none; opacity: 1; stroke-width: 0.5px; fill: rgb(255, 127, 14); fill-opacity: 1; stroke: rgb(229, 236, 246); stroke-opacity: 1;\"/></g><g class=\"point\"><path d=\"M40,300.44V286.22H211.85V300.44Z\" style=\"vector-effect: none; opacity: 1; stroke-width: 0.5px; fill: rgb(255, 127, 14); fill-opacity: 1; stroke: rgb(229, 236, 246); stroke-opacity: 1;\"/></g><g class=\"point\"><path d=\"M72.61,300.44V286.22H211.85V300.44Z\" style=\"vector-effect: none; opacity: 1; stroke-width: 0.5px; fill: rgb(255, 127, 14); fill-opacity: 1; stroke: rgb(229, 236, 246); stroke-opacity: 1;\"/></g><g class=\"point\"><path d=\"M76.38,300.44V286.22H211.85V300.44Z\" style=\"vector-effect: none; opacity: 1; stroke-width: 0.5px; fill: rgb(255, 127, 14); fill-opacity: 1; stroke: rgb(229, 236, 246); stroke-opacity: 1;\"/></g><g class=\"point\"><path d=\"M76.38,300.44V286.22H211.85V300.44Z\" style=\"vector-effect: none; opacity: 1; stroke-width: 0.5px; fill: rgb(255, 127, 14); fill-opacity: 1; stroke: rgb(229, 236, 246); stroke-opacity: 1;\"/></g><g class=\"point\"><path d=\"M80.14,300.44V286.22H211.85V300.44Z\" style=\"vector-effect: none; opacity: 1; stroke-width: 0.5px; fill: rgb(255, 127, 14); fill-opacity: 1; stroke: rgb(229, 236, 246); stroke-opacity: 1;\"/></g><g class=\"point\"><path d=\"M80.14,300.44V286.22H211.85V300.44Z\" style=\"vector-effect: none; opacity: 1; stroke-width: 0.5px; fill: rgb(255, 127, 14); fill-opacity: 1; stroke: rgb(229, 236, 246); stroke-opacity: 1;\"/></g><g class=\"point\"><path d=\"M80.14,300.44V286.22H211.85V300.44Z\" style=\"vector-effect: none; opacity: 1; stroke-width: 0.5px; fill: rgb(255, 127, 14); fill-opacity: 1; stroke: rgb(229, 236, 246); stroke-opacity: 1;\"/></g><g class=\"point\"><path d=\"M80.14,300.44V286.22H211.85V300.44Z\" style=\"vector-effect: none; opacity: 1; stroke-width: 0.5px; fill: rgb(255, 127, 14); fill-opacity: 1; stroke: rgb(229, 236, 246); stroke-opacity: 1;\"/></g><g class=\"point\"><path d=\"M80.14,300.44V286.22H211.85V300.44Z\" style=\"vector-effect: none; opacity: 1; stroke-width: 0.5px; fill: rgb(255, 127, 14); fill-opacity: 1; stroke: rgb(229, 236, 246); stroke-opacity: 1;\"/></g><g class=\"point\"><path d=\"M81.4,300.44V286.22H211.85V300.44Z\" style=\"vector-effect: none; opacity: 1; stroke-width: 0.5px; fill: rgb(255, 127, 14); fill-opacity: 1; stroke: rgb(229, 236, 246); stroke-opacity: 1;\"/></g><g class=\"point\"><path d=\"M85.16,300.44V286.22H211.85V300.44Z\" style=\"vector-effect: none; opacity: 1; stroke-width: 0.5px; fill: rgb(255, 127, 14); fill-opacity: 1; stroke: rgb(229, 236, 246); stroke-opacity: 1;\"/></g><g class=\"point\"><path d=\"M101.47,282.67V268.44H211.85V282.67Z\" style=\"vector-effect: none; opacity: 1; stroke-width: 0.5px; fill: rgb(255, 127, 14); fill-opacity: 1; stroke: rgb(229, 236, 246); stroke-opacity: 1;\"/></g><g class=\"point\"><path d=\"M116.52,264.89V250.67H211.85V264.89Z\" style=\"vector-effect: none; opacity: 1; stroke-width: 0.5px; fill: rgb(255, 127, 14); fill-opacity: 1; stroke: rgb(229, 236, 246); stroke-opacity: 1;\"/></g></g></g><g class=\"trace bars\" style=\"opacity: 1;\"><g class=\"points\"><g class=\"point\"><path d=\"M29.97,247.11V232.89H211.85V247.11Z\" style=\"vector-effect: none; opacity: 1; stroke-width: 0.5px; fill: rgb(44, 160, 44); fill-opacity: 1; stroke: rgb(229, 236, 246); stroke-opacity: 1;\"/></g><g class=\"point\"><path d=\"M40,247.11V232.89H211.85V247.11Z\" style=\"vector-effect: none; opacity: 1; stroke-width: 0.5px; fill: rgb(44, 160, 44); fill-opacity: 1; stroke: rgb(229, 236, 246); stroke-opacity: 1;\"/></g><g class=\"point\"><path d=\"M58.82,247.11V232.89H211.85V247.11Z\" style=\"vector-effect: none; opacity: 1; stroke-width: 0.5px; fill: rgb(44, 160, 44); fill-opacity: 1; stroke: rgb(229, 236, 246); stroke-opacity: 1;\"/></g><g class=\"point\"><path d=\"M58.82,247.11V232.89H211.85V247.11Z\" style=\"vector-effect: none; opacity: 1; stroke-width: 0.5px; fill: rgb(44, 160, 44); fill-opacity: 1; stroke: rgb(229, 236, 246); stroke-opacity: 1;\"/></g><g class=\"point\"><path d=\"M77.63,247.11V232.89H211.85V247.11Z\" style=\"vector-effect: none; opacity: 1; stroke-width: 0.5px; fill: rgb(44, 160, 44); fill-opacity: 1; stroke: rgb(229, 236, 246); stroke-opacity: 1;\"/></g><g class=\"point\"><path d=\"M57.56,229.33V215.11H211.85V229.33Z\" style=\"vector-effect: none; opacity: 1; stroke-width: 0.5px; fill: rgb(44, 160, 44); fill-opacity: 1; stroke: rgb(229, 236, 246); stroke-opacity: 1;\"/></g><g class=\"point\"><path d=\"M66.34,229.33V215.11H211.85V229.33Z\" style=\"vector-effect: none; opacity: 1; stroke-width: 0.5px; fill: rgb(44, 160, 44); fill-opacity: 1; stroke: rgb(229, 236, 246); stroke-opacity: 1;\"/></g><g class=\"point\"><path d=\"M58.82,211.56V197.33H211.85V211.56Z\" style=\"vector-effect: none; opacity: 1; stroke-width: 0.5px; fill: rgb(44, 160, 44); fill-opacity: 1; stroke: rgb(229, 236, 246); stroke-opacity: 1;\"/></g><g class=\"point\"><path d=\"M72.61,211.56V197.33H211.85V211.56Z\" style=\"vector-effect: none; opacity: 1; stroke-width: 0.5px; fill: rgb(44, 160, 44); fill-opacity: 1; stroke: rgb(229, 236, 246); stroke-opacity: 1;\"/></g></g></g><g class=\"trace bars\" style=\"opacity: 1;\"><g class=\"points\"><g class=\"point\"><path d=\"M145.37,193.78V179.56H211.85V193.78Z\" style=\"vector-effect: none; opacity: 1; stroke-width: 0.5px; fill: rgb(214, 39, 40); fill-opacity: 1; stroke: rgb(229, 236, 246); stroke-opacity: 1;\"/></g><g class=\"point\"><path d=\"M120.28,176V161.78H211.85V176Z\" style=\"vector-effect: none; opacity: 1; stroke-width: 0.5px; fill: rgb(214, 39, 40); fill-opacity: 1; stroke: rgb(229, 236, 246); stroke-opacity: 1;\"/></g></g></g><g class=\"trace bars\" style=\"opacity: 1;\"><g class=\"points\"><g class=\"point\"><path d=\"M63.83,158.22V144H211.85V158.22Z\" style=\"vector-effect: none; opacity: 1; stroke-width: 0.5px; fill: rgb(148, 103, 189); fill-opacity: 1; stroke: rgb(229, 236, 246); stroke-opacity: 1;\"/></g></g></g><g class=\"trace bars\" style=\"opacity: 1;\"><g class=\"points\"><g class=\"point\"><path d=\"M11.15,140.44V126.22H211.85V140.44Z\" style=\"vector-effect: none; opacity: 1; stroke-width: 0.5px; fill: rgb(140, 86, 75); fill-opacity: 1; stroke: rgb(229, 236, 246); stroke-opacity: 1;\"/></g><g class=\"point\"><path d=\"M71.36,122.67V108.44H211.85V122.67Z\" style=\"vector-effect: none; opacity: 1; stroke-width: 0.5px; fill: rgb(140, 86, 75); fill-opacity: 1; stroke: rgb(229, 236, 246); stroke-opacity: 1;\"/></g><g class=\"point\"><path d=\"M40,104.89V90.67H211.85V104.89Z\" style=\"vector-effect: none; opacity: 1; stroke-width: 0.5px; fill: rgb(140, 86, 75); fill-opacity: 1; stroke: rgb(229, 236, 246); stroke-opacity: 1;\"/></g><g class=\"point\"><path d=\"M70.11,87.11V72.89H211.85V87.11Z\" style=\"vector-effect: none; opacity: 1; stroke-width: 0.5px; fill: rgb(140, 86, 75); fill-opacity: 1; stroke: rgb(229, 236, 246); stroke-opacity: 1;\"/></g><g class=\"point\"><path d=\"M134.08,69.33V55.11H211.85V69.33Z\" style=\"vector-effect: none; opacity: 1; stroke-width: 0.5px; fill: rgb(140, 86, 75); fill-opacity: 1; stroke: rgb(229, 236, 246); stroke-opacity: 1;\"/></g><g class=\"point\"><path d=\"M189.27,51.56V37.33H211.85V51.56Z\" style=\"vector-effect: none; opacity: 1; stroke-width: 0.5px; fill: rgb(140, 86, 75); fill-opacity: 1; stroke: rgb(229, 236, 246); stroke-opacity: 1;\"/></g></g></g><g class=\"trace bars\" style=\"opacity: 1;\"><g class=\"points\"><g class=\"point\"><path d=\"M157.91,33.78V19.56H211.85V33.78Z\" style=\"vector-effect: none; opacity: 1; stroke-width: 0.5px; fill: rgb(227, 119, 194); fill-opacity: 1; stroke: rgb(229, 236, 246); stroke-opacity: 1;\"/></g></g></g><g class=\"trace bars\" style=\"opacity: 1;\"><g class=\"points\"><g class=\"point\"><path d=\"M171.71,16V1.78H211.85V16Z\" style=\"vector-effect: none; opacity: 1; stroke-width: 0.5px; fill: rgb(127, 127, 127); fill-opacity: 1; stroke: rgb(229, 236, 246); stroke-opacity: 1;\"/></g><g class=\"point\"><path d=\"M170.46,16V1.78H211.85V16Z\" style=\"vector-effect: none; opacity: 1; stroke-width: 0.5px; fill: rgb(127, 127, 127); fill-opacity: 1; stroke: rgb(229, 236, 246); stroke-opacity: 1;\"/></g></g></g></g></g><g class=\"overplot\"/><path class=\"xlines-above crisp\" d=\"M0,0\" style=\"fill: none;\"/><path class=\"ylines-above crisp\" d=\"M0,0\" style=\"fill: none;\"/><g class=\"overlines-above\"/><g class=\"xaxislayer-above\"><g class=\"xtick\"><text text-anchor=\"middle\" x=\"0\" y=\"433\" transform=\"translate(386.58,0)\" style=\"font-family: 'Open Sans', verdana, arial, sans-serif; font-size: 12px; fill: rgb(42, 63, 95); fill-opacity: 1; white-space: pre; opacity: 1;\">Mar 2020</text></g><g class=\"xtick\"><text text-anchor=\"middle\" x=\"0\" y=\"433\" style=\"font-family: 'Open Sans', verdana, arial, sans-serif; font-size: 12px; fill: rgb(42, 63, 95); fill-opacity: 1; white-space: pre; opacity: 1;\" transform=\"translate(463.1,0)\">May 2020</text></g><g class=\"xtick\"><text text-anchor=\"middle\" x=\"0\" y=\"433\" style=\"font-family: 'Open Sans', verdana, arial, sans-serif; font-size: 12px; fill: rgb(42, 63, 95); fill-opacity: 1; white-space: pre; opacity: 1;\" transform=\"translate(539.61,0)\">Jul 2020</text></g></g><g class=\"yaxislayer-above\"><g class=\"ytick\"><text text-anchor=\"end\" x=\"323\" y=\"4.199999999999999\" transform=\"translate(0,411.11)\" style=\"font-family: 'Open Sans', verdana, arial, sans-serif; font-size: 12px; fill: rgb(42, 63, 95); fill-opacity: 1; white-space: pre; opacity: 1;\">Infectious Disease Alert Level</text></g><g class=\"ytick\"><text text-anchor=\"end\" x=\"323\" y=\"4.199999999999999\" transform=\"translate(0,393.33)\" style=\"font-family: 'Open Sans', verdana, arial, sans-serif; font-size: 12px; fill: rgb(42, 63, 95); fill-opacity: 1; white-space: pre; opacity: 1;\">Special Immigration Procedure</text></g><g class=\"ytick\"><text text-anchor=\"end\" x=\"323\" y=\"4.199999999999999\" transform=\"translate(0,375.56)\" style=\"font-family: 'Open Sans', verdana, arial, sans-serif; font-size: 12px; fill: rgb(42, 63, 95); fill-opacity: 1; white-space: pre; opacity: 1;\">Mandatory 14-day Self-Quarantine</text></g><g class=\"ytick\"><text text-anchor=\"end\" x=\"323\" y=\"4.199999999999999\" transform=\"translate(0,357.78)\" style=\"font-family: 'Open Sans', verdana, arial, sans-serif; font-size: 12px; fill: rgb(42, 63, 95); fill-opacity: 1; white-space: pre; opacity: 1;\">Mandatory Self-Quarantine &amp; Diagonostic Tests</text></g><g class=\"ytick\"><text text-anchor=\"end\" x=\"323\" y=\"4.199999999999999\" transform=\"translate(0,340)\" style=\"font-family: 'Open Sans', verdana, arial, sans-serif; font-size: 12px; fill: rgb(42, 63, 95); fill-opacity: 1; white-space: pre; opacity: 1;\">Emergency Use Authorization of Diagnostic Kit</text></g><g class=\"ytick\"><text text-anchor=\"end\" x=\"323\" y=\"4.199999999999999\" transform=\"translate(0,322.22)\" style=\"font-family: 'Open Sans', verdana, arial, sans-serif; font-size: 12px; fill: rgb(42, 63, 95); fill-opacity: 1; white-space: pre; opacity: 1;\">Drive-Through Screening Center</text></g><g class=\"ytick\"><text text-anchor=\"end\" x=\"323\" y=\"4.199999999999999\" transform=\"translate(0,304.44)\" style=\"font-family: 'Open Sans', verdana, arial, sans-serif; font-size: 12px; fill: rgb(42, 63, 95); fill-opacity: 1; white-space: pre; opacity: 1;\">Mask Distribution</text></g><g class=\"ytick\"><text text-anchor=\"end\" x=\"323\" y=\"4.199999999999999\" transform=\"translate(0,286.66999999999996)\" style=\"font-family: 'Open Sans', verdana, arial, sans-serif; font-size: 12px; fill: rgb(42, 63, 95); fill-opacity: 1; white-space: pre; opacity: 1;\">Social Distancing Campaign</text></g><g class=\"ytick\"><text text-anchor=\"end\" x=\"323\" y=\"4.199999999999999\" transform=\"translate(0,268.89)\" style=\"font-family: 'Open Sans', verdana, arial, sans-serif; font-size: 12px; fill: rgb(42, 63, 95); fill-opacity: 1; white-space: pre; opacity: 1;\">Thanks to Challenge korea</text></g><g class=\"ytick\"><text text-anchor=\"end\" x=\"323\" y=\"4.199999999999999\" transform=\"translate(0,251.11)\" style=\"font-family: 'Open Sans', verdana, arial, sans-serif; font-size: 12px; fill: rgb(42, 63, 95); fill-opacity: 1; white-space: pre; opacity: 1;\">School Closure</text></g><g class=\"ytick\"><text text-anchor=\"end\" x=\"323\" y=\"4.199999999999999\" transform=\"translate(0,233.33)\" style=\"font-family: 'Open Sans', verdana, arial, sans-serif; font-size: 12px; fill: rgb(42, 63, 95); fill-opacity: 1; white-space: pre; opacity: 1;\">Open Data </text></g><g class=\"ytick\"><text text-anchor=\"end\" x=\"323\" y=\"4.199999999999999\" transform=\"translate(0,215.56)\" style=\"font-family: 'Open Sans', verdana, arial, sans-serif; font-size: 12px; fill: rgb(42, 63, 95); fill-opacity: 1; white-space: pre; opacity: 1;\">Open API</text></g><g class=\"ytick\"><text text-anchor=\"end\" x=\"323\" y=\"4.199999999999999\" transform=\"translate(0,197.78)\" style=\"font-family: 'Open Sans', verdana, arial, sans-serif; font-size: 12px; fill: rgb(42, 63, 95); fill-opacity: 1; white-space: pre; opacity: 1;\">Self-Diagnosis App</text></g><g class=\"ytick\"><text text-anchor=\"end\" x=\"323\" y=\"4.199999999999999\" transform=\"translate(0,180)\" style=\"font-family: 'Open Sans', verdana, arial, sans-serif; font-size: 12px; fill: rgb(42, 63, 95); fill-opacity: 1; white-space: pre; opacity: 1;\">Self-Quarantine Safety Protection App</text></g><g class=\"ytick\"><text text-anchor=\"end\" x=\"323\" y=\"4.199999999999999\" transform=\"translate(0,162.22)\" style=\"font-family: 'Open Sans', verdana, arial, sans-serif; font-size: 12px; fill: rgb(42, 63, 95); fill-opacity: 1; white-space: pre; opacity: 1;\">Electronic Wristbands</text></g><g class=\"ytick\"><text text-anchor=\"end\" x=\"323\" y=\"4.199999999999999\" transform=\"translate(0,144.44)\" style=\"font-family: 'Open Sans', verdana, arial, sans-serif; font-size: 12px; fill: rgb(42, 63, 95); fill-opacity: 1; white-space: pre; opacity: 1;\">KI-Pass: Korea Internet - Pass</text></g><g class=\"ytick\"><text text-anchor=\"end\" x=\"323\" y=\"4.199999999999999\" transform=\"translate(0,126.67)\" style=\"font-family: 'Open Sans', verdana, arial, sans-serif; font-size: 12px; fill: rgb(42, 63, 95); fill-opacity: 1; white-space: pre; opacity: 1;\">local government Administrative orders</text></g><g class=\"ytick\"><text text-anchor=\"end\" x=\"323\" y=\"4.199999999999999\" transform=\"translate(0,108.89)\" style=\"font-family: 'Open Sans', verdana, arial, sans-serif; font-size: 12px; fill: rgb(42, 63, 95); fill-opacity: 1; white-space: pre; opacity: 1;\">Wearing of masks</text></g></g><g class=\"overaxes-above\"/></g></g><g class=\"polarlayer\"/><g class=\"smithlayer\"/><g class=\"ternarylayer\"/><g class=\"geolayer\"/><g class=\"funnelarealayer\"/><g class=\"pielayer\"/><g class=\"iciclelayer\"/><g class=\"treemaplayer\"/><g class=\"sunburstlayer\"/><g class=\"glimages\"/><defs id=\"topdefs-8d7300\"><g class=\"clips\"/><clipPath id=\"legend8d7300\"><rect width=\"137\" height=\"181\" x=\"0\" y=\"0\"/></clipPath></defs><g class=\"layer-above\"><g class=\"imagelayer\"/><g class=\"shapelayer\"/></g><g class=\"infolayer\"><g class=\"legend\" pointer-events=\"all\" transform=\"translate(551.46,100)\"><rect class=\"bg\" shape-rendering=\"crispEdges\" style=\"stroke: rgb(68, 68, 68); stroke-opacity: 1; fill: rgb(255, 255, 255); fill-opacity: 1; stroke-width: 0px;\" width=\"137\" height=\"181\" x=\"0\" y=\"0\"/><g class=\"scrollbox\" transform=\"\" clip-path=\"url(#legend8d7300)\"><text class=\"legendtitletext\" text-anchor=\"start\" x=\"2\" y=\"18.2\" style=\"font-family: 'Open Sans', verdana, arial, sans-serif; font-size: 14px; fill: rgb(42, 63, 95); fill-opacity: 1; white-space: pre;\">Policy</text><g class=\"groups\" transform=\"\"><g class=\"traces\" transform=\"translate(0,32.7)\" style=\"opacity: 1;\"><text class=\"legendtext\" text-anchor=\"start\" x=\"40\" y=\"4.680000000000001\" style=\"font-family: 'Open Sans', verdana, arial, sans-serif; font-size: 12px; fill: rgb(42, 63, 95); fill-opacity: 1; white-space: pre;\">Alert</text><g class=\"layers\" style=\"opacity: 1;\"><g class=\"legendfill\"/><g class=\"legendlines\"/><g class=\"legendsymbols\"><g class=\"legendpoints\"><path class=\"legendundefined\" d=\"M6,6H-6V-6H6Z\" transform=\"translate(20,0)\" style=\"stroke-width: 0.5px; fill: rgb(31, 119, 180); fill-opacity: 1; stroke: rgb(229, 236, 246); stroke-opacity: 1;\"/></g></g></g><rect class=\"legendtoggle\" x=\"0\" y=\"-9.5\" width=\"131.96875\" height=\"19\" style=\"fill: rgb(0, 0, 0); fill-opacity: 0;\"/></g></g><g class=\"groups\" transform=\"\"><g class=\"traces\" transform=\"translate(0,51.7)\" style=\"opacity: 1;\"><text class=\"legendtext\" text-anchor=\"start\" x=\"40\" y=\"4.680000000000001\" style=\"font-family: 'Open Sans', verdana, arial, sans-serif; font-size: 12px; fill: rgb(42, 63, 95); fill-opacity: 1; white-space: pre;\">Immigration</text><g class=\"layers\" style=\"opacity: 1;\"><g class=\"legendfill\"/><g class=\"legendlines\"/><g class=\"legendsymbols\"><g class=\"legendpoints\"><path class=\"legendundefined\" d=\"M6,6H-6V-6H6Z\" transform=\"translate(20,0)\" style=\"stroke-width: 0.5px; fill: rgb(255, 127, 14); fill-opacity: 1; stroke: rgb(229, 236, 246); stroke-opacity: 1;\"/></g></g></g><rect class=\"legendtoggle\" x=\"0\" y=\"-9.5\" width=\"131.96875\" height=\"19\" style=\"fill: rgb(0, 0, 0); fill-opacity: 0;\"/></g></g><g class=\"groups\" transform=\"\"><g class=\"traces\" transform=\"translate(0,70.7)\" style=\"opacity: 1;\"><text class=\"legendtext\" text-anchor=\"start\" x=\"40\" y=\"4.680000000000001\" style=\"font-family: 'Open Sans', verdana, arial, sans-serif; font-size: 12px; fill: rgb(42, 63, 95); fill-opacity: 1; white-space: pre;\">Health</text><g class=\"layers\" style=\"opacity: 1;\"><g class=\"legendfill\"/><g class=\"legendlines\"/><g class=\"legendsymbols\"><g class=\"legendpoints\"><path class=\"legendundefined\" d=\"M6,6H-6V-6H6Z\" transform=\"translate(20,0)\" style=\"stroke-width: 0.5px; fill: rgb(44, 160, 44); fill-opacity: 1; stroke: rgb(229, 236, 246); stroke-opacity: 1;\"/></g></g></g><rect class=\"legendtoggle\" x=\"0\" y=\"-9.5\" width=\"131.96875\" height=\"19\" style=\"fill: rgb(0, 0, 0); fill-opacity: 0;\"/></g></g><g class=\"groups\" transform=\"\"><g class=\"traces\" transform=\"translate(0,89.7)\" style=\"opacity: 1;\"><text class=\"legendtext\" text-anchor=\"start\" x=\"40\" y=\"4.680000000000001\" style=\"font-family: 'Open Sans', verdana, arial, sans-serif; font-size: 12px; fill: rgb(42, 63, 95); fill-opacity: 1; white-space: pre;\">Social</text><g class=\"layers\" style=\"opacity: 1;\"><g class=\"legendfill\"/><g class=\"legendlines\"/><g class=\"legendsymbols\"><g class=\"legendpoints\"><path class=\"legendundefined\" d=\"M6,6H-6V-6H6Z\" transform=\"translate(20,0)\" style=\"stroke-width: 0.5px; fill: rgb(214, 39, 40); fill-opacity: 1; stroke: rgb(229, 236, 246); stroke-opacity: 1;\"/></g></g></g><rect class=\"legendtoggle\" x=\"0\" y=\"-9.5\" width=\"131.96875\" height=\"19\" style=\"fill: rgb(0, 0, 0); fill-opacity: 0;\"/></g></g><g class=\"groups\" transform=\"\"><g class=\"traces\" transform=\"translate(0,108.7)\" style=\"opacity: 1;\"><text class=\"legendtext\" text-anchor=\"start\" x=\"40\" y=\"4.680000000000001\" style=\"font-family: 'Open Sans', verdana, arial, sans-serif; font-size: 12px; fill: rgb(42, 63, 95); fill-opacity: 1; white-space: pre;\">Education</text><g class=\"layers\" style=\"opacity: 1;\"><g class=\"legendfill\"/><g class=\"legendlines\"/><g class=\"legendsymbols\"><g class=\"legendpoints\"><path class=\"legendundefined\" d=\"M6,6H-6V-6H6Z\" transform=\"translate(20,0)\" style=\"stroke-width: 0.5px; fill: rgb(148, 103, 189); fill-opacity: 1; stroke: rgb(229, 236, 246); stroke-opacity: 1;\"/></g></g></g><rect class=\"legendtoggle\" x=\"0\" y=\"-9.5\" width=\"131.96875\" height=\"19\" style=\"fill: rgb(0, 0, 0); fill-opacity: 0;\"/></g></g><g class=\"groups\" transform=\"\"><g class=\"traces\" transform=\"translate(0,127.7)\" style=\"opacity: 1;\"><text class=\"legendtext\" text-anchor=\"start\" x=\"40\" y=\"4.680000000000001\" style=\"font-family: 'Open Sans', verdana, arial, sans-serif; font-size: 12px; fill: rgb(42, 63, 95); fill-opacity: 1; white-space: pre;\">Technology</text><g class=\"layers\" style=\"opacity: 1;\"><g class=\"legendfill\"/><g class=\"legendlines\"/><g class=\"legendsymbols\"><g class=\"legendpoints\"><path class=\"legendundefined\" d=\"M6,6H-6V-6H6Z\" transform=\"translate(20,0)\" style=\"stroke-width: 0.5px; fill: rgb(140, 86, 75); fill-opacity: 1; stroke: rgb(229, 236, 246); stroke-opacity: 1;\"/></g></g></g><rect class=\"legendtoggle\" x=\"0\" y=\"-9.5\" width=\"131.96875\" height=\"19\" style=\"fill: rgb(0, 0, 0); fill-opacity: 0;\"/></g></g><g class=\"groups\" transform=\"\"><g class=\"traces\" transform=\"translate(0,146.7)\" style=\"opacity: 1;\"><text class=\"legendtext\" text-anchor=\"start\" x=\"40\" y=\"4.680000000000001\" style=\"font-family: 'Open Sans', verdana, arial, sans-serif; font-size: 12px; fill: rgb(42, 63, 95); fill-opacity: 1; white-space: pre;\">Administrative</text><g class=\"layers\" style=\"opacity: 1;\"><g class=\"legendfill\"/><g class=\"legendlines\"/><g class=\"legendsymbols\"><g class=\"legendpoints\"><path class=\"legendundefined\" d=\"M6,6H-6V-6H6Z\" transform=\"translate(20,0)\" style=\"stroke-width: 0.5px; fill: rgb(227, 119, 194); fill-opacity: 1; stroke: rgb(229, 236, 246); stroke-opacity: 1;\"/></g></g></g><rect class=\"legendtoggle\" x=\"0\" y=\"-9.5\" width=\"131.96875\" height=\"19\" style=\"fill: rgb(0, 0, 0); fill-opacity: 0;\"/></g></g><g class=\"groups\" transform=\"\"><g class=\"traces\" transform=\"translate(0,165.7)\" style=\"opacity: 1;\"><text class=\"legendtext\" text-anchor=\"start\" x=\"40\" y=\"4.680000000000001\" style=\"font-family: 'Open Sans', verdana, arial, sans-serif; font-size: 12px; fill: rgb(42, 63, 95); fill-opacity: 1; white-space: pre;\">Transformation</text><g class=\"layers\" style=\"opacity: 1;\"><g class=\"legendfill\"/><g class=\"legendlines\"/><g class=\"legendsymbols\"><g class=\"legendpoints\"><path class=\"legendundefined\" d=\"M6,6H-6V-6H6Z\" transform=\"translate(20,0)\" style=\"stroke-width: 0.5px; fill: rgb(127, 127, 127); fill-opacity: 1; stroke: rgb(229, 236, 246); stroke-opacity: 1;\"/></g></g></g><rect class=\"legendtoggle\" x=\"0\" y=\"-9.5\" width=\"131.96875\" height=\"19\" style=\"fill: rgb(0, 0, 0); fill-opacity: 0;\"/></g></g></g><rect class=\"scrollbar\" rx=\"20\" ry=\"3\" width=\"0\" height=\"0\" style=\"fill: rgb(128, 139, 164); fill-opacity: 1;\" x=\"0\" y=\"0\"/></g><g class=\"g-gtitle\"><text class=\"gtitle\" x=\"35\" y=\"50\" text-anchor=\"start\" dy=\"0em\" style=\"font-family: 'Open Sans', verdana, arial, sans-serif; font-size: 17px; fill: rgb(42, 63, 95); opacity: 1; font-weight: normal; white-space: pre;\">COVID-19 Related Government Policies Completed in 2020</text></g><g class=\"g-xtitle\"/><g class=\"g-ytitle\" transform=\"translate(1.6591796875,0)\"><text class=\"ytitle\" transform=\"rotate(-90,12.340624999999989,260)\" x=\"12.340624999999989\" y=\"260\" text-anchor=\"middle\" style=\"font-family: 'Open Sans', verdana, arial, sans-serif; font-size: 14px; fill: rgb(42, 63, 95); opacity: 1; font-weight: normal; white-space: pre;\">Government Policy</text></g></g></svg>"
      ]
     },
     "metadata": {},
     "output_type": "display_data"
    },
    {
     "data": {
      "image/svg+xml": [
       "<svg class=\"main-svg\" xmlns=\"http://www.w3.org/2000/svg\" xmlns:xlink=\"http://www.w3.org/1999/xlink\" width=\"700\" height=\"500\" style=\"\" viewBox=\"0 0 700 500\"><rect x=\"0\" y=\"0\" width=\"700\" height=\"500\" style=\"fill: rgb(255, 255, 255); fill-opacity: 1;\"/><defs id=\"defs-360f0c\"><g class=\"clips\"><clipPath id=\"clip360f0cxyplot\" class=\"plotclip\"><rect width=\"540\" height=\"320\"/></clipPath><clipPath class=\"axesclip\" id=\"clip360f0cx\"><rect x=\"80\" y=\"0\" width=\"540\" height=\"500\"/></clipPath><clipPath class=\"axesclip\" id=\"clip360f0cy\"><rect x=\"0\" y=\"100\" width=\"700\" height=\"320\"/></clipPath><clipPath class=\"axesclip\" id=\"clip360f0cxy\"><rect x=\"80\" y=\"100\" width=\"540\" height=\"320\"/></clipPath></g><g class=\"gradients\"/><g class=\"patterns\"/></defs><g class=\"bglayer\"><rect class=\"bg\" x=\"80\" y=\"100\" width=\"540\" height=\"320\" style=\"fill: rgb(229, 236, 246); fill-opacity: 1; stroke-width: 0;\"/></g><g class=\"layer-below\"><g class=\"imagelayer\"/><g class=\"shapelayer\"/></g><g class=\"cartesianlayer\"><g class=\"subplot xy\"><g class=\"layer-subplot\"><g class=\"shapelayer\"/><g class=\"imagelayer\"/></g><g class=\"minor-gridlayer\"><g class=\"x\"/><g class=\"y\"/></g><g class=\"gridlayer\"><g class=\"x\"><path class=\"xgrid crisp\" transform=\"translate(146.19,0)\" d=\"M0,100v320\" style=\"stroke: rgb(255, 255, 255); stroke-opacity: 1; stroke-width: 1px;\"/><path class=\"xgrid crisp\" transform=\"translate(231.85,0)\" d=\"M0,100v320\" style=\"stroke: rgb(255, 255, 255); stroke-opacity: 1; stroke-width: 1px;\"/><path class=\"xgrid crisp\" transform=\"translate(323.41999999999996,0)\" d=\"M0,100v320\" style=\"stroke: rgb(255, 255, 255); stroke-opacity: 1; stroke-width: 1px;\"/><path class=\"xgrid crisp\" transform=\"translate(412.03,0)\" d=\"M0,100v320\" style=\"stroke: rgb(255, 255, 255); stroke-opacity: 1; stroke-width: 1px;\"/><path class=\"xgrid crisp\" transform=\"translate(503.59,0)\" d=\"M0,100v320\" style=\"stroke: rgb(255, 255, 255); stroke-opacity: 1; stroke-width: 1px;\"/><path class=\"xgrid crisp\" transform=\"translate(592.2,0)\" d=\"M0,100v320\" style=\"stroke: rgb(255, 255, 255); stroke-opacity: 1; stroke-width: 1px;\"/></g><g class=\"y\"><path class=\"ygrid crisp\" transform=\"translate(0,363.24)\" d=\"M80,0h540\" style=\"stroke: rgb(255, 255, 255); stroke-opacity: 1; stroke-width: 1px;\"/><path class=\"ygrid crisp\" transform=\"translate(0,324.28)\" d=\"M80,0h540\" style=\"stroke: rgb(255, 255, 255); stroke-opacity: 1; stroke-width: 1px;\"/><path class=\"ygrid crisp\" transform=\"translate(0,285.32)\" d=\"M80,0h540\" style=\"stroke: rgb(255, 255, 255); stroke-opacity: 1; stroke-width: 1px;\"/><path class=\"ygrid crisp\" transform=\"translate(0,246.36)\" d=\"M80,0h540\" style=\"stroke: rgb(255, 255, 255); stroke-opacity: 1; stroke-width: 1px;\"/><path class=\"ygrid crisp\" transform=\"translate(0,207.41)\" d=\"M80,0h540\" style=\"stroke: rgb(255, 255, 255); stroke-opacity: 1; stroke-width: 1px;\"/><path class=\"ygrid crisp\" transform=\"translate(0,168.45)\" d=\"M80,0h540\" style=\"stroke: rgb(255, 255, 255); stroke-opacity: 1; stroke-width: 1px;\"/><path class=\"ygrid crisp\" transform=\"translate(0,129.49)\" d=\"M80,0h540\" style=\"stroke: rgb(255, 255, 255); stroke-opacity: 1; stroke-width: 1px;\"/></g></g><g class=\"zerolinelayer\"><path class=\"yzl zl crisp\" transform=\"translate(0,402.2)\" d=\"M80,0h540\" style=\"stroke: rgb(255, 255, 255); stroke-opacity: 1; stroke-width: 2px;\"/></g><path class=\"xlines-below\"/><path class=\"ylines-below\"/><g class=\"overlines-below\"/><g class=\"xaxislayer-below\"/><g class=\"yaxislayer-below\"/><g class=\"overaxes-below\"/><g class=\"plot\" transform=\"translate(80,100)\" clip-path=\"url(#clip360f0cxyplot)\"><g class=\"scatterlayer mlayer\"><g class=\"trace scatter trace154b30\" style=\"stroke-miterlimit: 2; opacity: 1;\"><g class=\"fills\"/><g class=\"errorbars\"/><g class=\"lines\"><path class=\"js-line\" d=\"M30.75,300.25L51.43,300.25L60.29,294.41L63.24,296.35L66.19,300.25L69.15,296.35L72.1,300.25L78.01,292.46L80.96,298.3L83.92,300.25L89.82,296.35L92.78,300.25L110.5,298.3L116.41,284.67L119.36,247.66L122.31,220.39L125.27,230.13L128.22,161.95L131.18,156.1L134.13,191.17L137.08,121.04L140.04,64.55L142.99,84.03L145.94,35.33L148.9,101.56L151.85,43.13L154.81,169.74L157.76,82.08L160.71,76.24L163.67,19.75L166.62,109.35L169.57,191.17L172.53,197.01L175.48,167.79L178.44,117.15L181.39,202.85L184.34,234.02L187.3,234.02L190.25,235.97L193.2,230.13L196.16,198.96L199.11,216.49L202.06,191.17L205.02,204.8L207.97,160L210.93,228.18L213.88,241.81L216.83,257.4L219.79,191.17L222.74,210.65L225.69,206.75L228.65,206.75L231.6,171.69L237.51,212.59L240.46,150.26L243.42,208.7L246.37,187.27L249.32,208.7L252.28,218.44L255.23,249.6L258.19,259.34L261.14,235.97L264.09,255.45L267.05,257.4L270,271.03L272.95,278.82L275.91,267.14L278.86,269.08L281.81,263.24L284.77,274.93L287.72,280.77L290.68,276.88L293.63,292.46L296.58,288.56L299.54,290.51L302.49,282.72L305.44,288.56L308.4,292.46L311.35,286.61L314.31,284.67L317.26,292.46L320.21,282.72L323.17,290.51L326.12,300.25L329.07,294.41L332.03,294.41L334.98,284.67L337.94,296.35L343.84,298.3L346.8,296.35L349.75,286.61L352.7,259.34L355.66,243.76L358.61,249.6L361.56,247.66L364.52,261.29L367.47,245.71L370.43,255.45L373.38,282.72L376.33,282.72L379.29,288.56L382.24,274.93L385.19,249.6L388.15,272.98L391.1,280.77L394.06,259.34L397.01,263.24L402.92,274.93L405.87,230.13L408.82,152.21L411.78,191.17L414.73,230.13L417.69,257.4L420.64,239.86L423.59,212.59L426.55,216.49L429.5,237.92L432.45,226.23L435.41,198.96L438.36,200.91L441.31,247.66L447.22,204.8L450.18,228.18L456.08,206.75L459.04,228.18L461.99,253.5L464.94,255.45L467.9,224.28L470.85,204.8L473.81,220.39L476.76,200.91L479.71,222.33L482.67,263.24L485.62,272.98L488.57,228.18L491.53,253.5L494.48,237.92L500.39,208.7L503.34,228.18L506.3,253.5L509.25,288.56\" style=\"vector-effect: none; fill: none; stroke: rgb(99, 110, 250); stroke-opacity: 1; stroke-width: 2px; opacity: 1;\"/></g><g class=\"points\"><path class=\"point\" transform=\"translate(30.75,300.25)\" d=\"M3,0A3,3 0 1,1 0,-3A3,3 0 0,1 3,0Z\" style=\"opacity: 1; stroke-width: 0px; fill: rgb(99, 110, 250); fill-opacity: 1;\"/><path class=\"point\" transform=\"translate(39.61,300.25)\" d=\"M3,0A3,3 0 1,1 0,-3A3,3 0 0,1 3,0Z\" style=\"opacity: 1; stroke-width: 0px; fill: rgb(99, 110, 250); fill-opacity: 1;\"/><path class=\"point\" transform=\"translate(48.47,300.25)\" d=\"M3,0A3,3 0 1,1 0,-3A3,3 0 0,1 3,0Z\" style=\"opacity: 1; stroke-width: 0px; fill: rgb(99, 110, 250); fill-opacity: 1;\"/><path class=\"point\" transform=\"translate(51.43,300.25)\" d=\"M3,0A3,3 0 1,1 0,-3A3,3 0 0,1 3,0Z\" style=\"opacity: 1; stroke-width: 0px; fill: rgb(99, 110, 250); fill-opacity: 1;\"/><path class=\"point\" transform=\"translate(60.29,294.41)\" d=\"M3,0A3,3 0 1,1 0,-3A3,3 0 0,1 3,0Z\" style=\"opacity: 1; stroke-width: 0px; fill: rgb(99, 110, 250); fill-opacity: 1;\"/><path class=\"point\" transform=\"translate(63.24,296.35)\" d=\"M3,0A3,3 0 1,1 0,-3A3,3 0 0,1 3,0Z\" style=\"opacity: 1; stroke-width: 0px; fill: rgb(99, 110, 250); fill-opacity: 1;\"/><path class=\"point\" transform=\"translate(66.19,300.25)\" d=\"M3,0A3,3 0 1,1 0,-3A3,3 0 0,1 3,0Z\" style=\"opacity: 1; stroke-width: 0px; fill: rgb(99, 110, 250); fill-opacity: 1;\"/><path class=\"point\" transform=\"translate(69.15,296.35)\" d=\"M3,0A3,3 0 1,1 0,-3A3,3 0 0,1 3,0Z\" style=\"opacity: 1; stroke-width: 0px; fill: rgb(99, 110, 250); fill-opacity: 1;\"/><path class=\"point\" transform=\"translate(72.1,300.25)\" d=\"M3,0A3,3 0 1,1 0,-3A3,3 0 0,1 3,0Z\" style=\"opacity: 1; stroke-width: 0px; fill: rgb(99, 110, 250); fill-opacity: 1;\"/><path class=\"point\" transform=\"translate(78.01,292.46)\" d=\"M3,0A3,3 0 1,1 0,-3A3,3 0 0,1 3,0Z\" style=\"opacity: 1; stroke-width: 0px; fill: rgb(99, 110, 250); fill-opacity: 1;\"/><path class=\"point\" transform=\"translate(80.96,298.3)\" d=\"M3,0A3,3 0 1,1 0,-3A3,3 0 0,1 3,0Z\" style=\"opacity: 1; stroke-width: 0px; fill: rgb(99, 110, 250); fill-opacity: 1;\"/><path class=\"point\" transform=\"translate(83.92,300.25)\" d=\"M3,0A3,3 0 1,1 0,-3A3,3 0 0,1 3,0Z\" style=\"opacity: 1; stroke-width: 0px; fill: rgb(99, 110, 250); fill-opacity: 1;\"/><path class=\"point\" transform=\"translate(89.82,296.35)\" d=\"M3,0A3,3 0 1,1 0,-3A3,3 0 0,1 3,0Z\" style=\"opacity: 1; stroke-width: 0px; fill: rgb(99, 110, 250); fill-opacity: 1;\"/><path class=\"point\" transform=\"translate(92.78,300.25)\" d=\"M3,0A3,3 0 1,1 0,-3A3,3 0 0,1 3,0Z\" style=\"opacity: 1; stroke-width: 0px; fill: rgb(99, 110, 250); fill-opacity: 1;\"/><path class=\"point\" transform=\"translate(110.5,298.3)\" d=\"M3,0A3,3 0 1,1 0,-3A3,3 0 0,1 3,0Z\" style=\"opacity: 1; stroke-width: 0px; fill: rgb(99, 110, 250); fill-opacity: 1;\"/><path class=\"point\" transform=\"translate(116.41,284.67)\" d=\"M3,0A3,3 0 1,1 0,-3A3,3 0 0,1 3,0Z\" style=\"opacity: 1; stroke-width: 0px; fill: rgb(99, 110, 250); fill-opacity: 1;\"/><path class=\"point\" transform=\"translate(119.36,247.66)\" d=\"M3,0A3,3 0 1,1 0,-3A3,3 0 0,1 3,0Z\" style=\"opacity: 1; stroke-width: 0px; fill: rgb(99, 110, 250); fill-opacity: 1;\"/><path class=\"point\" transform=\"translate(122.31,220.39)\" d=\"M3,0A3,3 0 1,1 0,-3A3,3 0 0,1 3,0Z\" style=\"opacity: 1; stroke-width: 0px; fill: rgb(99, 110, 250); fill-opacity: 1;\"/><path class=\"point\" transform=\"translate(125.27,230.13)\" d=\"M3,0A3,3 0 1,1 0,-3A3,3 0 0,1 3,0Z\" style=\"opacity: 1; stroke-width: 0px; fill: rgb(99, 110, 250); fill-opacity: 1;\"/><path class=\"point\" transform=\"translate(128.22,161.95)\" d=\"M3,0A3,3 0 1,1 0,-3A3,3 0 0,1 3,0Z\" style=\"opacity: 1; stroke-width: 0px; fill: rgb(99, 110, 250); fill-opacity: 1;\"/><path class=\"point\" transform=\"translate(131.18,156.1)\" d=\"M3,0A3,3 0 1,1 0,-3A3,3 0 0,1 3,0Z\" style=\"opacity: 1; stroke-width: 0px; fill: rgb(99, 110, 250); fill-opacity: 1;\"/><path class=\"point\" transform=\"translate(134.13,191.17)\" d=\"M3,0A3,3 0 1,1 0,-3A3,3 0 0,1 3,0Z\" style=\"opacity: 1; stroke-width: 0px; fill: rgb(99, 110, 250); fill-opacity: 1;\"/><path class=\"point\" transform=\"translate(137.08,121.04)\" d=\"M3,0A3,3 0 1,1 0,-3A3,3 0 0,1 3,0Z\" style=\"opacity: 1; stroke-width: 0px; fill: rgb(99, 110, 250); fill-opacity: 1;\"/><path class=\"point\" transform=\"translate(140.04,64.55)\" d=\"M3,0A3,3 0 1,1 0,-3A3,3 0 0,1 3,0Z\" style=\"opacity: 1; stroke-width: 0px; fill: rgb(99, 110, 250); fill-opacity: 1;\"/><path class=\"point\" transform=\"translate(142.99,84.03)\" d=\"M3,0A3,3 0 1,1 0,-3A3,3 0 0,1 3,0Z\" style=\"opacity: 1; stroke-width: 0px; fill: rgb(99, 110, 250); fill-opacity: 1;\"/><path class=\"point\" transform=\"translate(145.94,35.33)\" d=\"M3,0A3,3 0 1,1 0,-3A3,3 0 0,1 3,0Z\" style=\"opacity: 1; stroke-width: 0px; fill: rgb(99, 110, 250); fill-opacity: 1;\"/><path class=\"point\" transform=\"translate(148.9,101.56)\" d=\"M3,0A3,3 0 1,1 0,-3A3,3 0 0,1 3,0Z\" style=\"opacity: 1; stroke-width: 0px; fill: rgb(99, 110, 250); fill-opacity: 1;\"/><path class=\"point\" transform=\"translate(151.85,43.13)\" d=\"M3,0A3,3 0 1,1 0,-3A3,3 0 0,1 3,0Z\" style=\"opacity: 1; stroke-width: 0px; fill: rgb(99, 110, 250); fill-opacity: 1;\"/><path class=\"point\" transform=\"translate(154.81,169.74)\" d=\"M3,0A3,3 0 1,1 0,-3A3,3 0 0,1 3,0Z\" style=\"opacity: 1; stroke-width: 0px; fill: rgb(99, 110, 250); fill-opacity: 1;\"/><path class=\"point\" transform=\"translate(157.76,82.08)\" d=\"M3,0A3,3 0 1,1 0,-3A3,3 0 0,1 3,0Z\" style=\"opacity: 1; stroke-width: 0px; fill: rgb(99, 110, 250); fill-opacity: 1;\"/><path class=\"point\" transform=\"translate(160.71,76.24)\" d=\"M3,0A3,3 0 1,1 0,-3A3,3 0 0,1 3,0Z\" style=\"opacity: 1; stroke-width: 0px; fill: rgb(99, 110, 250); fill-opacity: 1;\"/><path class=\"point\" transform=\"translate(163.67,19.75)\" d=\"M3,0A3,3 0 1,1 0,-3A3,3 0 0,1 3,0Z\" style=\"opacity: 1; stroke-width: 0px; fill: rgb(99, 110, 250); fill-opacity: 1;\"/><path class=\"point\" transform=\"translate(166.62,109.35)\" d=\"M3,0A3,3 0 1,1 0,-3A3,3 0 0,1 3,0Z\" style=\"opacity: 1; stroke-width: 0px; fill: rgb(99, 110, 250); fill-opacity: 1;\"/><path class=\"point\" transform=\"translate(169.57,191.17)\" d=\"M3,0A3,3 0 1,1 0,-3A3,3 0 0,1 3,0Z\" style=\"opacity: 1; stroke-width: 0px; fill: rgb(99, 110, 250); fill-opacity: 1;\"/><path class=\"point\" transform=\"translate(172.53,197.01)\" d=\"M3,0A3,3 0 1,1 0,-3A3,3 0 0,1 3,0Z\" style=\"opacity: 1; stroke-width: 0px; fill: rgb(99, 110, 250); fill-opacity: 1;\"/><path class=\"point\" transform=\"translate(175.48,167.79)\" d=\"M3,0A3,3 0 1,1 0,-3A3,3 0 0,1 3,0Z\" style=\"opacity: 1; stroke-width: 0px; fill: rgb(99, 110, 250); fill-opacity: 1;\"/><path class=\"point\" transform=\"translate(178.44,117.15)\" d=\"M3,0A3,3 0 1,1 0,-3A3,3 0 0,1 3,0Z\" style=\"opacity: 1; stroke-width: 0px; fill: rgb(99, 110, 250); fill-opacity: 1;\"/><path class=\"point\" transform=\"translate(181.39,202.85)\" d=\"M3,0A3,3 0 1,1 0,-3A3,3 0 0,1 3,0Z\" style=\"opacity: 1; stroke-width: 0px; fill: rgb(99, 110, 250); fill-opacity: 1;\"/><path class=\"point\" transform=\"translate(184.34,234.02)\" d=\"M3,0A3,3 0 1,1 0,-3A3,3 0 0,1 3,0Z\" style=\"opacity: 1; stroke-width: 0px; fill: rgb(99, 110, 250); fill-opacity: 1;\"/><path class=\"point\" transform=\"translate(187.3,234.02)\" d=\"M3,0A3,3 0 1,1 0,-3A3,3 0 0,1 3,0Z\" style=\"opacity: 1; stroke-width: 0px; fill: rgb(99, 110, 250); fill-opacity: 1;\"/><path class=\"point\" transform=\"translate(190.25,235.97)\" d=\"M3,0A3,3 0 1,1 0,-3A3,3 0 0,1 3,0Z\" style=\"opacity: 1; stroke-width: 0px; fill: rgb(99, 110, 250); fill-opacity: 1;\"/><path class=\"point\" transform=\"translate(193.2,230.13)\" d=\"M3,0A3,3 0 1,1 0,-3A3,3 0 0,1 3,0Z\" style=\"opacity: 1; stroke-width: 0px; fill: rgb(99, 110, 250); fill-opacity: 1;\"/><path class=\"point\" transform=\"translate(196.16,198.96)\" d=\"M3,0A3,3 0 1,1 0,-3A3,3 0 0,1 3,0Z\" style=\"opacity: 1; stroke-width: 0px; fill: rgb(99, 110, 250); fill-opacity: 1;\"/><path class=\"point\" transform=\"translate(199.11,216.49)\" d=\"M3,0A3,3 0 1,1 0,-3A3,3 0 0,1 3,0Z\" style=\"opacity: 1; stroke-width: 0px; fill: rgb(99, 110, 250); fill-opacity: 1;\"/><path class=\"point\" transform=\"translate(202.06,191.17)\" d=\"M3,0A3,3 0 1,1 0,-3A3,3 0 0,1 3,0Z\" style=\"opacity: 1; stroke-width: 0px; fill: rgb(99, 110, 250); fill-opacity: 1;\"/><path class=\"point\" transform=\"translate(205.02,204.8)\" d=\"M3,0A3,3 0 1,1 0,-3A3,3 0 0,1 3,0Z\" style=\"opacity: 1; stroke-width: 0px; fill: rgb(99, 110, 250); fill-opacity: 1;\"/><path class=\"point\" transform=\"translate(207.97,160)\" d=\"M3,0A3,3 0 1,1 0,-3A3,3 0 0,1 3,0Z\" style=\"opacity: 1; stroke-width: 0px; fill: rgb(99, 110, 250); fill-opacity: 1;\"/><path class=\"point\" transform=\"translate(210.93,228.18)\" d=\"M3,0A3,3 0 1,1 0,-3A3,3 0 0,1 3,0Z\" style=\"opacity: 1; stroke-width: 0px; fill: rgb(99, 110, 250); fill-opacity: 1;\"/><path class=\"point\" transform=\"translate(213.88,241.81)\" d=\"M3,0A3,3 0 1,1 0,-3A3,3 0 0,1 3,0Z\" style=\"opacity: 1; stroke-width: 0px; fill: rgb(99, 110, 250); fill-opacity: 1;\"/><path class=\"point\" transform=\"translate(216.83,257.4)\" d=\"M3,0A3,3 0 1,1 0,-3A3,3 0 0,1 3,0Z\" style=\"opacity: 1; stroke-width: 0px; fill: rgb(99, 110, 250); fill-opacity: 1;\"/><path class=\"point\" transform=\"translate(219.79,191.17)\" d=\"M3,0A3,3 0 1,1 0,-3A3,3 0 0,1 3,0Z\" style=\"opacity: 1; stroke-width: 0px; fill: rgb(99, 110, 250); fill-opacity: 1;\"/><path class=\"point\" transform=\"translate(222.74,210.65)\" d=\"M3,0A3,3 0 1,1 0,-3A3,3 0 0,1 3,0Z\" style=\"opacity: 1; stroke-width: 0px; fill: rgb(99, 110, 250); fill-opacity: 1;\"/><path class=\"point\" transform=\"translate(225.69,206.75)\" d=\"M3,0A3,3 0 1,1 0,-3A3,3 0 0,1 3,0Z\" style=\"opacity: 1; stroke-width: 0px; fill: rgb(99, 110, 250); fill-opacity: 1;\"/><path class=\"point\" transform=\"translate(228.65,206.75)\" d=\"M3,0A3,3 0 1,1 0,-3A3,3 0 0,1 3,0Z\" style=\"opacity: 1; stroke-width: 0px; fill: rgb(99, 110, 250); fill-opacity: 1;\"/><path class=\"point\" transform=\"translate(231.6,171.69)\" d=\"M3,0A3,3 0 1,1 0,-3A3,3 0 0,1 3,0Z\" style=\"opacity: 1; stroke-width: 0px; fill: rgb(99, 110, 250); fill-opacity: 1;\"/><path class=\"point\" transform=\"translate(234.56,195.06)\" d=\"M3,0A3,3 0 1,1 0,-3A3,3 0 0,1 3,0Z\" style=\"opacity: 1; stroke-width: 0px; fill: rgb(99, 110, 250); fill-opacity: 1;\"/><path class=\"point\" transform=\"translate(237.51,212.59)\" d=\"M3,0A3,3 0 1,1 0,-3A3,3 0 0,1 3,0Z\" style=\"opacity: 1; stroke-width: 0px; fill: rgb(99, 110, 250); fill-opacity: 1;\"/><path class=\"point\" transform=\"translate(240.46,150.26)\" d=\"M3,0A3,3 0 1,1 0,-3A3,3 0 0,1 3,0Z\" style=\"opacity: 1; stroke-width: 0px; fill: rgb(99, 110, 250); fill-opacity: 1;\"/><path class=\"point\" transform=\"translate(243.42,208.7)\" d=\"M3,0A3,3 0 1,1 0,-3A3,3 0 0,1 3,0Z\" style=\"opacity: 1; stroke-width: 0px; fill: rgb(99, 110, 250); fill-opacity: 1;\"/><path class=\"point\" transform=\"translate(246.37,187.27)\" d=\"M3,0A3,3 0 1,1 0,-3A3,3 0 0,1 3,0Z\" style=\"opacity: 1; stroke-width: 0px; fill: rgb(99, 110, 250); fill-opacity: 1;\"/><path class=\"point\" transform=\"translate(249.32,208.7)\" d=\"M3,0A3,3 0 1,1 0,-3A3,3 0 0,1 3,0Z\" style=\"opacity: 1; stroke-width: 0px; fill: rgb(99, 110, 250); fill-opacity: 1;\"/><path class=\"point\" transform=\"translate(252.28,218.44)\" d=\"M3,0A3,3 0 1,1 0,-3A3,3 0 0,1 3,0Z\" style=\"opacity: 1; stroke-width: 0px; fill: rgb(99, 110, 250); fill-opacity: 1;\"/><path class=\"point\" transform=\"translate(255.23,249.6)\" d=\"M3,0A3,3 0 1,1 0,-3A3,3 0 0,1 3,0Z\" style=\"opacity: 1; stroke-width: 0px; fill: rgb(99, 110, 250); fill-opacity: 1;\"/><path class=\"point\" transform=\"translate(258.19,259.34)\" d=\"M3,0A3,3 0 1,1 0,-3A3,3 0 0,1 3,0Z\" style=\"opacity: 1; stroke-width: 0px; fill: rgb(99, 110, 250); fill-opacity: 1;\"/><path class=\"point\" transform=\"translate(261.14,235.97)\" d=\"M3,0A3,3 0 1,1 0,-3A3,3 0 0,1 3,0Z\" style=\"opacity: 1; stroke-width: 0px; fill: rgb(99, 110, 250); fill-opacity: 1;\"/><path class=\"point\" transform=\"translate(264.09,255.45)\" d=\"M3,0A3,3 0 1,1 0,-3A3,3 0 0,1 3,0Z\" style=\"opacity: 1; stroke-width: 0px; fill: rgb(99, 110, 250); fill-opacity: 1;\"/><path class=\"point\" transform=\"translate(267.05,257.4)\" d=\"M3,0A3,3 0 1,1 0,-3A3,3 0 0,1 3,0Z\" style=\"opacity: 1; stroke-width: 0px; fill: rgb(99, 110, 250); fill-opacity: 1;\"/><path class=\"point\" transform=\"translate(270,271.03)\" d=\"M3,0A3,3 0 1,1 0,-3A3,3 0 0,1 3,0Z\" style=\"opacity: 1; stroke-width: 0px; fill: rgb(99, 110, 250); fill-opacity: 1;\"/><path class=\"point\" transform=\"translate(272.95,278.82)\" d=\"M3,0A3,3 0 1,1 0,-3A3,3 0 0,1 3,0Z\" style=\"opacity: 1; stroke-width: 0px; fill: rgb(99, 110, 250); fill-opacity: 1;\"/><path class=\"point\" transform=\"translate(275.91,267.14)\" d=\"M3,0A3,3 0 1,1 0,-3A3,3 0 0,1 3,0Z\" style=\"opacity: 1; stroke-width: 0px; fill: rgb(99, 110, 250); fill-opacity: 1;\"/><path class=\"point\" transform=\"translate(278.86,269.08)\" d=\"M3,0A3,3 0 1,1 0,-3A3,3 0 0,1 3,0Z\" style=\"opacity: 1; stroke-width: 0px; fill: rgb(99, 110, 250); fill-opacity: 1;\"/><path class=\"point\" transform=\"translate(281.81,263.24)\" d=\"M3,0A3,3 0 1,1 0,-3A3,3 0 0,1 3,0Z\" style=\"opacity: 1; stroke-width: 0px; fill: rgb(99, 110, 250); fill-opacity: 1;\"/><path class=\"point\" transform=\"translate(284.77,274.93)\" d=\"M3,0A3,3 0 1,1 0,-3A3,3 0 0,1 3,0Z\" style=\"opacity: 1; stroke-width: 0px; fill: rgb(99, 110, 250); fill-opacity: 1;\"/><path class=\"point\" transform=\"translate(287.72,280.77)\" d=\"M3,0A3,3 0 1,1 0,-3A3,3 0 0,1 3,0Z\" style=\"opacity: 1; stroke-width: 0px; fill: rgb(99, 110, 250); fill-opacity: 1;\"/><path class=\"point\" transform=\"translate(290.68,276.88)\" d=\"M3,0A3,3 0 1,1 0,-3A3,3 0 0,1 3,0Z\" style=\"opacity: 1; stroke-width: 0px; fill: rgb(99, 110, 250); fill-opacity: 1;\"/><path class=\"point\" transform=\"translate(293.63,292.46)\" d=\"M3,0A3,3 0 1,1 0,-3A3,3 0 0,1 3,0Z\" style=\"opacity: 1; stroke-width: 0px; fill: rgb(99, 110, 250); fill-opacity: 1;\"/><path class=\"point\" transform=\"translate(296.58,288.56)\" d=\"M3,0A3,3 0 1,1 0,-3A3,3 0 0,1 3,0Z\" style=\"opacity: 1; stroke-width: 0px; fill: rgb(99, 110, 250); fill-opacity: 1;\"/><path class=\"point\" transform=\"translate(299.54,290.51)\" d=\"M3,0A3,3 0 1,1 0,-3A3,3 0 0,1 3,0Z\" style=\"opacity: 1; stroke-width: 0px; fill: rgb(99, 110, 250); fill-opacity: 1;\"/><path class=\"point\" transform=\"translate(302.49,282.72)\" d=\"M3,0A3,3 0 1,1 0,-3A3,3 0 0,1 3,0Z\" style=\"opacity: 1; stroke-width: 0px; fill: rgb(99, 110, 250); fill-opacity: 1;\"/><path class=\"point\" transform=\"translate(305.44,288.56)\" d=\"M3,0A3,3 0 1,1 0,-3A3,3 0 0,1 3,0Z\" style=\"opacity: 1; stroke-width: 0px; fill: rgb(99, 110, 250); fill-opacity: 1;\"/><path class=\"point\" transform=\"translate(308.4,292.46)\" d=\"M3,0A3,3 0 1,1 0,-3A3,3 0 0,1 3,0Z\" style=\"opacity: 1; stroke-width: 0px; fill: rgb(99, 110, 250); fill-opacity: 1;\"/><path class=\"point\" transform=\"translate(311.35,286.61)\" d=\"M3,0A3,3 0 1,1 0,-3A3,3 0 0,1 3,0Z\" style=\"opacity: 1; stroke-width: 0px; fill: rgb(99, 110, 250); fill-opacity: 1;\"/><path class=\"point\" transform=\"translate(314.31,284.67)\" d=\"M3,0A3,3 0 1,1 0,-3A3,3 0 0,1 3,0Z\" style=\"opacity: 1; stroke-width: 0px; fill: rgb(99, 110, 250); fill-opacity: 1;\"/><path class=\"point\" transform=\"translate(317.26,292.46)\" d=\"M3,0A3,3 0 1,1 0,-3A3,3 0 0,1 3,0Z\" style=\"opacity: 1; stroke-width: 0px; fill: rgb(99, 110, 250); fill-opacity: 1;\"/><path class=\"point\" transform=\"translate(320.21,282.72)\" d=\"M3,0A3,3 0 1,1 0,-3A3,3 0 0,1 3,0Z\" style=\"opacity: 1; stroke-width: 0px; fill: rgb(99, 110, 250); fill-opacity: 1;\"/><path class=\"point\" transform=\"translate(323.17,290.51)\" d=\"M3,0A3,3 0 1,1 0,-3A3,3 0 0,1 3,0Z\" style=\"opacity: 1; stroke-width: 0px; fill: rgb(99, 110, 250); fill-opacity: 1;\"/><path class=\"point\" transform=\"translate(326.12,300.25)\" d=\"M3,0A3,3 0 1,1 0,-3A3,3 0 0,1 3,0Z\" style=\"opacity: 1; stroke-width: 0px; fill: rgb(99, 110, 250); fill-opacity: 1;\"/><path class=\"point\" transform=\"translate(329.07,294.41)\" d=\"M3,0A3,3 0 1,1 0,-3A3,3 0 0,1 3,0Z\" style=\"opacity: 1; stroke-width: 0px; fill: rgb(99, 110, 250); fill-opacity: 1;\"/><path class=\"point\" transform=\"translate(332.03,294.41)\" d=\"M3,0A3,3 0 1,1 0,-3A3,3 0 0,1 3,0Z\" style=\"opacity: 1; stroke-width: 0px; fill: rgb(99, 110, 250); fill-opacity: 1;\"/><path class=\"point\" transform=\"translate(334.98,284.67)\" d=\"M3,0A3,3 0 1,1 0,-3A3,3 0 0,1 3,0Z\" style=\"opacity: 1; stroke-width: 0px; fill: rgb(99, 110, 250); fill-opacity: 1;\"/><path class=\"point\" transform=\"translate(337.94,296.35)\" d=\"M3,0A3,3 0 1,1 0,-3A3,3 0 0,1 3,0Z\" style=\"opacity: 1; stroke-width: 0px; fill: rgb(99, 110, 250); fill-opacity: 1;\"/><path class=\"point\" transform=\"translate(343.84,298.3)\" d=\"M3,0A3,3 0 1,1 0,-3A3,3 0 0,1 3,0Z\" style=\"opacity: 1; stroke-width: 0px; fill: rgb(99, 110, 250); fill-opacity: 1;\"/><path class=\"point\" transform=\"translate(346.8,296.35)\" d=\"M3,0A3,3 0 1,1 0,-3A3,3 0 0,1 3,0Z\" style=\"opacity: 1; stroke-width: 0px; fill: rgb(99, 110, 250); fill-opacity: 1;\"/><path class=\"point\" transform=\"translate(349.75,286.61)\" d=\"M3,0A3,3 0 1,1 0,-3A3,3 0 0,1 3,0Z\" style=\"opacity: 1; stroke-width: 0px; fill: rgb(99, 110, 250); fill-opacity: 1;\"/><path class=\"point\" transform=\"translate(352.7,259.34)\" d=\"M3,0A3,3 0 1,1 0,-3A3,3 0 0,1 3,0Z\" style=\"opacity: 1; stroke-width: 0px; fill: rgb(99, 110, 250); fill-opacity: 1;\"/><path class=\"point\" transform=\"translate(355.66,243.76)\" d=\"M3,0A3,3 0 1,1 0,-3A3,3 0 0,1 3,0Z\" style=\"opacity: 1; stroke-width: 0px; fill: rgb(99, 110, 250); fill-opacity: 1;\"/><path class=\"point\" transform=\"translate(358.61,249.6)\" d=\"M3,0A3,3 0 1,1 0,-3A3,3 0 0,1 3,0Z\" style=\"opacity: 1; stroke-width: 0px; fill: rgb(99, 110, 250); fill-opacity: 1;\"/><path class=\"point\" transform=\"translate(361.56,247.66)\" d=\"M3,0A3,3 0 1,1 0,-3A3,3 0 0,1 3,0Z\" style=\"opacity: 1; stroke-width: 0px; fill: rgb(99, 110, 250); fill-opacity: 1;\"/><path class=\"point\" transform=\"translate(364.52,261.29)\" d=\"M3,0A3,3 0 1,1 0,-3A3,3 0 0,1 3,0Z\" style=\"opacity: 1; stroke-width: 0px; fill: rgb(99, 110, 250); fill-opacity: 1;\"/><path class=\"point\" transform=\"translate(367.47,245.71)\" d=\"M3,0A3,3 0 1,1 0,-3A3,3 0 0,1 3,0Z\" style=\"opacity: 1; stroke-width: 0px; fill: rgb(99, 110, 250); fill-opacity: 1;\"/><path class=\"point\" transform=\"translate(370.43,255.45)\" d=\"M3,0A3,3 0 1,1 0,-3A3,3 0 0,1 3,0Z\" style=\"opacity: 1; stroke-width: 0px; fill: rgb(99, 110, 250); fill-opacity: 1;\"/><path class=\"point\" transform=\"translate(373.38,282.72)\" d=\"M3,0A3,3 0 1,1 0,-3A3,3 0 0,1 3,0Z\" style=\"opacity: 1; stroke-width: 0px; fill: rgb(99, 110, 250); fill-opacity: 1;\"/><path class=\"point\" transform=\"translate(376.33,282.72)\" d=\"M3,0A3,3 0 1,1 0,-3A3,3 0 0,1 3,0Z\" style=\"opacity: 1; stroke-width: 0px; fill: rgb(99, 110, 250); fill-opacity: 1;\"/><path class=\"point\" transform=\"translate(379.29,288.56)\" d=\"M3,0A3,3 0 1,1 0,-3A3,3 0 0,1 3,0Z\" style=\"opacity: 1; stroke-width: 0px; fill: rgb(99, 110, 250); fill-opacity: 1;\"/><path class=\"point\" transform=\"translate(382.24,274.93)\" d=\"M3,0A3,3 0 1,1 0,-3A3,3 0 0,1 3,0Z\" style=\"opacity: 1; stroke-width: 0px; fill: rgb(99, 110, 250); fill-opacity: 1;\"/><path class=\"point\" transform=\"translate(385.19,249.6)\" d=\"M3,0A3,3 0 1,1 0,-3A3,3 0 0,1 3,0Z\" style=\"opacity: 1; stroke-width: 0px; fill: rgb(99, 110, 250); fill-opacity: 1;\"/><path class=\"point\" transform=\"translate(388.15,272.98)\" d=\"M3,0A3,3 0 1,1 0,-3A3,3 0 0,1 3,0Z\" style=\"opacity: 1; stroke-width: 0px; fill: rgb(99, 110, 250); fill-opacity: 1;\"/><path class=\"point\" transform=\"translate(391.1,280.77)\" d=\"M3,0A3,3 0 1,1 0,-3A3,3 0 0,1 3,0Z\" style=\"opacity: 1; stroke-width: 0px; fill: rgb(99, 110, 250); fill-opacity: 1;\"/><path class=\"point\" transform=\"translate(394.06,259.34)\" d=\"M3,0A3,3 0 1,1 0,-3A3,3 0 0,1 3,0Z\" style=\"opacity: 1; stroke-width: 0px; fill: rgb(99, 110, 250); fill-opacity: 1;\"/><path class=\"point\" transform=\"translate(397.01,263.24)\" d=\"M3,0A3,3 0 1,1 0,-3A3,3 0 0,1 3,0Z\" style=\"opacity: 1; stroke-width: 0px; fill: rgb(99, 110, 250); fill-opacity: 1;\"/><path class=\"point\" transform=\"translate(399.96,269.08)\" d=\"M3,0A3,3 0 1,1 0,-3A3,3 0 0,1 3,0Z\" style=\"opacity: 1; stroke-width: 0px; fill: rgb(99, 110, 250); fill-opacity: 1;\"/><path class=\"point\" transform=\"translate(402.92,274.93)\" d=\"M3,0A3,3 0 1,1 0,-3A3,3 0 0,1 3,0Z\" style=\"opacity: 1; stroke-width: 0px; fill: rgb(99, 110, 250); fill-opacity: 1;\"/><path class=\"point\" transform=\"translate(405.87,230.13)\" d=\"M3,0A3,3 0 1,1 0,-3A3,3 0 0,1 3,0Z\" style=\"opacity: 1; stroke-width: 0px; fill: rgb(99, 110, 250); fill-opacity: 1;\"/><path class=\"point\" transform=\"translate(408.82,152.21)\" d=\"M3,0A3,3 0 1,1 0,-3A3,3 0 0,1 3,0Z\" style=\"opacity: 1; stroke-width: 0px; fill: rgb(99, 110, 250); fill-opacity: 1;\"/><path class=\"point\" transform=\"translate(411.78,191.17)\" d=\"M3,0A3,3 0 1,1 0,-3A3,3 0 0,1 3,0Z\" style=\"opacity: 1; stroke-width: 0px; fill: rgb(99, 110, 250); fill-opacity: 1;\"/><path class=\"point\" transform=\"translate(414.73,230.13)\" d=\"M3,0A3,3 0 1,1 0,-3A3,3 0 0,1 3,0Z\" style=\"opacity: 1; stroke-width: 0px; fill: rgb(99, 110, 250); fill-opacity: 1;\"/><path class=\"point\" transform=\"translate(417.69,257.4)\" d=\"M3,0A3,3 0 1,1 0,-3A3,3 0 0,1 3,0Z\" style=\"opacity: 1; stroke-width: 0px; fill: rgb(99, 110, 250); fill-opacity: 1;\"/><path class=\"point\" transform=\"translate(420.64,239.86)\" d=\"M3,0A3,3 0 1,1 0,-3A3,3 0 0,1 3,0Z\" style=\"opacity: 1; stroke-width: 0px; fill: rgb(99, 110, 250); fill-opacity: 1;\"/><path class=\"point\" transform=\"translate(423.59,212.59)\" d=\"M3,0A3,3 0 1,1 0,-3A3,3 0 0,1 3,0Z\" style=\"opacity: 1; stroke-width: 0px; fill: rgb(99, 110, 250); fill-opacity: 1;\"/><path class=\"point\" transform=\"translate(426.55,216.49)\" d=\"M3,0A3,3 0 1,1 0,-3A3,3 0 0,1 3,0Z\" style=\"opacity: 1; stroke-width: 0px; fill: rgb(99, 110, 250); fill-opacity: 1;\"/><path class=\"point\" transform=\"translate(429.5,237.92)\" d=\"M3,0A3,3 0 1,1 0,-3A3,3 0 0,1 3,0Z\" style=\"opacity: 1; stroke-width: 0px; fill: rgb(99, 110, 250); fill-opacity: 1;\"/><path class=\"point\" transform=\"translate(432.45,226.23)\" d=\"M3,0A3,3 0 1,1 0,-3A3,3 0 0,1 3,0Z\" style=\"opacity: 1; stroke-width: 0px; fill: rgb(99, 110, 250); fill-opacity: 1;\"/><path class=\"point\" transform=\"translate(435.41,198.96)\" d=\"M3,0A3,3 0 1,1 0,-3A3,3 0 0,1 3,0Z\" style=\"opacity: 1; stroke-width: 0px; fill: rgb(99, 110, 250); fill-opacity: 1;\"/><path class=\"point\" transform=\"translate(438.36,200.91)\" d=\"M3,0A3,3 0 1,1 0,-3A3,3 0 0,1 3,0Z\" style=\"opacity: 1; stroke-width: 0px; fill: rgb(99, 110, 250); fill-opacity: 1;\"/><path class=\"point\" transform=\"translate(441.31,247.66)\" d=\"M3,0A3,3 0 1,1 0,-3A3,3 0 0,1 3,0Z\" style=\"opacity: 1; stroke-width: 0px; fill: rgb(99, 110, 250); fill-opacity: 1;\"/><path class=\"point\" transform=\"translate(444.27,228.18)\" d=\"M3,0A3,3 0 1,1 0,-3A3,3 0 0,1 3,0Z\" style=\"opacity: 1; stroke-width: 0px; fill: rgb(99, 110, 250); fill-opacity: 1;\"/><path class=\"point\" transform=\"translate(447.22,204.8)\" d=\"M3,0A3,3 0 1,1 0,-3A3,3 0 0,1 3,0Z\" style=\"opacity: 1; stroke-width: 0px; fill: rgb(99, 110, 250); fill-opacity: 1;\"/><path class=\"point\" transform=\"translate(450.18,228.18)\" d=\"M3,0A3,3 0 1,1 0,-3A3,3 0 0,1 3,0Z\" style=\"opacity: 1; stroke-width: 0px; fill: rgb(99, 110, 250); fill-opacity: 1;\"/><path class=\"point\" transform=\"translate(453.13,216.49)\" d=\"M3,0A3,3 0 1,1 0,-3A3,3 0 0,1 3,0Z\" style=\"opacity: 1; stroke-width: 0px; fill: rgb(99, 110, 250); fill-opacity: 1;\"/><path class=\"point\" transform=\"translate(456.08,206.75)\" d=\"M3,0A3,3 0 1,1 0,-3A3,3 0 0,1 3,0Z\" style=\"opacity: 1; stroke-width: 0px; fill: rgb(99, 110, 250); fill-opacity: 1;\"/><path class=\"point\" transform=\"translate(459.04,228.18)\" d=\"M3,0A3,3 0 1,1 0,-3A3,3 0 0,1 3,0Z\" style=\"opacity: 1; stroke-width: 0px; fill: rgb(99, 110, 250); fill-opacity: 1;\"/><path class=\"point\" transform=\"translate(461.99,253.5)\" d=\"M3,0A3,3 0 1,1 0,-3A3,3 0 0,1 3,0Z\" style=\"opacity: 1; stroke-width: 0px; fill: rgb(99, 110, 250); fill-opacity: 1;\"/><path class=\"point\" transform=\"translate(464.94,255.45)\" d=\"M3,0A3,3 0 1,1 0,-3A3,3 0 0,1 3,0Z\" style=\"opacity: 1; stroke-width: 0px; fill: rgb(99, 110, 250); fill-opacity: 1;\"/><path class=\"point\" transform=\"translate(467.9,224.28)\" d=\"M3,0A3,3 0 1,1 0,-3A3,3 0 0,1 3,0Z\" style=\"opacity: 1; stroke-width: 0px; fill: rgb(99, 110, 250); fill-opacity: 1;\"/><path class=\"point\" transform=\"translate(470.85,204.8)\" d=\"M3,0A3,3 0 1,1 0,-3A3,3 0 0,1 3,0Z\" style=\"opacity: 1; stroke-width: 0px; fill: rgb(99, 110, 250); fill-opacity: 1;\"/><path class=\"point\" transform=\"translate(473.81,220.39)\" d=\"M3,0A3,3 0 1,1 0,-3A3,3 0 0,1 3,0Z\" style=\"opacity: 1; stroke-width: 0px; fill: rgb(99, 110, 250); fill-opacity: 1;\"/><path class=\"point\" transform=\"translate(476.76,200.91)\" d=\"M3,0A3,3 0 1,1 0,-3A3,3 0 0,1 3,0Z\" style=\"opacity: 1; stroke-width: 0px; fill: rgb(99, 110, 250); fill-opacity: 1;\"/><path class=\"point\" transform=\"translate(479.71,222.33)\" d=\"M3,0A3,3 0 1,1 0,-3A3,3 0 0,1 3,0Z\" style=\"opacity: 1; stroke-width: 0px; fill: rgb(99, 110, 250); fill-opacity: 1;\"/><path class=\"point\" transform=\"translate(482.67,263.24)\" d=\"M3,0A3,3 0 1,1 0,-3A3,3 0 0,1 3,0Z\" style=\"opacity: 1; stroke-width: 0px; fill: rgb(99, 110, 250); fill-opacity: 1;\"/><path class=\"point\" transform=\"translate(485.62,272.98)\" d=\"M3,0A3,3 0 1,1 0,-3A3,3 0 0,1 3,0Z\" style=\"opacity: 1; stroke-width: 0px; fill: rgb(99, 110, 250); fill-opacity: 1;\"/><path class=\"point\" transform=\"translate(488.57,228.18)\" d=\"M3,0A3,3 0 1,1 0,-3A3,3 0 0,1 3,0Z\" style=\"opacity: 1; stroke-width: 0px; fill: rgb(99, 110, 250); fill-opacity: 1;\"/><path class=\"point\" transform=\"translate(491.53,253.5)\" d=\"M3,0A3,3 0 1,1 0,-3A3,3 0 0,1 3,0Z\" style=\"opacity: 1; stroke-width: 0px; fill: rgb(99, 110, 250); fill-opacity: 1;\"/><path class=\"point\" transform=\"translate(494.48,237.92)\" d=\"M3,0A3,3 0 1,1 0,-3A3,3 0 0,1 3,0Z\" style=\"opacity: 1; stroke-width: 0px; fill: rgb(99, 110, 250); fill-opacity: 1;\"/><path class=\"point\" transform=\"translate(497.44,224.28)\" d=\"M3,0A3,3 0 1,1 0,-3A3,3 0 0,1 3,0Z\" style=\"opacity: 1; stroke-width: 0px; fill: rgb(99, 110, 250); fill-opacity: 1;\"/><path class=\"point\" transform=\"translate(500.39,208.7)\" d=\"M3,0A3,3 0 1,1 0,-3A3,3 0 0,1 3,0Z\" style=\"opacity: 1; stroke-width: 0px; fill: rgb(99, 110, 250); fill-opacity: 1;\"/><path class=\"point\" transform=\"translate(503.34,228.18)\" d=\"M3,0A3,3 0 1,1 0,-3A3,3 0 0,1 3,0Z\" style=\"opacity: 1; stroke-width: 0px; fill: rgb(99, 110, 250); fill-opacity: 1;\"/><path class=\"point\" transform=\"translate(506.3,253.5)\" d=\"M3,0A3,3 0 1,1 0,-3A3,3 0 0,1 3,0Z\" style=\"opacity: 1; stroke-width: 0px; fill: rgb(99, 110, 250); fill-opacity: 1;\"/><path class=\"point\" transform=\"translate(509.25,288.56)\" d=\"M3,0A3,3 0 1,1 0,-3A3,3 0 0,1 3,0Z\" style=\"opacity: 1; stroke-width: 0px; fill: rgb(99, 110, 250); fill-opacity: 1;\"/></g><g class=\"text\"/></g></g></g><g class=\"overplot\"/><path class=\"xlines-above crisp\" d=\"M0,0\" style=\"fill: none;\"/><path class=\"ylines-above crisp\" d=\"M0,0\" style=\"fill: none;\"/><g class=\"overlines-above\"/><g class=\"xaxislayer-above\"><g class=\"xtick\"><text text-anchor=\"middle\" x=\"0\" y=\"433\" transform=\"translate(146.19,0)\" style=\"font-family: 'Open Sans', verdana, arial, sans-serif; font-size: 12px; fill: rgb(42, 63, 95); fill-opacity: 1; white-space: pre; opacity: 1;\">Feb 2020</text></g><g class=\"xtick\"><text text-anchor=\"middle\" x=\"0\" y=\"433\" style=\"font-family: 'Open Sans', verdana, arial, sans-serif; font-size: 12px; fill: rgb(42, 63, 95); fill-opacity: 1; white-space: pre; opacity: 1;\" transform=\"translate(231.85,0)\">Mar 2020</text></g><g class=\"xtick\"><text text-anchor=\"middle\" x=\"0\" y=\"433\" style=\"font-family: 'Open Sans', verdana, arial, sans-serif; font-size: 12px; fill: rgb(42, 63, 95); fill-opacity: 1; white-space: pre; opacity: 1;\" transform=\"translate(323.41999999999996,0)\">Apr 2020</text></g><g class=\"xtick\"><text text-anchor=\"middle\" x=\"0\" y=\"433\" style=\"font-family: 'Open Sans', verdana, arial, sans-serif; font-size: 12px; fill: rgb(42, 63, 95); fill-opacity: 1; white-space: pre; opacity: 1;\" transform=\"translate(412.03,0)\">May 2020</text></g><g class=\"xtick\"><text text-anchor=\"middle\" x=\"0\" y=\"433\" style=\"font-family: 'Open Sans', verdana, arial, sans-serif; font-size: 12px; fill: rgb(42, 63, 95); fill-opacity: 1; white-space: pre; opacity: 1;\" transform=\"translate(503.59,0)\">Jun 2020</text></g><g class=\"xtick\"><text text-anchor=\"middle\" x=\"0\" y=\"433\" style=\"font-family: 'Open Sans', verdana, arial, sans-serif; font-size: 12px; fill: rgb(42, 63, 95); fill-opacity: 1; white-space: pre; opacity: 1;\" transform=\"translate(592.2,0)\">Jul 2020</text></g></g><g class=\"yaxislayer-above\"><g class=\"ytick\"><text text-anchor=\"end\" x=\"79\" y=\"4.199999999999999\" transform=\"translate(0,402.2)\" style=\"font-family: 'Open Sans', verdana, arial, sans-serif; font-size: 12px; fill: rgb(42, 63, 95); fill-opacity: 1; white-space: pre; opacity: 1;\">0</text></g><g class=\"ytick\"><text text-anchor=\"end\" x=\"79\" y=\"4.199999999999999\" style=\"font-family: 'Open Sans', verdana, arial, sans-serif; font-size: 12px; fill: rgb(42, 63, 95); fill-opacity: 1; white-space: pre; opacity: 1;\" transform=\"translate(0,363.24)\">20</text></g><g class=\"ytick\"><text text-anchor=\"end\" x=\"79\" y=\"4.199999999999999\" style=\"font-family: 'Open Sans', verdana, arial, sans-serif; font-size: 12px; fill: rgb(42, 63, 95); fill-opacity: 1; white-space: pre; opacity: 1;\" transform=\"translate(0,324.28)\">40</text></g><g class=\"ytick\"><text text-anchor=\"end\" x=\"79\" y=\"4.199999999999999\" style=\"font-family: 'Open Sans', verdana, arial, sans-serif; font-size: 12px; fill: rgb(42, 63, 95); fill-opacity: 1; white-space: pre; opacity: 1;\" transform=\"translate(0,285.32)\">60</text></g><g class=\"ytick\"><text text-anchor=\"end\" x=\"79\" y=\"4.199999999999999\" style=\"font-family: 'Open Sans', verdana, arial, sans-serif; font-size: 12px; fill: rgb(42, 63, 95); fill-opacity: 1; white-space: pre; opacity: 1;\" transform=\"translate(0,246.36)\">80</text></g><g class=\"ytick\"><text text-anchor=\"end\" x=\"79\" y=\"4.199999999999999\" style=\"font-family: 'Open Sans', verdana, arial, sans-serif; font-size: 12px; fill: rgb(42, 63, 95); fill-opacity: 1; white-space: pre; opacity: 1;\" transform=\"translate(0,207.41)\">100</text></g><g class=\"ytick\"><text text-anchor=\"end\" x=\"79\" y=\"4.199999999999999\" style=\"font-family: 'Open Sans', verdana, arial, sans-serif; font-size: 12px; fill: rgb(42, 63, 95); fill-opacity: 1; white-space: pre; opacity: 1;\" transform=\"translate(0,168.45)\">120</text></g><g class=\"ytick\"><text text-anchor=\"end\" x=\"79\" y=\"4.199999999999999\" style=\"font-family: 'Open Sans', verdana, arial, sans-serif; font-size: 12px; fill: rgb(42, 63, 95); fill-opacity: 1; white-space: pre; opacity: 1;\" transform=\"translate(0,129.49)\">140</text></g></g><g class=\"overaxes-above\"/></g></g><g class=\"polarlayer\"/><g class=\"smithlayer\"/><g class=\"ternarylayer\"/><g class=\"geolayer\"/><g class=\"funnelarealayer\"/><g class=\"pielayer\"/><g class=\"iciclelayer\"/><g class=\"treemaplayer\"/><g class=\"sunburstlayer\"/><g class=\"glimages\"/><defs id=\"topdefs-360f0c\"><g class=\"clips\"/></defs><g class=\"layer-above\"><g class=\"imagelayer\"/><g class=\"shapelayer\"/></g><g class=\"infolayer\"><g class=\"g-gtitle\"><text class=\"gtitle\" x=\"35\" y=\"50\" text-anchor=\"start\" dy=\"0em\" style=\"font-family: 'Open Sans', verdana, arial, sans-serif; font-size: 17px; fill: rgb(42, 63, 95); opacity: 1; font-weight: normal; white-space: pre;\">Confirmed Covid cases per day</text></g><g class=\"g-xtitle\"><text class=\"xtitle\" x=\"350\" y=\"459.8\" text-anchor=\"middle\" style=\"font-family: 'Open Sans', verdana, arial, sans-serif; font-size: 14px; fill: rgb(42, 63, 95); opacity: 1; font-weight: normal; white-space: pre;\">Date</text></g><g class=\"g-ytitle\"><text class=\"ytitle\" transform=\"rotate(-90,31.809375000000003,260)\" x=\"31.809375000000003\" y=\"260\" text-anchor=\"middle\" style=\"font-family: 'Open Sans', verdana, arial, sans-serif; font-size: 14px; fill: rgb(42, 63, 95); opacity: 1; font-weight: normal; white-space: pre;\">Cases per day</text></g></g></svg>"
      ]
     },
     "metadata": {},
     "output_type": "display_data"
    }
   ],
   "source": [
    "fig = px.timeline(\n",
    "    time_bound_policies_df,\n",
    "    x_start=\"start_date\",\n",
    "    x_end=\"end_date\",\n",
    "    y=\"gov_policy\",\n",
    "    color_discrete_sequence=px.colors.qualitative.D3,\n",
    "    color=\"type\",\n",
    "    title=\"COVID-19 Related Government Policies Completed in 2020\",\n",
    "    hover_data=[\"gov_policy\", \"detail\"],\n",
    "    labels={\n",
    "        \"start_date\": \"Start Date\",\n",
    "        \"end_date\": \"End Date\",\n",
    "        \"type\": \"Policy\",\n",
    "        \"gov_policy\": \"Government Policy\",\n",
    "        \"detail\": \"Description:\",\n",
    "    },\n",
    ")\n",
    "fig.update_yaxes(autorange=\"reversed\")\n",
    "fig.show('svg')\n",
    "\n",
    "\n",
    "fig2 = px.timeline(\n",
    "    stacked_policies_df,\n",
    "    x_start=\"start_date\",\n",
    "    x_end=\"end_date\",\n",
    "    y=\"gov_policy\",\n",
    "    color_discrete_sequence=px.colors.qualitative.D3,\n",
    "    color=\"type\",\n",
    "    title=\"COVID-19 Related Government Policies Completed in 2020\",\n",
    "    hover_data=[\"gov_policy\", \"detail\"],\n",
    "    labels={\n",
    "        \"start_date\": \"Start Date\",\n",
    "        \"end_date\": \"End Date\",\n",
    "        \"type\": \"Policy\",\n",
    "        \"gov_policy\": \"Government Policy\",\n",
    "        \"detail\": \"Description:\",\n",
    "    },\n",
    ")\n",
    "fig2.show('svg')\n",
    "\n",
    "\n",
    "df = patient_info_df.groupby(\"confirmed_date\").count().iloc[:, 0]\n",
    "fig3 = px.line(\n",
    "    df,\n",
    "    x=df.index,\n",
    "    y=\"patient_id\",\n",
    "    title=\"Confirmed Covid cases per day\",\n",
    "    labels={\"confirmed_date\": \"Date\", \"patient_id\": \"Cases per day\"},\n",
    "    markers=True,\n",
    ")\n",
    "fig3.show('svg')\n"
   ]
  },
  {
   "cell_type": "markdown",
   "id": "600bb8eb",
   "metadata": {},
   "source": [
    "Together these three graphs show the timeline of government led campaigns and administrative controls alongside case numbers. After the initial waves of cases in February-April, the government's social distancing campaign ended. However, high-density social spaces like karaoke bars and nightclubs remained open until May 8th/21st. <br><br> We cannot prove or disprove this hypothesis with the current data, but the uptick in cases around this time could point to social controls lifting at least partially during this time. Even though cases increased during this month, the government's diagnostic test kit distribution policy, mandatory self-quarantine policies, and social distancing messenging from the year appear to have helped keep cases from reaching March/April levels in the country. "
   ]
  },
  {
   "cell_type": "markdown",
   "id": "b9141922",
   "metadata": {},
   "source": [
    "## Patient mortality"
   ]
  },
  {
   "cell_type": "markdown",
   "id": "80795a87",
   "metadata": {},
   "source": [
    "Now that we have a good overall view of covid patient prevalence across our dataset, we can assess patient mortality since that is an important indicator of pandemic response effectiveness within the country. We have deceased/released numbers in the timeprovince_df, timeage_df, and timegender_df. "
   ]
  },
  {
   "cell_type": "code",
   "execution_count": 46,
   "id": "af51745e",
   "metadata": {},
   "outputs": [
    {
     "name": "stdout",
     "output_type": "stream",
     "text": [
      "\n",
      "Total deaths:25504\n",
      "Total cases: 1261203\n"
     ]
    },
    {
     "data": {
      "image/svg+xml": [
       "<svg class=\"main-svg\" xmlns=\"http://www.w3.org/2000/svg\" xmlns:xlink=\"http://www.w3.org/1999/xlink\" width=\"700\" height=\"500\" style=\"\" viewBox=\"0 0 700 500\"><rect x=\"0\" y=\"0\" width=\"700\" height=\"500\" style=\"fill: rgb(255, 255, 255); fill-opacity: 1;\"/><defs id=\"defs-4d34cf\"><g class=\"clips\"><clipPath id=\"clip4d34cfxyplot\" class=\"plotclip\"><rect width=\"540\" height=\"320\"/></clipPath><clipPath class=\"axesclip\" id=\"clip4d34cfx\"><rect x=\"80\" y=\"0\" width=\"540\" height=\"500\"/></clipPath><clipPath class=\"axesclip\" id=\"clip4d34cfy\"><rect x=\"0\" y=\"100\" width=\"700\" height=\"320\"/></clipPath><clipPath class=\"axesclip\" id=\"clip4d34cfxy\"><rect x=\"80\" y=\"100\" width=\"540\" height=\"320\"/></clipPath></g><g class=\"gradients\"/><g class=\"patterns\"/></defs><g class=\"bglayer\"><rect class=\"bg\" x=\"80\" y=\"100\" width=\"540\" height=\"320\" style=\"fill: rgb(229, 236, 246); fill-opacity: 1; stroke-width: 0;\"/></g><g class=\"layer-below\"><g class=\"imagelayer\"/><g class=\"shapelayer\"/></g><g class=\"cartesianlayer\"><g class=\"subplot xy\"><g class=\"layer-subplot\"><g class=\"shapelayer\"/><g class=\"imagelayer\"/></g><g class=\"minor-gridlayer\"><g class=\"x\"/><g class=\"y\"/></g><g class=\"gridlayer\"><g class=\"x\"><path class=\"xgrid crisp\" transform=\"translate(110.75,0)\" d=\"M0,100v320\" style=\"stroke: rgb(255, 255, 255); stroke-opacity: 1; stroke-width: 1px;\"/><path class=\"xgrid crisp\" transform=\"translate(170.56,0)\" d=\"M0,100v320\" style=\"stroke: rgb(255, 255, 255); stroke-opacity: 1; stroke-width: 1px;\"/><path class=\"xgrid crisp\" transform=\"translate(230.37,0)\" d=\"M0,100v320\" style=\"stroke: rgb(255, 255, 255); stroke-opacity: 1; stroke-width: 1px;\"/><path class=\"xgrid crisp\" transform=\"translate(290.19,0)\" d=\"M0,100v320\" style=\"stroke: rgb(255, 255, 255); stroke-opacity: 1; stroke-width: 1px;\"/><path class=\"xgrid crisp\" transform=\"translate(350,0)\" d=\"M0,100v320\" style=\"stroke: rgb(255, 255, 255); stroke-opacity: 1; stroke-width: 1px;\"/><path class=\"xgrid crisp\" transform=\"translate(409.81,0)\" d=\"M0,100v320\" style=\"stroke: rgb(255, 255, 255); stroke-opacity: 1; stroke-width: 1px;\"/><path class=\"xgrid crisp\" transform=\"translate(469.62,0)\" d=\"M0,100v320\" style=\"stroke: rgb(255, 255, 255); stroke-opacity: 1; stroke-width: 1px;\"/><path class=\"xgrid crisp\" transform=\"translate(529.44,0)\" d=\"M0,100v320\" style=\"stroke: rgb(255, 255, 255); stroke-opacity: 1; stroke-width: 1px;\"/><path class=\"xgrid crisp\" transform=\"translate(589.25,0)\" d=\"M0,100v320\" style=\"stroke: rgb(255, 255, 255); stroke-opacity: 1; stroke-width: 1px;\"/></g><g class=\"y\"><path class=\"ygrid crisp\" transform=\"translate(0,337.75)\" d=\"M80,0h540\" style=\"stroke: rgb(255, 255, 255); stroke-opacity: 1; stroke-width: 1px;\"/><path class=\"ygrid crisp\" transform=\"translate(0,275.24)\" d=\"M80,0h540\" style=\"stroke: rgb(255, 255, 255); stroke-opacity: 1; stroke-width: 1px;\"/><path class=\"ygrid crisp\" transform=\"translate(0,212.74)\" d=\"M80,0h540\" style=\"stroke: rgb(255, 255, 255); stroke-opacity: 1; stroke-width: 1px;\"/><path class=\"ygrid crisp\" transform=\"translate(0,150.23)\" d=\"M80,0h540\" style=\"stroke: rgb(255, 255, 255); stroke-opacity: 1; stroke-width: 1px;\"/></g></g><g class=\"zerolinelayer\"><path class=\"yzl zl crisp\" transform=\"translate(0,400.25)\" d=\"M80,0h540\" style=\"stroke: rgb(255, 255, 255); stroke-opacity: 1; stroke-width: 2px;\"/></g><path class=\"xlines-below\"/><path class=\"ylines-below\"/><g class=\"overlines-below\"/><g class=\"xaxislayer-below\"/><g class=\"yaxislayer-below\"/><g class=\"overaxes-below\"/><g class=\"plot\" transform=\"translate(80,100)\" clip-path=\"url(#clip4d34cfxyplot)\"><g class=\"scatterlayer mlayer\"><g class=\"trace scatter trace0604fe\" style=\"stroke-miterlimit: 2; opacity: 1;\"><g class=\"fills\"/><g class=\"errorbars\"/><g class=\"lines\"><path class=\"js-line\" d=\"M30.75,300.25L150.37,300.25L210.19,298.49L270,298.06L329.81,291.9L389.62,270.73L449.44,184.55L509.25,19.75\" style=\"vector-effect: none; fill: none; stroke: rgb(99, 110, 250); stroke-opacity: 1; stroke-width: 2px; opacity: 1;\"/></g><g class=\"points\"><path class=\"point\" transform=\"translate(30.75,300.25)\" d=\"M3,0A3,3 0 1,1 0,-3A3,3 0 0,1 3,0Z\" style=\"opacity: 1; stroke-width: 0px; fill: rgb(99, 110, 250); fill-opacity: 1;\"/><path class=\"point\" transform=\"translate(90.56,300.25)\" d=\"M3,0A3,3 0 1,1 0,-3A3,3 0 0,1 3,0Z\" style=\"opacity: 1; stroke-width: 0px; fill: rgb(99, 110, 250); fill-opacity: 1;\"/><path class=\"point\" transform=\"translate(150.37,300.25)\" d=\"M3,0A3,3 0 1,1 0,-3A3,3 0 0,1 3,0Z\" style=\"opacity: 1; stroke-width: 0px; fill: rgb(99, 110, 250); fill-opacity: 1;\"/><path class=\"point\" transform=\"translate(210.19,298.49)\" d=\"M3,0A3,3 0 1,1 0,-3A3,3 0 0,1 3,0Z\" style=\"opacity: 1; stroke-width: 0px; fill: rgb(99, 110, 250); fill-opacity: 1;\"/><path class=\"point\" transform=\"translate(270,298.06)\" d=\"M3,0A3,3 0 1,1 0,-3A3,3 0 0,1 3,0Z\" style=\"opacity: 1; stroke-width: 0px; fill: rgb(99, 110, 250); fill-opacity: 1;\"/><path class=\"point\" transform=\"translate(329.81,291.9)\" d=\"M3,0A3,3 0 1,1 0,-3A3,3 0 0,1 3,0Z\" style=\"opacity: 1; stroke-width: 0px; fill: rgb(99, 110, 250); fill-opacity: 1;\"/><path class=\"point\" transform=\"translate(389.62,270.73)\" d=\"M3,0A3,3 0 1,1 0,-3A3,3 0 0,1 3,0Z\" style=\"opacity: 1; stroke-width: 0px; fill: rgb(99, 110, 250); fill-opacity: 1;\"/><path class=\"point\" transform=\"translate(449.44,184.55)\" d=\"M3,0A3,3 0 1,1 0,-3A3,3 0 0,1 3,0Z\" style=\"opacity: 1; stroke-width: 0px; fill: rgb(99, 110, 250); fill-opacity: 1;\"/><path class=\"point\" transform=\"translate(509.25,19.75)\" d=\"M3,0A3,3 0 1,1 0,-3A3,3 0 0,1 3,0Z\" style=\"opacity: 1; stroke-width: 0px; fill: rgb(99, 110, 250); fill-opacity: 1;\"/></g><g class=\"text\"/></g></g></g><g class=\"overplot\"/><path class=\"xlines-above crisp\" d=\"M0,0\" style=\"fill: none;\"/><path class=\"ylines-above crisp\" d=\"M0,0\" style=\"fill: none;\"/><g class=\"overlines-above\"/><g class=\"xaxislayer-above\"><g class=\"xtick\"><text text-anchor=\"middle\" x=\"0\" y=\"433\" transform=\"translate(110.75,0)\" style=\"font-family: 'Open Sans', verdana, arial, sans-serif; font-size: 12px; fill: rgb(42, 63, 95); fill-opacity: 1; white-space: pre; opacity: 1;\">0s</text></g><g class=\"xtick\"><text text-anchor=\"middle\" x=\"0\" y=\"433\" transform=\"translate(170.56,0)\" style=\"font-family: 'Open Sans', verdana, arial, sans-serif; font-size: 12px; fill: rgb(42, 63, 95); fill-opacity: 1; white-space: pre; opacity: 1;\">10s</text></g><g class=\"xtick\"><text text-anchor=\"middle\" x=\"0\" y=\"433\" transform=\"translate(230.37,0)\" style=\"font-family: 'Open Sans', verdana, arial, sans-serif; font-size: 12px; fill: rgb(42, 63, 95); fill-opacity: 1; white-space: pre; opacity: 1;\">20s</text></g><g class=\"xtick\"><text text-anchor=\"middle\" x=\"0\" y=\"433\" transform=\"translate(290.19,0)\" style=\"font-family: 'Open Sans', verdana, arial, sans-serif; font-size: 12px; fill: rgb(42, 63, 95); fill-opacity: 1; white-space: pre; opacity: 1;\">30s</text></g><g class=\"xtick\"><text text-anchor=\"middle\" x=\"0\" y=\"433\" transform=\"translate(350,0)\" style=\"font-family: 'Open Sans', verdana, arial, sans-serif; font-size: 12px; fill: rgb(42, 63, 95); fill-opacity: 1; white-space: pre; opacity: 1;\">40s</text></g><g class=\"xtick\"><text text-anchor=\"middle\" x=\"0\" y=\"433\" transform=\"translate(409.81,0)\" style=\"font-family: 'Open Sans', verdana, arial, sans-serif; font-size: 12px; fill: rgb(42, 63, 95); fill-opacity: 1; white-space: pre; opacity: 1;\">50s</text></g><g class=\"xtick\"><text text-anchor=\"middle\" x=\"0\" y=\"433\" transform=\"translate(469.62,0)\" style=\"font-family: 'Open Sans', verdana, arial, sans-serif; font-size: 12px; fill: rgb(42, 63, 95); fill-opacity: 1; white-space: pre; opacity: 1;\">60s</text></g><g class=\"xtick\"><text text-anchor=\"middle\" x=\"0\" y=\"433\" transform=\"translate(529.44,0)\" style=\"font-family: 'Open Sans', verdana, arial, sans-serif; font-size: 12px; fill: rgb(42, 63, 95); fill-opacity: 1; white-space: pre; opacity: 1;\">70s</text></g><g class=\"xtick\"><text text-anchor=\"middle\" x=\"0\" y=\"433\" transform=\"translate(589.25,0)\" style=\"font-family: 'Open Sans', verdana, arial, sans-serif; font-size: 12px; fill: rgb(42, 63, 95); fill-opacity: 1; white-space: pre; opacity: 1;\">80s</text></g></g><g class=\"yaxislayer-above\"><g class=\"ytick\"><text text-anchor=\"end\" x=\"79\" y=\"4.199999999999999\" transform=\"translate(0,400.25)\" style=\"font-family: 'Open Sans', verdana, arial, sans-serif; font-size: 12px; fill: rgb(42, 63, 95); fill-opacity: 1; white-space: pre; opacity: 1;\">0</text></g><g class=\"ytick\"><text text-anchor=\"end\" x=\"79\" y=\"4.199999999999999\" style=\"font-family: 'Open Sans', verdana, arial, sans-serif; font-size: 12px; fill: rgb(42, 63, 95); fill-opacity: 1; white-space: pre; opacity: 1;\" transform=\"translate(0,337.75)\">0.05</text></g><g class=\"ytick\"><text text-anchor=\"end\" x=\"79\" y=\"4.199999999999999\" style=\"font-family: 'Open Sans', verdana, arial, sans-serif; font-size: 12px; fill: rgb(42, 63, 95); fill-opacity: 1; white-space: pre; opacity: 1;\" transform=\"translate(0,275.24)\">0.1</text></g><g class=\"ytick\"><text text-anchor=\"end\" x=\"79\" y=\"4.199999999999999\" style=\"font-family: 'Open Sans', verdana, arial, sans-serif; font-size: 12px; fill: rgb(42, 63, 95); fill-opacity: 1; white-space: pre; opacity: 1;\" transform=\"translate(0,212.74)\">0.15</text></g><g class=\"ytick\"><text text-anchor=\"end\" x=\"79\" y=\"4.199999999999999\" style=\"font-family: 'Open Sans', verdana, arial, sans-serif; font-size: 12px; fill: rgb(42, 63, 95); fill-opacity: 1; white-space: pre; opacity: 1;\" transform=\"translate(0,150.23)\">0.2</text></g></g><g class=\"overaxes-above\"/></g></g><g class=\"polarlayer\"/><g class=\"smithlayer\"/><g class=\"ternarylayer\"/><g class=\"geolayer\"/><g class=\"funnelarealayer\"/><g class=\"pielayer\"/><g class=\"iciclelayer\"/><g class=\"treemaplayer\"/><g class=\"sunburstlayer\"/><g class=\"glimages\"/><defs id=\"topdefs-4d34cf\"><g class=\"clips\"/></defs><g class=\"layer-above\"><g class=\"imagelayer\"/><g class=\"shapelayer\"/></g><g class=\"infolayer\"><g class=\"g-gtitle\"><text class=\"gtitle\" x=\"35\" y=\"50\" text-anchor=\"start\" dy=\"0em\" style=\"font-family: 'Open Sans', verdana, arial, sans-serif; font-size: 17px; fill: rgb(42, 63, 95); opacity: 1; font-weight: normal; white-space: pre;\">Mortality rates by age</text></g><g class=\"g-xtitle\"><text class=\"xtitle\" x=\"350\" y=\"459.8\" text-anchor=\"middle\" style=\"font-family: 'Open Sans', verdana, arial, sans-serif; font-size: 14px; fill: rgb(42, 63, 95); opacity: 1; font-weight: normal; white-space: pre;\">Age</text></g><g class=\"g-ytitle\"><text class=\"ytitle\" transform=\"rotate(-90,27.434375000000003,260)\" x=\"27.434375000000003\" y=\"260\" text-anchor=\"middle\" style=\"font-family: 'Open Sans', verdana, arial, sans-serif; font-size: 14px; fill: rgb(42, 63, 95); opacity: 1; font-weight: normal; white-space: pre;\">Mortality rates</text></g></g></svg>"
      ]
     },
     "metadata": {},
     "output_type": "display_data"
    },
    {
     "name": "stdout",
     "output_type": "stream",
     "text": [
      "\n",
      "Total deaths: 25504\n",
      "Total cases: 1261203\n"
     ]
    }
   ],
   "source": [
    "df = timeage_df.copy()\n",
    "df.set_index(\"age\")\n",
    "case_mortality = df[[\"confirmed\", \"age\", \"deceased\"]].groupby(by=\"age\").sum()\n",
    "case_mortality[\"mortality_rate\"] = case_mortality.deceased / case_mortality.confirmed\n",
    "\n",
    "print(f\"\\nTotal deaths:{df.deceased.sum()}\\nTotal cases: {df.confirmed.sum()}\")\n",
    "\n",
    "fig = px.line(\n",
    "    case_mortality,\n",
    "    x=case_mortality.index,\n",
    "    y=\"mortality_rate\",\n",
    "    labels={\"age\": \"Age\", \"mortality_rate\": \"Mortality rates\"},\n",
    "    title=\"Mortality rates by age\",\n",
    "    markers=True,\n",
    ")\n",
    "\n",
    "fig.show('svg')\n",
    "case_mortality.head(10)\n",
    "print(f\"\\nTotal deaths: {df.deceased.sum()}\\nTotal cases: {df.confirmed.sum()}\")\n"
   ]
  },
  {
   "cell_type": "markdown",
   "id": "e431aab2",
   "metadata": {},
   "source": [
    "Mortality rates are zero for confirmed covid patients below the age of 30, but increases for each decade of life after that. Our data shows that we have 25,504 total deaths out of 1,261,203 total cases, so we can conclude that older patients are at higher risk. When thinking about transmissibility, we should also consider how cases can spread between groups of different ages as well. "
   ]
  },
  {
   "cell_type": "code",
   "execution_count": 47,
   "id": "16453ef3",
   "metadata": {},
   "outputs": [
    {
     "data": {
      "image/svg+xml": [
       "<svg class=\"main-svg\" xmlns=\"http://www.w3.org/2000/svg\" xmlns:xlink=\"http://www.w3.org/1999/xlink\" width=\"700\" height=\"500\" style=\"\" viewBox=\"0 0 700 500\"><rect x=\"0\" y=\"0\" width=\"700\" height=\"500\" style=\"fill: rgb(255, 255, 255); fill-opacity: 1;\"/><defs id=\"defs-1f61f9\"><g class=\"clips\"><clipPath id=\"clip1f61f9xyplot\" class=\"plotclip\"><rect width=\"512\" height=\"320\"/></clipPath><clipPath class=\"axesclip\" id=\"clip1f61f9x\"><rect x=\"80\" y=\"0\" width=\"512\" height=\"500\"/></clipPath><clipPath class=\"axesclip\" id=\"clip1f61f9y\"><rect x=\"0\" y=\"100\" width=\"700\" height=\"320\"/></clipPath><clipPath class=\"axesclip\" id=\"clip1f61f9xy\"><rect x=\"80\" y=\"100\" width=\"512\" height=\"320\"/></clipPath></g><g class=\"gradients\"/><g class=\"patterns\"/></defs><g class=\"bglayer\"><rect class=\"bg\" x=\"80\" y=\"100\" width=\"512\" height=\"320\" style=\"fill: rgb(229, 236, 246); fill-opacity: 1; stroke-width: 0;\"/></g><g class=\"layer-below\"><g class=\"imagelayer\"/><g class=\"shapelayer\"/></g><g class=\"cartesianlayer\"><g class=\"subplot xy\"><g class=\"layer-subplot\"><g class=\"shapelayer\"/><g class=\"imagelayer\"/></g><g class=\"minor-gridlayer\"><g class=\"x\"/><g class=\"y\"/></g><g class=\"gridlayer\"><g class=\"x\"><path class=\"xgrid crisp\" transform=\"translate(208,0)\" d=\"M0,100v320\" style=\"stroke: rgb(255, 255, 255); stroke-opacity: 1; stroke-width: 1px;\"/><path class=\"xgrid crisp\" transform=\"translate(336,0)\" d=\"M0,100v320\" style=\"stroke: rgb(255, 255, 255); stroke-opacity: 1; stroke-width: 1px;\"/><path class=\"xgrid crisp\" transform=\"translate(468.27,0)\" d=\"M0,100v320\" style=\"stroke: rgb(255, 255, 255); stroke-opacity: 1; stroke-width: 1px;\"/></g><g class=\"y\"><path class=\"ygrid crisp\" transform=\"translate(0,381.69)\" d=\"M80,0h512\" style=\"stroke: rgb(255, 255, 255); stroke-opacity: 1; stroke-width: 1px;\"/><path class=\"ygrid crisp\" transform=\"translate(0,341.13)\" d=\"M80,0h512\" style=\"stroke: rgb(255, 255, 255); stroke-opacity: 1; stroke-width: 1px;\"/><path class=\"ygrid crisp\" transform=\"translate(0,300.56)\" d=\"M80,0h512\" style=\"stroke: rgb(255, 255, 255); stroke-opacity: 1; stroke-width: 1px;\"/><path class=\"ygrid crisp\" transform=\"translate(0,260)\" d=\"M80,0h512\" style=\"stroke: rgb(255, 255, 255); stroke-opacity: 1; stroke-width: 1px;\"/><path class=\"ygrid crisp\" transform=\"translate(0,219.44)\" d=\"M80,0h512\" style=\"stroke: rgb(255, 255, 255); stroke-opacity: 1; stroke-width: 1px;\"/><path class=\"ygrid crisp\" transform=\"translate(0,178.87)\" d=\"M80,0h512\" style=\"stroke: rgb(255, 255, 255); stroke-opacity: 1; stroke-width: 1px;\"/><path class=\"ygrid crisp\" transform=\"translate(0,138.31)\" d=\"M80,0h512\" style=\"stroke: rgb(255, 255, 255); stroke-opacity: 1; stroke-width: 1px;\"/></g></g><g class=\"zerolinelayer\"/><path class=\"xlines-below\"/><path class=\"ylines-below\"/><g class=\"overlines-below\"/><g class=\"xaxislayer-below\"/><g class=\"yaxislayer-below\"/><g class=\"overaxes-below\"/><g class=\"plot\" transform=\"translate(80,100)\" clip-path=\"url(#clip1f61f9xyplot)\"><g class=\"scatterlayer mlayer\"><g class=\"trace scatter trace819111\" style=\"stroke-miterlimit: 2; opacity: 1;\"><g class=\"fills\"/><g class=\"errorbars\"/><g class=\"lines\"><path class=\"js-line\" d=\"M0,295.89L4.27,289.8L8.53,281.69L12.8,279.66L17.07,271.55L21.33,269.52L25.6,263.44L38.4,251.27L42.67,245.18L46.93,243.15L51.2,239.1L59.73,239.1L64,233.01L68.27,230.99L72.53,222.87L76.8,218.82L81.07,212.73L85.33,210.7L89.6,204.62L93.87,200.56L98.13,192.45L102.4,184.34L106.67,170.14L110.93,166.08L115.2,164.06L128,151.89L132.27,145.8L136.53,135.66L140.8,131.61L145.07,125.52L149.33,123.49L153.6,117.41L157.87,107.27L162.13,105.24L166.4,101.18L179.2,89.01L183.47,86.99L187.73,82.93L192,74.82L196.27,74.82L200.53,70.76L204.8,70.76L209.07,68.73L213.33,68.73L217.6,66.7L221.87,64.68L226.13,64.68L238.93,64.68L243.2,62.65L251.73,58.59L256,58.59L264.53,58.59L268.8,56.56L273.07,56.56L277.33,54.54L281.6,52.51L285.87,52.51L302.93,52.51L307.2,50.48L311.47,48.45L315.73,48.45L320,46.42L324.27,46.42L328.53,44.39L332.8,44.39L337.07,44.39L341.33,42.37L345.6,42.37L349.87,38.31L354.13,38.31L358.4,36.28L362.67,34.25L366.93,34.25L379.73,34.25L384,32.23L388.27,32.23L392.53,30.2L396.8,28.17L401.07,28.17L418.13,28.17L422.4,26.14L426.67,24.11L430.93,24.11L448,24.11L452.27,22.08L460.8,18.03L465.07,18.03L486.4,18.03L490.67,16L512,16\" style=\"vector-effect: none; fill: none; stroke: rgb(99, 110, 250); stroke-opacity: 1; stroke-width: 2px; opacity: 1;\"/></g><g class=\"points\"/><g class=\"text\"/></g><g class=\"trace scatter trace1737a8\" style=\"stroke-miterlimit: 2; opacity: 1;\"><g class=\"fills\"/><g class=\"errorbars\"/><g class=\"lines\"><path class=\"js-line\" d=\"M0,304L4.27,297.92L8.53,297.92L12.8,293.86L17.07,287.77L21.33,285.75L25.6,281.69L29.87,281.69L34.13,279.66L38.4,271.55L42.67,265.46L46.93,265.46L51.2,259.38L55.47,253.3L59.73,253.3L64,247.21L68.27,243.15L72.53,237.07L76.8,235.04L81.07,224.9L85.33,222.87L89.6,214.76L93.87,200.56L98.13,196.51L102.4,194.48L106.67,192.45L110.93,186.37L115.2,172.17L119.47,164.06L123.73,160L128,157.97L132.27,155.94L136.53,155.94L140.8,153.92L145.07,147.83L149.33,143.77L153.6,137.69L162.13,125.52L166.4,121.46L179.2,115.38L183.47,107.27L187.73,105.24L192,105.24L196.27,103.21L200.53,103.21L204.8,99.15L209.07,97.13L213.33,95.1L217.6,95.1L221.87,93.07L226.13,93.07L230.4,93.07L234.67,89.01L238.93,86.99L243.2,86.99L247.47,84.96L251.73,84.96L256,82.93L260.27,78.87L264.53,78.87L268.8,76.85L273.07,72.79L277.33,72.79L298.67,72.79L302.93,68.73L315.73,68.73L320,66.7L358.4,66.7L362.67,64.68L384,64.68L388.27,62.65L422.4,62.65L426.67,60.62L430.93,60.62L435.2,58.59L477.87,58.59L482.13,56.56L512,56.56\" style=\"vector-effect: none; fill: none; stroke: rgb(239, 85, 59); stroke-opacity: 1; stroke-width: 2px; opacity: 1;\"/></g><g class=\"points\"/><g class=\"text\"/></g></g></g><g class=\"overplot\"/><path class=\"xlines-above crisp\" d=\"M0,0\" style=\"fill: none;\"/><path class=\"ylines-above crisp\" d=\"M0,0\" style=\"fill: none;\"/><g class=\"overlines-above\"/><g class=\"xaxislayer-above\"><g class=\"xtick\"><text text-anchor=\"middle\" x=\"0\" y=\"433\" transform=\"translate(208,0)\" style=\"font-family: 'Open Sans', verdana, arial, sans-serif; font-size: 12px; fill: rgb(42, 63, 95); fill-opacity: 1; white-space: pre; opacity: 1;\">Apr 2020</text></g><g class=\"xtick\"><text text-anchor=\"middle\" x=\"0\" y=\"433\" style=\"font-family: 'Open Sans', verdana, arial, sans-serif; font-size: 12px; fill: rgb(42, 63, 95); fill-opacity: 1; white-space: pre; opacity: 1;\" transform=\"translate(336,0)\">May 2020</text></g><g class=\"xtick\"><text text-anchor=\"middle\" x=\"0\" y=\"433\" style=\"font-family: 'Open Sans', verdana, arial, sans-serif; font-size: 12px; fill: rgb(42, 63, 95); fill-opacity: 1; white-space: pre; opacity: 1;\" transform=\"translate(468.27,0)\">Jun 2020</text></g></g><g class=\"yaxislayer-above\"><g class=\"ytick\"><text text-anchor=\"end\" x=\"79\" y=\"4.199999999999999\" transform=\"translate(0,381.69)\" style=\"font-family: 'Open Sans', verdana, arial, sans-serif; font-size: 12px; fill: rgb(42, 63, 95); fill-opacity: 1; white-space: pre; opacity: 1;\">20</text></g><g class=\"ytick\"><text text-anchor=\"end\" x=\"79\" y=\"4.199999999999999\" style=\"font-family: 'Open Sans', verdana, arial, sans-serif; font-size: 12px; fill: rgb(42, 63, 95); fill-opacity: 1; white-space: pre; opacity: 1;\" transform=\"translate(0,341.13)\">40</text></g><g class=\"ytick\"><text text-anchor=\"end\" x=\"79\" y=\"4.199999999999999\" style=\"font-family: 'Open Sans', verdana, arial, sans-serif; font-size: 12px; fill: rgb(42, 63, 95); fill-opacity: 1; white-space: pre; opacity: 1;\" transform=\"translate(0,300.56)\">60</text></g><g class=\"ytick\"><text text-anchor=\"end\" x=\"79\" y=\"4.199999999999999\" style=\"font-family: 'Open Sans', verdana, arial, sans-serif; font-size: 12px; fill: rgb(42, 63, 95); fill-opacity: 1; white-space: pre; opacity: 1;\" transform=\"translate(0,260)\">80</text></g><g class=\"ytick\"><text text-anchor=\"end\" x=\"79\" y=\"4.199999999999999\" style=\"font-family: 'Open Sans', verdana, arial, sans-serif; font-size: 12px; fill: rgb(42, 63, 95); fill-opacity: 1; white-space: pre; opacity: 1;\" transform=\"translate(0,219.44)\">100</text></g><g class=\"ytick\"><text text-anchor=\"end\" x=\"79\" y=\"4.199999999999999\" style=\"font-family: 'Open Sans', verdana, arial, sans-serif; font-size: 12px; fill: rgb(42, 63, 95); fill-opacity: 1; white-space: pre; opacity: 1;\" transform=\"translate(0,178.87)\">120</text></g><g class=\"ytick\"><text text-anchor=\"end\" x=\"79\" y=\"4.199999999999999\" style=\"font-family: 'Open Sans', verdana, arial, sans-serif; font-size: 12px; fill: rgb(42, 63, 95); fill-opacity: 1; white-space: pre; opacity: 1;\" transform=\"translate(0,138.31)\">140</text></g></g><g class=\"overaxes-above\"/></g></g><g class=\"polarlayer\"/><g class=\"smithlayer\"/><g class=\"ternarylayer\"/><g class=\"geolayer\"/><g class=\"funnelarealayer\"/><g class=\"pielayer\"/><g class=\"iciclelayer\"/><g class=\"treemaplayer\"/><g class=\"sunburstlayer\"/><g class=\"glimages\"/><defs id=\"topdefs-1f61f9\"><g class=\"clips\"/><clipPath id=\"legend1f61f9\"><rect width=\"86\" height=\"67\" x=\"0\" y=\"0\"/></clipPath></defs><g class=\"layer-above\"><g class=\"imagelayer\"/><g class=\"shapelayer\"/></g><g class=\"infolayer\"><g class=\"legend\" pointer-events=\"all\" transform=\"translate(602.24,100)\"><rect class=\"bg\" shape-rendering=\"crispEdges\" style=\"stroke: rgb(68, 68, 68); stroke-opacity: 1; fill: rgb(255, 255, 255); fill-opacity: 1; stroke-width: 0px;\" width=\"86\" height=\"67\" x=\"0\" y=\"0\"/><g class=\"scrollbox\" transform=\"\" clip-path=\"url(#legend1f61f9)\"><text class=\"legendtitletext\" text-anchor=\"start\" x=\"2\" y=\"18.2\" style=\"font-family: 'Open Sans', verdana, arial, sans-serif; font-size: 14px; fill: rgb(42, 63, 95); fill-opacity: 1; white-space: pre;\">sex</text><g class=\"groups\" transform=\"\"><g class=\"traces\" transform=\"translate(0,32.7)\" style=\"opacity: 1;\"><text class=\"legendtext\" text-anchor=\"start\" x=\"40\" y=\"4.680000000000001\" style=\"font-family: 'Open Sans', verdana, arial, sans-serif; font-size: 12px; fill: rgb(42, 63, 95); fill-opacity: 1; white-space: pre;\">male</text><g class=\"layers\" style=\"opacity: 1;\"><g class=\"legendfill\"/><g class=\"legendlines\"><path class=\"js-line\" d=\"M5,0h30\" style=\"fill: none; stroke: rgb(99, 110, 250); stroke-opacity: 1; stroke-width: 2px;\"/></g><g class=\"legendsymbols\"><g class=\"legendpoints\"/></g></g><rect class=\"legendtoggle\" x=\"0\" y=\"-9.5\" width=\"80.6875\" height=\"19\" style=\"fill: rgb(0, 0, 0); fill-opacity: 0;\"/></g></g><g class=\"groups\" transform=\"\"><g class=\"traces\" transform=\"translate(0,51.7)\" style=\"opacity: 1;\"><text class=\"legendtext\" text-anchor=\"start\" x=\"40\" y=\"4.680000000000001\" style=\"font-family: 'Open Sans', verdana, arial, sans-serif; font-size: 12px; fill: rgb(42, 63, 95); fill-opacity: 1; white-space: pre;\">female</text><g class=\"layers\" style=\"opacity: 1;\"><g class=\"legendfill\"/><g class=\"legendlines\"><path class=\"js-line\" d=\"M5,0h30\" style=\"fill: none; stroke: rgb(239, 85, 59); stroke-opacity: 1; stroke-width: 2px;\"/></g><g class=\"legendsymbols\"><g class=\"legendpoints\"/></g></g><rect class=\"legendtoggle\" x=\"0\" y=\"-9.5\" width=\"80.6875\" height=\"19\" style=\"fill: rgb(0, 0, 0); fill-opacity: 0;\"/></g></g></g><rect class=\"scrollbar\" rx=\"20\" ry=\"3\" width=\"0\" height=\"0\" style=\"fill: rgb(128, 139, 164); fill-opacity: 1;\" x=\"0\" y=\"0\"/></g><g class=\"g-gtitle\"><text class=\"gtitle\" x=\"35\" y=\"50\" text-anchor=\"start\" dy=\"0em\" style=\"font-family: 'Open Sans', verdana, arial, sans-serif; font-size: 17px; fill: rgb(42, 63, 95); opacity: 1; font-weight: normal; white-space: pre;\">Mortality rates by gender (cumulative)</text></g><g class=\"g-xtitle\"><text class=\"xtitle\" x=\"336\" y=\"459.8\" text-anchor=\"middle\" style=\"font-family: 'Open Sans', verdana, arial, sans-serif; font-size: 14px; fill: rgb(42, 63, 95); opacity: 1; font-weight: normal; white-space: pre;\">Date</text></g><g class=\"g-ytitle\"><text class=\"ytitle\" transform=\"rotate(-90,31.809375000000003,260)\" x=\"31.809375000000003\" y=\"260\" text-anchor=\"middle\" style=\"font-family: 'Open Sans', verdana, arial, sans-serif; font-size: 14px; fill: rgb(42, 63, 95); opacity: 1; font-weight: normal; white-space: pre;\">Deaths</text></g></g></svg>"
      ]
     },
     "metadata": {},
     "output_type": "display_data"
    }
   ],
   "source": [
    "fig = px.line(\n",
    "    timegender_df,\n",
    "    x=\"date\",\n",
    "    y=\"deceased\",\n",
    "    labels={\"date\": \"Date\", \"deceased\": \"Deaths\"},\n",
    "    title=\"Mortality rates by gender (cumulative)\",\n",
    "    color=\"sex\",\n",
    ")\n",
    "fig.show('svg')"
   ]
  },
  {
   "cell_type": "markdown",
   "id": "ae41c7e3",
   "metadata": {},
   "source": [
    "This figure shows that male deaths from covid are generally about 5-10 higher than female deaths on any given day--this may be miniscule enough a difference between these two samples to conclude we don't need to consider gender when analyzing covid deaths, but we'll verify before we proceed using a two sample t-test to gauge whether the means are the same."
   ]
  },
  {
   "cell_type": "code",
   "execution_count": 18,
   "id": "21ff419d",
   "metadata": {},
   "outputs": [
    {
     "name": "stdout",
     "output_type": "stream",
     "text": [
      "Reject the null hypothesis; there is a significant difference between male and female deaths per day.\n"
     ]
    }
   ],
   "source": [
    "# T-test : Is the distribution of male and female mortalities the same?\n",
    "#\n",
    "# Store male and female mortalities in two different variables\n",
    "male = timegender_df[timegender_df[\"sex\"] == \"male\"]  # n=121\n",
    "female = timegender_df[timegender_df[\"sex\"] == \"female\"]  # n=121\n",
    "\n",
    "# extract number deceased for each gender\n",
    "male_deceased = male[\"deceased\"]\n",
    "female_deceased = female[\"deceased\"]\n",
    "\n",
    "# perform t-test:\n",
    "t_stat, p_value = stats.ttest_ind(male_deceased, female_deceased)\n",
    "\n",
    "# Interpret resulting values:\n",
    "alpha = 0.05\n",
    "\n",
    "if p_value < alpha:\n",
    "    print(\n",
    "        \"Reject the null hypothesis; there is a significant difference between male and female deaths per day.\"\n",
    "    )\n",
    "else:\n",
    "    print(\n",
    "        \"Fail to reject the null hypothesis. There is no significant difference between these two populations.\"\n",
    "    )"
   ]
  },
  {
   "cell_type": "markdown",
   "id": "cddfe6e5",
   "metadata": {},
   "source": [
    "From our t-test above, we can conclude that the male and female mortality distributions are not the same, therefore we'll have to consider gender in our policy recommendations as we go. We might not be able to fully identify the correlations we need to speak more authoritatively about the reason(s) that these populations are different given the limitations of this dataset, but it's important to recognize nonetheless. Next let's plot deaths by province. "
   ]
  },
  {
   "cell_type": "code",
   "execution_count": 48,
   "id": "d93d60ba",
   "metadata": {},
   "outputs": [
    {
     "data": {
      "image/svg+xml": [
       "<svg class=\"main-svg\" xmlns=\"http://www.w3.org/2000/svg\" xmlns:xlink=\"http://www.w3.org/1999/xlink\" width=\"700\" height=\"500\" style=\"\" viewBox=\"0 0 700 500\"><rect x=\"0\" y=\"0\" width=\"700\" height=\"500\" style=\"fill: rgb(255, 255, 255); fill-opacity: 1;\"/><defs id=\"defs-985c59\"><g class=\"clips\"><clipPath id=\"clip985c59xyplot\" class=\"plotclip\"><rect width=\"425\" height=\"320\"/></clipPath><clipPath class=\"axesclip\" id=\"clip985c59x\"><rect x=\"80\" y=\"0\" width=\"425\" height=\"500\"/></clipPath><clipPath class=\"axesclip\" id=\"clip985c59y\"><rect x=\"0\" y=\"100\" width=\"700\" height=\"320\"/></clipPath><clipPath class=\"axesclip\" id=\"clip985c59xy\"><rect x=\"80\" y=\"100\" width=\"425\" height=\"320\"/></clipPath></g><g class=\"gradients\"/><g class=\"patterns\"/></defs><g class=\"bglayer\"><rect class=\"bg\" x=\"80\" y=\"100\" width=\"425\" height=\"320\" style=\"fill: rgb(229, 236, 246); fill-opacity: 1; stroke-width: 0;\"/></g><g class=\"layer-below\"><g class=\"imagelayer\"/><g class=\"shapelayer\"/></g><g class=\"cartesianlayer\"><g class=\"subplot xy\"><g class=\"layer-subplot\"><g class=\"shapelayer\"/><g class=\"imagelayer\"/></g><g class=\"minor-gridlayer\"><g class=\"x\"/><g class=\"y\"/></g><g class=\"gridlayer\"><g class=\"x\"><path class=\"xgrid crisp\" transform=\"translate(111.48,0)\" d=\"M0,100v320\" style=\"stroke: rgb(255, 255, 255); stroke-opacity: 1; stroke-width: 1px;\"/><path class=\"xgrid crisp\" transform=\"translate(187.56,0)\" d=\"M0,100v320\" style=\"stroke: rgb(255, 255, 255); stroke-opacity: 1; stroke-width: 1px;\"/><path class=\"xgrid crisp\" transform=\"translate(268.89,0)\" d=\"M0,100v320\" style=\"stroke: rgb(255, 255, 255); stroke-opacity: 1; stroke-width: 1px;\"/><path class=\"xgrid crisp\" transform=\"translate(347.59,0)\" d=\"M0,100v320\" style=\"stroke: rgb(255, 255, 255); stroke-opacity: 1; stroke-width: 1px;\"/><path class=\"xgrid crisp\" transform=\"translate(428.92,0)\" d=\"M0,100v320\" style=\"stroke: rgb(255, 255, 255); stroke-opacity: 1; stroke-width: 1px;\"/></g><g class=\"y\"><path class=\"ygrid crisp\" transform=\"translate(0,327.81)\" d=\"M80,0h425\" style=\"stroke: rgb(255, 255, 255); stroke-opacity: 1; stroke-width: 1px;\"/><path class=\"ygrid crisp\" transform=\"translate(0,251.62)\" d=\"M80,0h425\" style=\"stroke: rgb(255, 255, 255); stroke-opacity: 1; stroke-width: 1px;\"/><path class=\"ygrid crisp\" transform=\"translate(0,175.43)\" d=\"M80,0h425\" style=\"stroke: rgb(255, 255, 255); stroke-opacity: 1; stroke-width: 1px;\"/></g></g><g class=\"zerolinelayer\"><path class=\"yzl zl crisp\" transform=\"translate(0,404)\" d=\"M80,0h425\" style=\"stroke: rgb(255, 255, 255); stroke-opacity: 1; stroke-width: 2px;\"/></g><path class=\"xlines-below\"/><path class=\"ylines-below\"/><g class=\"overlines-below\"/><g class=\"xaxislayer-below\"/><g class=\"yaxislayer-below\"/><g class=\"overaxes-below\"/><g class=\"plot\" transform=\"translate(80,100)\" clip-path=\"url(#clip985c59xyplot)\"/><g class=\"overplot\"/><path class=\"xlines-above crisp\" d=\"M0,0\" style=\"fill: none;\"/><path class=\"ylines-above crisp\" d=\"M0,0\" style=\"fill: none;\"/><g class=\"overlines-above\"/><g class=\"xaxislayer-above\"><g class=\"xtick\"><text text-anchor=\"middle\" x=\"0\" y=\"433\" transform=\"translate(111.48,0)\" style=\"font-family: 'Open Sans', verdana, arial, sans-serif; font-size: 12px; fill: rgb(42, 63, 95); fill-opacity: 1; white-space: pre; opacity: 1;\">Feb 2020</text></g><g class=\"xtick\"><text text-anchor=\"middle\" x=\"0\" y=\"433\" style=\"font-family: 'Open Sans', verdana, arial, sans-serif; font-size: 12px; fill: rgb(42, 63, 95); fill-opacity: 1; white-space: pre; opacity: 1;\" transform=\"translate(187.56,0)\">Mar 2020</text></g><g class=\"xtick\"><text text-anchor=\"middle\" x=\"0\" y=\"433\" style=\"font-family: 'Open Sans', verdana, arial, sans-serif; font-size: 12px; fill: rgb(42, 63, 95); fill-opacity: 1; white-space: pre; opacity: 1;\" transform=\"translate(268.89,0)\">Apr 2020</text></g><g class=\"xtick\"><text text-anchor=\"middle\" x=\"0\" y=\"433\" style=\"font-family: 'Open Sans', verdana, arial, sans-serif; font-size: 12px; fill: rgb(42, 63, 95); fill-opacity: 1; white-space: pre; opacity: 1;\" transform=\"translate(347.59,0)\">May 2020</text></g><g class=\"xtick\"><text text-anchor=\"middle\" x=\"0\" y=\"433\" style=\"font-family: 'Open Sans', verdana, arial, sans-serif; font-size: 12px; fill: rgb(42, 63, 95); fill-opacity: 1; white-space: pre; opacity: 1;\" transform=\"translate(428.92,0)\">Jun 2020</text></g></g><g class=\"yaxislayer-above\"><g class=\"ytick\"><text text-anchor=\"end\" x=\"79\" y=\"4.199999999999999\" transform=\"translate(0,404)\" style=\"font-family: 'Open Sans', verdana, arial, sans-serif; font-size: 12px; fill: rgb(42, 63, 95); fill-opacity: 1; white-space: pre; opacity: 1;\">0</text></g><g class=\"ytick\"><text text-anchor=\"end\" x=\"79\" y=\"4.199999999999999\" style=\"font-family: 'Open Sans', verdana, arial, sans-serif; font-size: 12px; fill: rgb(42, 63, 95); fill-opacity: 1; white-space: pre; opacity: 1;\" transform=\"translate(0,327.81)\">50</text></g><g class=\"ytick\"><text text-anchor=\"end\" x=\"79\" y=\"4.199999999999999\" style=\"font-family: 'Open Sans', verdana, arial, sans-serif; font-size: 12px; fill: rgb(42, 63, 95); fill-opacity: 1; white-space: pre; opacity: 1;\" transform=\"translate(0,251.62)\">100</text></g><g class=\"ytick\"><text text-anchor=\"end\" x=\"79\" y=\"4.199999999999999\" style=\"font-family: 'Open Sans', verdana, arial, sans-serif; font-size: 12px; fill: rgb(42, 63, 95); fill-opacity: 1; white-space: pre; opacity: 1;\" transform=\"translate(0,175.43)\">150</text></g></g><g class=\"overaxes-above\"/></g></g><g class=\"polarlayer\"/><g class=\"smithlayer\"/><g class=\"ternarylayer\"/><g class=\"geolayer\"/><g class=\"funnelarealayer\"/><g class=\"pielayer\"/><g class=\"iciclelayer\"/><g class=\"treemaplayer\"/><g class=\"sunburstlayer\"/><g class=\"glimages\"><image xmlns=\"http://www.w3.org/2000/svg\" xlink:href=\"data:image/png;base64,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\" preserveAspectRatio=\"none\" x=\"0\" y=\"0\" width=\"700px\" height=\"500px\"/><image xmlns=\"http://www.w3.org/2000/svg\" xlink:href=\"data:image/png;base64,iVBORw0KGgoAAAANSUhEUgAABXgAAAPoCAYAAABkvZZOAAAgAElEQVR4XuzYQQ0AAAwCseHf9HRc0ikgHS92jgABAgQIECBAgAABAgQIECBAgAABAgSSAkumFpoAAQIECBAgQIAAAQIECBAgQIAAAQIEzsCrBAQIECBAgAABAgQIECBAgAABAgQIEIgKGHijjxObAAECBAgQIECAAAECBAgQIECAAAECBl4dIECAAAECBAgQIECAAAECBAgQIECAQFTAwBt9nNgECBAgQIAAAQIECBAgQIAAAQIECBAw8OoAAQIECBAgQIAAAQIECBAgQIAAAQIEogIG3ujjxCZAgAABAgQIECBAgAABAgQIECBAgICBVwcIECBAgAABAgQIECBAgAABAgQIECAQFTDwRh8nNgECBAgQIECAAAECBAgQIECAAAECBAy8OkCAAAECBAgQIECAAAECBAgQIECAAIGogIE3+jixCRAgQIAAAQIECBAgQIAAAQIECBAgYODVAQIECBAgQIAAAQIECBAgQIAAAQIECEQFDLzRx4lNgAABAgQIECBAgAABAgQIECBAgAABA68OECBAgAABAgQIECBAgAABAgQIECBAICpg4I0+TmwCBAgQIECAAAECBAgQIECAAAECBAgYeHWAAAECBAgQIECAAAECBAgQIECAAAECUQEDb/RxYhMgQIAAAQIECBAgQIAAAQIECBAgQMDAqwMECBAgQIAAAQIECBAgQIAAAQIECBCIChh4o48TmwABAgQIECBAgAABAgQIECBAgAABAgZeHSBAgAABAgQIECBAgAABAgQIECBAgEBUwMAbfZzYBAgQIECAAAECBAgQIECAAAECBAgQMPDqAAECBAgQIECAAAECBAgQIECAAAECBKICBt7o48QmQIAAAQIECBAgQIAAAQIECBAgQICAgVcHCBAgQIAAAQIECBAgQIAAAQIECBAgEBUw8EYfJzYBAgQIECBAgAABAgQIECBAgAABAgQMvDpAgAABAgQIECBAgAABAgQIECBAgACBqICBN/o4sQkQIECAAAECBAgQIECAAAECBAgQIGDg1QECBAgQIECAAAECBAgQIECAAAECBAhEBQy80ceJTYAAAQIECBAgQIAAAQIECBAgQIAAAQOvDhAgQIAAAQIECBAgQIAAAQIECBAgQCAqYOCNPk5sAgQIECBAgAABAgQIECBAgAABAgQIGHh1gAABAgQIECBAgAABAgQIECBAgAABAlEBA2/0cWITIECAAAECBAgQIECAAAECBAgQIEDAwKsDBAgQIECAAAECBAgQIECAAAECBAgQiAoYeKOPE5sAAQIECBAgQIAAAQIECBAgQIAAAQIGXh0gQIAAAQIECBAgQIAAAQIECBAgQIBAVMDAG32c2AQIECBAgAABAgQIECBAgAABAgQIEDDw6gABAgQIECBAgAABAgQIECBAgAABAgSiAgbe6OPEJkCAAAECBAgQIECAAAECBAgQIECAgIFXBwgQIECAAAECBAgQIECAAAECBAgQIBAVMPBGHyc2AQIECBAgQIAAAQIECBAgQIAAAQIEDLw6QIAAAQIECBAgQIAAAQIECBAgQIAAgaiAgTf6OLEJECBAgAABAgQIECBAgAABAgQIECBg4NUBAgQIECBAgAABAgQIECBAgAABAgQIRAUMvNHHiU2AAAECBAgQIECAAAECBAgQIECAAAEDrw4QIECAAAECBAgQIECAAAECBAgQIEAgKmDgjT5ObAIECBAgQIAAAQIECBAgQIAAAQIECBh4dYAAAQIECBAgQIAAAQIECBAgQIAAAQJRAQNv9HFiEyBAgAABAgQIECBAgAABAgQIECBAwMCrAwQIECBAgAABAgQIECBAgAABAgQIEIgKGHijjxObAAECBAgQIECAAAECBAgQIECAAAECBl4dIECAAAECBAgQIECAAAECBAgQIECAQFTAwBt9nNgECBAgQIAAAQIECBAgQIAAAQIECBAw8OoAAQIECBAgQIAAAQIECBAgQIAAAQIEogIG3ujjxCZAgAABAgQIECBAgAABAgQIECBAgICBVwcIECBAgAABAgQIECBAgAABAgQIECAQFTDwRh8nNgECBAgQIECAAAECBAgQIECAAAECBAy8OkCAAAECBAgQIECAAAECBAgQIECAAIGogIE3+jixCRAgQIAAAQIECBAgQIAAAQIECBAgYODVAQIECBAgQIAAAQIECBAgQIAAAQIECEQFDLzRx4lNgAABAgQIECBAgAABAgQIECBAgAABA68OECBAgAABAgQIECBAgAABAgQIECBAICpg4I0+TmwCBAgQIECAAAECBAgQIECAAAECBAgYeHWAAAECBAgQIECAAAECBAgQIECAAAECUQEDb/RxYhMgQIAAAQIECBAgQIAAAQIECBAgQMDAqwMECBAgQIAAAQIECBAgQIAAAQIECBCIChh4o48TmwABAgQIECBAgAABAgQIECBAgAABAgZeHSBAgAABAgQIECBAgAABAgQIECBAgEBUwMAbfZzYBAgQIECAAAECBAgQIECAAAECBAgQMPDqAAECBAgQIECAAAECBAgQIECAAAECBKICBt7o48QmQIAAAQIECBAgQIAAAQIECBAgQICAgVcHCBAgQIAAAQIECBAgQIAAAQIECBAgEBUw8EYfJzYBAgQIECBAgAABAgQIECBAgAABAgQMvDpAgAABAgQIECBAgAABAgQIECBAgACBqICBN/o4sQkQIECAAAECBAgQIECAAAECBAgQIGDg1QECBAgQIECAAAECBAgQIECAAAECBAhEBQy80ceJTYAAAQIECBAgQIAAAQIECBAgQIAAAQOvDhAgQIAAAQIECBAgQIAAAQIECBAgQCAqYOCNPk5sAgQIECBAgAABAgQIECBAgAABAgQIGHh1gAABAgQIECBAgAABAgQIECBAgAABAlEBA2/0cWITIECAAAECBAgQIECAAAECBAgQIEDAwKsDBAgQIECAAAECBAgQIECAAAECBAgQiAoYeKOPE5sAAQIECBAgQIAAAQIECBAgQIAAAQIGXh0gQIAAAQIECBAgQIAAAQIECBAgQIBAVMDAG32c2AQIECBAgAABAgQIECBAgAABAgQIEDDw6gABAgQIECBAgAABAgQIECBAgAABAgSiAgbe6OPEJkCAAAECBAgQIECAAAECBAgQIECAgIFXBwgQIECAAAECBAgQIECAAAECBAgQIBAVMPBGHyc2AQIECBAgQIAAAQIECBAgQIAAAQIEDLw6QIAAAQIECBAgQIAAAQIECBAgQIAAgaiAgTf6OLEJECBAgAABAgQIECBAgAABAgQIECBg4NUBAgQIECBAgAABAgQIECBAgAABAgQIRAUMvNHHiU2AAAECBAgQIECAAAECBAgQIECAAAEDrw4QIECAAAECBAgQIECAAAECBAgQIEAgKmDgjT5ObAIECBAgQIAAAQIECBAgQIAAAQIECBh4dYAAAQIECBAgQIAAAQIECBAgQIAAAQJRAQNv9HFiEyBAgAABAgQIECBAgAABAgQIECBAwMCrAwQIECBAgAABAgQIECBAgAABAgQIEIgKGHijjxObAAECBAgQIECAAAECBAgQIECAAAECBl4dIECAAAECBAgQIECAAAECBAgQIECAQFTAwBt9nNgECBAgQIAAAQIECBAgQIAAAQIECBAw8OoAAQIECBAgQIAAAQIECBAgQIAAAQIEogIG3ujjxCZAgAABAgQIECBAgAABAgQIECBAgICBVwcIECBAgAABAgQIECBAgAABAgQIECAQFTDwRh8nNgECBAgQIECAAAECBAgQIECAAAECBAy8OkCAAAECBAgQIECAAAECBAgQIECAAIGogIE3+jixCRAgQIAAAQIECBAgQIAAAQIECBAgYODVAQIECBAgQIAAAQIECBAgQIAAAQIECEQFDLzRx4lNgAABAgQIECBAgAABAgQIECBAgAABA68OECBAgAABAgQIECBAgAABAgQIECBAICpg4I0+TmwCBAgQIECAAAECBAgQIECAAAECBAgYeHWAAAECBAgQIECAAAECBAgQIECAAAECUQEDb/RxYhMgQIAAAQIECBAgQIAAAQIECBAgQMDAqwMECBAgQIAAAQIECBAgQIAAAQIECBCIChh4o48TmwABAgQIECBAgAABAgQIECBAgAABAgZeHSBAgAABAgQIECBAgAABAgQIECBAgEBUwMAbfZzYBAgQIECAAAECBAgQIECAAAECBAgQMPDqAAECBAgQIECAAAECBAgQIECAAAECBKICBt7o48QmQIAAAQIECBAgQIAAAQIECBAgQICAgVcHCBAgQIAAAQIECBAgQIAAAQIECBAgEBUw8EYfJzYBAgQIECBAgAABAgQIECBAgAABAgQMvDpAgAABAgQIECBAgAABAgQIECBAgACBqICBN/o4sQkQIECAAAECBAgQIECAAAECBAgQIGDg1QECBAgQIECAAAECBAgQIECAAAECBAhEBQy80ceJTYAAAQIECBAgQIAAAQIECBAgQIAAAQOvDhAgQIAAAQIECBAgQIAAAQIECBAgQCAqYOCNPk5sAgQIECBAgAABAgQIECBAgAABAgQIGHh1gAABAgQIECBAgAABAgQIECBAgAABAlEBA2/0cWITIECAAAECBAgQIECAAAECBAgQIEDAwKsDBAgQIECAAAECBAgQIECAAAECBAgQiAoYeKOPE5sAAQIECBAgQIAAAQIECBAgQIAAAQIGXh0gQIAAAQIECBAgQIAAAQIECBAgQIBAVMDAG32c2AQIECBAgAABAgQIECBAgAABAgQIEDDw6gABAgQIECBAgAABAgQIECBAgAABAgSiAgbe6OPEJkCAAAECBAgQIECAAAECBAgQIECAgIFXBwgQIECAAAECBAgQIECAAAECBAgQIBAVMPBGHyc2AQIECBAgQIAAAQIECBAgQIAAAQIEDLw6QIAAAQIECBAgQIAAAQIECBAgQIAAgaiAgTf6OLEJECBAgAABAgQIECBAgAABAgQIECBg4NUBAgQIECBAgAABAgQIECBAgAABAgQIRAUMvNHHiU2AAAECBAgQIECAAAECBAgQIECAAAEDrw4QIECAAAECBAgQIECAAAECBAgQIEAgKmDgjT5ObAIECBAgQIAAAQIECBAgQIAAAQIECBh4dYAAAQIECBAgQIAAAQIECBAgQIAAAQJRAQNv9HFiEyBAgAABAgQIECBAgAABAgQIECBAwMCrAwQIECBAgAABAgQIECBAgAABAgQIEIgKGHijjxObAAECBAgQIECAAAECBAgQIECAAAECBl4dIECAAAECBAgQIECAAAECBAgQIECAQFTAwBt9nNgECBAgQIAAAQIECBAgQIAAAQIECBAw8OoAAQIECBAgQIAAAQIECBAgQIAAAQIEogIG3ujjxCZAgAABAgQIECBAgAABAgQIECBAgICBVwcIECBAgAABAgQIECBAgAABAgQIECAQFTDwRh8nNgECBAgQIECAAAECBAgQIECAAAECBAy8OkCAAAECBAgQIECAAAECBAgQIECAAIGogIE3+jixCRAgQIAAAQIECBAgQIAAAQIECBAgYODVAQIECBAgQIAAAQIECBAgQIAAAQIECEQFDLzRx4lNgAABAgQIECBAgAABAgQIECBAgAABA68OECBAgAABAgQIECBAgAABAgQIECBAICpg4I0+TmwCBAgQIECAAAECBAgQIECAAAECBAgYeHWAAAECBAgQIECAAAECBAgQIECAAAECUQEDb/RxYhMgQIAAAQIECBAgQIAAAQIECBAgQMDAqwMECBAgQIAAAQIECBAgQIAAAQIECBCIChh4o48TmwABAgQIECBAgAABAgQIECBAgAABAgZeHSBAgAABAgQIECBAgAABAgQIECBAgEBUwMAbfZzYBAgQIECAAAECBAgQIECAAAECBAgQMPDqAAECBAgQIECAAAECBAgQIECAAAECBKICBt7o48QmQIAAAQIECBAgQIAAAQIECBAgQICAgVcHCBAgQIAAAQIECBAgQIAAAQIECBAgEBUw8EYfJzYBAgQIECBAgAABAgQIECBAgAABAgQMvDpAgAABAgQIECBAgAABAgQIECBAgACBqICBN/o4sQkQIECAAAECBAgQIECAAAECBAgQIGDg1QECBAgQIECAAAECBAgQIECAAAECBAhEBQy80ceJTYAAAQIECBAgQIAAAQIECBAgQIAAAQOvDhAgQIAAAQIECBAgQIAAAQIECBAgQCAqYOCNPk5sAgQIECBAgAABAgQIECBAgAABAgQIGHh1gAABAgQIECBAgAABAgQIECBAgAABAlEBA2/0cWITIECAAAECBAgQIECAAAECBAgQIEDAwKsDBAgQIECAAAECBAgQIECAAAECBAgQiAoYeKOPE5sAAQIECBAgQIAAAQIECBAgQIAAAQIGXh0gQIAAAQIECBAgQIAAAQIECBAgQIBAVMDAG32c2AQIECBAgAABAgQIECBAgAABAgQIEDDw6gABAgQIECBAgAABAgQIECBAgAABAgSiAgbe6OPEJkCAAAECBAgQIECAAAECBAgQIECAgIFXBwgQIECAAAECBAgQIECAAAECBAgQIBAVMPBGHyc2AQIECBAgQIAAAQIECBAgQIAAAQIEDLw6QIAAAQIECBAgQIAAAQIECBAgQIAAgaiAgTf6OLEJECBAgAABAgQIECBAgAABAgQIECBg4NUBAgQIECBAgAABAgQIECBAgAABAgQIRAUMvNHHiU2AAAECBAgQIECAAAECBAgQIECAAAEDrw4QIECAAAECBAgQIECAAAECBAgQIEAgKmDgjT5ObAIECBAgQIAAAQIECBAgQIAAAQIECBh4dYAAAQIECBAgQIAAAQIECBAgQIAAAQJRAQNv9HFiEyBAgAABAgQIECBAgAABAgQIECBAwMCrAwQIECBAgAABAgQIECBAgAABAgQIEIgKGHijjxObAAECBAgQIECAAAECBAgQIECAAAECBl4dIECAAAECBAgQIECAAAECBAgQIECAQFTAwBt9nNgECBAgQIAAAQIECBAgQIAAAQIECBAw8OoAAQIECBAgQIAAAQIECBAgQIAAAQIEogIG3ujjxCZAgAABAgQIECBAgAABAgQIECBAgICBVwcIECBAgAABAgQIECBAgAABAgQIECAQFTDwRh8nNgECBAgQIECAAAECBAgQIECAAAECBAy8OkCAAAECBAgQIECAAAECBAgQIECAAIGogIE3+jixCRAgQIAAAQIECBAgQIAAAQIECBAgYODVAQIECBAgQIAAAQIECBAgQIAAAQIECEQFDLzRx4lNgAABAgQIECBAgAABAgQIECBAgAABA68OECBAgAABAgQIECBAgAABAgQIECBAICpg4I0+TmwCBAgQIECAAAECBAgQIECAAAECBAgYeHWAAAECBAgQIECAAAECBAgQIECAAAECUQEDb/RxYhMgQIAAAQIECBAgQIAAAQIECBAgQMDAqwMECBAgQIAAAQIECBAgQIAAAQIECBCIChh4o48TmwABAgQIECBAgAABAgQIECBAgAABAgZeHSBAgAABAgQIECBAgAABAgQIECBAgEBUwMAbfZzYBAgQIECAAAECBAgQIECAAAECBAgQMPDqAAECBAgQIECAAAECBAgQIECAAAECBKICBt7o48QmQIAAAQIECBAgQIAAAQIECBAgQICAgVcHCBAgQIAAAQIECBAgQIAAAQIECBAgEBUw8EYfJzYBAgQIECBAgAABAgQIECBAgAABAgQMvDpAgAABAgQIECBAgAABAgQIECBAgACBqICBN/o4sQkQIECAAAECBAgQIECAAAECBAgQIGDg1QECBAgQIECAAAECBAgQIECAAAECBAhEBQy80ceJTYAAAQIECBAgQIAAAQIECBAgQIAAAQOvDhAgQIAAAQIECBAgQIAAAQIECBAgQCAqYOCNPk5sAgQIECBAgAABAgQIECBAgAABAgQIGHh1gAABAgQIECBAgAABAgQIECBAgAABAlEBA2/0cWITIECAAAECBAgQIECAAAECBAgQIEDAwKsDBAgQIECAAAECBAgQIECAAAECBAgQiAoYeKOPE5sAAQIECBAgQIAAAQIECBAgQIAAAQIGXh0gQIAAAQIECBAgQIAAAQIECBAgQIBAVMDAG32c2AQIECBAgAABAgQIECBAgAABAgQIEDDw6gABAgQIECBAgAABAgQIECBAgAABAgSiAgbe6OPEJkCAAAECBAgQIECAAAECBAgQIECAgIFXBwgQIECAAAECBAgQIECAAAECBAgQIBAVMPBGHyc2AQIECBAgQIAAAQIECBAgQIAAAQIEDLw6QIAAAQIECBAgQIAAAQIECBAgQIAAgaiAgTf6OLEJECBAgAABAgQIECBAgAABAgQIECBg4NUBAgQIECBAgAABAgQIECBAgAABAgQIRAUMvNHHiU2AAAECBAgQIECAAAECBAgQIECAAAEDrw4QIECAAAECBAgQIECAAAECBAgQIEAgKmDgjT5ObAIECBAgQIAAAQIECBAgQIAAAQIECBh4dYAAAQIECBAgQIAAAQIECBAgQIAAAQJRAQNv9HFiEyBAgAABAgQIECBAgAABAgQIECBAwMCrAwQIECBAgAABAgQIECBAgAABAgQIEIgKGHijjxObAAECBAgQIECAAAECBAgQIECAAAECBl4dIECAAAECBAgQIECAAAECBAgQIECAQFTAwBt9nNgECBAgQIAAAQIECBAgQIAAAQIECBAw8OoAAQIECBAgQIAAAQIECBAgQIAAAQIEogIG3ujjxCZAgAABAgQIECBAgAABAgQIECBAgICBVwcIECBAgAABAgQIECBAgAABAgQIECAQFTDwRh8nNgECBAgQIECAAAECBAgQIECAAAECBAy8OkCAAAECBAgQIECAAAECBAgQIECAAIGogIE3+jixCRAgQIAAAQIECBAgQIAAAQIECBAgYODVAQIECBAgQIAAAQIECBAgQIAAAQIECEQFDLzRx4lNgAABAgQIECBAgAABAgQIECBAgAABA68OECBAgAABAgQIECBAgAABAgQIECBAICpg4I0+TmwCBAgQIECAAAECBAgQIECAAAECBAgYeHWAAAECBAgQIECAAAECBAgQIECAAAECUQEDb/RxYhMgQIAAAQIECBAgQIAAAQIECBAgQMDAqwMECBAgQIAAAQIECBAgQIAAAQIECBCIChh4o48TmwABAgQIECBAgAABAgQIECBAgAABAgZeHSBAgAABAgQIECBAgAABAgQIECBAgEBUwMAbfZzYBAgQIECAAAECBAgQIECAAAECBAgQMPDqAAECBAgQIECAAAECBAgQIECAAAECBKICBt7o48QmQIAAAQIECBAgQIAAAQIECBAgQICAgVcHCBAgQIAAAQIECBAgQIAAAQIECBAgEBUw8EYfJzYBAgQIECBAgAABAgQIECBAgAABAgQMvDpAgAABAgQIECBAgAABAgQIECBAgACBqICBN/o4sQkQIECAAAECBAgQIECAAAECBAgQIGDg1QECBAgQIECAAAECBAgQIECAAAECBAhEBQy80ceJTYAAAQIECBAgQIAAAQIECBAgQIAAAQOvDhAgQIAAAQIECBAgQIAAAQIECBAgQCAqYOCNPk5sAgQIECBAgAABAgQIECBAgAABAgQIGHh1gAABAgQIECBAgAABAgQIECBAgAABAlEBA2/0cWITIECAAAECBAgQIECAAAECBAgQIEDAwKsDBAgQIECAAAECBAgQIECAAAECBAgQiAoYeKOPE5sAAQIECBAgQIAAAQIECBAgQIAAAQIGXh0gQIAAAQIECBAgQIAAAQIECBAgQIBAVMDAG32c2AQIECBAgAABAgQIECBAgAABAgQIEDDw6gABAgQIECBAgAABAgQIECBAgAABAgSiAgbe6OPEJkCAAAECBAgQIECAAAECBAgQIECAgIFXBwgQIECAAAECBAgQIECAAAECBAgQIBAVMPBGHyc2AQIECBAgQIAAAQIECBAgQIAAAQIEDLw6QIAAAQIECBAgQIAAAQIECBAgQIAAgaiAgTf6OLEJECBAgAABAgQIECBAgAABAgQIECBg4NUBAgQIECBAgAABAgQIECBAgAABAgQIRAUMvNHHiU2AAAECBAgQIECAAAECBAgQIECAAAEDrw4QIECAAAECBAgQIECAAAECBAgQIEAgKmDgjT5ObAIECBAgQIAAAQIECBAgQIAAAQIECBh4dYAAAQIECBAgQIAAAQIECBAgQIAAAQJRAQNv9HFiEyBAgAABAgQIECBAgAABAgQIECBAwMCrAwQIECBAgAABAgQIECBAgAABAgQIEIgKGHijjxObAAECBAgQIECAAAECBAgQIECAAAECBl4dIECAAAECBAgQIECAAAECBAgQIECAQFTAwBt9nNgECBAgQIAAAQIECBAgQIAAAQIECBAw8OoAAQIECBAgQIAAAQIECBAgQIAAAQIEogIG3ujjxCZAgAABAgQIECBAgAABAgQIECBAgICBVwcIECBAgAABAgQIECBAgAABAgQIECAQFTDwRh8nNgECBAgQIECAAAECBAgQIECAAAECBAy8OkCAAAECBAgQIECAAAECBAgQIECAAIGogIE3+jixCRAgQIAAAQIECBAgQIAAAQIECBAgYODVAQIECBAgQIAAAQIECBAgQIAAAQIECEQFDLzRx4lNgAABAgQIECBAgAABAgQIECBAgAABA68OECBAgAABAgQIECBAgAABAgQIECBAICpg4I0+TmwCBAgQIECAAAECBAgQIECAAAECBAgYeHWAAAECBAgQIECAAAECBAgQIECAAAECUQEDb/RxYhMgQIAAAQIECBAgQIAAAQIECBAgQMDAqwMECItpQoUAACAASURBVBAgQIAAAQIECBAgQIAAAQIECBCIChh4o48TmwABAgQIECBAgAABAgQIECBAgAABAgZeHSBAgAABAgQIECBAgAABAgQIECBAgEBUwMAbfZzYBAgQIECAAAECBAgQIECAAAECBAgQMPDqAAECBAgQIECAAAECBAgQIECAAAECBKICBt7o48QmQIAAAQIECBAgQIAAAQIECBAgQICAgVcHCBAgQIAAAQIECBAgQIAAAQIECBAgEBUw8EYfJzYBAgQIECBAgAABAgQIECBAgAABAgQMvDpAgAABAgQIECBAgAABAgQIECBAgACBqICBN/o4sQkQIECAAAECBAgQIECAAAECBAgQIGDg1QECBAgQIECAAAECBAgQIECAAAECBAhEBQy80ceJTYAAAQIECBAgQIAAAQIECBAgQIAAAQOvDhAgQIAAAQIECBAgQIAAAQIECBAgQCAqYOCNPk5sAgQIECBAgAABAgQIECBAgAABAgQIGHh1gAABAgQIECBAgAABAgQIECBAgAABAlEBA2/0cWITIECAAAECBAgQIECAAAECBAgQIEDAwKsDBAgQIECAAAECBAgQIECAAAECBAgQiAoYeKOPE5sAAQIECBAgQIAAAQIECBAgQIAAAQIGXh0gQIAAAQIECBAgQIAAAQIECBAgQIBAVMDAG32c2AQIECBAgAABAgQIECBAgAABAgQIEDDw6gABAgQIECBAgAABAgQIECBAgAABAgSiAgbe6OPEJkCAAAECBAgQIECAAAECBAgQIECAgIFXBwgQIECAAAECBAgQIECAAAECBAgQIBAVMPBGHyc2AQIECBAgQIAAAQIECBAgQIAAAQIEDLw6QIAAAQIECBAgQIAAAQIECBAgQIAAgaiAgTf6OLEJECBAgAABAgQIECBAgAABAgQIECBg4NUBAgQIECBAgAABAgQIECBAgAABAgQIRAUMvNHHiU2AAAECBAgQIECAAAECBAgQIECAAAEDrw4QIECAAAECBAgQIECAAAECBAgQIEAgKmDgjT5ObAIECBAgQIAAAQIECBAgQIAAAQIECBh4dYAAAQIECBAgQIAAAQIECBAgQIAAAQJRAQNv9HFiEyBAgAABAgQIECBAgAABAgQIECBAwMCrAwQIECBAgAABAgQIECBAgAABAgQIEIgKGHijjxObAAECBAgQIECAAAECBAgQIECAAAECBl4dIECAAAECBAgQIECAAAECBAgQIECAQFTAwBt9nNgECBAgQIAAAQIECBAgQIAAAQIECBAw8OoAAQIECBAgQIAAAQIECBAgQIAAAQIEogIG3ujjxCZAgAABAgQIECBAgAABAgQIECBAgICBVwcIECBAgAABAgQIECBAgAABAgQIECAQFTDwRh8nNgECBAgQIECAAAECBAgQIECAAAECBAy8OkCAAAECBAgQIECAAAECBAgQIECAAIGogIE3+jixCRAgQIAAAQIECBAgQIAAAQIECBAgYODVAQIECBAgQIAAAQIECBAgQIAAAQIECEQFDLzRx4lNgAABAgQIECBAgAABAgQIECBAgAABA68OECBAgAABAgQIECBAgAABAgQIECBAICpg4I0+TmwCBAgQIECAAAECBAgQIECAAAECBAgYeHWAAAECBAgQIECAAAECBAgQIECAAAECUQEDb/RxYhMgQIAAAQIECBAgQIAAAQIECBAgQMDAqwMECBAgQIAAAQIECBAgQIAAAQIECBCIChh4o48TmwABAgQIECBAgAABAgQIECBAgAABAgZeHSBAgAABAgQIECBAgAABAgQIECBAgEBUwMAbfZzYBAgQIECAAAECBAgQIECAAAECBAgQMPDqAAECBAgQIECAAAECBAgQIECAAAECBKICBt7o48QmQIAAAQIECBAgQIAAAQIECBAgQICAgVcHCBAgQIAAAQIECBAgQIAAAQIECBAgEBUw8EYfJzYBAgQIECBAgAABAgQIECBAgAABAgQMvDpAgAABAgQIECBAgAABAgQIECBAgACBqICBN/o4sQkQIECAAAECBAgQIECAAAECBAgQIGDg1QECBAgQIECAAAECBAgQIECAAAECBAhEBQy80ceJTYAAAQIECBAgQIAAAQIECBAgQIAAAQOvDhAgQIAAAQIECBAgQIAAAQIECBAgQCAqYOCNPk5sAgQIECBAgAABAgQIECBAgAABAgQIGHh1gAABAgQIECBAgAABAgQIECBAgAABAlEBA2/0cWITIECAAAECBAgQIECAAAECBAgQIEDAwKsDBAgQIECAAAECBAgQIECAAAECBAgQiAoYeKOPE5sAAQIECBAgQIAAAQIECBAgQIAAAQIGXh0gQIAAAQIECBAgQIAAAQIECBAgQIBAVMDAG32c2AQIECBAgAABAgQIECBAgAABAgQIEDDw6gABAgQIECBAgAABAgQIECBAgAABAgSiAgbe6OPEJkCAAAECBAgQIECAAAECBAgQIECAgIFXBwgQIECAAAECBAgQIECAAAECBAgQIBAVMPBGHyc2AQIECBAgQIAAAQIECBAgQIAAAQIEDLw6QIAAAQIECBAgQIAAAQIECBAgQIAAgaiAgTf6OLEJECBAgAABAgQIECBAgAABAgQIECBg4NUBAgQIECBAgAABAgQIECBAgAABAgQIRAUMvNHHiU2AAAECBAgQIECAAAECBAgQIECAAAEDrw4QIECAAAECBAgQIECAAAECBAgQIEAgKmDgjT5ObAIECBAgQIAAAQIECBAgQIAAAQIECBh4dYAAAQIECBAgQIAAAQIECBAgQIAAAQJRAQNv9HFiEyBAgAABAgQIECBAgAABAgQIECBAwMCrAwQIECBAgAABAgQIECBAgAABAgQIEIgKGHijjxObAAECBAgQIECAAAECBAgQIECAAAECBl4dIECAAAECBAgQIECAAAECBAgQIECAQFTAwBt9nNgECBAgQIAAAQIECBAgQIAAAQIECBAw8OoAAQIECBAgQIAAAQIECBAgQIAAAQIEogIG3ujjxCZAgAABAgQIECBAgAABAgQIECBAgICBVwcIECBAgAABAgQIECBAgAABAgQIECAQFTDwRh8nNgECBAgQIECAAAECBAgQIECAAAECBAy8OkCAAAECBAgQIECAAAECBAgQIECAAIGogIE3+jixCRAgQIAAAQIECBAgQIAAAQIECBAgYODVAQIECBAgQIAAAQIECBAgQIAAAQIECEQFDLzRx4lNgAABAgQIECBAgAABAgQIECBAgAABA68OECBAgAABAgQIECBAgAABAgQIECBAICpg4I0+TmwCBAgQIECAAAECBAgQIECAAAECBAgYeHWAAAECBAgQIECAAAECBAgQIECAAAECUQEDb/RxYhMgQIAAAQIECBAgQIAAAQIECBAgQMDAqwMECBAgQIAAAQIECBAgQIAAAQIECBCIChh4o48TmwABAgQIECBAgAABAgQIECBAgAABAgZeHSBAgAABAgQIECBAgAABAgQIECBAgEBUwMAbfZzYBAgQIECAAAECBAgQIECAAAECBAgQMPDqAAECBAgQIECAAAECBAgQIECAAAECBKICBt7o48QmQIAAAQIECBAgQIAAAQIECBAgQICAgVcHCBAgQIAAAQIECBAgQIAAAQIECBAgEBUw8EYfJzYBAgQIECBAgAABAgQIECBAgAABAgQMvDpAgAABAgQIECBAgAABAgQIECBAgACBqICBN/o4sQkQIECAAAECBAgQIECAAAECBAgQIGDg1QECBAgQIECAAAECBAgQIECAAAECBAhEBQy80ceJTYAAAQIECBAgQIAAAQIECBAgQIAAAQOvDhAgQIAAAQIECBAgQIAAAQIECBAgQCAqYOCNPk5sAgQIECBAgAABAgQIECBAgAABAgQIGHh1gAABAgQIECBAgAABAgQIECBAgAABAlEBA2/0cWITIECAAAECBAgQIECAAAECBAgQIEDAwKsDBAgQIECAAAECBAgQIECAAAECBAgQiAoYeKOPE5sAAQIECBAgQIAAAQIECBAgQIAAAQIGXh0gQIAAAQIECBAgQIAAAQIECBAgQIBAVMDAG32c2AQIECBAgAABAgQIECBAgAABAgQIEDDw6gABAgQIECBAgAABAgQIECBAgAABAgSiAgbe6OPEJkCAAAECBAgQIECAAAECBAgQIECAgIFXBwgQIECAAAECBAgQIECAAAECBAgQIBAVMPBGHyc2AQIECBAgQIAAAQIECBAgQIAAAQIEDLw6QIAAAQIECBAgQIAAAQIECBAgQIAAgaiAgTf6OLEJECBAgAABAgQIECBAgAABAgQIECBg4NUBAgQIECBAgAABAgQIECBAgAABAgQIRAUMvNHHiU2AAAECBAgQIECAAAECBAgQIECAAAEDrw4QIECAAAECBAgQIECAAAECBAgQIEAgKmDgjT5ObAIECBAgQIAAAQIECBAgQIAAAQIECBh4dYAAAQIECBAgQIAAAQIECBAgQIAAAQJRAQNv9HFiEyBAgAABAgQIECBAgAABAgQIECBAwMCrAwQIECBAgAABAgQIECBAgAABAgQIEIgKGHijjxObAAECBAgQIECAAAECBAgQIECAAAECBl4dIECAAAECBAgQIECAAAECBAgQIECAQFTAwBt9nNgECBAgQIAAAQIECBAgQIAAAQIECBAw8OoAAQIECBAgQIAAAQIECBAgQIAAAQIEogIG3ujjxCZAgAABAgQIECBAgAABAgQIECBAgICBVwcIECBAgAABAgQIECBAgAABAgQIECAQFTDwRh8nNgECBAgQIECAAAECBAgQIECAAAECBAy8OkCAAAECBAgQIECAAAECBAgQIECAAIGogIE3+jixCRAgQIAAAQIECBAgQIAAAQIECBAgYODVAQIECBAgQIAAAQIECBAgQIAAAQIECEQFDLzRx4lNgAABAgQIECBAgAABAgQIECBAgAABA68OECBAgAABAgQIECBAgAABAgQIECBAICpg4I0+TmwCBAgQIECAAAECBAgQIECAAAECBAgYeHWAAAECBAgQIECAAAECBAgQIECAAAECUQEDb/RxYhMgQIAAAQIECBAgQIAAAQIECBAgQMDAqwMECBAgQIAAAQIECBAgQIAAAQIECBCIChh4o48TmwABAgQIECBAgAABAgQIECBAgAABAgZeHSBAgAABAgQIECBAgAABAgQIECBAgEBUwMAbfZzYBAgQIECAAAECBAgQIECAAAECBAgQMPDqAAECBAgQIECAAAECBAgQIECAAAECBKICBt7o48QmQIAAAQIECBAgQIAAAQIECBAgQICAgVcHCBAgQIAAAQIECBAgQIAAAQIECBAgEBUw8EYfJzYBAgQIECBAgAABAgQIECBAgAABAgQMvDpAgAABAgQIECBAgAABAgQIECBAgACBqICBN/o4sQkQIECAAAECBAgQIECAAAECBAgQIGDg1QECBAgQIECAAAECBAgQIECAAAECBAhEBQy80ceJTYAAAQIECBAgQIAAAQIECBAgQIAAAQOvDhAgQIAAAQIECBAgQIAAAQIECBAgQCAqYOCNPk5sAgQIECBAgAABAgQIECBAgAABAgQIGHh1gAABAgQIECBAgAABAgQIECBAgAABAlEBA2/0cWITIECAAAECBAgQIECAAAECBAgQIEDAwKsDBAgQIECAAAECBAgQIECAAAECBAgQiAoYeKOPE5sAAQIECBAgQIAAAQIECBAgQIAAAQIGXh0gQIAAAQIECBAgQIAAAQIECBAgQIBAVMDAG32c2AQIECBAgAABAgQIECBAgAABAgQIEDDw6gABAgQIECBAgAABAgQIECBAgAABAgSiAgbe6OPEJkCAAAECBAgQIECAAAECBAgQIECAgIFXBwgQIECAAAECBAgQIECAAAECBAgQIBAVMPBGHyc2AQIECBAgQIAAAQIECBAgQIAAAQIEDLw6QIAAAQIECBAgQIAAAQIECBAgQIAAgaiAgTf6OLEJECBAgAABAgQIECBAgAABAgQIECBg4NUBAgQIECBAgAABAgQIECBAgAABAgQIRAUMvNHHiU2AAAECBAgQIECAAAECBAgQIECAAAEDrw4QIECAAAECBAgQIECAAAECBAgQIEAgKmDgjT5ObAIECBAgQIAAAQIECBAgQIAAAQIECBh4dYAAAQIECBAgQIAAAQIECBAgQIAAAQJRAQNv9HFiEyBAgAABAgQIECBAgAABAgQIECBAwMCrAwQIECBAgAABAgQIECBAgAABAgQIEIgKGHijjxObAAECBAgQIECAAAECBAgQIECAAAECBl4dIECAAAECBAgQIECAAAECBAgQIECAQFTAwBt9nNgECBAgQIAAAQIECBAgQIAAAQIECBAw8OoAAQIECBAgQIAAAQIECBAgQIAAAQIEogIG3ujjxCZAgAABAgQIECBAgAABAgQIECBAgICBVwcIECBAgAABAgQIECBAgAABAgQIECAQFTDwRh8nNgECBAgQIECAAAECBAgQIECAAAECBAy8OkCAAAECBAgQIECAAAECBAgQIECAAIGogIE3+jixCRAgQIAAAQIECBAgQIAAAQIECBAgYODVAQIECBAgQIAAAQIECBAgQIAAAQIECEQFDLzRx4lNgAABAgQIECBAgAABAgQIECBAgAABA68OECBAgAABAgQIECBAgAABAgQIECBAICpg4I0+TmwCBAgQIECAAAECBAgQIECAAAECBAgYeHWAAAECBAgQIECAAAECBAgQIECAAAECUQEDb/RxYhMgQIAAAQIECBAgQIAAAQIECBAgQMDAqwMECBAgQIAAAQIECBAgQIAAAQIECBCIChh4o48TmwABAgQIECBAgAABAgQIECBAgAABAgZeHSBAgAABAgQIECBAgAABAgQIECBAgEBUwMAbfZzYBAgQIECAAAECBAgQIECAAAECBAgQMPDqAAECBAgQIECAAAECBAgQIECAAAECBKICBt7o48QmQIAAAQIECBAgQIAAAQIECBAgQICAgVcHCBAgQIAAAQIECBAgQIAAAQIECBAgEBUw8EYfJzYBAgQIECBAgAABAgQIECBAgAABAgQMvDpAgAABAgQIECBAgAABAgQIECBAgACBqICBN/o4sQkQIECAAAECBAgQIECAAAECBAgQIGDg1QECBAgQIECAAAECBAgQIECAAAECBAhEBQy80ceJTYAAAQIECBAgQIAAAQIECBAgQIAAAQOvDhAgQIAAAQIECBAgQIAAAQIECBAgQCAqYOCNPk5sAgQIECBAgAABAgQIECBAgAABAgQIGHh1gAABAgQIECBAgAABAgQIECBAgAABAlEBA2/0cWITIECAAAECBAgQIECAAAECBAgQIEDAwKsDBAgQIECAAAECBAgQIECAAAECBAgQiAoYeKOPE5sAAQIECBAgQIAAAQIECBAgQIAAAQIGXh0gQIAAAQIECBAgQIAAAQIECBAgQIBAVMDAG32c2AQIECBAgAABAgQIECBAgAABAgQIEDDw6gABAgQIECBAgAABAgQIECBAgAABAgSiAgbe6OPEJkCAAAECBAgQIECAAAECBAgQIECAgIFXBwgQIECAAAECBAgQIECAAAECBAgQIBAVMPBGHyc2AQIECBAgQIAAAQIECBAgQIAAAQIEDLw6QIAAAQIECBAgQIAAAQIECBAgQIAAgaiAgTf6OLEJECBAgAABAgQIECBAgAABAgQIECBg4NUBAgQIECBAgAABAgQIECBAgAABAgQIRAUMvNHHiU2AAAECBAgQIECAAAECBAgQIECAAAEDrw4QIECAAAECBAgQIECAAAECBAgQIEAgKmDgjT5ObAIECBAgQIAAAQIECBAgQIAAAQIECBh4dYAAAQIECBAgQIAAAQIECBAgQIAAAQJRAQNv9HFiEyBAgAABAgQIECBAgAABAgQIECBAwMCrAwQIECBAgAABAgQIECBAgAABAgQIEIgKGHijjxObAAECBAgQIECAAAECBAgQIECAAAECBl4dIECAAAECBAgQIECAAAECBAgQIECAQFTAwBt9nNgECBAgQIAAAQIECBAgQIAAAQIECBAw8OoAAQIECBAgQIAAAQIECBAgQIAAAQIEogIG3ujjxCZAgAABAgQIECBAgAABAgQIECBAgICBVwcIECBAgAABAgQIECBAgAABAgQIECAQFTDwRh8nNgECBAgQIECAAAECBAgQIECAAAECBAy8OkCAAAECBAgQIECAAAECBAgQIECAAIGogIE3+jixCRAgQIAAAQIECBAgQIAAAQIECBAgYODVAQIECBAgQIAAAQIECBAgQIAAAQIECEQFDLzRx4lNgAABAgQIECBAgAABAgQIECBAgAABA68OECBAgAABAgQIECBAgAABAgQIECBAICpg4I0+TmwCBAgQIECAAAECBAgQIECAAAECBAgYeHWAAAECBAgQIECAAAECBAgQIECAAAECUQEDb/RxYhMgQIAAAQIECBAgQIAAAQIECBAgQMDAqwMECBAgQIAAAQIECBAgQIAAAQIECBCIChh4o48TmwABAgQIECBAgAABAgQIECBAgAABAgZeHSBAgAABAgQIECBAgAABAgQIECBAgEBUwMAbfZzYBAgQIECAAAECBAgQIECAAAECBAgQMPDqAAECBAgQIECAAAECBAgQIECAAAECBKICBt7o48QmQIAAAQIECBAgQIAAAQIECBAgQICAgVcHCBAgQIAAAQIECBAgQIAAAQIECBAgEBUw8EYfJzYBAgQIECBAgAABAgQIECBAgAABAgQMvDpAgAABAgQIECBAgAABAgQIECBAgACBqICBN/o4sQkQIECAAAECBAgQIECAAAECBAgQIGDg1QECBAgQIECAAAECBAgQIECAAAECBAhEBQy80ceJTYAAAQIECBAgQIAAAQIECBAgQIAAAQOvDhAgQIAAAQIECBAgQIAAAQIECBAgQCAqYOCNPk5sAgQIECBAgAABAgQIECBAgAABAgQIGHh1gAABAgQIECBAgAABAgQIECBAgAABAlEBA2/0cWITIECAAAECBAgQIECAAAECBAgQIEDAwKsDBAgQIECAAAECBAgQIECAAAECBAgQiAoYeKOPE5sAAQIECBAgQIAAAQIECBAgQIAAAQIGXh0gQIAAAQIECBAgQIAAAQIECBAgQIBAVMDAG32c2AQIECBAgAABAgQIECBAgAABAgQIEDDw6gABAgQIECBAgAABAgQIECBAgAABAgSiAgbe6OPEJkCAAAECBAgQIECAAAECBAgQIECAgIFXBwgQIECAAAECBAgQIECAAAECBAgQIBAVMPBGHyc2AQIECBAgQIAAAQIECBAgQIAAAQIEDLw6QIAAAQIECBAgQIAAAQIECBAgQIAAgaiAgTf6OLEJECBAgAABAgQIECBAgAABAgQIECBg4NUBAgQIECBAgAABAgQIECBAgAABAgQIRAUMvNHHiU2AAAECBAgQIECAAAECBAgQIECAAAEDrw4QIECAAAECBAgQIECAAAECBAgQIEAgKmDgjT5ObAIECBAgQIAAAQIECBAgQIAAAQIECBh4dYAAAQIECBAgQIAAAQIECBAgQIAAAQJRAQNv9HFiEyBAgAABAgQIECBAgAABAgQIECBAwMCrAwQIECBAgAABAgQIECBAgAABAgQIEIgKGHijjxObAAECBAgQIECAAAECBAgQIECAAAECBl4dIECAAAECBAgQIECAAAECBAgQIECAQFTAwBt9nNgECBAgQIAAAQIECBAgQIAAAQIECBAw8OoAAQIECBAgQIAAAQIECBAgQIAAAQIEogIG3ujjxCZAgAABAgQIECBAgAABAgQIECBAgICBVwcIECBAgAABAgQIECBAgAABAgQIECAQFTDwRh8nNgECBAgQIECAAAECBAgQIECAAAECBAy8OkCAAAECBAgQIECAAAECBAgQIECAAIGogIE3+jixCRAgQIAAAQIECBAgQIAAAQIECBAgYODVAQIECBAgQIAAAQIECBAgQIAAAQIECEQFDLzRx4lNgAABAgQIECBAgAABAgQIECBAgAABA68OECBAgAABAgQIECBAgAABAgQIECBAICpg4I0+TmwCBAgQIECAAAECBAgQIECAAAECBAgYeHWAAAECBAgQIECAAAECBAgQIECAAAECUQEDb/RxYhMgQIAAAQIECBAgQIAAAQIECBAgQMDAqwMECBAgQIAAAQIECBAgQIAAAQIECBCIChh4o48TmwABAgQIECBAgAABAgQIECBAgAABAgZeHSBAgAABAgQIECBAgAABAgQIECBAgEBUwMAbfZzYBAgQIECAAAECBAgQIECAAAECBAgQMPDqAAECBAgQIECAAAECBAgQIECAAAECBKICBt7o48QmQIAAAQIECBAgQIAAAQIECBAgQICAgVcHCBAgQIAAAQIECBAgQIAAAQIECBAgEBUw8EYfJzYBAgQIECBAgAABAgQIECBAgAABAgQMvDpAgAABAgQIECBAgAABAgQIECBAgACBqICBN/o4sQkQIECAAAECBAgQIECAAAECBAgQIGDg1QECBAgQIECAAAECBAgQIECAAAECBAhEBQy80ceJTYAAAQIECBAgQIAAAQIECBAgQIAAAQOvDhAgQIAAAQIECBAgQIAAAQIECBAgQCAqYOCNPk5sAgQIECBAgAABAgQIECBAgAABAgQIGHh1gAABAgQIECBAgAABAgQIECBAgAABAlEBA2/0cWITIECAAAECBAgQIECAAAECBAgQIEDAwKsDBAgQIECAAAECBAgQIECAAAECBAgQiAoYeKOPE5sAAQIECBAgQIAAAQIECBAgQIAAAQIGXh0gQIAAAQIECBAgQIAAAQIECBAgQIBAVMDAG32cEmx79AAAIABJREFU2AQIECBAgAABAgQIECBAgAABAgQIEDDw6gABAgQIECBAgAABAgQIECBAgAABAgSiAgbe6OPEJkCAAAECBAgQIECAAAECBAgQIECAgIFXBwgQIECAAAECBAgQIECAAAECBAgQIBAVMPBGHyc2AQIECBAgQIAAAQIECBAgQIAAAQIEDLw6QIAAAQIECBAgQIAAAQIECBAgQIAAgaiAgTf6OLEJECBAgAABAgQIECBAgAABAgQIECBg4NUBAgQIECBAgAABAgQIECBAgAABAgQIRAUMvNHHiU2AAAECBAgQIECAAAECBAgQIECAAAEDrw4QIECAAAECBAgQIECAAAECBAgQIEAgKmDgjT5ObAIECBAgQIAAAQIECBAgQIAAAQIECBh4dYAAAQIECBAgQIAAAQIECBAgQIAAAQJRAQNv9HFiEyBAgAABAgQIECBAgAABAgQIECBAwMCrAwQIECBAgAABAgQIECBAgAABAgQIEIgKGHijjxObAAECBAgQIECAAAECBAgQIECAAAECBl4dIECAAAECBAgQIECAAAECBAgQIECAQFTAwBt9nNgECBAgQIAAAQIECBAgQIAAAQIECBAw8OoAAQIECBAgQIAAAQIECBAgQIAAAQIEogIG3ujjxCZAgAABAgQIECBAgAABAgQIECBAgICBVwcIECBAgAABAgQIECBAgAABAgQIECAQFTDwRh8nNgECBAgQIECAAAECBAgQIECAAAECBAy8OkCAAAECBAgQIECAAAECBAgQIECAAIGogIE3+jixCRAgQIAAAQIECBAgQIAAAQIECBAgYODVAQIECBAgQIAAAQIECBAgQIAAAQIECEQFDLzRx4lNgAABAgQIECBAgAABAgQIECBAgAABA68OECBAgAABAgQIECBAgAABAgQIECBAICpg4I0+TmwCBAgQIECAAAECBAgQIECAAAECBAgYeHWAAAECBAgQIECAAAECBAgQIECAAAECUQEDb/RxYhMgQIAAAQIECBAgQIAAAQIECBAgQMDAqwMECBAgQIAAAQIECBAgQIAAAQIECBCIChh4o48TmwABAgQIECBAgAABAgQIECBAgAABAgZeHSBAgAABAgQIECBAgAABAgQIECBAgEBUwMAbfZzYBAgQIECAAAECBAgQIECAAAECBAgQMPDqAAECBAgQIECAAAECBAgQIECAAAECBKICBt7o48QmQIAAAQIECBAgQIAAAQIECBAgQICAgVcHCBAgQIAAAQIECBAgQIAAAQIECBAgEBUw8EYfJzYBAgQIECBAgAABAgQIECBAgAABAgQMvDpAgAABAgQIECBAgAABAgQIECBAgACBqICBN/o4sQkQIECAAAECBAgQIECAAAECBAgQIGDg1QECBAgQIECAAAECBAgQIECAAAECBAhEBQy80ceJTYAAAQIECBAgQIAAAQIECBAgQIAAAQOvDhAgQIAAAQIECBAgQIAAAQIECBAgQCAqYOCNPk5sAgQIECBAgAABAgQIECBAgAABAgQIGHh1gAABAgQIECBAgAABAgQIECBAgAABAlEBA2/0cWITIECAAAECBAgQIECAAAECBAgQIEDAwKsDBAgQIECAAAECBAgQIECAAAECBAgQiAoYeKOPE5sAAQIECBAgQIAAAQIECBAgQIAAAQIGXh0gQIAAAQIECBAgQIAAAQIECBAgQIBAVMDAG32c2AQIECBAgAABAgQIECBAgAABAgQIEDDw6gABAgQIECBAgAABAgQIECBAgAABAgSiAgbe6OPEJkCAAAECBAgQIECAAAECBAgQIECAgIFXBwgQIECAAAECBAgQIECAAAECBAgQIBAVMPBGHyc2AQIECBAgQIAAAQIECBAgQIAAAQIEDLw6QIAAAQIECBAgQIAAAQIECBAgQIAAgaiAgTf6OLEJECBAgAABAgQIECBAgAABAgQIECBg4NUBAgQIECBAgAABAgQIECBAgAABAgQIRAUMvNHHiU2AAAECBAgQIECAAAECBAgQIECAAAEDrw4QIECAAAECBAgQIECAAAECBAgQIEAgKmDgjT5ObAIECBAgQIAAAQIECBAgQIAAAQIECBh4dYAAAQIECBAgQIAAAQIECBAgQIAAAQJRAQNv9HFiEyBAgAABAgQIECBAgAABAgQIECBAwMCrAwQIECBAgAABAgQIECBAgAABAgQIEIgKGHijjxObAAECBAgQIECAAAECBAgQIECAAAECBl4dIECAAAECBAgQIECAAAECBAgQIECAQFTAwBt9nNgECBAgQIAAAQIECBAgQIAAAQIECBAw8OoAAQIECBAgQIAAAQIECBAgQIAAAQIEogIG3ujjxCZAgAABAgQIECBAgAABAgQIECBAgICBVwcIECBAgAABAgQIECBAgAABAgQIECAQFTDwRh8nNgECBAgQIECAAAECBAgQIECAAAECBAy8OkCAAAECBAgQIECAAAECBAgQIECAAIGogIE3+jixCRAgQIAAAQIECBAgQIAAAQIECBAgYODVAQIECBAgQIAAAQIECBAgQIAAAQIECEQFDLzRx4lNgAABAgQIECBAgAABAgQIECBAgAABA68OECBAgAABAgQIECBAgAABAgQIECBAICpg4I0+TmwCBAgQIECAAAECBAgQIECAAAECBAgYeHWAAAECBAgQIECAAAECBAgQIECAAAECUQEDb/RxYhMgQIAAAQIECBAgQIAAAQIECBAgQMDAqwMECBAgQIAAAQIECBAgQIAAAQIECBCIChh4o48TmwABAgQIECBAgAABAgQIECBAgAABAgZeHSBAgAABAgQIECBAgAABAgQIECBAgEBUwMAbfZzYBAgQIECAAAECBAgQIECAAAECBAgQMPDqAAECBAgQIECAAAECBAgQIECAAAECBKICBt7o48QmQIAAAQIECBAgQIAAAQIECBAgQICAgVcHCBAgQIAAAQIECBAgQIAAAQIECBAgEBUw8EYfJzYBAgQIECBAgAABAgQIECBAgAABAgQMvDpAgAABAgQIECBAgAABAgQIECBAgACBqICBN/o4sQkQIECAAAECBAgQIECAAAECBAgQIGDg1QECBAgQIECAAAECBAgQIECAAAECBAhEBQy80ceJTYAAAQIECBAgQIAAAQIECBAgQIAAAQOvDhAgQIAAAQIECBAgQIAAAQIECBAgQCAqYOCNPk5sAgQIECBAgAABAgQIECBAgAABAgQIGHh1gAABAgQIECBAgAABAgQIECBAgAABAlEBA2/0cWITIECAAAECBAgQIECAAAECBAgQIEDAwKsDBAgQIECAAAECBAgQIECAAAECBAgQiAoYeKOPE5sAAQIECBAgQIAAAQIECBAgQIAAAQIGXh0gQIAAAQIECBAgQIAAAQIECBAgQIBAVMDAG32c2AQIECBAgAABAgQIECBAgAABAgQIEDDw6gABAgQIECBAgAABAgQIECBAgAABAgSiAgbe6OPEJkCAAAECBAgQIECAAAECBAgQIECAgIFXBwgQIECAAAECBAgQIECAAAECBAgQIBAVMPBGHyc2AQIECBAgQIAAAQIECBAgQIAAAQIEDLw6QIAAAQIECBAgQIAAAQIECBAgQIAAgaiAgTf6OLEJECBAgAABAgQIECBAgAABAgQIECBg4NUBAgQIECBAgAABAgQIECBAgAABAgQIRAUMvNHHiU2AAAECBAgQIECAAAECBAgQIECAAAEDrw4QIECAAAECBAgQIECAAAECBAgQIEAgKmDgjT5ObAIECBAgQIAAAQIECBAgQIAAAQIECBh4dYAAAQIECBAgQIAAAQIECBAgQIAAAQJRAQNv9HFiEyBAgAABAgQIECBAgAABAgQIECBAwMCrAwQIECBAgAABAgQIECBAgAABAgQIEIgKGHijjxObAAECBAgQIECAAAECBAgQIECAAAECBl4dIECAAAECBAgQIECAAAECBAgQIECAQFTAwBt9nNgECBAgQIAAAQIECBAgQIAAAQIECBAw8OoAAQIECBAgQIAAAQIECBAgQIAAAQIEogIG3ujjxCZAgAABAgQIECBAgAABAgQIECBAgICBVwcIECBAgAABAgQIECBAgAABAgQIECAQFTDwRh8nNgECBAgQIECAAAECBAgQIECAAAECBAy8OkCAAAECBAgQIECAAAECBAgQIECAAIGogIE3+jixCRAgQIAAAQIECBAgQIAAAQIECBAgYODVAQIECBAgQIAAAQIECBAgQIAAAQIECEQFDLzRx4lNgAABAgQIECBAgAABAgQIECBAgAABA68OECBAgAABAgQIECBAgAABAgQIECBAICpg4I0+TmwCBAgQIECAAAECBAgQIECAAAECBAgYeHWAAAECBAgQIECAAAECBAgQIECAAAECUQEDb/RxYhMgQIAAAQIECBAgQIAAAQIECBAgQMDAqwMECBAgQIAAAQIECBAgQIAAAQIECBCIChh4o48TmwABAgQIECBAgAABAgQIECBAgAABAgZeHSBAgAABAgQIECBAgAABAgQIECBAgEBUwMAbfZzYBAgQIECAAAECBAgQIECAAAECBAgQMPDqAAECBAgQIECAAAECBAgQIECAAAECBKICBt7o48QmQIAAAQIECBAgQIAAAQIECBAgQICAgVcHCBAgQIAAAQIECHw7dkwDAACAMMy/6+lYUgekcEGAAAECBAgQIECAwFTAwTstTmwCBAgQIECAAAECBAgQIECAAAECBAg4eG2AAAECBAgQIECAAAECBAgQIECAAAECUwEH77Q4sQkQIECAAAECBAgQIECAAAECBAgQIODgtQECBAgQIECAAAECBAgQIECAAAECBAhMBRy80+LEJkCAAAECBAgQIECAAAECBAgQIECAgIPXBggQIECAAAECBAgQIECAAAECBAgQIDAVcPBOixObAAECBAgQIECAAAECBAgQIECAAAECDl4bIECAAAECBAgQIECAAAECBAgQIECAwFTAwTstTmwCBAgQIECAAAECBAgQIECAAAECBAg4eG2AAAECBAgQIECAAAECBAgQIECAAAECUwEH77Q4sQkQIECAAAECBAgQIECAAAECBAgQIODgtQECBAgQIECAAAECBAgQIECAAAECBAhMBRy80+LEJkCAAAECBAgQIECAAAECBAgQIECAgIPXBggQIECAAAECBAgQIECAAAECBAgQIDAVcPBOixObAAECBAgQIECAAAECBAgQIECAAAECDl4bIECAAAECBAgQIECAAAECBAgQIECAwFTAwTstTmwCBAgQIECAAAECBAgQIECAAAECBAg4eG2AAAECBAgQIECAAAECBAgQIECAAAECUwEH77Q4sQkQIECAAAECBAgQIECAAAECBAgQIODgtQECBAgQIECAAAECBAgQIECAAAECBAhMBRy80+LEJkCAAAECBAgQIECAAAECBAgQIECAgIPXBggQIECAAAECBAgQIECAAAECBAgQIDAVcPBOixObAAECBAgQIECAAAECBAgQIECAAAECDl4bIECAAAECBAgQIECAAAECBAgQIECAwFTAwTstTmwCBAgQIECAAAECBAgQIECAAAECBAg4eG2AAAECBAgQIECAAAECBAgQIECAAAECUwEH77Q4sQkQIECAAAECBAgQIECAAAECBAgQIODgtQECBAgQIECAAAECBAgQIECAAAECBAhMBRy80+LEJkCAAAECBAgQIECAAAECBAgQIECAgIPXBggQIECAAAECBAgQIECAAAECBAgQIDAVcPBOixObAAECBAgQIECAAAECBAgQIECAAAECDl4bIECAAAECBAgQIECAAAECBAgQIECAwFTAwTstTmwCBAgQIECAAAECBAgQIECAAAECBAg4eG2AAAECBAgQIECAAAECBAgQIECAAAECUwEH77Q4sQkQIECAAAECBAgQIECAAAECBAgQIODgtQECBAgQIECAAAECBAgQIECAAAECBAhMBRy80+LEJkCAAAECBAgQIECAAAECBAgQIECAgIPXBggQIECAAAECBAgQIECAAAECBAgQIDAVcPBOixObAAECBAgQIECAAAECBAgQIECAAAECDl4bIECAAAECBAgQIECAAAECBAgQIECAwFTAwTstTmwCBAgQIECAAAECBAgQIECAAAECBAg4eG2AAAECBAgQIECAAAECBAgQIECAAAECUwEH77Q4sQkQIECAAAECBAgQIECAAAECBAgQIODgtQECBAgQIECAAAECBAgQIECAAAECBAhMBRy80+LEJkCAAAECBAgQIECAAAECBAgQIECAgIPXBggQIECAAAECBAgQIECAAAECBAgQIDAVcPBOixObAAECBAgQIECAAAECBAgQIECAAAECDl4bIECAAAECBAgQIECAAAECBAgQIECAwFTAwTstTmwCBAgQIECAAAECBAgQIECAAAECBAg4eG2AAAECBAgQIECAAAECBAgQIECAAAECUwEH77Q4sQkQIECAAAECBAgQIECAAAECBAgQIODgtQECBAgQIECAAAECBAgQIECAAAECBAhMBRy80+LEJkCAAAECBAgQIECAAAECBAgQIECAgIPXBggQIECAAAECBAgQIECAAAECBAgQIDAVcPBOixObAAECBAgQIECAAAECBAgQIECAAAECDl4bIECAAAECBAgQIECAAAECBAgQIECAwFTAwTstTmwCBAgQIECAAAECBAgQIECAAAECBAg4eG2AAAECBAgQIECAAAECBAgQIECAAAECUwEH77Q4sQkQIECAAAECBAgQIECAAAECBAgQIODgtQECBAgQIECAAAECBAgQIECAAAECBAhMBRy80+LEJkCAAAECBAgQIECAAAECBAgQIECAgIPXBggQIECAAAECBAgQIECAAAECBAgQIDAVcPBOixObAAECBAgQIECAAAECBAgQIECAAAECDl4bIECAAAECBAgQIECAAAECBAgQIECAwFTAwTstTmwCBAgQIECAAAECBAgQIECAAAECBAg4eG2AAAECBAgQIECAAAECBAgQIECAAAECUwEH77Q4sQkQIECAAAECBAgQIECAAAECBAgQIODgtQECBAgQIECAAAECBAgQIECAAAECBAhMBRy80+LEJkCAAAECBAgQIECAAAECBAgQIECAgIPXBggQIECAAAECBAgQIECAAAECBAgQIDAVcPBOixObAAECBAgQIECAAAECBAgQIECAAAECDl4bIECAAAECBAgQIECAAAECBAgQIECAwFTAwTstTmwCBAgQIECAAAECBAgQIECAAAECBAg4eG2AAAECBAgQIECAAAECBAgQIECAAAECUwEH77Q4sQkQIECAAAECBAgQIECAAAECBAgQIODgtQECBAgQIECAAAECBAgQIECAAAECBAhMBRy80+LEJkCAAAECBAgQIECAAAECBAgQIECAgIPXBggQIECAAAECBAgQIECAAAECBAgQIDAVcPBOixObAAECBAgQIECAAAECBAgQIECAAAECDl4bIECAAAECBAgQIECAAAECBAgQIECAwFTAwTstTmwCBAgQIECAAAECBAgQIECAAAECBAg4eG2AAAECBAgQIECAAAECBAgQIECAAAECUwEH77Q4sQkQIECAAAECBAgQIECAAAECBAgQIODgtQECBAgQIECAAAECBAgQIECAAAECBAhMBRy80+LEJkCAAAECBAgQIECAAAECBAgQIECAgIPXBggQIECAAAECBAgQIECAAAECBAgQIDAVcPBOixObAAECBAgQIECAAAECBAgQIECAAAECDl4bIECAAAECBAgQIECAAAECBAgQIECAwFTAwTstTmwCBAgQIECAAAECBAgQIECAAAECBAg4eG2AAAECBAgQIECAAAECBAgQIECAAAECUwEH77Q4sQkQIECAAAECBAgQIECAAAECBAgQIODgtQECBAgQIECAAAECBAgQIECAAAECBAhMBRy80+LEJkCAAAECBAgQIECAAAECBAgQIECAgIPXBggQIECAAAECBAgQIECAAAECBAgQIDAVcPBOixObAAECBAgQIECAAAECBAgQIECAAAECDl4bIECAAAECBAgQIECAAAECBAgQIECAwFTAwTstTmwCBAgQIECAAAECBAgQIECAAAECBAg4eG2AAAECBAgQIECAAAECBAgQIECAAAECUwEH77Q4sQkQIECAAAECBAgQIECAAAECBAgQIODgtQECBAgQIECAAAECBAgQIECAAAECBAhMBRy80+LEJkCAAAECBAgQIECAAAECBAgQIECAgIPXBggQIECAAAECBAgQIECAAAECBAgQIDAVcPBOixObAAECBAgQIECAAAECBAgQIECAAAECDl4bIECAAAECBAgQIECAAAECBAgQIECAwFTAwTstTmwCBAgQIECAAAECBAgQIECAAAECBAg4eG2AAAECBAgQIECAAAECBAgQIECAAAECUwEH77Q4sQkQIECAAAECBAgQIECAAAECBAgQIODgtQECBAgQIECAAAECBAgQIECAAAECBAhMBRy80+LEJkCAAAECBAgQIECAAAECBAgQIECAgIPXBggQIECAAAECBAgQIECAAAECBAgQIDAVcPBOixObAAECBAgQIECAAAECBAgQIECAAAECDl4bIECAAAECBAgQIECAAAECBAgQIECAwFTAwTstTmwCBAgQIECAAAECBAgQIECAAAECBAg4eG2AAAECBAgQIECAAAECBAgQIECAAAECUwEH77Q4sQkQIECAAAECBAgQIECAAAECBAgQIODgtQECBAgQIECAAAECBAgQIECAAAECBAhMBRy80+LEJkCAAAECBAgQIECAAAECBAgQIECAgIPXBggQIECAAAECBAgQIECAAAECBAgQIDAVcPBOixObAAECBAgQIECAAAECBAgQIECAAAECDl4bIECAAAECBAgQIECAAAECBAgQIECAwFTAwTstTmwCBAgQIECAAAECBAgQIECAAAECBAg4eG2AAAECBAgQIECAAAECBAgQIECAAAECUwEH77Q4sQkQIECAAAECBAgQIECAAAECBAgQIODgtQECBAgQIECAAAECBAgQIECAAAECBAhMBRy80+LEJkCAAAECBAgQIECAAAECBAgQIECAgIPXBggQIECAAAECBAgQIECAAAECBAgQIDAVcPBOixObAAECBAgQIECAAAECBAgQIECAAAECDl4bIECAAAECBAgQIECAAAECBAgQIECAwFTAwTstTmwCBAgQIECAAAECBAgQIECAAAECBAg4eG2AAAECBAgQIECAAAECBAgQIECAAAECUwEH77Q4sQkQIECAAAECBAgQIECAAAECBAgQIODgtQECBAgQIECAAAECBAgQIECAAAECBAhMBRy80+LEJkCAAAECBAgQIECAAAECBAgQIECAgIPXBggQIECAAAECBAgQIECAAAECBAgQIDAVcPBOixObAAECBAgQIECAAAECBAgQIECAAAECDl4bIECAAAECBAgQIECAAAECBAgQIECAwFTAwTstTmwCBAgQIECAAAECBAgQIECAAAECBAg4eG2AAAECBAgQIECAAAECBAgQIECAAAECUwEH77Q4sQkQIECAAAECBAgQIECAAAECBAgQIODgtQECBAgQIECAAAECBAgQIECAAAECBAhMBRy80+LEJkCAAAECBAgQIECAAAECBAgQIECAgIPXBggQIECAAAECBAgQIECAAAECBAgQIDAVcPBOixObAAECBAgQIECAAAECBAgQIECAAAECDl4bIECAAAECBAgQIECAAAECBAgQIECAwFTAwTstTmwCBAgQIECAAAECBAgQIECAAAECBAg4eG2AAAECBAgQIECAAAECBAgQIECAAAECUwEH77Q4sQkQIECAAAECBAgQIECAAAECBAgQIODgtQECBAgQIECAAAECBAgQIECAAAECBAhMBRy80+LEJkCAAAECBAgQIECAAAECBAgQIECAgIPXBggQIECAAAECBAgQIECAAAECBAgQIDAVcPBOixObAAECBAgQIECAAAECBAgQIECAAAECDl4bIECAAAECBAgQIECAAAECBAgQIECAwFTAwTstTmwCBAgQIECAAAECBAgQIECAAAECBAg4eG2AAAECBAgQIECAAAECBAgQIECAAAECUwEH77Q4sQkQIECAAAECBAgQIECAAAECBAgQIODgtQECBAgQIECAAAECBAgQIECAAAECBAhMBRy80+LEJkCAAAECBAgQIECAAAECBAgQIECAgIPXBggQIECAAAECBAgQIECAAAECBAgQIDAVcPBOixObAAECBAgQIECAAAECBAgQIECAAAECDl4bIECAAAECBAgQIECAAAECBAgQIECAwFTAwTstTmwCBAgQIECAAAECBAgQIECAAAECBAg4eG2AAAECBAgQIECAAAECBAgQIECAAAECUwEH77Q4sQkQIECAAAECBAgQIECAAAECBAgQIODgtQECBAgQIECAAAECBAgQIECAAAECBAhMBRy80+LEJkCAAAECBAgQIECAAAECBAgQIECAgIPXBggQIECAAAECBAgQIECAAAECBAgQIDAVcPBOixObAAECBAgQIECAAAECBAgQIECAAAECDl4bIECAAAECBAgQIECAAAECBAgQIECAwFTAwTstTmwCBAgQIECAAAECBAgQIECAAAECBAg4eG2AAAECBAgQIECAAAECBAgQIECAAAECUwEH77Q4sQkQIECAAAECBAgQIECAAAECBAgQIODgtQECBAgQIECAAAECBAgQIECAAAECBAhMBRy80+LEJkCAAAECBAgQIECAAAECBAgQIECAgIPXBggQIECAAAECBAgQIECAAAECBAgQIDAVcPBOixObAAECBAgQIECAAAECBAgQIEAiXzwpAAAIW0lEQVSAAAECDl4bIECAAAECBAgQIECAAAECBAgQIECAwFTAwTstTmwCBAgQIECAAAECBAgQIECAAAECBAg4eG2AAAECBAgQIECAAAECBAgQIECAAAECUwEH77Q4sQkQIECAAAECBAgQIECAAAECBAgQIODgtQECBAgQIECAAAECBAgQIECAAAECBAhMBRy80+LEJkCAAAECBAgQIECAAAECBAgQIECAgIPXBggQIECAAAECBAgQIECAAAECBAgQIDAVcPBOixObAAECBAgQIECAAAECBAgQIECAAAECDl4bIECAAAECBAgQIECAAAECBAgQIECAwFTAwTstTmwCBAgQIECAAAECBAgQIECAAAECBAg4eG2AAAECBAgQIECAAAECBAgQIECAAAECUwEH77Q4sQkQIECAAAECBAgQIECAAAECBAgQIODgtQECBAgQIECAAAECBAgQIECAAAECBAhMBRy80+LEJkCAAAECBAgQIECAAAECBAgQIECAgIPXBggQIECAAAECBAgQIECAAAECBAgQIDAVcPBOixObAAECBAgQIECAAAECBAgQIECAAAECDl4bIECAAAECBAgQIECAAAECBAgQIECAwFTAwTstTmwCBAgQIECAAAECBAgQIECAAAECBAg4eG2AAAECBAgQIECAAAECBAgQIECAAAECUwEH77Q4sQkQIECAAAECBAgQIECAAAECBAgQIODgtQECBAgQIECAAAECBAgQIECAAAECBAhMBRy80+LEJkCAAAECBAgQIECAAAECBAgQIECAgIPXBggQIECAAAECBAgQIECAAAECBAgQIDAVcPBOixObAAECBAgQIECAAAECBAgQIECAAAECDl4bIECAAAECBAgQIECAAAECBAgQIECAwFTAwTstTmwCBAgQIECAAAECBAgQIECAAAECBAg4eG2AAAECBAgQIECAAAECBAgQIECAAAECUwEH77Q4sQkQIECAAAECBAgQIECAAAECBAgQIODgtQECBAgQIECAAAECBAgQIECAAAECBAhMBRy80+LEJkCAAAECBAgQIECAAAECBAgQIECAgIPXBggQIECAAAECBAgQIECAAAECBAgQIDAVcPBOixObAAECBAgQIECAAAECBAgQIECAAAECDl4bIECAAAECBAgQIECAAAECBAgQIECAwFTAwTstTmwCBAgQIECAAAECBAgQIECAAAECBAg4eG2AAAECBAgQIECAAAECBAgQIECAAAECUwEH77Q4sQkQIECAAAECBAgQIECAAAECBAgQIODgtQECBAgQIECAAAECBAgQIECAAAECBAhMBRy80+LEJkCAAAECBAgQIECAAAECBAgQIECAgIPXBggQIECAAAECBAgQIECAAAECBAgQIDAVcPBOixObAAECBAgQIECAAAECBAgQIECAAAECDl4bIECAAAECBAgQIECAAAECBAgQIECAwFTAwTstTmwCBAgQIECAAAECBAgQIECAAAECBAg4eG2AAAECBAgQIECAAAECBAgQIECAAAECUwEH77Q4sQkQIECAAAECBAgQIECAAAECBAgQIODgtQECBAgQIECAAAECBAgQIECAAAECBAhMBRy80+LEJkCAAAECBAgQIECAAAECBAgQIECAgIPXBggQIECAAAECBAgQIECAAAECBAgQIDAVcPBOixObAAECBAgQIECAAAECBAgQIECAAAECDl4bIECAAAECBAgQIECAAAECBAgQIECAwFTAwTstTmwCBAgQIECAAAECBAgQIECAAAECBAg4eG2AAAECBAgQIECAAAECBAgQIECAAAECUwEH77Q4sQkQIECAAAECBAgQIECAAAECBAgQIODgtQECBAgQIECAAAECBAgQIECAAAECBAhMBRy80+LEJkCAAAECBAgQIECAAAECBAgQIECAgIPXBggQIECAAAECBAgQIECAAAECBAgQIDAVcPBOixObAAECBAgQIECAAAECBAgQIECAAAECDl4bIECAAAECBAgQIECAAAECBAgQIECAwFTAwTstTmwCBAgQIECAAAECBAgQIECAAAECBAg4eG2AAAECBAgQIECAAAECBAgQIECAAAECUwEH77Q4sQkQIECAAAECBAgQIECAAAECBAgQIODgtQECBAgQIECAAAECBAgQIECAAAECBAhMBRy80+LEJkCAAAECBAgQIECAAAECBAgQIECAgIPXBggQIECAAAECBAgQIECAAAECBAgQIDAVcPBOixObAAECBAgQIECAAAECBAgQIECAAAECDl4bIECAAAECBAgQIECAAAECBAgQIECAwFTAwTstTmwCBAgQIECAAAECBAgQIECAAAECBAg4eG2AAAECBAgQIECAAAECBAgQIECAAAECUwEH77Q4sQkQIECAAAECBAgQIECAAAECBAgQIODgtQECBAgQIECAAAECBAgQIECAAAECBAhMBRy80+LEJkCAAAECBAgQIECAAAECBAgQIECAgIPXBggQIECAAAECBAgQIECAAAECBAgQIDAVcPBOixObAAECBAgQIECAAAECBAgQIECAAAECDl4bIECAAAECBAgQIECAAAECBAgQIECAwFTAwTstTmwCBAgQIECAAAECBAgQIECAAAECBAg4eG2AAAECBAgQIECAAAECBAgQIECAAAECUwEH77Q4sQkQIECAAAECBAgQIECAAAECBAgQIODgtQECBAgQIECAAAECBAgQIECAAAECBAhMBRy80+LEJkCAAAECBAgQIECAAAECBAgQIECAgIPXBggQIECAAAECBAgQIECAAAECBAgQIDAVcPBOixObAAECBAgQIECAAAECBAgQIECAAAECAT9mA+nAlSFsAAAAAElFTkSuQmCC\" preserveAspectRatio=\"none\" x=\"0\" y=\"0\" width=\"700px\" height=\"500px\"/></g><defs id=\"topdefs-985c59\"><g class=\"clips\"/><clipPath id=\"legend985c59\"><rect width=\"174\" height=\"320\" x=\"0\" y=\"0\"/></clipPath></defs><g class=\"layer-above\"><g class=\"imagelayer\"/><g class=\"shapelayer\"/></g><g class=\"infolayer\"><g class=\"legend\" pointer-events=\"all\" transform=\"translate(513.5,100)\"><rect class=\"bg\" shape-rendering=\"crispEdges\" width=\"174\" height=\"320\" x=\"0\" y=\"0\" style=\"stroke: rgb(68, 68, 68); stroke-opacity: 1; fill: rgb(255, 255, 255); fill-opacity: 1; stroke-width: 0px;\"/><g class=\"scrollbox\" transform=\"\" clip-path=\"url(#legend985c59)\"><text class=\"legendtitletext\" text-anchor=\"start\" x=\"2\" y=\"18.2\" style=\"font-family: 'Open Sans', verdana, arial, sans-serif; font-size: 14px; fill: rgb(42, 63, 95); fill-opacity: 1; white-space: pre;\">province</text><g class=\"groups\" transform=\"\"><g class=\"traces\" transform=\"translate(0,32.7)\" style=\"opacity: 1;\"><text class=\"legendtext\" text-anchor=\"start\" x=\"40\" y=\"4.680000000000001\" style=\"font-family: 'Open Sans', verdana, arial, sans-serif; font-size: 12px; fill: rgb(42, 63, 95); fill-opacity: 1; white-space: pre;\">Seoul</text><g class=\"layers\" style=\"opacity: 1;\"><g class=\"legendfill\"/><g class=\"legendlines\"><path class=\"js-line\" d=\"M5,0h30\" style=\"fill: none; stroke: rgb(99, 110, 250); stroke-opacity: 1; stroke-width: 2px;\"/></g><g class=\"legendsymbols\"><g class=\"legendpoints\"/></g></g><rect class=\"legendtoggle\" x=\"0\" y=\"-9.5\" width=\"168.671875\" height=\"19\" style=\"fill: rgb(0, 0, 0); fill-opacity: 0;\"/></g></g><g class=\"groups\" transform=\"\"><g class=\"traces\" transform=\"translate(0,51.7)\" style=\"opacity: 1;\"><text class=\"legendtext\" text-anchor=\"start\" x=\"40\" y=\"4.680000000000001\" style=\"font-family: 'Open Sans', verdana, arial, sans-serif; font-size: 12px; fill: rgb(42, 63, 95); fill-opacity: 1; white-space: pre;\">Busan</text><g class=\"layers\" style=\"opacity: 1;\"><g class=\"legendfill\"/><g class=\"legendlines\"><path class=\"js-line\" d=\"M5,0h30\" style=\"fill: none; stroke: rgb(239, 85, 59); stroke-opacity: 1; stroke-width: 2px;\"/></g><g class=\"legendsymbols\"><g class=\"legendpoints\"/></g></g><rect class=\"legendtoggle\" x=\"0\" y=\"-9.5\" width=\"168.671875\" height=\"19\" style=\"fill: rgb(0, 0, 0); fill-opacity: 0;\"/></g></g><g class=\"groups\" transform=\"\"><g class=\"traces\" transform=\"translate(0,70.7)\" style=\"opacity: 1;\"><text class=\"legendtext\" text-anchor=\"start\" x=\"40\" y=\"4.680000000000001\" style=\"font-family: 'Open Sans', verdana, arial, sans-serif; font-size: 12px; fill: rgb(42, 63, 95); fill-opacity: 1; white-space: pre;\">Daegu</text><g class=\"layers\" style=\"opacity: 1;\"><g class=\"legendfill\"/><g class=\"legendlines\"><path class=\"js-line\" d=\"M5,0h30\" style=\"fill: none; stroke: rgb(0, 204, 150); stroke-opacity: 1; stroke-width: 2px;\"/></g><g class=\"legendsymbols\"><g class=\"legendpoints\"/></g></g><rect class=\"legendtoggle\" x=\"0\" y=\"-9.5\" width=\"168.671875\" height=\"19\" style=\"fill: rgb(0, 0, 0); fill-opacity: 0;\"/></g></g><g class=\"groups\" transform=\"\"><g class=\"traces\" transform=\"translate(0,89.7)\" style=\"opacity: 1;\"><text class=\"legendtext\" text-anchor=\"start\" x=\"40\" y=\"4.680000000000001\" style=\"font-family: 'Open Sans', verdana, arial, sans-serif; font-size: 12px; fill: rgb(42, 63, 95); fill-opacity: 1; white-space: pre;\">Incheon</text><g class=\"layers\" style=\"opacity: 1;\"><g class=\"legendfill\"/><g class=\"legendlines\"><path class=\"js-line\" d=\"M5,0h30\" style=\"fill: none; stroke: rgb(171, 99, 250); stroke-opacity: 1; stroke-width: 2px;\"/></g><g class=\"legendsymbols\"><g class=\"legendpoints\"/></g></g><rect class=\"legendtoggle\" x=\"0\" y=\"-9.5\" width=\"168.671875\" height=\"19\" style=\"fill: rgb(0, 0, 0); fill-opacity: 0;\"/></g></g><g class=\"groups\" transform=\"\"><g class=\"traces\" transform=\"translate(0,108.7)\" style=\"opacity: 1;\"><text class=\"legendtext\" text-anchor=\"start\" x=\"40\" y=\"4.680000000000001\" style=\"font-family: 'Open Sans', verdana, arial, sans-serif; font-size: 12px; fill: rgb(42, 63, 95); fill-opacity: 1; white-space: pre;\">Gwangju</text><g class=\"layers\" style=\"opacity: 1;\"><g class=\"legendfill\"/><g class=\"legendlines\"><path class=\"js-line\" d=\"M5,0h30\" style=\"fill: none; stroke: rgb(255, 161, 90); stroke-opacity: 1; stroke-width: 2px;\"/></g><g class=\"legendsymbols\"><g class=\"legendpoints\"/></g></g><rect class=\"legendtoggle\" x=\"0\" y=\"-9.5\" width=\"168.671875\" height=\"19\" style=\"fill: rgb(0, 0, 0); fill-opacity: 0;\"/></g></g><g class=\"groups\" transform=\"\"><g class=\"traces\" transform=\"translate(0,127.7)\" style=\"opacity: 1;\"><text class=\"legendtext\" text-anchor=\"start\" x=\"40\" y=\"4.680000000000001\" style=\"font-family: 'Open Sans', verdana, arial, sans-serif; font-size: 12px; fill: rgb(42, 63, 95); fill-opacity: 1; white-space: pre;\">Daejeon</text><g class=\"layers\" style=\"opacity: 1;\"><g class=\"legendfill\"/><g class=\"legendlines\"><path class=\"js-line\" d=\"M5,0h30\" style=\"fill: none; stroke: rgb(25, 211, 243); stroke-opacity: 1; stroke-width: 2px;\"/></g><g class=\"legendsymbols\"><g class=\"legendpoints\"/></g></g><rect class=\"legendtoggle\" x=\"0\" y=\"-9.5\" width=\"168.671875\" height=\"19\" style=\"fill: rgb(0, 0, 0); fill-opacity: 0;\"/></g></g><g class=\"groups\" transform=\"\"><g class=\"traces\" transform=\"translate(0,146.7)\" style=\"opacity: 1;\"><text class=\"legendtext\" text-anchor=\"start\" x=\"40\" y=\"4.680000000000001\" style=\"font-family: 'Open Sans', verdana, arial, sans-serif; font-size: 12px; fill: rgb(42, 63, 95); fill-opacity: 1; white-space: pre;\">Ulsan</text><g class=\"layers\" style=\"opacity: 1;\"><g class=\"legendfill\"/><g class=\"legendlines\"><path class=\"js-line\" d=\"M5,0h30\" style=\"fill: none; stroke: rgb(255, 102, 146); stroke-opacity: 1; stroke-width: 2px;\"/></g><g class=\"legendsymbols\"><g class=\"legendpoints\"/></g></g><rect class=\"legendtoggle\" x=\"0\" y=\"-9.5\" width=\"168.671875\" height=\"19\" style=\"fill: rgb(0, 0, 0); fill-opacity: 0;\"/></g></g><g class=\"groups\" transform=\"\"><g class=\"traces\" transform=\"translate(0,165.7)\" style=\"opacity: 1;\"><text class=\"legendtext\" text-anchor=\"start\" x=\"40\" y=\"4.680000000000001\" style=\"font-family: 'Open Sans', verdana, arial, sans-serif; font-size: 12px; fill: rgb(42, 63, 95); fill-opacity: 1; white-space: pre;\">Sejong</text><g class=\"layers\" style=\"opacity: 1;\"><g class=\"legendfill\"/><g class=\"legendlines\"><path class=\"js-line\" d=\"M5,0h30\" style=\"fill: none; stroke: rgb(182, 232, 128); stroke-opacity: 1; stroke-width: 2px;\"/></g><g class=\"legendsymbols\"><g class=\"legendpoints\"/></g></g><rect class=\"legendtoggle\" x=\"0\" y=\"-9.5\" width=\"168.671875\" height=\"19\" style=\"fill: rgb(0, 0, 0); fill-opacity: 0;\"/></g></g><g class=\"groups\" transform=\"\"><g class=\"traces\" transform=\"translate(0,184.7)\" style=\"opacity: 1;\"><text class=\"legendtext\" text-anchor=\"start\" x=\"40\" y=\"4.680000000000001\" style=\"font-family: 'Open Sans', verdana, arial, sans-serif; font-size: 12px; fill: rgb(42, 63, 95); fill-opacity: 1; white-space: pre;\">Gyeonggi-do</text><g class=\"layers\" style=\"opacity: 1;\"><g class=\"legendfill\"/><g class=\"legendlines\"><path class=\"js-line\" d=\"M5,0h30\" style=\"fill: none; stroke: rgb(255, 151, 255); stroke-opacity: 1; stroke-width: 2px;\"/></g><g class=\"legendsymbols\"><g class=\"legendpoints\"/></g></g><rect class=\"legendtoggle\" x=\"0\" y=\"-9.5\" width=\"168.671875\" height=\"19\" style=\"fill: rgb(0, 0, 0); fill-opacity: 0;\"/></g></g><g class=\"groups\" transform=\"\"><g class=\"traces\" transform=\"translate(0,203.7)\" style=\"opacity: 1;\"><text class=\"legendtext\" text-anchor=\"start\" x=\"40\" y=\"4.680000000000001\" style=\"font-family: 'Open Sans', verdana, arial, sans-serif; font-size: 12px; fill: rgb(42, 63, 95); fill-opacity: 1; white-space: pre;\">Gangwon-do</text><g class=\"layers\" style=\"opacity: 1;\"><g class=\"legendfill\"/><g class=\"legendlines\"><path class=\"js-line\" d=\"M5,0h30\" style=\"fill: none; stroke: rgb(254, 203, 82); stroke-opacity: 1; stroke-width: 2px;\"/></g><g class=\"legendsymbols\"><g class=\"legendpoints\"/></g></g><rect class=\"legendtoggle\" x=\"0\" y=\"-9.5\" width=\"168.671875\" height=\"19\" style=\"fill: rgb(0, 0, 0); fill-opacity: 0;\"/></g></g><g class=\"groups\" transform=\"\"><g class=\"traces\" transform=\"translate(0,222.7)\" style=\"opacity: 1;\"><text class=\"legendtext\" text-anchor=\"start\" x=\"40\" y=\"4.680000000000001\" style=\"font-family: 'Open Sans', verdana, arial, sans-serif; font-size: 12px; fill: rgb(42, 63, 95); fill-opacity: 1; white-space: pre;\">Chungcheongbuk-do</text><g class=\"layers\" style=\"opacity: 1;\"><g class=\"legendfill\"/><g class=\"legendlines\"><path class=\"js-line\" d=\"M5,0h30\" style=\"fill: none; stroke: rgb(99, 110, 250); stroke-opacity: 1; stroke-width: 2px;\"/></g><g class=\"legendsymbols\"><g class=\"legendpoints\"/></g></g><rect class=\"legendtoggle\" x=\"0\" y=\"-9.5\" width=\"168.671875\" height=\"19\" style=\"fill: rgb(0, 0, 0); fill-opacity: 0;\"/></g></g><g class=\"groups\" transform=\"\"><g class=\"traces\" transform=\"translate(0,241.7)\" style=\"opacity: 1;\"><text class=\"legendtext\" text-anchor=\"start\" x=\"40\" y=\"4.680000000000001\" style=\"font-family: 'Open Sans', verdana, arial, sans-serif; font-size: 12px; fill: rgb(42, 63, 95); fill-opacity: 1; white-space: pre;\">Chungcheongnam-do</text><g class=\"layers\" style=\"opacity: 1;\"><g class=\"legendfill\"/><g class=\"legendlines\"><path class=\"js-line\" d=\"M5,0h30\" style=\"fill: none; stroke: rgb(239, 85, 59); stroke-opacity: 1; stroke-width: 2px;\"/></g><g class=\"legendsymbols\"><g class=\"legendpoints\"/></g></g><rect class=\"legendtoggle\" x=\"0\" y=\"-9.5\" width=\"168.671875\" height=\"19\" style=\"fill: rgb(0, 0, 0); fill-opacity: 0;\"/></g></g><g class=\"groups\" transform=\"\"><g class=\"traces\" transform=\"translate(0,260.7)\" style=\"opacity: 1;\"><text class=\"legendtext\" text-anchor=\"start\" x=\"40\" y=\"4.680000000000001\" style=\"font-family: 'Open Sans', verdana, arial, sans-serif; font-size: 12px; fill: rgb(42, 63, 95); fill-opacity: 1; white-space: pre;\">Jeollabuk-do</text><g class=\"layers\" style=\"opacity: 1;\"><g class=\"legendfill\"/><g class=\"legendlines\"><path class=\"js-line\" d=\"M5,0h30\" style=\"fill: none; stroke: rgb(0, 204, 150); stroke-opacity: 1; stroke-width: 2px;\"/></g><g class=\"legendsymbols\"><g class=\"legendpoints\"/></g></g><rect class=\"legendtoggle\" x=\"0\" y=\"-9.5\" width=\"168.671875\" height=\"19\" style=\"fill: rgb(0, 0, 0); fill-opacity: 0;\"/></g></g><g class=\"groups\" transform=\"\"><g class=\"traces\" transform=\"translate(0,279.7)\" style=\"opacity: 1;\"><text class=\"legendtext\" text-anchor=\"start\" x=\"40\" y=\"4.680000000000001\" style=\"font-family: 'Open Sans', verdana, arial, sans-serif; font-size: 12px; fill: rgb(42, 63, 95); fill-opacity: 1; white-space: pre;\">Jeollanam-do</text><g class=\"layers\" style=\"opacity: 1;\"><g class=\"legendfill\"/><g class=\"legendlines\"><path class=\"js-line\" d=\"M5,0h30\" style=\"fill: none; stroke: rgb(171, 99, 250); stroke-opacity: 1; stroke-width: 2px;\"/></g><g class=\"legendsymbols\"><g class=\"legendpoints\"/></g></g><rect class=\"legendtoggle\" x=\"0\" y=\"-9.5\" width=\"168.671875\" height=\"19\" style=\"fill: rgb(0, 0, 0); fill-opacity: 0;\"/></g></g><g class=\"groups\" transform=\"\"><g class=\"traces\" transform=\"translate(0,298.7)\" style=\"opacity: 1;\"><text class=\"legendtext\" text-anchor=\"start\" x=\"40\" y=\"4.680000000000001\" style=\"font-family: 'Open Sans', verdana, arial, sans-serif; font-size: 12px; fill: rgb(42, 63, 95); fill-opacity: 1; white-space: pre;\">Gyeongsangbuk-do</text><g class=\"layers\" style=\"opacity: 1;\"><g class=\"legendfill\"/><g class=\"legendlines\"><path class=\"js-line\" d=\"M5,0h30\" style=\"fill: none; stroke: rgb(255, 161, 90); stroke-opacity: 1; stroke-width: 2px;\"/></g><g class=\"legendsymbols\"><g class=\"legendpoints\"/></g></g><rect class=\"legendtoggle\" x=\"0\" y=\"-9.5\" width=\"168.671875\" height=\"19\" style=\"fill: rgb(0, 0, 0); fill-opacity: 0;\"/></g></g><g class=\"groups\" transform=\"\"><g class=\"traces\" transform=\"translate(0,317.7)\" style=\"opacity: 1;\"><text class=\"legendtext\" text-anchor=\"start\" x=\"40\" y=\"4.680000000000001\" style=\"font-family: 'Open Sans', verdana, arial, sans-serif; font-size: 12px; fill: rgb(42, 63, 95); fill-opacity: 1; white-space: pre;\">Gyeongsangnam-do</text><g class=\"layers\" style=\"opacity: 1;\"><g class=\"legendfill\"/><g class=\"legendlines\"><path class=\"js-line\" d=\"M5,0h30\" style=\"fill: none; stroke: rgb(25, 211, 243); stroke-opacity: 1; stroke-width: 2px;\"/></g><g class=\"legendsymbols\"><g class=\"legendpoints\"/></g></g><rect class=\"legendtoggle\" x=\"0\" y=\"-9.5\" width=\"168.671875\" height=\"19\" style=\"fill: rgb(0, 0, 0); fill-opacity: 0;\"/></g></g><g class=\"groups\" transform=\"\"><g class=\"traces\" transform=\"translate(0,336.7)\" style=\"opacity: 1;\"><text class=\"legendtext\" text-anchor=\"start\" x=\"40\" y=\"4.680000000000001\" style=\"font-family: 'Open Sans', verdana, arial, sans-serif; font-size: 12px; fill: rgb(42, 63, 95); fill-opacity: 1; white-space: pre;\">Jeju-do</text><g class=\"layers\" style=\"opacity: 1;\"><g class=\"legendfill\"/><g class=\"legendlines\"><path class=\"js-line\" d=\"M5,0h30\" style=\"fill: none; stroke: rgb(255, 102, 146); stroke-opacity: 1; stroke-width: 2px;\"/></g><g class=\"legendsymbols\"><g class=\"legendpoints\"/></g></g><rect class=\"legendtoggle\" x=\"0\" y=\"-9.5\" width=\"168.671875\" height=\"19\" style=\"fill: rgb(0, 0, 0); fill-opacity: 0;\"/></g></g></g><rect class=\"scrollbar\" rx=\"20\" ry=\"3\" width=\"0\" height=\"0\" x=\"0\" y=\"0\" style=\"fill: rgb(128, 139, 164); fill-opacity: 1;\"/></g><g class=\"g-gtitle\"><text class=\"gtitle\" x=\"35\" y=\"50\" text-anchor=\"start\" dy=\"0em\" style=\"font-family: 'Open Sans', verdana, arial, sans-serif; font-size: 17px; fill: rgb(42, 63, 95); opacity: 1; font-weight: normal; white-space: pre;\">Covid deaths by province</text></g><g class=\"g-xtitle\"><text class=\"xtitle\" x=\"292.5\" y=\"459.8\" text-anchor=\"middle\" style=\"font-family: 'Open Sans', verdana, arial, sans-serif; font-size: 14px; fill: rgb(42, 63, 95); opacity: 1; font-weight: normal; white-space: pre;\">date</text></g><g class=\"g-ytitle\"><text class=\"ytitle\" transform=\"rotate(-90,31.809375000000003,260)\" x=\"31.809375000000003\" y=\"260\" text-anchor=\"middle\" style=\"font-family: 'Open Sans', verdana, arial, sans-serif; font-size: 14px; fill: rgb(42, 63, 95); opacity: 1; font-weight: normal; white-space: pre;\">deceased</text></g></g></svg>"
      ]
     },
     "metadata": {},
     "output_type": "display_data"
    },
    {
     "data": {
      "image/svg+xml": [
       "<svg class=\"main-svg\" xmlns=\"http://www.w3.org/2000/svg\" xmlns:xlink=\"http://www.w3.org/1999/xlink\" width=\"700\" height=\"500\" style=\"\" viewBox=\"0 0 700 500\"><rect x=\"0\" y=\"0\" width=\"700\" height=\"500\" style=\"fill: rgb(255, 255, 255); fill-opacity: 1;\"/><defs id=\"defs-90238b\"><g class=\"clips\"><clipPath id=\"clip90238bxyplot\" class=\"plotclip\"><rect width=\"425\" height=\"320\"/></clipPath><clipPath class=\"axesclip\" id=\"clip90238bx\"><rect x=\"80\" y=\"0\" width=\"425\" height=\"500\"/></clipPath><clipPath class=\"axesclip\" id=\"clip90238by\"><rect x=\"0\" y=\"100\" width=\"700\" height=\"320\"/></clipPath><clipPath class=\"axesclip\" id=\"clip90238bxy\"><rect x=\"80\" y=\"100\" width=\"425\" height=\"320\"/></clipPath></g><g class=\"gradients\"/><g class=\"patterns\"/></defs><g class=\"bglayer\"><rect class=\"bg\" x=\"80\" y=\"100\" width=\"425\" height=\"320\" style=\"fill: rgb(229, 236, 246); fill-opacity: 1; stroke-width: 0;\"/></g><g class=\"layer-below\"><g class=\"imagelayer\"/><g class=\"shapelayer\"/></g><g class=\"cartesianlayer\"><g class=\"subplot xy\"><g class=\"layer-subplot\"><g class=\"shapelayer\"/><g class=\"imagelayer\"/></g><g class=\"minor-gridlayer\"><g class=\"x\"/><g class=\"y\"/></g><g class=\"gridlayer\"><g class=\"x\"><path class=\"xgrid crisp\" transform=\"translate(111.48,0)\" d=\"M0,100v320\" style=\"stroke: rgb(255, 255, 255); stroke-opacity: 1; stroke-width: 1px;\"/><path class=\"xgrid crisp\" transform=\"translate(187.56,0)\" d=\"M0,100v320\" style=\"stroke: rgb(255, 255, 255); stroke-opacity: 1; stroke-width: 1px;\"/><path class=\"xgrid crisp\" transform=\"translate(268.89,0)\" d=\"M0,100v320\" style=\"stroke: rgb(255, 255, 255); stroke-opacity: 1; stroke-width: 1px;\"/><path class=\"xgrid crisp\" transform=\"translate(347.59,0)\" d=\"M0,100v320\" style=\"stroke: rgb(255, 255, 255); stroke-opacity: 1; stroke-width: 1px;\"/><path class=\"xgrid crisp\" transform=\"translate(428.92,0)\" d=\"M0,100v320\" style=\"stroke: rgb(255, 255, 255); stroke-opacity: 1; stroke-width: 1px;\"/></g><g class=\"y\"><path class=\"ygrid crisp\" transform=\"translate(0,362.3)\" d=\"M80,0h425\" style=\"stroke: rgb(255, 255, 255); stroke-opacity: 1; stroke-width: 1px;\"/><path class=\"ygrid crisp\" transform=\"translate(0,320.59000000000003)\" d=\"M80,0h425\" style=\"stroke: rgb(255, 255, 255); stroke-opacity: 1; stroke-width: 1px;\"/><path class=\"ygrid crisp\" transform=\"translate(0,278.89)\" d=\"M80,0h425\" style=\"stroke: rgb(255, 255, 255); stroke-opacity: 1; stroke-width: 1px;\"/><path class=\"ygrid crisp\" transform=\"translate(0,237.19)\" d=\"M80,0h425\" style=\"stroke: rgb(255, 255, 255); stroke-opacity: 1; stroke-width: 1px;\"/><path class=\"ygrid crisp\" transform=\"translate(0,195.49)\" d=\"M80,0h425\" style=\"stroke: rgb(255, 255, 255); stroke-opacity: 1; stroke-width: 1px;\"/><path class=\"ygrid crisp\" transform=\"translate(0,153.78)\" d=\"M80,0h425\" style=\"stroke: rgb(255, 255, 255); stroke-opacity: 1; stroke-width: 1px;\"/><path class=\"ygrid crisp\" transform=\"translate(0,112.08)\" d=\"M80,0h425\" style=\"stroke: rgb(255, 255, 255); stroke-opacity: 1; stroke-width: 1px;\"/></g></g><g class=\"zerolinelayer\"><path class=\"yzl zl crisp\" transform=\"translate(0,404)\" d=\"M80,0h425\" style=\"stroke: rgb(255, 255, 255); stroke-opacity: 1; stroke-width: 2px;\"/></g><path class=\"xlines-below\"/><path class=\"ylines-below\"/><g class=\"overlines-below\"/><g class=\"xaxislayer-below\"/><g class=\"yaxislayer-below\"/><g class=\"overaxes-below\"/><g class=\"plot\" transform=\"translate(80,100)\" clip-path=\"url(#clip90238bxyplot)\"/><g class=\"overplot\"/><path class=\"xlines-above crisp\" d=\"M0,0\" style=\"fill: none;\"/><path class=\"ylines-above crisp\" d=\"M0,0\" style=\"fill: none;\"/><g class=\"overlines-above\"/><g class=\"xaxislayer-above\"><g class=\"xtick\"><text text-anchor=\"middle\" x=\"0\" y=\"433\" transform=\"translate(111.48,0)\" style=\"font-family: 'Open Sans', verdana, arial, sans-serif; font-size: 12px; fill: rgb(42, 63, 95); fill-opacity: 1; white-space: pre; opacity: 1;\">Feb 2020</text></g><g class=\"xtick\"><text text-anchor=\"middle\" x=\"0\" y=\"433\" style=\"font-family: 'Open Sans', verdana, arial, sans-serif; font-size: 12px; fill: rgb(42, 63, 95); fill-opacity: 1; white-space: pre; opacity: 1;\" transform=\"translate(187.56,0)\">Mar 2020</text></g><g class=\"xtick\"><text text-anchor=\"middle\" x=\"0\" y=\"433\" style=\"font-family: 'Open Sans', verdana, arial, sans-serif; font-size: 12px; fill: rgb(42, 63, 95); fill-opacity: 1; white-space: pre; opacity: 1;\" transform=\"translate(268.89,0)\">Apr 2020</text></g><g class=\"xtick\"><text text-anchor=\"middle\" x=\"0\" y=\"433\" style=\"font-family: 'Open Sans', verdana, arial, sans-serif; font-size: 12px; fill: rgb(42, 63, 95); fill-opacity: 1; white-space: pre; opacity: 1;\" transform=\"translate(347.59,0)\">May 2020</text></g><g class=\"xtick\"><text text-anchor=\"middle\" x=\"0\" y=\"433\" style=\"font-family: 'Open Sans', verdana, arial, sans-serif; font-size: 12px; fill: rgb(42, 63, 95); fill-opacity: 1; white-space: pre; opacity: 1;\" transform=\"translate(428.92,0)\">Jun 2020</text></g></g><g class=\"yaxislayer-above\"><g class=\"ytick\"><text text-anchor=\"end\" x=\"79\" y=\"4.199999999999999\" transform=\"translate(0,404)\" style=\"font-family: 'Open Sans', verdana, arial, sans-serif; font-size: 12px; fill: rgb(42, 63, 95); fill-opacity: 1; white-space: pre; opacity: 1;\">0</text></g><g class=\"ytick\"><text text-anchor=\"end\" x=\"79\" y=\"4.199999999999999\" style=\"font-family: 'Open Sans', verdana, arial, sans-serif; font-size: 12px; fill: rgb(42, 63, 95); fill-opacity: 1; white-space: pre; opacity: 1;\" transform=\"translate(0,362.3)\">1000</text></g><g class=\"ytick\"><text text-anchor=\"end\" x=\"79\" y=\"4.199999999999999\" style=\"font-family: 'Open Sans', verdana, arial, sans-serif; font-size: 12px; fill: rgb(42, 63, 95); fill-opacity: 1; white-space: pre; opacity: 1;\" transform=\"translate(0,320.59000000000003)\">2000</text></g><g class=\"ytick\"><text text-anchor=\"end\" x=\"79\" y=\"4.199999999999999\" style=\"font-family: 'Open Sans', verdana, arial, sans-serif; font-size: 12px; fill: rgb(42, 63, 95); fill-opacity: 1; white-space: pre; opacity: 1;\" transform=\"translate(0,278.89)\">3000</text></g><g class=\"ytick\"><text text-anchor=\"end\" x=\"79\" y=\"4.199999999999999\" style=\"font-family: 'Open Sans', verdana, arial, sans-serif; font-size: 12px; fill: rgb(42, 63, 95); fill-opacity: 1; white-space: pre; opacity: 1;\" transform=\"translate(0,237.19)\">4000</text></g><g class=\"ytick\"><text text-anchor=\"end\" x=\"79\" y=\"4.199999999999999\" style=\"font-family: 'Open Sans', verdana, arial, sans-serif; font-size: 12px; fill: rgb(42, 63, 95); fill-opacity: 1; white-space: pre; opacity: 1;\" transform=\"translate(0,195.49)\">5000</text></g><g class=\"ytick\"><text text-anchor=\"end\" x=\"79\" y=\"4.199999999999999\" style=\"font-family: 'Open Sans', verdana, arial, sans-serif; font-size: 12px; fill: rgb(42, 63, 95); fill-opacity: 1; white-space: pre; opacity: 1;\" transform=\"translate(0,153.78)\">6000</text></g><g class=\"ytick\"><text text-anchor=\"end\" x=\"79\" y=\"4.199999999999999\" style=\"font-family: 'Open Sans', verdana, arial, sans-serif; font-size: 12px; fill: rgb(42, 63, 95); fill-opacity: 1; white-space: pre; opacity: 1;\" transform=\"translate(0,112.08)\">7000</text></g></g><g class=\"overaxes-above\"/></g></g><g class=\"polarlayer\"/><g class=\"smithlayer\"/><g class=\"ternarylayer\"/><g class=\"geolayer\"/><g class=\"funnelarealayer\"/><g class=\"pielayer\"/><g class=\"iciclelayer\"/><g class=\"treemaplayer\"/><g class=\"sunburstlayer\"/><g class=\"glimages\"><image xmlns=\"http://www.w3.org/2000/svg\" xlink:href=\"data:image/png;base64,iVBORw0KGgoAAAANSUhEUgAABXgAAAPoCAYAAABkvZZOAAAgAElEQVR4XuzdXXLjOLIGUPCuyXy2vBzLi7C8iJKXY/mZtabBDddMq0uWZeuHP0jgzGM3CWSeRLRHXzDILvkfAQIECBAgQIAAAQIECBAgQIAAAQIECIQU6EJWrWgCBAgQIECAAAECBAgQIECAAAECBAgQSAJeh4AAAQIECBAgQIAAAQIECBAgQIAAAQJBBQS8QQenbAIECBAgQIAAAQIECBAgQIAAAQIECAh4nQECBAgQIECAAAECBAgQIECAAAECBAgEFRDwBh2csgkQIECAAAECBAgQIECAAAECBAgQICDgdQYIECBAgAABAgQIECBAgAABAgQIECAQVEDAG3RwyiZAgAABAgQIECBAgAABAgQIECBAgICA1xkgQIAAAQIECBAgQIAAAQIECBAgQIBAUAEBb9DBKZsAAQIECBAgQIAAAQIECBAgQIAAAQICXmeAAAECBAgQIECAAAECBAgQIECAAAECQQUEvEEHp2wCBAgQIECAAAECBAgQIECAAAECBAgIeJ0BAgQIECBAgAABAgQIECBAgAABAgQIBBUQ8AYdnLIJECBAgAABAgQIECBAgAABAgQIECAg4HUGCBAgQIAAAQIECBAgQIAAAQIECBAgEFRAwBt0cMomQIAAAQIECBAgQIAAAQIECBAgQICAgNcZIECAAAECBAgQIECAAAECBAgQIECAQFABAW/QwSmbAAECBAgQIECAAAECBAgQIECAAAECAl5ngAABAgQIECBAgAABAgQIECBAgAABAkEFBLxBB6dsAgQIECBAgAABAgQIECBAgAABAgQICHidAQIECBAgQIAAAQIECBAgQIAAAQIECAQVEPAGHZyyCRAgQIAAAQIECBAgQIAAAQIECBAgIOB1BggQIECAAAECBAgQIECAAAECBAgQIBBUQMAbdHDKJkCAAAECBAgQIECAAAECBAgQIECAgIDXGSBAgAABAgQIECBAgAABAgQIECBAgEBQAQFv0MEpmwABAgQIECBAgAABAgQIECBAgAABAgJeZ4AAAQIECBAgQIAAAQIECBAgQIAAAQJBBQS8QQenbAIECBAgQIAAAQIECBAgQIAAAQIECAh4nQECBAgQIECAAAECBAgQIECAAAECBAgEFRDwBh2csgkQIECAAAECBAgQIECAAAECBAgQICDgdQYIECBAgAABAgQIECBAgAABAgQIECAQVEDAG3RwyiZAgAABAgQIECBAgAABAgQIECBAgICA1xkgQIAAAQIECBAgQIAAAQIECBAgQIBAUAEBb9DBKZsAAQIECBAgQIAAAQIECBAgQIAAAQICXmeAAAECBAgQIECAAAECBAgQIECAAAECQQUEvEEHp2wCBAgQIECAAAECBAgQIECAAAECBAgIeJ0BAgQIECBAgAABAgQIECBAgAABAgQIBBUQ8AYdnLIJECBAgAABAgQIECBAgAABAgQIECAg4HUGCBAgQIAAAQIECBAgQIAAAQIECBAgEFRAwBt0cMomQIAAAQIECBAgQIAAAQIECBAgQICAgNcZIECAAAECBAgQIECAAAECBAgQIECAQFABAW/QwSmbAAECBAgQIECAAAECBAgQIECAAAECAl5ngAABAgQIECBAgAABAgQIECBAgAABAkEFBLxBB6dsAgQIECBAgAABAgQIECBAgAABAgQICHidAQIECBAgQIAAAQIECBAgQIAAAQIECAQVEPAGHZyyCRAgQIAAAQIECBAgQIAAAQIECBAgIOB1BggQIECAAAECBAgQIECAAAECBAgQIBBUQMAbdHDKJkCAAAECBAgQIECAAAECBAgQIECAgIDXGSBAgAABAgQIECBAgAABAgQIECBAgEBQAQFv0MEpmwABAgQIECBAgAABAgQIECBAgAABAgJeZ4AAAQIECBAgQIAAAQIECBAgQIAAAQJBBQS8QQenbAIECBAgQIAAAQIECBAgQIAAAQIECAh4nQECBAgQIECAAAECBAgQIECAAAECBAgEFRDwBh2csgkQIECAAAECBAgQIECAAAECBAgQICDgdQYIECBAgAABAgQIECBAgAABAgQIECAQVEDAG3RwyiZAgAABAgQIECBAgAABAgQIECBAgICA1xkgQIAAAQIECBAgQIAAAQIECBAgQIBAUAEBb9DBKZsAAQIECBAgQIAAAQIECBAgQIAAAQICXmeAAAECBAgQIECAAAECBAgQIECAAAECQQUEvEEHp2wCBAgQIECAAAECBAgQIECAAAECBAgIeJ0BAgQIECBAgAABAgQIECBAgAABAgQIBBUQ8AYdnLIJECBAgAABAgQIECBAgAABAgQIECAg4HUGCBAgQIAAAQIECBAgQIAAAQIECBAgEFRAwBt0cMomQIAAAQIECBAgQIAAAQIECBAgQICAgNcZIECAAAECBAgQIECAAAECBAgQIECAQFABAW/QwSmbAAECBAgQIECAAAECBAgQIECAAAECAl5ngAABAgQIECBAgAABAgQIECBAgAABAkEFBLxBB6dsAgQIECBAgAABAgQIECBAgAABAgQICHidAQIECBAgQIAAAQIECBAgQIAAAQIECAQVEPAGHZyyCRAgQIAAAQIECBAgQIAAAQIECBAgIOB1BggQIECAAAECBAgQIECAAAECBAgQIBBUQMAbdHDKJkCAAAECBAgQIECAAAECBAgQIECAgIDXGSBAgAABAgQIECBAgAABAgQIECBAgEBQAQFv0MEpmwABAgQIECBAgAABAgQIECBAgAABAgJeZ4AAAQIECBAgQIAAAQIECBAgQIAAAQJBBQS8QQenbAIECBAgQIAAAQIECBAgQIAAAQIECAh4nQECBAgQIECAAAECBAgQIECAAAECBAgEFRDwBh2csgkQIECAAAECBAgQIECAAAECBAgQICDgdQYIECBAgAABAgQIECBAgAABAgQIECAQVEDAG3RwyiZAgAABAgQIECBAgAABAgQIECBAgICA1xkgQIAAAQIECBAgQIAAAQIECBAgQIBAUAEBb9DBKZsAAQIECBAgQIAAAQIECBAgQIAAAQICXmeAAAECBAgQIECAAAECBAgQIECAAAECQQUEvEEHp2wCBAgQIECAAAECBAgQIECAAAECBAgIeJ0BAgQIECBAgAABAgQIECBAgAABAgQIBBUQ8AYdnLIJECBAgAABAgQIECBAgAABAgQIECAg4HUGCBAgQIAAAQIECBAgQIAAAQIECBAgEFRAwBt0cMomQIAAAQIECBAgQIAAAQIECBAgQICAgNcZIECAAAECBAgQIECAAAECBAgQIECAQFABAW/QwSmbAAECBAgQIECAAAECBAgQIECAAAECAl5ngAABAgQIECBAgAABAgQIECBAgAABAkEFBLxBB6dsAgQIECBAgAABAgQIECBAgAABAgQICHidAQIECBAgQIAAAQIECBAgQIAAAQIECAQVEPAGHZyyCRAgQIAAAQIECBAgQIAAAQIECBAgIOB1BggQIECAAAECBAgQIECAAAECBAgQIBBUQMAbdHDKJkCAAAECBAgQIECAAAECBAgQIECAgIDXGSBAgAABAgQIECBAgAABAgQIECBAgEBQAQFv0MEpmwABAgQIECBAgAABAgQIECBAgAABAgJeZ4AAAQIECBAgQIAAAQIECBAgQIAAAQJBBQS8QQenbAIECBAgQIAAAQIECBAgQIAAAQIECAh4nQECBAgQIECAAAECBAgQIECAAAECBAgEFRDwBh2csgkQIECAAAECBAgQIECAAAECBAgQICDgdQYIECBAgAABAgQIECBAgAABAgQIECAQVEDAG3RwyiZAgAABAgQIECBAgAABAgQIECBAgICA1xkgQIAAAQIECBAgQIAAAQIECBAgQIBAUAEBb9DBKZsAAQIECBAgQIAAAQIECBAgQIAAAQICXmeAAAECBAgQIECAAAECBAgQIECAAAECQQUEvEEHp2wCBAgQIECAAAECBAgQIECAAAECBAgIeJ0BAgQIECBAgAABAgQIECBAgAABAgQIBBUQ8AYdnLIJECBAgAABAgQIECBAgAABAgQIECAg4HUGCBAgQIAAAQIECBAgQIAAAQIECBAgEFRAwBt0cMomQIAAAQIECBAgQIAAAQIECBAgQICAgNcZIECAAAECBAgQIECAAAECBAgQIECAQFABAW/QwSmbAAECBAgQIECAAAECBAgQIECAAAECAl5ngAABAgQIECBAgAABAgQIECBAgAABAkEFBLxBB6dsAgQIECBAgAABAgQIECBAgAABAgQICHidAQIECBAgQIAAAQIECBAgQIAAAQIECAQVEPAGHZyyCRAgQIAAAQIECBAgQIAAAQIECBAgIOB1BggQIECAAAECBAgQIECAAAECBAgQIBBUQMAbdHDKJkCAAAECBAgQIECAAAECBAgQIECAgIDXGSBAgAABAgQIECBAgAABAgQIECBAgEBQAQFv0MEpmwABAgQIECBAgAABAgQIECBAgAABAgJeZ4AAAQIECBAgQIAAAQIECBAgQIAAAQJBBQS8QQenbAIECBAgQIAAAQIECBAgQIAAAQIECAh4nQECBAgQIECAAAECBAgQIECAAAECBAgEFRDwBh2csgkQIECAAAECBAgQIECAAAECBAgQICDgdQYIECBAgAABAgQIECBAgAABAgQIECAQVEDAG3RwyiZAgAABAgQIECBAgAABAgQIECBAgICA1xkgQIAAAQIECBAgQIAAAQIECBAgQIBAUAEBb9DBKZsAAQIECBAgQIAAAQIECBAgQIAAAQICXmeAAAECBAgQIECAAAECBAgQIECAAAECQQUEvEEHp2wCBAgQIECAAAECBAgQIECAAAECBAgIeJ0BAgQIECBAgAABAgQIECBAgAABAgQIBBUQ8AYdnLIJECBAgAABAgQIECBAgAABAgQIECAg4HUGCBAgQIAAAQIECBAgQIAAAQIECBAgEFRAwBt0cMomQIAAAQIECBAgQIAAAQIECBAgQICAgNcZIECAAAECBAgQIECAAAECBAgQIECAQFABAW/QwSmbAAECBAgQIECAAAECBAgQIECAAAECAl5ngAABAgQIECBAgAABAgQIECBAgAABAkEFBLxBB6dsAgQIECBAgAABAgQIECBAgAABAgQICHidAQIECBAgQIAAAQIECBAgQIAAAQIECAQVEPAGHZyyCRAgQIAAAQIECBAgQIAAAQIECBAgIOB1BggQIECAAAECBAgQIECAAAECBAgQIBBUQMAbdHDKJkCAAAECBAgQIECAAAECBAgQIECAgIDXGSBAgAABAgQIECBAgAABAgQIECBAgEBQAQFv0MEpmwABAgQIECBAgAABAgQIECBAgAABAgJeZ4AAAQIECBAgQIAAAQIECBAgQIAAAQJBBQS8QQenbAIECBAgQIAAAQIECBAgQIAAAQIECAh4nQECBAgQIECAAAECBAgQIECAAAECBAgEFRDwBh2csgkQIECAAAECBAgQIECAAAECBAgQICDgdQYIECBAgAABAgQIECBAgAABAgQIECAQVEDAG3RwyiZAgAABAgQIECBAgAABAgQIECBAgICA1xkgQIAAAQIECBAgQIAAAQIECBAgQIBAUAEBb9DBKZsAAQIECBAgQIAAAQIECBAgQIAAAQICXmeAAAECBAgQIECAAAECBAgQIECAAAECQQUEvEEHp2wCBAgQIECAAAECBAgQIECAAAECBAgIeJ0BAgQIECBAgAABAgQIECBAgAABAgQIBBUQ8AYdnLIJECBAgAABAgQIECBAgAABAgQIECAg4HUGCBAgQIAAAQIECBAgQIAAAQIECBAgEFRAwBt0cMomQIAAAQIECBAgQIAAAQIECBAgQICAgNcZIECAAAECBAgQIECAAAECBAgQIECAQFABAW/QwSmbAAECBAgQIECAAAECBAgQIECAAAECAl5ngAABAgQIECBAgAABAgQIECBAgAABAkEFBLxBB6dsAgQIECBAgAABAgQIECBAgAABAgQICHidAQIECBAgQIAAAQIECBAgQIAAAQIECAQVEPAGHZyyCRAgQIAAAQIECBAgQIAAAQIECBAgIOB1BggQIECAAAECBAgQIECAAAECBAgQIBBUQMAbdHDKJkCAAAECBAgQIECAAAECBAgQIECAgIDXGSBAgAABAgQIECBAgAABAgQIECBAgEBQAQFv0MEpmwABAgQIECBAgAABAgQIECBAgAABAgJeZ4AAAQIECBAgQIAAAQIECBAgQIAAAQJBBQS8QQenbAIECBAgQIAAAQIECBAgQIAAAQIECAh4nQECBAgQIECAAAECBAgQIECAAAECBAgEFRDwBh2csgkQIECAAAECBAgQIECAAAECBAgQICDgdQYIECBAgAABAgQIECBAgAABAgQIECAQVEDAG3RwyiZAgAABAgQIECBAgAABAgQIECBAgICA1xkgQIAAAQIECBAgQIAAAQIECBAgQIBAUAEBb9DBKZsAAQIECBAgQIAAAQIECBAgQIAAAQICXmeAAAECBAgQIECAAAECBAgQIECAAAECQQUEvEEHp2wCBAgQIECAAAECBAgQIECAAAECBAgIeJ0BAgQIECBAgAABAgQIECBAgAABAgQIBBUQ8AYdnLIJECBAgAABAgQIECBAgAABAgQIECAg4HUGCBAgQIAAAQIECBAgQIAAAQIECBAgEFRAwBt0cMomQIAAAQIECBAgQIAAAQIECBAgQICAgNcZIECAAAECBAgQIECAAAECBAgQIECAQFABAW/QwSmbAAECBAgQIECAAAECBAgQIECAAAECAl5ngAABAgQIECBAgAABAgQIECBAgAABAkEFBLxBB6dsAgQIECBAgAABAgQIECBAgAABAgQICHidAQIECBAgQIAAAQIECBAgQIAAAQIECAQVEPAGHZyyCRAgQIAAAQIECBAgQIAAAQIECBAgIOB1BggQIECAAAECBAgQIECAAAECBAgQIBBUQMAbdHDKJkCAAAECBAgQIECAAAECBAgQIECAgIDXGSBAgAABAgQIECBAgAABAgQIECBAgEBQAQFv0MEpmwABAgQIECBAgAABAgQIECBAgAABAgJeZ4AAAQIECBAgQIAAAQIECBAgQIAAAQJBBQS8QQenbAIECBAgQIAAAQIECBAgQIAAAQIECAh4nQECBAgQIECAAAECBAgQIECAAAECBAgEFRDwBh2csgkQIECAAAECBAgQIECAAAECBAgQICDgdQYIECBAgAABAgQIECBAgAABAgQIECAQVEDAG3RwyiZAgAABAgQIECBAgAABAgQIECBAgICA1xkgQIAAAQIECBAgQIAAAQIECBAgQIBAUAEBb9DBKZsAAQIECBAgQIAAAQIECBAgQIAAAQICXmeAAAECBAgQIECAAAECBAgQIECAAAECQQUEvEEHp2wCBAgQIECAAAECBAgQIECAAAECBAgIeJ0BAgQIECBAgAABAgQIECBAgAABAgQIBBUQ8AYdnLIJECBAgAABAgQIECBAgAABAgQIECAg4HUGCBAgQIAAAQIECBAgQIAAAQIECBAgEFRAwBt0cMomQIAAAQIECBAgQIAAAQIECBAgQICAgNcZIECAAAECBAgQIECAAAECBAgQIECAQFABAW/QwSmbAAECBAgQIECAAAECBAgQIECAAAECAl5ngAABAgQIECBAgAABAgQIECBAgAABAkEFBLxBB6dsAgQIECBAgAABAgQIECBAgAABAgQICHidAQIECBAgQIAAAQIECBAgQIAAAQIECAQVEPAGHZyyCRAgQIAAAQIECBAgQIAAAQIECBAgIOB1BggQIECAAAECBAgQIECAAAECBAgQIBBUQMAbdHDKJkCAAAECBAgQIECAAAECBAgQIECAgIDXGSBAgAABAgQIECBAgAABAgQIECBAgEBQAQFv0MEpmwABAgQIECBAgAABAgQIECBAgAABAgJeZ4AAAQIECBAgQIAAAQIECBAgQIAAAQJBBQS8QQenbAIECBAgQIAAAQIECBAgQIAAAQIECAh4nQECBAgQIECAAAECBAgQIECAAAECBAgEFRDwBh2csgkQIECAAAECBAgQIECAAAECBAgQICDgdQYIECBAgAABAgQIECBAgAABAgQIECAQVEDAG3RwyiZAgAABAgQIECBAgAABAgQIECBAgICA1xkgQIAAAQIECBAgQIAAAQIECBAgQIBAUAEBb9DBKZsAAQIECBAgQIAAAQIECBAgQIAAAQICXmeAAAECBAgQIECAAAECBAgQIECAAAECQQUEvEEHp2wCBAgQIECAAAECBAgQIECAAAECBAgIeJ0BAgQIECBAgAABAgQIECBAgAABAgQIBBUQ8AYdnLIJECBAgAABAgQIECBAgAABAgQIECAg4HUGCBAgQIAAAQIECBAgQKAOgeF19X0j//nh3393d3fDvWfydun+rCvv1n7LnwXlIgIECLQh4I9CG3PWJQECBAgQIECAAAECSwv8GD7eWuAt4eW1e38Rep4bUl67pftSEvA6BQQIECDwl4CA13EgQIAAAQIECBAgQGBZgVGDz1Mh54VPXwoplz0Tdv9eQMDrhBAgQICAgNcZIECAAAECBAgQIFCIwNXh5rlPa3rCspBJK4PAeAIC3vEsrUSAAIEKBDzBW8EQtUCAAAECBAgQCC/wZch5boB5bvcXPsF57rJ/X+epz2vU3ENgPIGc3r9fLO+u3+z/brj3zF37x+n3OLMUlxEgQIBAHAEBb5xZqZQAAQIECBAgMI/AQdj6VcjqidB5BmGX6gR+DB9v7fiW8PKWvT8Fn0LKWzDdS4AAAQIELhYQ8F5M5gYCBAgQIECAwAQCP4aqn/f85mlUT5FOMCBLTiowavB5KuS88OlLIeWkI7c4AQIECBAgMJ6AgHc8SysRIECAAAECNQucFcB+Cl0FrTWfiHF7uzrgPOeJzS+CTeHluPOzGgECBAgQIEBgQQEB74L4tiZAgAABAgRmFNgHtH+/cuCHd7IKaGccUErpKOQ8J7y8pMQLn+C8ZOl/rhWcXqPmHgIECBAgQIAAgRsEBLw34LmVAAECBAgQKFDgT5D7EeJ2qySgvW5APwatngi9DtZdBAgQIECAAAECBMYXEPCOb2pFAgQIECBAYC6BmsLcg1D1nCdXv3ka1VOkc51A+xAgQIAAAQIECBBYXEDAu/gIFECAAAECBAj8KHDweoWFnsw9K4D1JfkfZ+kCAgQIECBAgAABAgRGFRDwjsppMQIECBAgQOBmgT9hbt6M/nqFfUD7z9OxZ7yP1ZOwN4/TAgQIECBAgAABAgQITCsg4J3W1+oECBAgQIDAuQJjBbt/gtyPEPd/Aa6Q9twJuI4AAQIECBAgQIAAgYACAt6AQ1MyAQIECBCoQmCM9+fun8rtNkmQW8Wx0AQBAgQIECBAgAABApcJCHgv83I1AQIECBAgcI3ArWHuwesVPJl7zQjcQ4AAAQIECBAgQIBAnQIC3jrnqisCBAgQILC8wC2h7p9A11O5yw9RBQQIECBAgAABAgQIlC4g4C19QuojQIAAAQKRBG4JdT/6FOxGmrZaCRAgQIAAAQIECBAoQEDAW8AQlECAAAECBEILXPtxtM+vXfAO3dDHQPEECBAgQIAAAQIECCwjIOBdxt2uBAgQIECgDoGPcLfLb2c14+ncs5hcRIAAAQIECBAgQIAAgUsEBLyXaLmWAAECBAgQ+Fdg+LVJXff8LYlQ14khQIAAAQIECBAgQIDApAIC3kl5LU6AAAECBCoV+C7cFepWOnRtESBAgAABAgQIECBQooCAt8SpqIkAAQIECJQscCrczfkl9U+bkktXGwECBAgQIECAAAECBGoTEPDWNlH9ECBAgACBKQVOhrvdQ/KRtCnlrU2AAAECBAgQIECAAIEvBQS8DgYBAgQIECDwtcDHB9TSf1YpdavUpfuTTFm46wgRIECAAAECBAgQIEBgKQEB71Ly9iVAgAABAiUK/Al18+bbQPfvuoW7JU5RTQQIECBAgAABAgQINCQg4G1o2FolQIAAAQInBS4Ndj8WEu46UAQIECBAgAABAgQIEFhcQMC7+AgUQIAAAQIEFhb4vc1nV5DTe0p5l9L/7bxz92w1FxIgQIAAAQIECBAgQGAyAQHvZLQWJkCAAAECAQSG7e779+t+BLrd5k8nPqIWYKBKJECAAAECBAgQIECgNQEBb2sT1y8BAgQIEPhH4FS4++cp3W4j0HVUCBAgQIAAAQIECBAgUL6AgLf8GamQAAECBAiMLzD82qSuez5Y+CPY7der8TezIgECBAgQIECAAAECBAhMJSDgnUrWugQIECBAoFQB4W6pk1EXAQIECBAgQIAAAQIELhYQ8F5M5gYCBAgQIBBY4Ktw96Odu7X/TxB4rEonQIAAAQIECBAgQKBdAT/m2p29zgkQIECgNYGT79ztHrxvt7XDoF8CBAgQIECAAAECBGoREPDWMkl9ECBAgACBUwKngt2P67Nw18EhQIAAAQIECBAgQIBAZAEBb+TpqZ0AAQIECHwncOp1DP/ck/NL6p82EAkQIECAAAECBAgQIEAgroCAN+7sVE6AAAECBI4FhtdVSnmTunR/kien95S6jdcyOEAECBAgQIAAAQIECBCILyDgjT9DHRAgQIBA6wJ/Qt2P//0Q7P65xCsZWj8u+idAgAABAgQIECBAoC4BAW9d89QNAQIECLQg8CfQ/c8qpW717ZO6f1sIdls4GXokQIAAAQIECBAgQKBBAQFvg0PXMgECBAgEFfgIdrv8dnb1XsVwNpULCRAgQIAAAQIECBAgEFVAwBt1cuomQIAAgXYEBLvtzFqnBAgQIECAAAECBAgQuFBAwHshmMsJECBAgMBsApcEu57WnW0sNiJAgAABAgQIECBAgEBJAgLekqahFgIECBAg8Of9uotOd1IAACAASURBVOd8LC29p9Rt/oD1jztwBAgQIECAAAECBAgQINCmgIC3zbnrmgABAgRKExh+bVLXPf9Y1seTuv169eN1LiBAgAABAgQIECBAgACBJgQEvE2MWZMECBAgUKzAJU/sCnaLHaPCCBAgQIAAAQIECBAgsJSAgHcpefsSIECAAIGfntr1Xl1nhAABAgQIECBAgAABAgR+EBDwOiIECBAgQGBugZ+e2hXszj0R+xEgQIAAAQIECBAgQCCsgIA37OgUToAAAQIhBb57ajfnl9Q//ffDaf5HgAABAgQIECBAgAABAgTOEBDwnoHkEgIECBAgMIrAx5O7XX77cq3cPaT+cTfKPhYhQIAAAQIECBAgQIAAgWYEBLzNjFqjBAgQILCowKlw9+N1DD6etuhobE6AAAECBAgQIECAAIHIAgLeyNNTOwECBAjEEDgZ7npqN8YAVUmAAAECBAgQIECAAIFyBQS85c5GZQQIECBQi8DvbT5qxft2a5muPggQIECAAAECBAgQILCogIB3UX6bEyBAgED1AsLd6kesQQIECBAgQIAAAQIECCwpIOBdUt/eBAgQIFCvwMnXMuSX1D9t6m1cZwQIECBAgAABAgQIECAwp4CAd05texEgQIBA/QIfwW7Km9Sl+6NmvZah/vnrkAABAgQIECBAgAABAjMLCHhnBrcdAQIECFQq8F2w+9FyTu+pX68q7V5bBAgQIECAAAECBAgQILCQgIB3IXjbEiBAgEBFAqdex/BPi8LdioatFQIECBAgQIAAAQIECJQlIOAtax6qIUCAAIGIAl99SO2jD8FuxGmqmQABAgQIECBAgAABAqEEBLyhxqVYAgQIEChOYPi1SV33fFDXR7Cbuk3qH3fF1asgAgQIECBAgAABAgQIEKhKQMBb1Tg1Q4AAAQKzC3x+eteH1GYfgQ0JECBAgAABAgQIECDQsoCAt+Xp650AAQIEbhMYtrvUpfuDRe7W/rbepupuAgQIECBAgAABAgQIELhAwI/QC7BcSoAAAQIE9gJfvpohv6T+aUOJAAECBAgQIECAAAECBAjMJSDgnUvaPgQIECBQl4BXM9Q1T90QIECAAAECBAgQIEAgqICAN+jglE2AAAECCwp4NcOC+LYmQIAAAQIECBAgQIAAgb8FBLzOAwECBAgQuETAqxku0XItAQIECBAgQIAAAQIECEwsIOCdGNjyBAgQIFCJwPC6Silvjj6qltN76terSrrUBgECBAgQIECAAAECBAgEExDwBhuYcgkQIEBgAYGvntr9p4y7tb+lC4zElgQIECBAgAABAgQIECDwXwE/Sp0EAgQIECDwncBX79v9uP7jyd3UbVL/uANIgAABAgQIECBAgAABAgSWEhDwLiVvXwIECBAoW+BUsPtPuOu1DGXPT3UECBAgQIAAAQIECBBoREDA28igtUmAAAECZwp89zqGP+Fu9+Cp3TMtXUaAAAECBAgQIECAAAECkwsIeCcntgEBAgQIhBD4Mdj1SoYQc1QkAQIECBAgQIAAAQIEGhMQ8DY2cO0SIECAwCeB4XWVuvz2rYundh0bAgQIECBAgAABAgQIEChUQMBb6GCURYAAAQITC3wEuylvUpfuT+4k2J14CJYnQIAAAQIECBAgQIAAgVsFBLy3CrqfAAECBOIJfPcBtY9uBLvxZqpiAgQIECBAgAABAgQINCog4G108NomQIBAkwI/vY4h55fUP22atNE0AQIECBAgQIAAAQIECIQUEPCGHJuiCRAgQOAigZ9ex5DTe+rXq4vWdDEBAgQIECBAgAABAgQIEChAQMBbwBCUQIAAAQITCgy/Nqnrnr/c4SPYTd0m9Y+7CSuwNAECBAgQIECAAAECBAgQmExAwDsZrYUJECBAYHGBb8Pd7kGwu/iEFECAAAECBAgQIECAAAECNwoIeG8EdDsBAgQIFCpwKtz1OoZCB6YsAgQIECBAgAABAgQIELhGQMB7jZp7CBAgQKBsgZPhrqd2yx6c6ggQIECAAAECBAgQIEDgUgEB76ViridAgACBsgVOhbt3a3/zyp6c6ggQIECAAAECBAgQIEDgCgE/dq9AcwsBAgQIFCog3C10MMoiQIAAAQIECBAgQIAAgakEBLxTyVqXAAECBOYVGLa71KX7o009uTvvHOxGgAABAgQIECBAgAABArMKCHhn5bYZAQIECEwiINydhNWiBAgQIECAAAECBAgQIFC+gIC3/BmpkAABAgS+ExDuOh8ECBAgQIAAAQIECBAg0LCAgLfh4WudAAEC4QWEu+FHqAECBAgQIECAAAECBAgQuE1AwHubn7sJECBAYCkB4e5S8vYlQIAAAQIECBAgQIAAgYIEBLwFDUMpBAgQIHCmwFfhbk7vqV+vzlzBZQQIECBAgAABAgQIECBAoAoBAW8VY9QEAQIEGhIYfm1S1z0fdCzcbegAaJUAAQIECBAgQIAAAQIE/hYQ8DoPBAgQIBBHQLgbZ1YqJUCAAAECBAgQIECAAIFZBAS8szDbhAABAgRuFvgq3P1Y9G7tb9nNuBYgQIAAAQIECBAgQIAAgagCfhRHnZy6CRAg0JLA8LpKXX47alm429Ip0CsBAgQIECBAgAABAgQIfCEg4HUsCBAgQKBsgVPhbu4eUv+4K7t41REgQIAAAQIECBAgQIAAgWkFBLzT+lqdAAECBG4V+L3NR0vk/JL6p82tS7ufAAECBAgQIECAAAECBAhEFxDwRp+g+gkQIFCzwJcfVRPu1jxyvREgQIAAAQIECBAgQIDAZQIC3su8XE2AAAECcwp8fnrXk7tz6tuLAAECBAgQIECAAAECBAIICHgDDEmJBAgQaFLgq6d3fVStyaOgaQIECBAgQIAAAQIECBA4LSDgdToIECBAoEwBT++WORdVESBAgAABAgQIECBAgEBRAgLeosahGAIECBD4I+DpXQeBAAECBAgQIECAAAECBAicJSDgPYvJRQQIECAwq4Cnd2flthkBAgQIECBAgAABAgQIxBUQ8MadncoJECBQp4Cnd+ucq64IECBAgAABAgQIECBAYBIBAe8krBYlQIAAgasFPL17NZ0bCRAgQIAAAQIECBAgQKA9AQFvezPXMQECBMoV8PRuubNRGQECBAgQIECAAAECBAgUKSDgLXIsiiJAgECjAp7ebXTw2iZAgAABAgQIECBAgACBawUEvNfKuY8AAQIExhXw9O64nlYjQIAAAQIECBAgQIAAgSYEBLxNjFmTBAgQCCDg6d0AQ1IiAQIECBAgQIAAAQIECJQmIOAtbSLqIUCAQIsCnt5tcep6JkCAAAECBAgQIECAAIERBAS8IyBaggABAgRuEPgq3M35JfVPmxtWdSsBAgQIECBAgAABAgQIEGhCQMDbxJg1SYAAgYIFjl7NkN5Tv14VXLHSCBAgQIAAAQIECBAgQIBAMQIC3mJGoRACBAg0KODVDA0OXcsECBAgQIAAAQIECBAgMKaAgHdMTWsRIECAwPkCXs1wvpUrCRAgQIAAAQIECBAgQIDACQEBr6NBgAABAssIeDXDMu52JUCAAAECBAgQIECAAIGqBAS8VY1TMwQIEAgi4NUMQQalTAIECBAgQIAAAQIECBAoXUDAW/qE1EeAAIEaBY6e3s0vqX/a1NiqnggQIECAAAECBAgQIECAwJQCAt4pda1NgAABAscCnt51KggQIECAAAECBAgQIECAwGgCAt7RKC1EgAABAmcJfA54s6d3z3JzEQECBAgQIECAAAECBAgQ+EJAwOtYECBAgMC8Ap9fz3C39rdo3gnYjQABAgQIECBAgAABAgQqEvCjuqJhaoUAAQLFC3g9Q/EjUiABAgQIECBAgAABAgQIxBIQ8Maal2oJECAQW8DrGWLPT/UECBAgQIAAAQIECBAgUJyAgLe4kSiIAAECFQt4PUPFw9UaAQIECBAgQIAAAQIECCwhIOBdQt2eBAgQaFHA6xlanLqeCRAgQIAAAQIECBAgQGBiAQHvxMCWJ0CAAIH/CXg9g6NAgAABAgQIECBAgAABAgRGFxDwjk5qQQIECBD4UsDrGRwMAgQIECBAgAABAgQIECAwuoCAd3RSCxIgQIDAkYDXMzgUBAgQIECAAAECBAgQIEBgEgEB7ySsFiVAgACBAwGvZ3AgCBAgQIAAAQIECBAgQIDAJAIC3klYLUqAAAECBwJez+BAECBAgAABAgQIECBAgACBSQQEvJOwWpQAAQIE9gJez+AwECBAgAABAgQIECBAgACByQQEvJPRWpgAAQIE/gh4PYODQIAAAQIECBAgQIAAAQIEJhMQ8E5Ga2ECBAgQ+CPg9QwOAgECBAgQIECAAAECBAgQmExAwDsZrYUJECBAIA2vq9TltwOJu7W/PY4GAQIECBAgQIAAAQIECBAYScCP7JEgLUOAAAECXwh4PYNjQYAAAQIECBAgQIAAAQIEJhUQ8E7Ka3ECBAg0LiDgbfwAaJ8AAQIECBAgQIAAAQIEphYQ8E4tbH0CBAi0LOD9uy1PX+8ECBAgQIAAAQIECBAgMIOAgHcGZFsQIECgWQEBb7Oj1zgBAgQIECBAgAABAgQIzCMg4J3H2S4ECBBoT8AH1tqbuY4JECBAgAABAgQIECBAYHYBAe/s5DYkQIBAIwLev9vIoLVJgAABAgQIECBAgAABAksKCHiX1Lc3AQIEahYYtrvUpft9izm/pP5pU3PLeiNAgAABAgQIECBAgAABAnMLCHjnFrcfAQIEWhHw/t1WJq1PAgQIECBAgAABAgQIEFhQQMC7IL6tCRAgULWAgLfq8WqOAAECBAgQIECAAAECBMoQEPCWMQdVECBAoC6Bo/fvpvfUr1d1NakbAgQIECBAgAABAgQIECCwvICAd/kZqIAAAQL1CfjAWn0z1REBAgQIECBAgAABAgQIFCkg4C1yLIoiQIBAcIHPr2fI3UPqH3fBu1I+AQIECBAgQIAAAQIECBAoTkDAW9xIFESAAIEKBLx/t4IhaoEAAQIECBAgQIAAAQIEIggIeCNMSY0ECBCIJDC8rlKX3w5Kvlv7exNphmolQIAAAQIECBAgQIAAgTACfnCHGZVCCRAgEETA+3eDDEqZBAgQIECAAAECBAgQIFCDgIC3hinqgQABAiUJCHhLmoZaCBAgQIAAAQIECBAgQKByAQFv5QPWHgECBGYX8IG12cltSIAAAQIECBAgQIAAAQLtCgh42529zgkQIDCNgA+sTeNqVQIECBAgQIAAAQIECBAg8IWAgNexIECAAIHxBHxgbTxLKxEgQIAAAQIECBAgQIAAgTMEBLxnILmEAAECBM4U8P7dM6FcRoAAAQIECBAgQIAAAQIExhEQ8I7jaBUCBAgQ+BAYtrvUpfs9Rs4vqX/awCFAgAABAgQIECBAgAABAgSmERDwTuNqVQIECLQp4P27bc5d1wQIECBAgAABAgQIECCwmICAdzF6GxMgQKBCAQFvhUPVEgECBAgQIECAAAECBAiULCDgLXk6aiNAgEAkgaP376b31K9XkVpQKwECBAgQIECAAAECBAgQiCYg4I02MfUSIECgVAEfWCt1MuoiQIAAAQIECBAgQIAAgYoFBLwVD1drBAgQmFXAB9Zm5bYZAQIECBAgQIAAAQIECBD4EBDwOgcECBAgMI7A5/fv5u4h9Y+7cRa3CgECBAgQIECAAAECBAgQIPCVgIDXuSBAgACBcQR8YG0cR6sQIECAAAECBAgQIECAAIELBAS8F2C5lAABAgS+ERDwOh4ECBAgQIAAAQIECBAgQGB2AQHv7OQ2JECAQIUCw+sqdflt31lO76lfryrsVEsECBAgQIAAAQIECBAgQKAoAQFvUeNQDAECBIIKDL82qeue/w1480vqnzZBu1E2AQIECBAgQIAAAQIECBAIIyDgDTMqhRIgQKBgAQFvwcNRGgECBAgQIECAAAECBAjULCDgrXm6eiNAgMBcAp/fv5u7h9Q/7uba3j4ECBAgQIAAAQIECBAgQKBVAQFvq5PXNwECBMYU8IG1MTWtRYAAAQIECBAgQIAAAQIEzhYQ8J5N5UICBAgQOCkg4HU4CBAgQIAAAQIECBAgQIDAIgIC3kXYbUqAAIGKBIbXVery276jnN5Tv15V1KFWCBAgQIAAAQIECBAgQIBAsQIC3mJHozACBAgEEfCBtSCDUiYBAgQIECBAgAABAgQI1Cgg4K1xqnoiQIDAnAIC3jm17UWAAAECBAgQIECAAAECBA4EBLwOBAECBAjcJjBsd6lL9/tFcveQ+sfdbYu6mwABAgQIECBAgAABAgQIEDhHQMB7jpJrCBAgQOC0gA+sOR0ECBAgQIAAAQIECBAgQGAxAQHvYvQ2JkCAQCUCAt5KBqkNAgQIECBAgAABAgQIEIgoIOCNODU1EyBAoBSB4XWVuvy2Lyen99SvV6WUpw4CBAgQIECAAAECBAgQIFC7gIC39gnrjwABAlMK+MDalLrWJkCAAAECBAgQIECAAAECPwoIeH8kcgEBAgQInBQQ8DocBAgQIECAAAECBAgQIEBgUQEB76L8NidAgEBwgWG7S12633eRu4fUP+6Cd6V8AgQIECBAgAABAgQIECAQRkDAG2ZUCiVAgECBAj6wVuBQlESAAAECBAgQIECAAAECLQkIeFuatl4JECAwtoCAd2xR6xEgQIAAAQIECBAgQIAAgYsEBLwXcbmYAAECBPYCw+sqdfntQORu7e+KI0KAAAECBAgQIECAAAECBGYU8EN8RmxbESBAoCoBH1irapyaIUCAAAECBAgQIECAAIGYAgLemHNTNQECBJYXEPAuPwMVECBAgAABAgQIECBAgEDzAgLe5o8AAAIECFwpMGx3qUv3+7tzfkn90+bK1dxGgAABAgQIECBAgAABAgQIXCEg4L0CzS0ECBAgkFLygTXHgAABAgQIECBAgAABAgQILC4g4F18BAogQIBAUAEBb9DBKZsAAQIECBAgQIAAAQIEahIQ8NY0Tb0QIEBgTgEB75za9iJAgAABAgQIECBAgAABAl8KCHgdDAIECBC4XODoA2vpPfXr1eULuYMAAQIECBAgQIAAAQIECBC4RUDAe4ueewkQINCqwFHA6wNrrR4FfRMgQIAAAQIECBAgQIDAsgIC3mX97U6AAIGYAsN2l7p0vy8+C3hjDlLVBAgQIECAAAECBAgQIBBdQMAbfYLqJ0CAwBIC3r+7hLo9CRAgQIAAAQIECBAgQIDAkYCA16EgQIAAgcsFBLyXm7mDAAECBAgQIECAAAECBAhMICDgnQDVkgQIEKheQMBb/Yg1SIAAAQIECBAgQIAAAQIxBAS8MeakSgIECJQjcPSBtfSe+vWqnAJVQoAAAQIECBAgQIAAAQIE2hEQ8LYza50SIEBgHIGjgNcH1saBtQoBAgQIECBAgAABAgQIELhcQMB7uZk7CBAg0LbAsN2lLt3vEbKAt+0DoXsCBAgQIECAAAECBAgQWFJAwLukvr0JECAQUcD7dyNOTc0ECBAgQIAAAQIECBAgUKmAgLfSwWqLAAECkwkIeCejtTABAgQIECBAgAABAgQIELhUQMB7qZjrCRAg0LLA8LpKXX47ILhb+1vS8pnQOwECBAgQIECAAAECBAgsKuBH+aL8NidAgEAwAR9YCzYw5RIgQIAAAQIECBAgQIBA7QIC3tonrD8CBAiMKSDgHVPTWgQIECBAgAABAgQIECBA4GYBAe/NhBYgQIBAQwLDdpe6dL/vOHcPqX/cNSSgVQIECBAgQIAAAQIECBAgUJSAgLeocSiGAAEChQv4wFrhA1IeAQIECBAgQIAAAQIECLQmIOBtbeL6JUCAwC0CAt5b9NxLgAABAgQIECBAgAABAgRGFxDwjk5qQQIECFQqMLyuUpff9t3l9J769arSbrVFgAABAgQIECBAgAABAgRCCAh4Q4xJkQQIEChAwAfWChiCEggQIECAAAECBAgQIECAwKGAgNeJIECAAIHzBAS85zm5igABAgQIECBAgAABAgQIzCgg4J0R21YECBAILTBsd6lL9/secveQ+sdd6J4UT4AAAQIECBAgQIAAAQIEggsIeIMPUPkECBCYTcAH1majthEBAgQIECBAgAABAgQIEDhXQMB7rpTrCBAg0LqAgLf1E6B/AgQIECBAgAABAgQIEChQQMBb4FCURIAAgeIEhtdV6vLbvq6c3lO/XhVXp4IIECBAgAABAgQIECBAgEBjAgLexgauXQIECFwl4ANrV7G5iQABAgQIECBAgAABAgQITC0g4J1a2PoECBCoQUDAW8MU9UCAAAECBAgQIECAAAECFQoIeCscqpYIECAwusDn9+/m7iH1j7vR97EgAQIECBAgQIAAAQIECBAgcJGAgPciLhcTIECgUQEfWGt08NomQIAAAQIECBAgQIAAgdIFBLylT0h9BAgQKEFAwFvCFNRAgAABAgQIECBAgAABAgSOBAS8DgUBAgQIfC9w9P7d9J769QobAQIECBAgQIAAAQIECBAgsLyAgHf5GaiAAAECZQv4wFrZ81EdAQIECBAgQIAAAQIECDQtIOBtevyaJ0CAwBkCAt4zkFxCgAABAgQIECBAgAABAgSWERDwLuNuVwIECMQR+Pz+3dw9pP5xF6cBlRIgQIAAAQIECBAgQIAAgXoFBLz1zlZnBAgQGEfAB9bGcbQKAQIECBAgQIAAAQIECBCYQEDAOwGqJQkQIFCNwPC6Sl1+O+jnbu1vRzUD1ggBAgQIECBAgAABAgQIRBfwIz36BNVPgACBKQW8f3dKXWsTIECAAAECBAgQIECAAIGbBQS8NxNagAABAhULCHgrHq7WCBAgQIAAAQIECBAgQKAGAQFvDVPUAwECBKYS8IG1qWStS4AAAQIECBAgQIAAAQIERhEQ8I7CaBECBAhUKuADa5UOVlsECBAgQIAAAQIECBAgUIuAgLeWSeqDAAECYwv4wNrYotYjQIAAAQIECBAgQIAAAQKjCwh4Rye1IAECBCoR8P7dSgapDQIECBAgQIAAAQIECBCoWUDAW/N09UaAAIFbBAS8t+i5lwABAgQIECBAgAABAgQIzCIg4J2F2SYECBAIKOADawGHpmQCBAgQIECAAAECBAgQaE1AwNvaxPVLgACBcwV8YO1cKdcRIECAAAECBAgQIECAAIHFBAS8i9HbmAABAoULCHgLH5DyCBAgQIAAAQIECBAgQIBASgJep4AAAQIEjgW8f9epIECAAAECBAgQIECAAAECIQQEvCHGpEgCBAjMLCDgnRncdgQIECBAgAABAgQIECBA4DoBAe91bu4iQIBA3QLDdpe6dL9vMncPqX/c1d207ggQIECAAAECBAgQIECAQDwBAW+8mamYAAEC0wt4/+70xnYgQIAAAQIECBAgQIAAAQIjCAh4R0C0BAECBKoTEPBWN1INESBAgAABAgQIECBAgECdAgLeOueqKwIECFwvcPT+3fSe+vXq+gXdSYAAAQIECBAgQIAAAQIECEwlIOCdSta6BAgQiCrgA2tRJ6duAgQIECBAgAABAgQIEGhQQMDb4NC1TIAAgW8FfGDNASFAgAABAgQIECBAgAABAmEEBLxhRqVQAgQIzCTg/bszQduGAAECBAgQIECAAAECBAjcLiDgvd3QCgQIEKhLQMBb1zx1Q4AAAQIECBAgQIAAAQJVCwh4qx6v5ggQIHChgA+sXQjmcgIECBAgQIAAAQIECBAgsKyAgHdZf7sTIECgLAEfWCtrHqohQIAAAQIECBAgQIAAAQI/CAh4HRECBAgQ+Ffg6ANr+SX1TxtEBAgQIECAAAECBAgQIECAQJkCAt4y56IqAgQILCPg/bvLuNuVAAECBAgQIECAAAECBAhcKSDgvRLObQQIEKhSQMBb5Vg1RYAAAQIECBAgQIAAAQL1Cgh4652tzggQIHCZwPC6Sl1+29+U03vq16vLFnE1AQIECBAgQIAAAQIECBAgMKeAgHdObXsRIECgZAEfWCt5OmojQIAAAQIECBAgQIAAAQJfCgh4HQwCBAgQ+K+AgNdJIECAAAECBAgQIECAAAEC4QQEvOFGpmACBAhMJDBsd6lL9/vVc/eQ+sfdRLtZlgABAgQIECBAgAABAgQIEBhBQMA7AqIlCBAgUIWAD6xVMUZNECBAgAABAgQIECBAgEBbAgLetuatWwIECJwWEPA6HQQIECBAgAABAgQIECBAIJyAgDfcyBRMgACBCQSG11Xq8tvByndrfyMmoLYkAQIECBAgQIAAAQIECBAYU8CP9zE1rUWAAIGoAkcfWEvvqV+vorajbgIECBAgQIAAAQIECBAg0IqAgLeVSeuTAAEC3wkcBbz5JfVPG2gECBAgQIAAAQIECBAgQIBA2QIC3rLnozoCBAjMIzBsd6lL9/vNsoB3Hni7ECBAgAABAgQIECBAgACB2wQEvLf5uZsAAQJ1CHz+wFruHlL/uKujOV0QIECAAAECBAgQIECAAIF6BQS89c5WZwQIEDhf4HPA6wNr59u5kgABAgQIECBAgAABAgQILCgg4F0Q39YECBAoRkDAW8woFEKAAAECBAgQIECAAAECBC4REPBeouVaAgQI1CgwvK5Sl9/2reX0nvr1qsZW9USAAAECBAgQIECAAAECBGoTEPDWNlH9ECBA4FKB4dcmdd3zvwGvD6xdSuh6AgQIECBAgAABAgQIECCwlICAdyl5+xIgQKAUAQFvKZNQBwECBAgQIECAAAECBAgQuFhAwHsxmRsIECBQmcCw3aUu3e+7yt1D6h93lXWpHQIECBAgQIAAAQIECBAgUKWAgLfKsWqKAAECFwj4wNoFWC4lQIAAAQIECBAgQIAAAQJlCQh4y5qHaggQIDC/gIB3fnM7EiBAgAABAgQIECBAgACBkQQEvCNBWoYAAQIhBYbXVery20Htd2t/G0IOU9EECBAgQIAAAQIEQVuEKwAAIABJREFUCBAg0KKAH/EtTl3PBAgQ+Efg6ANr6T316xUgAgQIECBAgAABAgQIECBAIIaAgDfGnFRJgACBaQSOAt78kvqnzTSbWZUAAQIECBAgQIAAAQIECBAYW0DAO7ao9QgQIBBJYNjuUpfu9yVnAW+k8amVAAECBAgQIECAAAECBAgIeJ0BAgQItCzw+QNruXtI/eOuZRK9EyBAgAABAgQIECBAgACBSAIC3kjTUisBAgTGFvgc8PrA2tjC1iNAgAABAgQIECBAgAABApMKCHgn5bU4AQIEChcQ8BY+IOURIECAAAECBAgQIECAAIHvBQS8TggBAgRaFRheV6nLb/v2c3pP/XrVKoe+CRAgQIAAAQIECBAgQIBARAEBb8SpqZkAAQJjCAy/Nqnrnv8NeH1gbQxWaxAgQIAAAQIECBAgQIAAgTkFBLxzatuLAAECJQkIeEuahloIECBAgAABAgQIECBAgMBVAgLeq9jcRIAAgQoEhu0udel+30nuHlL/uKugMy0QIECAAAECBAgQIECAAIFmBAS8zYxaowQIEPgk4ANrjgQBAgQIECBAgAABAgQIEAgvIOANP0INECBA4EoBAe+VcG4jQIAAAQIECBAgQIAAAQLlCAh4y5mFSggQIDCfwPC6Sl1+O9jwbu1vwnwTsBMBAgQIECBAgAABAgQIEBhFwI/5URgtQoAAgWACRx9YS++pX6+CdaFcAgQIECBAgAABAgQIECDQvICAt/kjAIAAgSYFjgLe/JL6p02TFpomQIAAAQIECBAgQIAAAQKBBQS8gYendAIECFwtIOC9ms6NBAgQIECAAAECBAgQIECgJAEBb0nTUAsBAgTmEhi2u9Sl+/12uXtI/eNuru3tQ4AAAQIECBAgQIAAAQIECIwjIOAdx9EqBAgQiCXwe5sPCvaBtVjzUy0BAgQIECBAgAABAgQIEPifgIDXUSBAgECLAgLeFqeuZwIECBAgQIAAAQIECBCoUEDAW+FQtUSAAIEfBQS8PxK5gAABAgQIECBAgAABAgQIRBAQ8EaYkhoJECAwpsDwukpdfjtY0isaxhS2FgECBAgQIECAAAECBAgQmE1AwDsbtY0IECBQiMDwa5O67nlfTU7vqV+vCqlOGQQIECBAgAABAgQIECBAgMAFAgLeC7BcSoAAgSoEjgLe/JL6p00VvWmCAAECBAgQIECAAAECBAg0JiDgbWzg2iVAgEAS8DoEBAgQIECAAAECBAgQIECgGgEBbzWj1AgBAgTOFBi2u9Sl+/3V2RO8Z8q5jAABAgQIECBAgAABAgQIFCcg4C1uJAoiQIDAxAK/t/lgh9w9pP5xN/GulidAgAABAgQIECBAgAABAgQmEBDwToBqSQIECBQt8DngvVv7W1D0wBRHgAABAgQIECBAgAABAgROC/hR73QQIECgNQEBb2sT1y8BAgQIECBAgAABAgQIVCwg4K14uFojQIDAkcDwukpdfjv4557gdVAIECBAgAABAgQIECBAgEBYAQFv2NEpnAABAlcIfA54c3pP/Xp1xUpuIUCAAAECBAgQIECAAAECBAoQEPAWMAQlECBAYDaB4dcmdd3zfr+cX1L/tJltfxsRIECAAAECBAgQIECAAAECowoIeEfltBgBAgQKFxDwFj4g5REgQIAAAQIECBAgQIAAgcsEBLyXebmaAAECsQWG7S516X7fhCd4Y89T9QQIECBAgAABAgQIECDQvICAt/kjAIAAgaYEfm/zQb+5e0j9464pA80SIECAAAECBAgQIECAAIGKBAS8FQ1TKwQIEPhR4HPAe7f2d+BHNBcQIECAAAECBAgQIECAAIFyBfywL3c2KiNAgMD4AgLe8U2tSIAAAQIECBAgQIAAAQIEFhQQ8C6Ib2sCBAjMLiDgnZ3chgQIECBAgAABAgQIECBAYEoBAe+UutYmQIBASQLD6yp1+W1fUk7vqV+vSipRLQQIECBAgAABAgQIECBAgMBlAgLey7xcTYAAgbgCw69N6rrnfwPe/JL6p03chlROgAABAgQIECBAgAABAgQICHidAQIECLQiIOBtZdL6JECAAAECBAgQIECAAIGGBAS8DQ1bqwQINC4g4G38AGifAAECBAgQIECAAAECBGoUEPDWOFU9ESBA4CuBYbtLXbrf/6vcPaT+cQeLAAECBAgQIECAAAECBAgQiCsg4I07O5UTIEDgMoHf23xww93a34DLBF1NgAABAgQIECBAgAABAgSKE/DjvriRKIgAAQITCQh4J4K1LAECBAgQIECAAAECBAgQWE5AwLucvZ0JECAwr4CAd15vuxEgQIAAAQIECBAgQIAAgRkEBLwzINuCAAECiwsMr6vU5beDOryiYfGxKIAAAQIECBAgQIAAAQIECNwqIOC9VdD9BAgQiCAw/Nqkrnvel5rTe+rXqwilq5EAAQIECBAgQIAAAQIECBA4LSDgdToIECDQgsBRwJtfUv+0aaF1PRIgQIAAAQIECBAgQIAAgZoFBLw1T1dvBAgQ+EdAwOssECBAgAABAgQIECBAgACBKgUEvFWOVVMECBD4JDBsd6lL9/t/mruH1D/uOBEgQIAAAQIECBAgQIAAAQKxBQS8seenegIECJwn8HubDy70gbXz3FxFgAABAgQIECBAgAABAgQKFxDwFj4g5REgQGAUAQHvKIwWIUCAAAECBAgQIECAAAECpQkIeEubiHoIECAwhYCAdwpVaxIgQIAAAQIECBAgQIAAgcUFBLyLj0ABBAgQmFhgeF2lLr8d7OIVDROjW54AAQIECBAgQIAAAQIECMwjIOCdx9kuBAgQWE5g+LVJXfe8LyCn99SvV8sVZGcCBAgQIECAAAECBAgQIEBgLAEB71iS1iFAgECpAkcBb35J/dOm1HLVRYAAAQIECBAgQIAAAQIECJwvIOA938qVBAgQiCkg4I05N1UTIECAAAECBAgQIECAAIEzBAS8ZyC5hAABAqEFhu0udel+30P2BG/oeSqeAAECBAgQIECAAAECBAj8JSDgdRwIECBQu8DvbT5o0QfWap+4/ggQIECAAAECBAgQIECgIQEBb0PD1ioBAo0KCHgbHby2CRAgQIAAAQIECBAgQKAFAQFvC1PWIwEC7QoMr6vU5bcDAE/wtnsedE6AAAECBAgQIECAAAEC1QkIeKsbqYYIECDwl4APrDkOBAgQIECAAAECBAgQIECgagEBb9Xj1RwBAs0LCHibPwIACBAgQIAAAQIECBAgQKBuAQFv3fPVHQECrQsM213q0v2eIeeX1D9tWmfRPwECBAgQIECAAAECBAgQqEVAwFvLJPVBgACBrwR8YM25IECAAAECBAgQIECAAAECVQsIeKser+YIEGheQMDb/BEAQIAAAQIECBAgQIAAAQJ1Cwh4656v7ggQaFlgeF2lLr8dENyt/Xe/5TOhdwIECBAgQIAAAQIECBCoTsAP/epGqiECBAj8T8AH1hwFAgQIECBAgAABAgQIECBQvYCAt/oRa5AAgWYFBLzNjl7jBAgQIECAAAECBAgQINCOgIC3nVnrlACB1gSG7S516X7fds4vqX/atMagXwIECBAgQIAAAQIECBAgULOAgLfm6eqNAIG2BXxgre35654AAQIECBAgQIAAAQIEmhAQ8DYxZk0SINCkgIC3ybFrmgABAgQIECBAgAABAgTaEhDwtjVv3RIg0IrA8LpKXX47aPdu7b/5rcxfnwQIECBAgAABAgQIECDQjIAf+82MWqMECDQl4ANrTY1bswQIECBAgAABAgQIECDQroCAt93Z65wAgZoFBLw1T1dvBAgQIECAAAECBAgQIEBgLyDgdRgIECBQo8Cw3aUu3e9by/kl9U+bGlvVEwECBAgQIECAAAECBAgQaFlAwNvy9PVOgEC9Aj6wVu9sdUaAAAECBAgQIECAAAECBP4SEPA6DgQIEKhRQMBb41T1RIAAAQIECBAgQIAAAQIEjgQEvA4FAQIEahMYXlepy28Hbd2t/fe+tjnrhwABAgQIECBAgAABAgQIpJT84HcMCBAgUJuAD6zVNlH9ECBAgAABAgQIECBAgACBkwICXoeDAAECtQkIeGubqH4IECBAgAABAgQIECBAgICA1xkgQIBAMwLDdpe6dL/vN+eX1D9tmulfowQIECBAgAABAgQIECBAoCEBT/A2NGytEiDQiIAPrDUyaG0SIECAAAECBAgQIECAAAHv4HUGCBAgUJ+AgLe+meqIAAECBAgQIECAAAECBAicEPAEr6NBgACBmgSG11Xq8ttBS3dr/62vacZ6IUCAAAECBAgQIECAAAECfwn40e84ECBAoCYBH1iraZp6IUCAAAECBAgQIECAAAECPwoIeH8kcgEBAgQCCQh4Aw1LqQQIECBAgAABAgQIECBA4HYBAe/thlYgQIBAOQLDdpe6dL8vKOeX1D9tyilQJQQIECBAgAABAgQIECBAgMCYAgLeMTWtRYAAgaUFfGBt6QnYnwABAgQIECBAgAABAgQIzCog4J2V22YECBCYWEDAOzGw5QkQIECAAAECBAgQIECAQFkCAt6y5qEaAgQI3CYg4L3Nz90ECBAgQIAAAQIECBAgQCCYgIA32MCUS4AAgZMCw+sqdflt/+9zek/9ekWMAAECBAgQIECAAAECBAgQqFdAwFvvbHVGgEBrAsOvTeq6538DXh9Ya+0I6JcAAQIECBAgQIAAAQIE2hMQ8LY3cx0TIFCrgIC31snqiwABAgQIECBAgAABAgQInBQQ8DocBAgQqEVg2O5Sl+737WRP8NYyWn0QIECAAAECBAgQIECAAIFTAgJeZ4MAAQK1CHz+wFruHlL/uKulPX0QIECAAAECBAgQIECAAAECxwICXqeCAAECtQh8Dnjv1v4bX8ts9UGAAAECBAgQIECAAAECBE4I+PHvaBAgQKAWAQFvLZPUBwECBAgQIECAAAECBAgQOFtAwHs2lQsJECBQsMDwukpdfjuo0BO8BQ9MaQQIECBAgAABAgQIECBAYBwBAe84jlYhQIDAsgLDr03quud9ETm9p369WrYouxMgQIAAAQIECBAgQIAAAQJTCwh4pxa2PgECBOYQOAp480vqnzZzbG0PAgQIECBAgAABAgQIECBAYDkBAe9y9nYmQIDAeAIC3vEsrUSAAAECBAgQIECAAAECBAIJCHgDDUupBAgQOCnw+QNruXtI/eOOGAECBAgQIECAAAECBAgQIFC3gIC37vnqjgCBVgQ+B7w+sNbK5PVJgAABAgQIECBAgAABAo0LCHgbPwDaJ0CgEgEBbyWD1AYBAgQIECBAgAABAgQIELhMQMB7mZerCRAgUKaAgLfMuaiKAAECBAgQIECAAAECBAhMLCDgnRjY8gQIEJhc4OgDa+k99evV5PvagAABAgQIECBAgAABAgQIEFhcQMC7+AgUQIAAgRsFjgLe/JL6p82Nq7qdAAECBAgQIECAAAECBAgQCCAg4A0wJCUSIEDgWwEBrwNCgAABAgQIECBAgAABAgSaFRDwNjt6jRMgUI3AsN2lLt3v+8ndQ+ofd9X0pxECBAgQIECAAAECBAgQIEDgpICA1+EgQIBAdAEfWIs+QfUTIECAAAECBAgQIECAAIGrBQS8V9O5kQABAoUICHgLGYQyCBAgQIAAAQIECBAgQIDA/AIC3vnN7UiAAIFxBQS843pajQABAgQIECBAgAABAgQIBBIQ8AYallIJECBwJDC8rlKX3/b/PKf31K9XpAgQIECAAAECBAgQIECAAIE2BAS8bcxZlwQI1Cow/Nqkrnv+N+DNL6l/2tTarr4IECBAgAABAgQIECBAgACBQwEBrxNBgACByAIC3sjTUzsBAgQIECBAgAABAgQIELhZQMB7M6EFCBAgsKDAsN2lLt3vK8ie4F1wGrYmQIAAAQIECBAgQIAAAQKzCwh4Zye3IQECBEYU+PyBtdw9pP5xN+IOliJAgAABAgQIECBAgAABAgQKFhDwFjwcpREgQOBHgc8B793af9d/RHMBAQIECBAgQIAAAQIECBCoR0AQUM8sdUKAQIsCAt4Wp65nAgQIECBAgAABAgQIECCwFxDwOgwECBCIKjC8rlKX3w7K9wRv1GmqmwABAgQIECBAgAABAgQIXCUg4L2KzU0ECBAoQGD4tUld97yvJKf31K9XBVSmBAIECBAgQIAAAQIECBAgQGAmAQHvTNC2IUCAwOgCRwFvfkn902b0fSxIgAABAgQIECBAgAABAgQIFCsg4C12NAojQIDADwICXkeEAAECBAgQIECAAAECBAg0LyDgbf4IACBAIKzAsN2lLt3v68/dQ+ofd2H7UTgBAgQIECBAgAABAgQIECBwsYCA92IyNxAgQKAQgd/bfFCJD6wVMhhlECBAgAABAgQIECBAgACB+QQEvPNZ24kAAQLjCgh4x/W0GgECBAgQIECAAAECBAgQCCgg4A04NCUTIEDgj4CA10EgQIAAAQIECBAgQIAAAQLNCwh4mz8CAAgQCCkwvK5Sl98OaveKhpCjVDQBAgQIECBAgAABAgQIELhFQMB7i557CRAgsJTA54A3p/fUr1dLlWNfAgQIECBAgAABAgQIECBAYBkBAe8y7nYlQIDAbQLDr03quuf9Ijm/pP5pc9ui7iZAgAABAgQIECBAgAABAgSiCQh4o01MvQQIEPgQEPA6BwQIECBAgAABAgQIECBAgEBKScDrGBAgQCCigIA34tTUTIAAAQIECBAgQIAAAQIERhcQ8I5OakECBAjMIDBsd6lL9/udcveQ+sfdDDvbggABAgQIECBAgAABAgQIEChIQMBb0DCUQoAAgbMFfm/zwbUC3rPpXEiAAAECBAgQIECAAAECBGoSEPDWNE29ECDQjsDngPdu7b/n7UxfpwQIECBAgAABAgQIECBAYC8gEHAYCBAgEFFAwBtxamomQIAAAQIECBAgQIAAAQKjCwh4Rye1IAECBGYQEPDOgGwLAgQIECBAgAABAgQIECBQvoCAt/wZqZAAAQKHAsPrKnX57eAfekWDU0KAAAECBAgQIECAAAECBJoUEPA2OXZNEyAQWuBzwJvTe+rXq9A9KZ4AAQIECBAgQIAAAQIECBC4SkDAexWbmwgQILCgwPBrk7rueV9Bzi+pf9osWJGtCRAgQIAAAQIECBAgQIAAgYUEBLwLwduWAAECVwsIeK+mcyMBAgQIECBAgAABAgQIEKhNQMBb20T/v717+5Hkuu8DfqopMjAVKpEjJbYRWAnsiL7ASQxtB7BhZHv+gOglEWAsSGweiAA7i8gKkKe87MxzEEAQwF3Hoh4WJPbFQJAol0dvD+IoQIaGEhu+MIBsmFasmxFdHDIxRXcF1T3VU13Tt+qu6q5T9Wlgtaud7qrf+fwOZ7a/c+Yc4yFAoPsCAt7u99gICRAgQIAAAQIECBAgQIDAlgIC3i2hPI0AAQKtEbh8OA5JuD2vxxYNrWmNQggQIECAAAECBAgQIECAwKEFBLyHFnc/AgQI7CtwI+BNTsLw3njfy3o9AQIECBAgQIAAAQIECBAgEJ+AgDe+nqmYAIG+C7z5MF0guHXqc3nf54TxEyBAgAABAgQIECBAgEBvBYQCvW29gRMgEK2AgDfa1imcAAECBAgQIECAAAECBAjULSDgrVvU9QgQINC0gIC3aWHXJ0CAAAECBAgQIECAAAEC0QgIeKNplUIJECBwJSDgNRUIECBAgAABAgQIECBAgACBKwEBr6lAgACBmAQuH41Ckj6dl5yGizA8HcU0BLUSIECAAAECBAgQIECAAAEC9QkIeOuzdCUCBAg0L3D56llIkgcC3uap3YEAAQIECBAgQIAAAQIECMQgIOCNoUtqJECAQC5wI+BNz8Pw/hkgAgQIECBAgAABAgQIECBAoJ8CAt5+9t2oCRCIVUDAG2vn1E2AAAECBAgQIECAAAECBBoREPA2wuqiBAgQaEhAwNsQrMsSIECAAAECBAgQIECAAIE4BQS8cfZN1QQI9FXg8uE4JOH2fPhpchKG98Z95TBuAgQIECBAgAABAgQIECDQdwEBb99ngPETIBCXwJsP04WCBbxx9U+1BAgQIECAAAECBAgQIECgZgEBb82gLkeAAIFGBcoB761Tn8cbBXdxAgQIECBAgAABAgQIECDQbgHBQLv7ozoCBAgsCgh4zQgCBAgQIECAAAECBAgQIECgICDgNR0IECAQk4CAN6ZuqZUAAQIECBAgQIAAAQIECDQuIOBtnNgNCBAgUJPA5aNRSNKnC1ezRUNNuC5DgAABAgQIECBAgAABAgTiFBDwxtk3VRMg0EeBcsCbhoswPB31kcKYCRAgQIAAAQIECBAgQIAAgZmAgNdMIECAQCwCl6+ehSR5MC83Tc/D8P5ZLOWrkwABAgQIECBAgAABAgQIEKhfQMBbv6krEiBAoBkBAW8zrq5KgAABAgQIECBAgAABAgQiFhDwRtw8pRMg0DMBAW/PGm64BAgQIECAAAECBAgQIEBgs4CAd7ORZxAgQKAdApcPxyEJt+fF2KKhHX1RBQECBAgQIECAAAECBAgQOKKAgPeI+G5NgACBSgI3At7kJAzvjStdw5MJECBAgAABAgQIECBAgACBTgkIeDvVToMhQKDTAm8+TBfGd+vU5/BON9zgCBAgQIAAAQIECBAgQIDAZgHhwGYjzyBAgEA7BAS87eiDKggQIECAAAECBAgQIECAQIsEBLwtaoZSCBAgsFZAwGuCECBAgAABAgQIECBAgAABAiUBAa8pQYAAgVgEBLyxdEqdBAgQIECAAAECBAgQIEDgYAIC3oNRuxEBAgT2ELh8NApJ+nR+hTRchOHpaI8reikBAgQIECBAgAABAgQIECDQAQEBbweaaAgECPRA4PLVs5AkDwS8Pei1IRIgQIAAAQIECBAgQIAAgQoCAt4KWJ5KgACBowncCHjT8zC8f3a0etyYAAECBAgQIECAAAECBAgQaIWAgLcVbVAEAQIENggIeE0RAgQIECBAgAABAgQIECBAYImAgNe0IECAQAwClw/HIQm356WmVvDG0DY1EiBAgAABAgQIECBAgACBpgUEvE0Luz4BAgTqELgR8CYnYXhvXMelXYMAAQIECBAgQIAAAQIECBCIV0DAG2/vVE6AQJ8E3nyYLgz31qnP333qv7ESIECAAAECBAgQIECAAIEVAgICU4MAAQIxCAh4Y+iSGgkQIECAAAECBAgQIECAwMEFBLwHJ3dDAgQI7CAg4N0BzUsIECBAgAABAgQIECBAgED3BQS83e+xERIg0AUBAW8XumgMBAgQIECAAAECBAgQIECgdgEBb+2kLkiAAIGaBS4fjUKSPl24qj14a0Z2OQIECBAgQIAAAQIECBAgEKeAgDfOvqmaAIE+CZQD3jRchOHpqE8ExkqAAAECBAgQIECAAAECBAgsFxDwmhkECBBou8Dlq2chSR7My0zT8zC8f9b2stVHgAABAgQIECBAgAABAgQINC8g4G3e2B0IECCwn4CAdz8/ryZAgAABAgQIECBAgAABAh0WEPB2uLmGRoBARwQuH45DEm7PR2MFb0caaxgECBAgQIAAAQIECBAgQGB/AQHv/oauQIAAgWYF3nyYLtzAAWvNers6AQIECBAgQIAAAQIECBCISEDAG1GzlEqAQE8FBLw9bbxhEyBAgAABAgQIECBAgACBzQIC3s1GnkGAAIHjCgh4j+vv7gQIECBAgAABAgQIECBAoMUCAt4WN0dpBAgQCJePRiFJn84l0nARhqcjMgQIECBAgAABAgQIECBAgACBTEDAax4QIECgzQKXr56FJHlwHfCm52F4/6zNJauNAAECBAgQIECAAAECBAgQOJyAgPdw1u5EgACB6gIC3upmXkGAAAECBAgQIECAAAECBHokIODtUbMNlQCBCAUuH45DEm7PK0+t4I2wi0omQIAAAQIECBAgQIAAAQKNCQh4G6N1YQIECNQgUD5gLU1OwvDeuIYruwQBAgQIECBAgAABAgQIECDQAQEBbweaaAgECHRYoBzw3jr1ebvD7TY0AgQIECBAgAABAgQIECBQVUBQUFXM8wkQIHBIAQHvIbXdiwABAgQIECBAgAABAgQIRCcg4I2uZQomQKA3ApePRiFJn87Hm4aLMDwd9Wb8BkqAAAECBAgQIECAAAECBAhsFBDwbiTyBAIECBxJ4PLVs5AkD64DXgesHakTbkuAAAECBI4mkL7+km/uVtWfTI5l1vR95wfvJnefeC9fdV54PgECBDos4ItCh5traAQIRC4g4I28gconQIAAgU0CW4WX12HdsvBsHnhtupePE+iSgIC3S900FgIECOwvIODd39AVCBAg0IzA5cNxSML1G9fUCt5moF2VQHwCG0Ox3VevNb36bB22oC6+qahiAgSOJCDgPRK82xIgQKClAgLeljZGWQQIEAjlA9bS5CQM743JECAQv8BCQLsYxhYDVoFn/K02AgIECDQiIOBthNVFCRAgEK2AgDfa1imcAIHOC5QD3lunPmd3vukGGKPAjdW0ywNbYW2MzVUzgXYIXLSjjKiqOM43xAeDRu+bvPxGo9ePqsOKJUCAAIEFAWGBCUGAAIG2Cgh429oZdXVQYB7Srt7rU0Dbwb4bUisEtgkvZ6HWkvBM4NWKHiqCAAECBAgQOLKAgPfIDXB7AgQILBW4fDQKSfp04WNW8JosHRbYYU/ZdXvF9iGM3T4UqzJvGl59tq4UQV2VRnkuAQJ9FXjlM9+ffv177bPPWs3b10lg3AQIEFgiIOA1LQgQINBGgctXz0KSPJiXloaLMDw95uFHbVRS05EENmxJUKyq7yHspg7lIe31m/RSwCr03ETo4wQIEOiOQB7ehulPkyTzr6FpKBy6ezXcL3zuOe/lu9N6IyFAgMDeAr4o7E3oAgQIEGhA4EbAm56H4f2zBu5b/hAtAAAgAElEQVTkkgSuv4/w+ks3A9nZlgX53/dhZewuM6K8mnZpYCus3YXWawgQINBNgWmYexXkLgtwN41awLtJyMcJECDQLwEBb7/6bbQECMQicPlwHJLCao1UwBtL69pUZ2lfWSHt+uYUQ9pxea9P4WybZrZaCBAgEJ/A9erc9GyXQLc8YgFvfHNAxQQIEGhSQMDbpK5rEyBAYFeB8gFraXIShvfstbarZw9eVwhz85Xesa223bSn7MptDMrtFcb2YMIbIgECBCIQmK3SrSfQzYebhDD9evna556zdVcEc0CJBAgQOJSAgPdQ0u5DgACBKgLlgNcBa1X0onvuNJydbYWQP7Z503bMAHf1lgTL9Jcc3CWEjW6aKpgAAQIENgjkgW72tF1W6ebhbQjpwk+SOFDN1CNAgACBTQIC3k1CPk6AAIFjCAh4j6F+sHumj+/kq1GPGdIuG+/yVbSDwXRVsFD2YFPEjQgQIECgpQLlg9B2CXLzoc0C3VmYK8RtacOVRYAAgUgEBLyRNEqZBAj0SODy0Sgk6dOFEVvB24kJcLVSd7G3zY8sC21ngfJgMBbSNg/uDgQIECAQt8BiiDv9Fuf0J2v2CXOnVxHoxj0xVE+AAIEWCwh4W9wcpREg0FOBy1fPQpI8mI8+DRdheLrNj+z3FKz9w74KdrNVsE2u2M1X305XAgly2z8vVEiAAAECxxEobqVQR3C7ahQC3eP0110JECDQRwEBbx+7bswECLRb4EbAm56H4f384Kx21666GwLp4ztZ764D++VGs1W2S/aqXfmm8eU3HLpnvhEgQIAAgS0E9t0bd4tbTJ8y30N3kJzVueVC+ijNv9E//z25N1tV7EGAAAECBK6+BoEgQIAAgVYJCHhb1Y4qxRQOS8vedG1arXue3H0iuK8C7LkECBAgQGALgaYD3eLK3KycOsPc7HpXgW7+b4Sl/55I7iUWa20xFzyFAAECfRHwRaEvnTZOAgTiESgfsJYmJ2F4z2rNFnVwGuRmj8kk+32bMLdY/UVy94lVNy3qp1IIECBAIG6BPNDdd4/cXGG+Ejc7AC17XP2ETd1Bbn6/bQLdcocEvHHPWdUTIECgbgEBb92irkeAAIF9BcoBrwPW9hWt/Pp5gLsY4mb/b9Oq3PX3GgxO7I1buR1eQIAAAQIEFgRmgW72TdZktEuo2/QK3E3tKmy5sPP+/ALeTco+ToAAgX4JCHj71W+jJUAgBgEBb+1dWghsr0Pb7E/5Str9gtv1FU8PP7Nqt/a2uiABAgQI9Exg15W6Te2NW4W/sEp3139zXB+mGsI4uZf46a4qDfBcAgQIdFxAwNvxBhseAQKRCVw+GoUkfbpQtRW8S5tY2iYhf84hAtt1k2r25mswmO6bZ7VuZP/9KZcAAQIEWiewS6hbXKHb1LYKRajSIWjlbZh2CXTzMPdMkNu6KakgAgQItFJAwNvKtiiKAIHeCtw4YC1chOFpr/drvTq4bO1BI0eaL8LcI8G7LQECBAh0U2DXrReaDHRL4W0G39Q3k7N/Vwh0uzm1jYoAAQKNCwh4Gyd2AwIECFQQuBHwpudheD8PNytcKN6nFgLdXVa81DXwfOVMdr2FA1asyq2L2HUIECBAoK8C0yA3e+y7j+4gOdtnhe4Bw9tlrRbo9vU/AOMmQIBAAwIC3gZQXZIAAQI7C/Qo4C1tsZC90Wsy0C0Gttehbfanq5OxBbc7z1ovJECAAAECNwSuQ9x0+o3qXQ5DW8Y6Xa1bMdi9CnKzf2s0tfp2mxmQ/Vsk+6ax/XO30fIcAgQIEKgkIOCtxOXJBAgQaFigfMBampyE4b1OHaJR4wrd4mEjs8ZchbXZHwW2Dc9VlydAgAABAiWBXfbL3YS4ywFpNRxotqms8sfL/yaZ/9vNHrpVKT2fAAECBHYREPDuouY1BAgQaEqgHPB25IC1PUPdC4eWNTXhXJcAAQIECOwv8Mqn3xvXsUJ3HuaGdJx903ab7RcOtDq3GOBOw1vB7f7zxhUIECBAoD4BAW99lq5EgACB/QU6FvDuEexOQ12rcPefUq5AgAABAgSaENhntW45yM3qqxDmZk/Ptn2oY2snK2+bmByuSYAAAQIHFxDwHpzcDQkQILBC4PLRKCTp04WPRrqCt0KwO9uPzj64/rMgQIAAAQJRCFQJdmdB7varccsApdW5+wS68/1vs3tYfRvFVFMkAQIECFQQEPBWwPJUAgQINCpw44C1cBGGp/lhII3euq6LbxnsWp1bF7jrECBAgACBAwhUCnUHyck2q3Hzsq9C3Oz/5v/mqeMgtHxl7pkw9wATxC0IECBA4OgCAt6jt0ABBAgQuBK4EfCm52F4f3rydAyPq3B3cQXyYuGC3RgaqUYCBAgQIBBCqBTqZit1B8nZqmC34X1y52Fu1jiBrulLgAABAn0UEPD2sevGTIBAOwUuH45DUthPLo0n4N0Q7gp22znjVEWAAAECBOYC00A3e0zSs20PTJtuwVAIdhsOcvNas0B3+g1wYa4JTIAAAQIEZgICXjOBAAECbREoH7CWJidheG96UnObH2vCXcFumxunNgIECBDotUCVFbplqORqG4arQDf/aaN99shd14v5/rkC3V5PWYMnQIAAgTUCAl7TgwABAm0RKAe8ERywtibcPU/uPolme4m2TAF1ECBAgACBpgRmge5kFEIy2naFbrGWbLXuP/joM+NPfmSQ/XW22reOQDffXiG7ZvGb2mNhblMzwXUJECBAoIsCAt4udtWYCBCIUyCygFe4G+c0UzUBAgQI9EvglU//2VkNoe6+gW4e5GYhrvC2X1PQaAkQIEDgAAIC3gMguwUBAgQ2Clw+GoUkvT6gLA0XYXianyK98eXHeEL6+E665L5W7h6jGe5JgAABAgQKArtuv5Ct0v3Eh5Jw8uFnbr/4fJKFsrus0rWlgtlIgAABAgQOLCDgPTC42xEgQGCpwOWrZyFJHsw/1vID1tLHd7LtF67rnRUu3DW9CRAgQIDAkQSqhrrTA9KyxyA5+/yLH8j+lH1trxroCnOP1G+3JUCAAAECRQEBr/lAgACBNgjEF/CWV+8Kd9swj9RAgAABAr0TqBLsTkPd60B3n1D3zB65vZtqBkyAAAECLRYQ8La4OUojQKBHApcPxyEprJpp8QreZat3k7tPfD3p0XQ1VAIECBA4rsC2oe6LH5weiBZOPjy4uPXC/Eu1VbrHbZ+7EyBAgACB2gW8Ia+d1AUJECCwg0AkB6ytOFjN6t0dWu4lBAgQIECgqsCmYDcLdD/5kUF48fm93+ZlWy9YpVu1QZ5PgAABAgSOJLD3V/4j1e22BAgQ6JZALAHvzb13L5K7T1p9GFy3JorRECBAgECfBPJANxtzumR/3CzQzcLc/NeeNkLdPQG9nAABAgQIHEtAwHssefclQIBAUSCCgNfBaqYsAQIECBBoTmAa5maPSZoddjYPdPNtFrKVudmjhtW5+SAckNZcO12ZAAECBAgcVEDAe1BuNyNAgMASgctHo5CkT+cfScNFGJ62blVs+vjOuHS6ttW7JjQBAgQIENhRYLY6dzIKIRkVV+fm2yzUFOZmIW72yL6GT393ONqODfMyAgQIECDQYgEBb4ubozQCBHoicPnqWUiSB9cBb3oehvenq3fa8li6encwOElefiN/w9iWUtVBgAABAgRaK1DeQ7e4Oremlbm2WWht9xVGgAABAgSaExDwNmfrygQIENhOII6ANy0NxsFq23XXswgQIECgxwLFVbof/+DgdkZR81YL+QpdB6L1eJ4ZOgECBAgQEPCaAwQIEDi2wOXDcUjC9E3f9JEmJ2F4rzUrY63ePfYEcX8CBAgQaIPA9R652bYK2SOZb6d0oAPQsn8b2GKhDZNBDQQIECBAoGUCAt6WNUQ5BAj0UKDlB6ylj+9YvdvDaWnIBAgQ6KvAqsPO1nlkWy1kWyzk2yzsud2Cw8/6OvmMmwABAgQI7Cgg4N0RzssIECBQm0CLA95lq3eTu0987ait+S5EgAABAm0QyPfGzWpZthq3WGMxzN0zyM0vO903N/s/DkBrw2xQAwECBAgQiE/Am/T4eqZiAgS6JHD5aBSS9OnCkG6dtuJz89KtGUKw926X5p+xECBAoMcC5QPPllEIc3s8QQydAAECBAhEJNCKECEiL6USIECgXoEbB6yFizA8ne/pV+/Nql1tydYMwerdaoaeTYAAAQLtE1gX7GaBbnYIWo0rczMAB6C1bxqoiAABAgQIdEpAwNupdhoMAQLRCdwIeNPzMLw//THNYz7Sx3eyg1yuD37LihkMTpKX32jN4W/H9HFvAgQIEIhL4AChbrbNwjTMzf7HVgtxzQ/VEiBAgACB2AUEvLF3UP0ECMQt0MKA19YMcU8p1RMgQIBACMWD0pbtqbvnSt35IWjCXLONAAECBAgQaIOAgLcNXVADAQL9FSgfsJYmJ2F472irZNPXXxqFyWRxT+AQLpK7T1qxbUR/J4qREyBAgEBR4DrAnVx9fUqmv68Kc7OPZdsu5L8qaM7DXKtyK6h5KgECBAgQIHBQAQHvQbndjAABAiWBcsB75APW7LtrhhIgQIDAIQXmQW3xppM8tM3+8jq4zVbd5kHtst9rrDsLde2bWyOoSxEgQIAAAQLNCgh4m/V1dQIECKwXaFHAa2sGk5UAAQIE9hVYXFk7C2ezx7KVtcvulYW4O6603bd0oe6+gl5PgAABAgQIHE1AwHs0ejcmQKD3ApePRiFJr7dDSMNFGJ4eZSsE4W7vZyMAAgQILAgsXVlbfMZ0le36ADdfcbs0yH1+9jYkC3OLvx+4DULdA4O7HQECBAgQINCMgIC3GVdXJUCAwGaBFh2wZmuGze3yDAIECHRBYBrczrdA2G6F7bKgNg9miyZHDmvXtScLcrNHvsf92H66XZjNxkCAAAECBAjkAgJec4EAAQLHEmhJwJs+vpO94b29wDAYnCQvv3G0w96O1RL3JUCAQOwC6aO0+JMg+Z+nv7/1bjr/XL8soI1g7DeC2vmbmnuJr1kRNFCJBAgQIECAQDMCAt5mXF2VAAECmwUuH45DUghW0/Q8DO+fbX5hfc+wNUN9lq5EgACBJgQKgW0xrF38plwTNz7eNfMQ1yFnx+uBOxMgQIAAAQKRCQh4I2uYcgkQ6JDAkQ9YS19/Kfsx3es9gGe0F8ndJ0fZB7hDnTUUAgQILBVYt7r26gVdC27zsHaZx3y7hPyDtk3wHw4BAgQIECBAYDcBAe9ubl5FgACB/QTK2zNkV7t1etDPyfbd3a+FXk2AQDMCpRB00012+YbULq9ZVkfXwth11suC2mVbIkz/TlC7adr6OAECBAgQIECgXoGDhgn1lu5qBAgQiFjgyPvvLt13N4Tz5O6Tg24REXEHlU6AwAqBLVapZq/sUzh60Lny1rvp9H4vPp9cvPmnsz/femG6P+1CICuEPWhb3IwAAQIECBAg0KiAgLdRXhcnQIDACoHy9gxpchKG9w5yQIxw16wkEKfAkpWt26xEXfccIWsEUyEPbG/8/s4kJCFchJCOw2Aw/frx2mefPcjXkQjYlEiAAAECBAgQ6JWAgLdX7TZYAgRaIXDE7RmWbctg391WzApF9EBgxWFZ2cgFrT3ofzbEPKTNh7sstF1FUQxzBbk9mTCGSYAAAQIECBDYUkDAuyWUpxEgQKA2gRurd9PzMLzf+NYIwt3aOuhCBMIWq2nzlbPC24rzpRyCrnt5leeWQ9WKZS19+lvvTOq4zNJrCHQbo3VhAgQIECBAgEDnBAS8nWupAREg0HqBcsB7gMPVhLutnxUKbJlAabWtsLZif1ZtK5BdpslQtGKZrXv6NNQdJGdW6LauNQoiQIAAAQIECLRaQMDb6vYojgCBzgkc4XA14W7nZpEB1SQQY4hbXLG67erVVc8TtNY0kXa8zGyFbghZoJv9JtTdEdLLCBAgQIAAAQIEsrMZPAgQIEDgYAIH3p5hxYFqF8ndJ9scznQwFjci0IRA2/a8XXdYVhPjd832CAhz29MLlRAgQIAAAQIEuigg4O1iV42JAIF2Chz4cLUV4e55cvdJ4/v9trMBquqiwLFW4a46LKtonD0nhlWy8/Bx5wmSjnd+afGFg0Hl61j1Wou8ixAgQIAAAQIECEQuIOCNvIHKJ0AgIoEDbs9g5W5E80KpGwWOEeIWV9vO/1zjgVqLoeqSgHRF2CnQ3DhdPIEAAQIECBAgQIBA7wQEvL1ruQETIHA0gRvbMyQnYXiv8oq1TfWnj+9kK3QflJ5nW4ZNcD7eGoGrQDebx7ebLKrOEHcW2F4FtVfhrDC2ye65NgECBAgQIECAAAECuYCA11wgQIDAIQQOtD2DcPcQzXSPJgSaCHWr7Hl7vaK2sJq2sIpWWNtE112TAAECBAgQIECAAIE6BAS8dSi6BgECBDYJHOBwtRXhbkjuPvG5flN/fPxoAnUEu3mQ+8U/mUzHsW7fW4ddHa3VbkyAAAECBAgQIECAQEMC3vQ3BOuyBAgQmAtcPhyHpPSj5rdOa/38K9w132ISqBrq7rKVwsKK3MFgbAVuTDNErQQIECBAgAABAgQIVBGoNWCocmPPJUCAQC8EloW7aXoehvez/UVreawKd8NgcJK8/Ebte/zWUrSL9E5gl1A3W5G7ajXufM9b+932bi4ZMAECBAgQIECAAAECiwICXjOCAAECTQksDXfDRRiejuq6Zfr6S6MwmTy9cT3hbl3ErrOjQNVAN7tNtlJ3Y6g7SM6sxt2xKV5GgAABAgQIECBAgEAnBQS8nWyrQREgcHQB4e7RW6CAwwsIdQ9v7o4ECBAgQIAAAQIECBAQ8JoDBAgQqFugfKBadv203pW700s+vpMuKf08ufuktu0f6qZxve4JXIW62ar07NftbUe4brXudPsFK3W3pfQ8AgQIECBAgAABAgR6LiDg7fkEMHwCBGoWuHz1LCTJg4WrNhPuZnvrlsM04W7N7XS5RYFdw9zsKnmgO/3zO5MbtEJds40AAQIECBAgQIAAAQK7CQh4d3PzKgIECCwXKK/ebSbczVboLobIIQh3zcnaBfYJdIuh7tqD0qzUrb1vLkiAAAECBAgQIECAQL8EBLz96rfREiDQtEA54L11Wuvn2fTxHeFu0z3s8fULe+hmCltvt1Ak27j1QkjHYTAYOyitxxPN0AkQIECAAAECBAgQqFWg1uCh1spcjAABArEJlLdnqHn1bvr6S6MwmTwtsVwkd59ke596ENhJYJeD0cqBbhbqTn+Vtl6w7cJOLfEiAgQIECBAgAABAgQIVBIQ8Fbi8mQCBAisEbixPUN6Hob3azvwbNmhasndJz6Pm5SVBK4C3ew12dysvEp33Qrd7KJC3Urt8GQCBAgQIECAAAECBAjsLSAY2JvQBQgQIHAl0OD2DOnjOzcPVRsMTpKX38j+3oPAUoE69tDNLvzFP5ksPRiteFPBrklIgAABAgQIECBAgACB4wgIeI/j7q4ECHRN4Mb2DPWt3l0a7jpUrWszaO/x7LsyNytgvtXCku0WlhUo1N27bS5AgAABAgQIECBAgACBvQUEvHsTugABAgRCCA1tzyDcNbvWCey7f24e6m6zQjevYxrqhnT82uf+Qm3bj+gyAQIECBAgQIAAAQIECOwuIODd3c4rCRAgMBMor97N/u7W6d6fX1eEuw5V6/m8O3Somwe6YTAYv/bZZ20J0vP5Z/gECBAgQIAAAQIECLRPYO8Aon1DUhEBAgQOLNDA9gzC3QP3sMW3KwS6WZWVDkUrbrmQvfitdyZbjdTWC1sxeRIBAgQIECBAgAABAgRaISDgbUUbFEGAQNQCNR+uJtyNejbsVfy+++hmgW623UKVMDcvWKi7V+u8mAABAgQINCbwq698f7R48cnoU6/ZKqkxcBcmQIBAhAIC3gibpmQCBFokUNP2DOnrL43CZJLtabpshaZtGVrU8jpLuQp0szdt2a9Kq3PzOvJQd9vVuQuBbkjHtl6os6OuRYAAAQJtErgZjJarm5SC003VJ8ufn+72NXzT3dZ9/FNfeM57+X0AvZYAAQIdE/BFoWMNNRwCBA4ssOfhahuC3Wwwwt0Dt7TJ29UV6GY1Vj8YLYQwSKYHo9lLt8kuuzYBAgQIbBKYBa/lcLU94emm+tvwcQFvG7qgBgIECLRHQMDbnl6ohACBGAX22J4hfXwnC9serBm2cDfGOXFVcx1hbnapbIVulUB3diiaMDfiqaN0AgQIRC9wvXI2C3GvgtsjrHKNHnLNAAS8Xe6usREgQKC6gIC3uplXECBAYCawx/YMG8LdizAYnCUvvzFGHY9A4TC0nbZayEdaZR9dYW4880OlBAgQaLvAYiibVSuYbU3Pkqtv3s4LSsf24G1NdxRCgACBVggIeFvRBkUQIBClwI7bM6wJdwW7EU2EQqCbVb1zqLtsD915cDv1SGdB/2AwD/xtsRDRRFEqAQIEDiywuO9scRuE0hYIfVhReyMYLTfj6mtspR5dfz3OX/ap1571TflKhp5MgAABAnULCHjrFnU9AgT6IbDj6t2V4e5gcGLFbrunTh1bLhS3W3jhmfTiN76X2he33W1XHQECBFopcL2HbaSrbOfBazlgFZ62csIpigABAgRaLyDgbX2LFEiAQCsFdli9e3Wg2tMb4xHutqrFr3wmO/glhDBJzz7xoSScfPiZ2y8+X/3LZXnv3Nmq3HScrcS1ArdVLVcMAQIEWiWwcquErMpYVt0uBLiz0NYq11ZNM8UQIECAQMcEqr9j7RiA4RAgQKCywA6rd4W7lZUbe8E0wJ3kP7I6W/mUlrZYePGDg/DJjwxClWA3C3Tnv96ZBIFuYy10YQIECHRCYBbkptmBq+0Ibm+sqhXMdmKiGQQBAgQI9EJAwNuLNhskAQK1CVw+GoUkXVyFm6bnYXh/9gZtyWNluBvCeXL3ycrX1VZzTy90HeQmo3KAu4qkarBb3D9XoNvTiWbYBAgQ2FJgYVuFplfiLuw9m2+DYPuDLVvlaQQIECBAIDoBAW90LVMwAQJHFbh8OA5J4UCtNFyE4ensR/qXhbuP72QB7oMlHxLu1tjIXcLc/PYVQ92LX/5f74ff+N5kfvCZ7RZqbKRLESBAoAMCB1mZOw1ws+B2MLb1QQcmjSEQIECAAIE9BQS8ewJ6OQECPRJYtjVDmpyE4b2lJyevPFDNyt29J80s0E3Ptl2ZW7xhFuhmWy/kv7Yo5iKEcJbcS5yQvQWWpxAgQKBvArWvzF2xVULmKszt2+wyXgIECBAgsJ2AgHc7J88iQIBACBUOVhPu1j9hdgl1dwhzi4ULdutvoysSIEAgCoGF0DavuO5tFazCjWIuKJIAAQIECMQgIOCNoUtqJEDg+AJbHqx2td9uti3D7RtFDwYnyctvWAVasZuvfPq98TYrdbMwN3tkh6NljyoHpJVKukjuzQ5f8yBAgACBfgjMt1WoO8Qt8s1X5iZnVuL2Y14ZJQECBAgQOJSAgPdQ0u5DgEDcAmtW764NdfNRC3cr9z9bsfvxH0imB9qt2k5hjxC3XI/VupU75AUECBCIW6CxUNfK3LgnhuoJECBAgECEAgLeCJumZAIEDixQPlgthJD+7pdOwmSyfKXuYnkXyd0nVoNuaFn6KM2Nst+zXzdXQNfX9izMzR7ZauqxvXXrg3UlAgQItF2g2VDXyty29v/bv/gL2/1bbDL9N8juj3TZ69NG/k3z4V/9L97L794pryRAgEDnBHxR6FxLDYgAgVoFSlszjN79bjj75tvh9jvf3eY2wt0lSldh7iGC3OzueZjrkLRtZqznECBAoCMCsyA3e0xGISSjUHXrhcIq3Jwk21Zh66CwrY77Bpj7jGtp+Fn1gs2EpVWraMPzBbxt6IIaCBAg0B4BAW97eqESAgTaJlAId8++9XZ48M23t6nwIgwGZ/baDaGwKjdb6Zw9GlnBUmiKlbnbzNCWPqfW0OSYAcYhfGsJSQ5R6D73EOLso+e1BAh0X0DA2/0eGyEBAgSqCAh4q2h5LgEC/RIo7Lub/vavbxp7b4PdJrdXeOvdNNt/d7o/brkBtlZYFNk5IN03DD3gj6Nu+o/QxwkQiFfg8m/87XiLj7Dy//ax43iX+3ysOiJs2Y2Sv/YzL3gv34VGGgMBAgRqEvBFoSZIlyFAoGMChX1316ze7VWo2/SK3CzMzX9ls+mtdyYhGSQn//LrJ4uTa99ActepuvWqSSsPdyXe5XXbhkJdCxG2Hfcupl4Th0DX5nQc6qok0B4BAW97eqESAgQItEFAwNuGLqiBAIF2CZT23V2yercze+u+8pl8j8IQPv/iB/I+FA88y/6ulq0V3v/Ol+d9fv/bX56GudMg9+r3H3vvv88//mN/dv3ndk0O1WwjsGqFVv73gqltFD2HAAECBAisFhDwmh0ECBAgUBQQ8JoPBAgQKAqUwt1lq3eTu09a+7mztF1CcWTzU6HfendxhemLz283nHJAW544xY9nH8tC3L496lxVeawQ1I/P9m3WGi8BAgQIxCgg4I2xa2omQIBAcwLbvatv7v6uTIAAgfYIXD4ahSR9Wixoyerd8+Tukxv7wR5qEEv2u81uvXaFbR68FgPXchh7I6xdEs5uCv6KHz9WOHmoPrgPAQIECNQukB+UWfuFXXC5QBLC+NA2g8I9v/ozLxz0/n/9t/50+s3uSQijNIT5N76XGNTyk0tN2wp4mxZ2fQIECMQlIOCNq1+qJUCgSYHCoWrZbY65enfXg8uy4PY/T96cKm0KccuU5VA2C2wFtU1OONeuQ+BvfXWw1WV+fMvnbXWxFjxp23G3oFQlNCTw419d88/4JFyEkI5DGIw/9dqzBw3RGhquyxJYKVAMbvMnFQLcWsLan5/83l4deOsbP7XX65/7f9MDZ6ePH/rK7L/9//TPfmBdSL3X/byYAAECBOITEPDG1zMVEyDQhEDhULX5m5yOPg8AABgWSURBVIPf/vXynWpbvfvtX/yFUZiE0bN/9WSUvvft2x/4yz8bPvDhnw3Z7+se//Uv/fn0w//qR9+b/v6lq//fBIlrEthVoBg+FoPV/O/XBlO73jTC1330R35nr6r3ff1eN/fixgWmgdDz39u4qvWZv/JHNwLcf/8//lGF+pKtQ6K0pj3ZKxTnqQQIrBD4wuee817e7CBAgACBuYAvCiYDAQIESvvuZiB1rt4tr8Z9/ztfnga65Uce3mahbf5nIW5c0/MnnvtqbQW/+OwfVb7Wt97+2MbXfOsPf3Ttc36idN/yytdvvb3+9RsLaPgJQs+GgV1+o8BbX99vpd7GG3gCAQIEQggCXtOAAAECBIoCAl7zgQCBfguUwt3Ru9+dejz9g99acHnzO8OLf/2V05U/5vqJDw2mK6BufeiZ8MIz4fa6g8siXoV7YyVZcf++fF+9X3r/347++fv/rpYfCZ6Eyeg//OY/3HqOJj/8f+Yr0QYvvHfjxzL3DV62CVC3LXZT0LrtdTyPAAECBAgQ6IbA13/oa1sP5D/+i495L7+1licSIECg+wK+KHS/x0ZIoLcCr3zm+7OwbzK5Cv1mP4b6+x/7/fBrf//Xwuj/fvf22TffDrffmYW66x5ffPv1UAxt8z9nYW15m4Ti6tvsmofeRmGffeJ+rrDHXP7nn5v87lKa/1nYTy7fW668x9y+geqmvvh4nAI/ODl83V//a9u/aT58de5IYHeBr60IhH76j39494t65UqBj4Y/XqvzU9yPMns+mlz3JcbP97vMm5/+/M97L3+U2eamBAgQaKeALwrt7IuqIhAo/Nj9umq33ddu2+dVlnnr3bSWwyWKN163OrVygQd8wTx4ffbfhPDM8tDyS3/x4zcrmvxkCH/+k9O/L26jcMDS57d6L/3G9M/vTb4R/vGXvhX+3h/+ZvjKc383fOW5v7PxDWfxzc+qJ//OjwjBVtl87SogbFtokvV1lzeG+TiLYUWVlUOrnPapZdU1NwUqx/hv0T0JECBAgMAxBZJf+bT38sdsgHsTIECgZQK+KLSsIX0rJ/0nn0v7NmbjJUCAAAECBAgQIECAwD4CAt599LyWAAEC3RMQ8Havp1GNSMAbVbsUS4AAAQIECBAgQIBACwQEvC1oghIIECDQIgEBb4ua0cdSBLx97LoxEyBAgAABAgSiFbhx4Gi0I+lU4Wkth7vGRJL8yi+dxVSvWgkQIECgWQEBb7O+rr5BQMBrihA4nMD//pvvH+RmP/gHH/Dm9yDS+U32fFM7GLT+TXHyy/+09TUetOVuRoAAAQIECBAgQIAAgYKAgNd0IECAAAECBAgQIECAAAECBAgQIECAQKQCAt5IG6dsAgQIECBAgAABAgQIECBAgAABAgQICHjNAQIECBAgQIAAAQIECBAgQIAAAQIECEQqIOCNtHHKJkCAAAECBAgQIECAAAECBAgQIECAgIDXHCBAgAABAgQIECBAgAABAgQIECBAgECkAgLeSBunbAIECBAgQIAAAQIECBAgQIAAAQIECAh4zQECBAgQIECAAAECBAgQIECAAAECBAhEKiDgjbRxyiZAgAABAgQIECBAgAABAgQIECBAgICA1xwgQIAAAQIECBAgQIAAAQIECBAgQIBApAIC3kgbp2wCBAgQIECAAAECBAgQIECAAAECBAgIeM0BAgQIECBAgAABAgQIECBAgAABAgQIRCog4I20ccomQIAAAQIECBAgQIAAAQIECBAgQICAgNccIECAAAECBAgQIECAAAECBAgQIECAQKQCAt5IG6dsAgQIECBAgAABAgQIECBAgAABAgQICHjNAQIECBAgQIAAAQIECBAgQIAAAQIECEQqIOCNtHHKJkCAAAECBAgQIECAAAECBAgQIECAgIDXHCBAgAABAgQIECBAgAABAgQIECBAgECkAgLeSBunbAIECBAgQIAAAQIECBAgQIAAAQIECAh4zQECBAgQIECAAAECBAgQIECAAAECBAhEKiDgjbRxyiZAgAABAgQIECBAgAABAgQIECBAgICA1xwgQIAAAQIECBAgQIAAAQIECBAgQIBApAIC3kgbp2wCBAgQIECAAAECBAgQIECAAAECBAgIeM0BAgQIECBAgAABAgQIECBAgAABAgQIRCog4I20ccomQIAAAQIECBAgQIAAAQIECBAgQICAgNccIECAAAECBAgQIECAAAECBAgQIECAQKQCAt5IG6dsAgQIECBAgAABAgQIECBAgAABAgQICHjNAQIECBAgQIAAAQIECBAgQIAAAQIECEQqIOCNtHHKJkCAAAECBAgQIECAAAECBAgQIECAgIDXHCBAgAABAgQIECBAgAABAgQIECBAgECkAgLeSBunbAIECBAgQIAAAQIECBAgQIAAAQIECAh4zQECBAgQIECAAAECBAgQIECAAAECBAhEKiDgjbRxyiZAgAABAgQIECBAgAABAgQIECBAgICA1xwgQIAAAQIECBAgQIAAAQIECBAgQIBApAIC3kgbp2wCBAgQIECAAAECBAgQIECAAAECBAgIeM0BAgQIECBAgAABAgQIECBAgAABAgQIRCog4I20ccomQIAAAQIECBAgQIAAAQIECBAgQICAgNccIECAAAECBAgQIECAAAECBAgQIECAQKQCAt5IG6dsAgQIECBAgAABAgQIECBAgAABAgQICHjNAQIECBAgQIAAAQIECBAgQIAAAQIECEQqIOCNtHHKJkCAAAECBAgQIECAAAECBAgQIECAgIDXHCBAgAABAgQIECBAgAABAgQIECBAgECkAgLeSBunbAIECBAgQIAAAQIECBAgQIAAAQIECAh4zQECBAgQIECAAAECBAgQIECAAAECBAhEKiDgjbRxyiZAgAABAgQIECBAgAABAgQIECBAgICA1xwgQIAAAQIECBAgQIAAAQIECBAgQIBApAIC3kgbp2wCBAgQIECAAAECBAgQIECAAAECBAgIeM0BAgQIECBAgAABAgQIECBAgAABAgQIRCog4I20ccomQIAAAQIECBAgQIAAAQIECBAgQICAgNccIECAAAECBAgQIECAAAECBAgQIECAQKQCAt5IG6dsAgQIECBAgAABAgQIECBAgAABAgQICHjNAQIECBAgQIAAAQIECBAgQIAAAQIECEQqIOCNtHHKJkCAAAECBAgQIECAAAECBAgQIECAgIDXHCBAgAABAgQIECBAgAABAgQIECBAgECkAgLeSBunbAIECBAgQIAAAQIECBAgQIAAAQIECAh4zQECBAgQIECAAAECBAgQIECAAAECBAhEKiDgjbRxyiZAgAABAgQIECBAgAABAgQIECBAgICA1xwgQIAAAQIECBAgQIAAAQIECBAgQIBApAIC3kgbp2wCBAgQIECAAAECBAgQIECAAAECBAgIeM0BAgQIECBAgAABAgQIECBAgAABAgQIRCog4I20ccomQIAAAQIECBAgQIAAAQIECBAgQICAgNccIECAAAECBAgQIECAAAECBAgQIECAQKQCAt5IG6dsAgQIECBAgAABAgQIECBAgAABAgQICHjNAQIECBAgQIAAAQIECBAgQIAAAQIECEQqIOCNtHHKJkCAAAECBAgQIECAAAECBAgQIECAgIDXHCBAgAABAgQIECBAgAABAgQIECBAgECkAgLeSBunbAIECBAgQIAAAQIECBAgQIAAAQIECAh4zQECBAgQIECAAAECBAgQIECAAAECBAhEKiDgjbRxyiZAgAABAgQIECBAgAABAgQIECBAgICA1xwgQIAAAQIECBAgQIAAAQIECBAgQIBApAIC3kgbp2wCBAgQIECAAAECBAgQIECAAAECBAgIeM0BAgQIECBAgAABAgQIECBAgAABAgQIRCog4I20ccomQIAAAQIECBAgQIAAAQIECBAgQICAgNccIECAAAECBAgQIECAAAECBAgQIECAQKQCAt5IG6dsAgQIECBAgAABAgQIECBAgAABAgQICHjNAQIECBAgQIAAAQIECBAgQIAAAQIECEQqIOCNtHHKJkCAAAECBAgQIECAAAECBAgQIECAgIDXHCBAgAABAgQIECBAgAABAgQIECBAgECkAgLeSBunbAIECBAgQIAAAQIECBAgQIAAAQIECAh4zQECBAgQIECAAAECBAgQIECAAAECBAhEKiDgjbRxyiZAgAABAgQIECBAgAABAgQIECBAgICA1xwgQIAAAQIECBAgQIAAAQIECBAgQIBApAIC3kgbp2wCBAgQIECAAAECBAgQIECAAAECBAgIeM0BAgQIECBAgAABAgQIECBAgAABAgQIRCog4I20ccomQIAAAQIECBAgQIAAAQIECBAgQICAgNccIECAAAECBAgQIECAAAECBAgQIECAQKQCAt5IG6dsAgQIECBAgAABAgQIECBAgAABAgQICHjNAQIECBAgQIAAAQIECBAgQIAAAQIECEQqIOCNtHHKJkCAAAECBAgQIECAAAECBAgQIECAgIDXHCBAgAABAgQIECBAgAABAgQIECBAgECkAgLeSBunbAIECBAgQIAAAQIECBAgQIAAAQIECAh4zQECBAgQIECAAAECBAgQIECAAAECBAhEKiDgjbRxyiZAgAABAgQIECBAgAABAgQIECBAgICA1xwgQIAAAQIECBAgQIAAAQIECBAgQIBApAIC3kgbp2wCBAgQIECAAAECBAgQIECAAAECBAgIeM0BAgQIECBAgAABAgQIECBAgAABAgQIRCog4I20ccomQIAAAQIECBAgQIAAAQIECBAgQICAgNccIECAAAECBAgQIECAAAECBAgQIECAQKQCAt5IG6dsAgQIECBAgAABAgQIECBAgAABAgQICHjNAQIECBAgQIAAAQIECBAgQIAAAQIECEQqIOCNtHHKJkCAAAECBAgQIECAAAECBAgQIECAgIDXHCBAgAABAgQIECBAgAABAgQIECBAgECkAgLeSBunbAIECBAgQIAAAQIECBAgQIAAAQIECAh4zQECBAgQIECAAAECBAgQIECAAAECBAhEKiDgjbRxyiZAgAABAgQIECBAgAABAgQIECBAgICA1xwgQIAAAQIECBAgQIAAAQIECBAgQIBApAIC3kgbp2wCBAgQIECAAAECBAgQIECAAAECBAgIeM0BAgQIECBAgAABAgQIECBAgAABAgQIRCog4I20ccomQIAAAQIECBAgQIAAAQIECBAgQICAgNccIECAAAECBAgQIECAAAECBAgQIECAQKQCAt5IG6dsAgQIECBAgAABAgQIECBAgAABAgQICHjNAQIECBAgQIAAAQIECBAgQIAAAQIECEQqIOCNtHHKJkCAAAECBAgQIECAAAECBAgQIECAgIDXHCBAgAABAgQIECBAgAABAgQIECBAgECkAgLeSBunbAIECBAgQIAAAQIECBAgQIAAAQIECAh4zQECBAgQIECAAAECBAgQIECAAAECBAhEKiDgjbRxyiZAgAABAgQIECBAgAABAgQIECBAgICA1xwgQIAAAQIECBAgQIAAAQIECBAgQIBApAIC3kgbp2wCBAgQIECAAAECBAgQIECAAAECBAgIeM0BAgQIECBAgAABAgQIECBAgAABAgQIRCog4I20ccomQIAAAQIECBAgQIAAAQIECBAgQICAgNccIECAAAECBAgQIECAAAECBAgQIECAQKQCAt5IG6dsAgQIECBAgAABAgQIECBAgAABAgQICHjNAQIECBAgQIAAAQIECBAgQIAAAQIECEQqIOCNtHHKJkCAAAECBAgQIECAAAECBAgQIECAgIDXHCBAgAABAgQIECBAgAABAgQIECBAgECkAgLeSBunbAIECBAgQIAAAQIECBAgQIAAAQIECAh4zQECBAgQIECAAAECBAgQIECAAAECBAhEKiDgjbRxyiZAgAABAgQIECBAgAABAgQIECBAgICA1xwgQIAAAQIECBAgQIAAAQIECBAgQIBApAIC3kgbp2wCBAgQIECAAAECBAgQIECAAAECBAgIeM0BAgQIECBAgAABAgQIECBAgAABAgQIRCog4I20ccomQIAAAQIECBAgQIAAAQIECBAgQICAgNccIECAAAECBAgQIECAAAECBAgQIECAQKQCAt5IG6dsAgQIECBAgAABAgQIECBAgAABAgQICHjNAQIECBAgQIAAAQIECBAgQIAAAQIECEQqIOCNtHHKJkCAAAECBAgQIECAAAECBAgQIECAgIDXHCBAgAABAgQIECBAgAABAgQIECBAgECkAgLeSBunbAIECBAgQIAAAQIECBAgQIAAAQIECAh4zQECBAgQIECAAAECBAgQIECAAAECBAhEKiDgjbRxyiZAgAABAgQIECBAgAABAgQIECBAgICA1xwgQIAAAQIECBAgQIAAAQIECBAgQIBApAIC3kgbp2wCBAgQIECAAAECBAgQIECAAAECBAgIeM0BAgQIECBAgAABAgQIECBAgAABAgQIRCog4I20ccomQIAAAQIECBAgQIAAAQIECBAgQICAgNccIECAAAECBAgQIECAAAECBAgQIECAQKQCAt5IG6dsAgQIECBAgAABAgQIECBAgAABAgQICHjNAQIECBAgQIAAAQIECBAgQIAAAQIECEQqIOCNtHHKJkCAAAECBAgQIECAAAECBAgQIECAgIDXHCBAgAABAgQIECBAgAABAgQIECBAgECkAgLeSBunbAIECBAgQIAAAQIECBAgQIAAAQIECAh4zQECBAgQIECAAAECBAgQIECAAAECBAhEKiDgjbRxyiZAgAABAgQIECBAgAABAgQIECBAgICA1xwgQIAAAQIECBAgQIAAAQIECBAgQIBApAIC3kgbp2wCBAgQIECAAAECBAgQIECAAAECBAgIeM0BAgQIECBAgAABAgQIECBAgAABAgQIRCog4I20ccomQIAAAQIECBAgQIAAAQIECBAgQICAgNccIECAAAECBAgQIECAAAECBAgQIECAQKQCAt5IG6dsAgQIECBAgAABAgQIECBAgAABAgQICHjNAQIECBAgQIAAAQIECBAgQIAAAQIECEQqIOCNtHHKJkCAAAECBAgQIECAAAECBAgQIECAgIDXHCBAgAABAgQIECBAgAABAgQIECBAgECkAgLeSBunbAIECBAgQIAAAQIECBAgQIAAAQIECAh4zQECBAgQIECAAAECBAgQIECAAAECBAhEKiDgjbRxyiZAgAABAgQIECBAgAABAgQIECBAgICA1xwgQIAAAQIECBAgQIAAAQIECBAgQIBApAIC3kgbp2wCBAgQIECAAAECBAgQIECAAAECBAgIeM0BAgQIECBAgAABAgQIECBAgAABAgQIRCog4I20ccomQIAAAQIECBAgQIAAAQIECBAgQICAgNccIECAAAECBAgQIECAAAECBAgQIECAQKQCAt5IG6dsAgQIECBAgAABAgQIECBAgAABAgQICHjNAQIECBAgQIAAAQIECBAgQIAAAQIECEQqIOCNtHHKJkCAAAECBAgQIECAAAECBAgQIECAgIDXHCBAgAABAgQIECBAgAABAgQIECBAgECkAgLeSBunbAIECBAgQIAAAQIECBAgQIAAAQIECAh4zQECBAgQIECAAAECBAgQIECAAAECBAhEKiDgjbRxyiZAgAABAgQIECBAgAABAgQIECBAgICA1xwgQIAAAQIECBAgQIAAAQIECBAgQIBApAIC3kgbp2wCBAgQIECAAAECBAgQIECAAAECBAgIeM0BAgQIECBAgAABAgQIECBAgAABAgQIRCog4I20ccomQIAAAQIECBAgQIAAAQIECBAgQICAgNccIECAAAECBAgQIECAAAECBAgQIECAQKQCAt5IG6dsAgQIECBAgAABAgQIECBAgAABAgQICHjNAQIECBAgQIAAAQIECBAgQIAAAQIECEQqIOCNtHHKJkCAAAECBAgQIECAAAECBAgQIECAgIDXHCBAgAABAgQIECBAgAABAgQIECBAgECkAgLeSBunbAIECBAgQIAAAQIECBAgQIAAAQIECAh4zQECBAgQIECAAAECBAgQIECAAAECBAhEKiDgjbRxyiZAgAABAgQIECBAgAABAgQIECBAgICA1xwgQIAAAQIECBAgQIAAAQIECBAgQIBApAIC3kgbp2wCBAgQIECAAAECBAgQIECAAAECBAj8f6TiyBXU8kBIAAAAAElFTkSuQmCC\" preserveAspectRatio=\"none\" x=\"0\" y=\"0\" width=\"700px\" height=\"500px\"/><image xmlns=\"http://www.w3.org/2000/svg\" xlink:href=\"data:image/png;base64,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\" preserveAspectRatio=\"none\" x=\"0\" y=\"0\" width=\"700px\" height=\"500px\"/></g><defs id=\"topdefs-90238b\"><g class=\"clips\"/><clipPath id=\"legend90238b\"><rect width=\"174\" height=\"320\" x=\"0\" y=\"0\"/></clipPath></defs><g class=\"layer-above\"><g class=\"imagelayer\"/><g class=\"shapelayer\"/></g><g class=\"infolayer\"><g class=\"legend\" pointer-events=\"all\" transform=\"translate(513.5,100)\"><rect class=\"bg\" shape-rendering=\"crispEdges\" width=\"174\" height=\"320\" x=\"0\" y=\"0\" style=\"stroke: rgb(68, 68, 68); stroke-opacity: 1; fill: rgb(255, 255, 255); fill-opacity: 1; stroke-width: 0px;\"/><g class=\"scrollbox\" transform=\"\" clip-path=\"url(#legend90238b)\"><text class=\"legendtitletext\" text-anchor=\"start\" x=\"2\" y=\"18.2\" style=\"font-family: 'Open Sans', verdana, arial, sans-serif; font-size: 14px; fill: rgb(42, 63, 95); fill-opacity: 1; white-space: pre;\">province</text><g class=\"groups\" transform=\"\"><g class=\"traces\" transform=\"translate(0,32.7)\" style=\"opacity: 1;\"><text class=\"legendtext\" text-anchor=\"start\" x=\"40\" y=\"4.680000000000001\" style=\"font-family: 'Open Sans', verdana, arial, sans-serif; font-size: 12px; fill: rgb(42, 63, 95); fill-opacity: 1; white-space: pre;\">Seoul</text><g class=\"layers\" style=\"opacity: 1;\"><g class=\"legendfill\"/><g class=\"legendlines\"><path class=\"js-line\" d=\"M5,0h30\" style=\"fill: none; stroke: rgb(99, 110, 250); stroke-opacity: 1; stroke-width: 2px;\"/></g><g class=\"legendsymbols\"><g class=\"legendpoints\"/></g></g><rect class=\"legendtoggle\" x=\"0\" y=\"-9.5\" width=\"168.671875\" height=\"19\" style=\"fill: rgb(0, 0, 0); fill-opacity: 0;\"/></g></g><g class=\"groups\" transform=\"\"><g class=\"traces\" transform=\"translate(0,51.7)\" style=\"opacity: 1;\"><text class=\"legendtext\" text-anchor=\"start\" x=\"40\" y=\"4.680000000000001\" style=\"font-family: 'Open Sans', verdana, arial, sans-serif; font-size: 12px; fill: rgb(42, 63, 95); fill-opacity: 1; white-space: pre;\">Busan</text><g class=\"layers\" style=\"opacity: 1;\"><g class=\"legendfill\"/><g class=\"legendlines\"><path class=\"js-line\" d=\"M5,0h30\" style=\"fill: none; stroke: rgb(239, 85, 59); stroke-opacity: 1; stroke-width: 2px;\"/></g><g class=\"legendsymbols\"><g class=\"legendpoints\"/></g></g><rect class=\"legendtoggle\" x=\"0\" y=\"-9.5\" width=\"168.671875\" height=\"19\" style=\"fill: rgb(0, 0, 0); fill-opacity: 0;\"/></g></g><g class=\"groups\" transform=\"\"><g class=\"traces\" transform=\"translate(0,70.7)\" style=\"opacity: 1;\"><text class=\"legendtext\" text-anchor=\"start\" x=\"40\" y=\"4.680000000000001\" style=\"font-family: 'Open Sans', verdana, arial, sans-serif; font-size: 12px; fill: rgb(42, 63, 95); fill-opacity: 1; white-space: pre;\">Daegu</text><g class=\"layers\" style=\"opacity: 1;\"><g class=\"legendfill\"/><g class=\"legendlines\"><path class=\"js-line\" d=\"M5,0h30\" style=\"fill: none; stroke: rgb(0, 204, 150); stroke-opacity: 1; stroke-width: 2px;\"/></g><g class=\"legendsymbols\"><g class=\"legendpoints\"/></g></g><rect class=\"legendtoggle\" x=\"0\" y=\"-9.5\" width=\"168.671875\" height=\"19\" style=\"fill: rgb(0, 0, 0); fill-opacity: 0;\"/></g></g><g class=\"groups\" transform=\"\"><g class=\"traces\" transform=\"translate(0,89.7)\" style=\"opacity: 1;\"><text class=\"legendtext\" text-anchor=\"start\" x=\"40\" y=\"4.680000000000001\" style=\"font-family: 'Open Sans', verdana, arial, sans-serif; font-size: 12px; fill: rgb(42, 63, 95); fill-opacity: 1; white-space: pre;\">Incheon</text><g class=\"layers\" style=\"opacity: 1;\"><g class=\"legendfill\"/><g class=\"legendlines\"><path class=\"js-line\" d=\"M5,0h30\" style=\"fill: none; stroke: rgb(171, 99, 250); stroke-opacity: 1; stroke-width: 2px;\"/></g><g class=\"legendsymbols\"><g class=\"legendpoints\"/></g></g><rect class=\"legendtoggle\" x=\"0\" y=\"-9.5\" width=\"168.671875\" height=\"19\" style=\"fill: rgb(0, 0, 0); fill-opacity: 0;\"/></g></g><g class=\"groups\" transform=\"\"><g class=\"traces\" transform=\"translate(0,108.7)\" style=\"opacity: 1;\"><text class=\"legendtext\" text-anchor=\"start\" x=\"40\" y=\"4.680000000000001\" style=\"font-family: 'Open Sans', verdana, arial, sans-serif; font-size: 12px; fill: rgb(42, 63, 95); fill-opacity: 1; white-space: pre;\">Gwangju</text><g class=\"layers\" style=\"opacity: 1;\"><g class=\"legendfill\"/><g class=\"legendlines\"><path class=\"js-line\" d=\"M5,0h30\" style=\"fill: none; stroke: rgb(255, 161, 90); stroke-opacity: 1; stroke-width: 2px;\"/></g><g class=\"legendsymbols\"><g class=\"legendpoints\"/></g></g><rect class=\"legendtoggle\" x=\"0\" y=\"-9.5\" width=\"168.671875\" height=\"19\" style=\"fill: rgb(0, 0, 0); fill-opacity: 0;\"/></g></g><g class=\"groups\" transform=\"\"><g class=\"traces\" transform=\"translate(0,127.7)\" style=\"opacity: 1;\"><text class=\"legendtext\" text-anchor=\"start\" x=\"40\" y=\"4.680000000000001\" style=\"font-family: 'Open Sans', verdana, arial, sans-serif; font-size: 12px; fill: rgb(42, 63, 95); fill-opacity: 1; white-space: pre;\">Daejeon</text><g class=\"layers\" style=\"opacity: 1;\"><g class=\"legendfill\"/><g class=\"legendlines\"><path class=\"js-line\" d=\"M5,0h30\" style=\"fill: none; stroke: rgb(25, 211, 243); stroke-opacity: 1; stroke-width: 2px;\"/></g><g class=\"legendsymbols\"><g class=\"legendpoints\"/></g></g><rect class=\"legendtoggle\" x=\"0\" y=\"-9.5\" width=\"168.671875\" height=\"19\" style=\"fill: rgb(0, 0, 0); fill-opacity: 0;\"/></g></g><g class=\"groups\" transform=\"\"><g class=\"traces\" transform=\"translate(0,146.7)\" style=\"opacity: 1;\"><text class=\"legendtext\" text-anchor=\"start\" x=\"40\" y=\"4.680000000000001\" style=\"font-family: 'Open Sans', verdana, arial, sans-serif; font-size: 12px; fill: rgb(42, 63, 95); fill-opacity: 1; white-space: pre;\">Ulsan</text><g class=\"layers\" style=\"opacity: 1;\"><g class=\"legendfill\"/><g class=\"legendlines\"><path class=\"js-line\" d=\"M5,0h30\" style=\"fill: none; stroke: rgb(255, 102, 146); stroke-opacity: 1; stroke-width: 2px;\"/></g><g class=\"legendsymbols\"><g class=\"legendpoints\"/></g></g><rect class=\"legendtoggle\" x=\"0\" y=\"-9.5\" width=\"168.671875\" height=\"19\" style=\"fill: rgb(0, 0, 0); fill-opacity: 0;\"/></g></g><g class=\"groups\" transform=\"\"><g class=\"traces\" transform=\"translate(0,165.7)\" style=\"opacity: 1;\"><text class=\"legendtext\" text-anchor=\"start\" x=\"40\" y=\"4.680000000000001\" style=\"font-family: 'Open Sans', verdana, arial, sans-serif; font-size: 12px; fill: rgb(42, 63, 95); fill-opacity: 1; white-space: pre;\">Sejong</text><g class=\"layers\" style=\"opacity: 1;\"><g class=\"legendfill\"/><g class=\"legendlines\"><path class=\"js-line\" d=\"M5,0h30\" style=\"fill: none; stroke: rgb(182, 232, 128); stroke-opacity: 1; stroke-width: 2px;\"/></g><g class=\"legendsymbols\"><g class=\"legendpoints\"/></g></g><rect class=\"legendtoggle\" x=\"0\" y=\"-9.5\" width=\"168.671875\" height=\"19\" style=\"fill: rgb(0, 0, 0); fill-opacity: 0;\"/></g></g><g class=\"groups\" transform=\"\"><g class=\"traces\" transform=\"translate(0,184.7)\" style=\"opacity: 1;\"><text class=\"legendtext\" text-anchor=\"start\" x=\"40\" y=\"4.680000000000001\" style=\"font-family: 'Open Sans', verdana, arial, sans-serif; font-size: 12px; fill: rgb(42, 63, 95); fill-opacity: 1; white-space: pre;\">Gyeonggi-do</text><g class=\"layers\" style=\"opacity: 1;\"><g class=\"legendfill\"/><g class=\"legendlines\"><path class=\"js-line\" d=\"M5,0h30\" style=\"fill: none; stroke: rgb(255, 151, 255); stroke-opacity: 1; stroke-width: 2px;\"/></g><g class=\"legendsymbols\"><g class=\"legendpoints\"/></g></g><rect class=\"legendtoggle\" x=\"0\" y=\"-9.5\" width=\"168.671875\" height=\"19\" style=\"fill: rgb(0, 0, 0); fill-opacity: 0;\"/></g></g><g class=\"groups\" transform=\"\"><g class=\"traces\" transform=\"translate(0,203.7)\" style=\"opacity: 1;\"><text class=\"legendtext\" text-anchor=\"start\" x=\"40\" y=\"4.680000000000001\" style=\"font-family: 'Open Sans', verdana, arial, sans-serif; font-size: 12px; fill: rgb(42, 63, 95); fill-opacity: 1; white-space: pre;\">Gangwon-do</text><g class=\"layers\" style=\"opacity: 1;\"><g class=\"legendfill\"/><g class=\"legendlines\"><path class=\"js-line\" d=\"M5,0h30\" style=\"fill: none; stroke: rgb(254, 203, 82); stroke-opacity: 1; stroke-width: 2px;\"/></g><g class=\"legendsymbols\"><g class=\"legendpoints\"/></g></g><rect class=\"legendtoggle\" x=\"0\" y=\"-9.5\" width=\"168.671875\" height=\"19\" style=\"fill: rgb(0, 0, 0); fill-opacity: 0;\"/></g></g><g class=\"groups\" transform=\"\"><g class=\"traces\" transform=\"translate(0,222.7)\" style=\"opacity: 1;\"><text class=\"legendtext\" text-anchor=\"start\" x=\"40\" y=\"4.680000000000001\" style=\"font-family: 'Open Sans', verdana, arial, sans-serif; font-size: 12px; fill: rgb(42, 63, 95); fill-opacity: 1; white-space: pre;\">Chungcheongbuk-do</text><g class=\"layers\" style=\"opacity: 1;\"><g class=\"legendfill\"/><g class=\"legendlines\"><path class=\"js-line\" d=\"M5,0h30\" style=\"fill: none; stroke: rgb(99, 110, 250); stroke-opacity: 1; stroke-width: 2px;\"/></g><g class=\"legendsymbols\"><g class=\"legendpoints\"/></g></g><rect class=\"legendtoggle\" x=\"0\" y=\"-9.5\" width=\"168.671875\" height=\"19\" style=\"fill: rgb(0, 0, 0); fill-opacity: 0;\"/></g></g><g class=\"groups\" transform=\"\"><g class=\"traces\" transform=\"translate(0,241.7)\" style=\"opacity: 1;\"><text class=\"legendtext\" text-anchor=\"start\" x=\"40\" y=\"4.680000000000001\" style=\"font-family: 'Open Sans', verdana, arial, sans-serif; font-size: 12px; fill: rgb(42, 63, 95); fill-opacity: 1; white-space: pre;\">Chungcheongnam-do</text><g class=\"layers\" style=\"opacity: 1;\"><g class=\"legendfill\"/><g class=\"legendlines\"><path class=\"js-line\" d=\"M5,0h30\" style=\"fill: none; stroke: rgb(239, 85, 59); stroke-opacity: 1; stroke-width: 2px;\"/></g><g class=\"legendsymbols\"><g class=\"legendpoints\"/></g></g><rect class=\"legendtoggle\" x=\"0\" y=\"-9.5\" width=\"168.671875\" height=\"19\" style=\"fill: rgb(0, 0, 0); fill-opacity: 0;\"/></g></g><g class=\"groups\" transform=\"\"><g class=\"traces\" transform=\"translate(0,260.7)\" style=\"opacity: 1;\"><text class=\"legendtext\" text-anchor=\"start\" x=\"40\" y=\"4.680000000000001\" style=\"font-family: 'Open Sans', verdana, arial, sans-serif; font-size: 12px; fill: rgb(42, 63, 95); fill-opacity: 1; white-space: pre;\">Jeollabuk-do</text><g class=\"layers\" style=\"opacity: 1;\"><g class=\"legendfill\"/><g class=\"legendlines\"><path class=\"js-line\" d=\"M5,0h30\" style=\"fill: none; stroke: rgb(0, 204, 150); stroke-opacity: 1; stroke-width: 2px;\"/></g><g class=\"legendsymbols\"><g class=\"legendpoints\"/></g></g><rect class=\"legendtoggle\" x=\"0\" y=\"-9.5\" width=\"168.671875\" height=\"19\" style=\"fill: rgb(0, 0, 0); fill-opacity: 0;\"/></g></g><g class=\"groups\" transform=\"\"><g class=\"traces\" transform=\"translate(0,279.7)\" style=\"opacity: 1;\"><text class=\"legendtext\" text-anchor=\"start\" x=\"40\" y=\"4.680000000000001\" style=\"font-family: 'Open Sans', verdana, arial, sans-serif; font-size: 12px; fill: rgb(42, 63, 95); fill-opacity: 1; white-space: pre;\">Jeollanam-do</text><g class=\"layers\" style=\"opacity: 1;\"><g class=\"legendfill\"/><g class=\"legendlines\"><path class=\"js-line\" d=\"M5,0h30\" style=\"fill: none; stroke: rgb(171, 99, 250); stroke-opacity: 1; stroke-width: 2px;\"/></g><g class=\"legendsymbols\"><g class=\"legendpoints\"/></g></g><rect class=\"legendtoggle\" x=\"0\" y=\"-9.5\" width=\"168.671875\" height=\"19\" style=\"fill: rgb(0, 0, 0); fill-opacity: 0;\"/></g></g><g class=\"groups\" transform=\"\"><g class=\"traces\" transform=\"translate(0,298.7)\" style=\"opacity: 1;\"><text class=\"legendtext\" text-anchor=\"start\" x=\"40\" y=\"4.680000000000001\" style=\"font-family: 'Open Sans', verdana, arial, sans-serif; font-size: 12px; fill: rgb(42, 63, 95); fill-opacity: 1; white-space: pre;\">Gyeongsangbuk-do</text><g class=\"layers\" style=\"opacity: 1;\"><g class=\"legendfill\"/><g class=\"legendlines\"><path class=\"js-line\" d=\"M5,0h30\" style=\"fill: none; stroke: rgb(255, 161, 90); stroke-opacity: 1; stroke-width: 2px;\"/></g><g class=\"legendsymbols\"><g class=\"legendpoints\"/></g></g><rect class=\"legendtoggle\" x=\"0\" y=\"-9.5\" width=\"168.671875\" height=\"19\" style=\"fill: rgb(0, 0, 0); fill-opacity: 0;\"/></g></g><g class=\"groups\" transform=\"\"><g class=\"traces\" transform=\"translate(0,317.7)\" style=\"opacity: 1;\"><text class=\"legendtext\" text-anchor=\"start\" x=\"40\" y=\"4.680000000000001\" style=\"font-family: 'Open Sans', verdana, arial, sans-serif; font-size: 12px; fill: rgb(42, 63, 95); fill-opacity: 1; white-space: pre;\">Gyeongsangnam-do</text><g class=\"layers\" style=\"opacity: 1;\"><g class=\"legendfill\"/><g class=\"legendlines\"><path class=\"js-line\" d=\"M5,0h30\" style=\"fill: none; stroke: rgb(25, 211, 243); stroke-opacity: 1; stroke-width: 2px;\"/></g><g class=\"legendsymbols\"><g class=\"legendpoints\"/></g></g><rect class=\"legendtoggle\" x=\"0\" y=\"-9.5\" width=\"168.671875\" height=\"19\" style=\"fill: rgb(0, 0, 0); fill-opacity: 0;\"/></g></g><g class=\"groups\" transform=\"\"><g class=\"traces\" transform=\"translate(0,336.7)\" style=\"opacity: 1;\"><text class=\"legendtext\" text-anchor=\"start\" x=\"40\" y=\"4.680000000000001\" style=\"font-family: 'Open Sans', verdana, arial, sans-serif; font-size: 12px; fill: rgb(42, 63, 95); fill-opacity: 1; white-space: pre;\">Jeju-do</text><g class=\"layers\" style=\"opacity: 1;\"><g class=\"legendfill\"/><g class=\"legendlines\"><path class=\"js-line\" d=\"M5,0h30\" style=\"fill: none; stroke: rgb(255, 102, 146); stroke-opacity: 1; stroke-width: 2px;\"/></g><g class=\"legendsymbols\"><g class=\"legendpoints\"/></g></g><rect class=\"legendtoggle\" x=\"0\" y=\"-9.5\" width=\"168.671875\" height=\"19\" style=\"fill: rgb(0, 0, 0); fill-opacity: 0;\"/></g></g></g><rect class=\"scrollbar\" rx=\"20\" ry=\"3\" width=\"0\" height=\"0\" x=\"0\" y=\"0\" style=\"fill: rgb(128, 139, 164); fill-opacity: 1;\"/></g><g class=\"g-gtitle\"><text class=\"gtitle\" x=\"35\" y=\"50\" text-anchor=\"start\" dy=\"0em\" style=\"font-family: 'Open Sans', verdana, arial, sans-serif; font-size: 17px; fill: rgb(42, 63, 95); opacity: 1; font-weight: normal; white-space: pre;\">Confirmed covid cases by province</text></g><g class=\"g-xtitle\"><text class=\"xtitle\" x=\"292.5\" y=\"459.8\" text-anchor=\"middle\" style=\"font-family: 'Open Sans', verdana, arial, sans-serif; font-size: 14px; fill: rgb(42, 63, 95); opacity: 1; font-weight: normal; white-space: pre;\">date</text></g><g class=\"g-ytitle\"><text class=\"ytitle\" transform=\"rotate(-90,24.184375000000003,260)\" x=\"24.184375000000003\" y=\"260\" text-anchor=\"middle\" style=\"font-family: 'Open Sans', verdana, arial, sans-serif; font-size: 14px; fill: rgb(42, 63, 95); opacity: 1; font-weight: normal; white-space: pre;\">confirmed</text></g></g></svg>"
      ]
     },
     "metadata": {},
     "output_type": "display_data"
    }
   ],
   "source": [
    "timeprovince_df.head()\n",
    "df = (\n",
    "    timeprovince_df[[\"province\", \"confirmed\", \"released\", \"deceased\", \"date\"]]\n",
    "    .groupby(by=[\"province\", \"date\"])\n",
    "    .sum()\n",
    ")\n",
    "# sns.lineplot(data=df,x='date',y='deceased');\n",
    "df.head()\n",
    "\n",
    "fig = px.line(\n",
    "    timeprovince_df,\n",
    "    x=\"date\",\n",
    "    y=\"deceased\",\n",
    "    color=\"province\",\n",
    "    title=\"Covid deaths by province\",\n",
    ")\n",
    "fig.show('svg')\n",
    "\n",
    "fig2 = px.line(\n",
    "    timeprovince_df,\n",
    "    x=\"date\",\n",
    "    y=\"confirmed\",\n",
    "    color=\"province\",\n",
    "    title=\"Confirmed covid cases by province\",\n",
    ")\n",
    "fig2.show('svg')"
   ]
  },
  {
   "cell_type": "markdown",
   "id": "36a0726c",
   "metadata": {},
   "source": [
    "As shown in our graphs before, Daegu has the lion's share of cases when compared to all other provinces in this timeframe, we'll need to dive further into what set Daegu apart from other regions. When comparing these two graphs side by side, we can see that cases in the region shot up before deaths did, which could point to demographic features specific to this region, such a higher proportion of young people or a higher density of treatment facilities for example. Next we'll take a look at group infections, i.e. clusters of simultaneous confirmed covid infections"
   ]
  },
  {
   "cell_type": "code",
   "execution_count": 20,
   "id": "3a9cfb9d",
   "metadata": {},
   "outputs": [
    {
     "data": {
      "text/html": [
       "<div>\n",
       "<style scoped>\n",
       "    .dataframe tbody tr th:only-of-type {\n",
       "        vertical-align: middle;\n",
       "    }\n",
       "\n",
       "    .dataframe tbody tr th {\n",
       "        vertical-align: top;\n",
       "    }\n",
       "\n",
       "    .dataframe thead th {\n",
       "        text-align: right;\n",
       "    }\n",
       "</style>\n",
       "<table border=\"1\" class=\"dataframe\">\n",
       "  <thead>\n",
       "    <tr style=\"text-align: right;\">\n",
       "      <th></th>\n",
       "      <th>confirmed</th>\n",
       "      <th>number_of_clusters</th>\n",
       "    </tr>\n",
       "    <tr>\n",
       "      <th>province</th>\n",
       "      <th></th>\n",
       "      <th></th>\n",
       "    </tr>\n",
       "  </thead>\n",
       "  <tbody>\n",
       "    <tr>\n",
       "      <th>Daegu</th>\n",
       "      <td>6680</td>\n",
       "      <td>10</td>\n",
       "    </tr>\n",
       "    <tr>\n",
       "      <th>Gyeongsangbuk-do</th>\n",
       "      <td>1324</td>\n",
       "      <td>13</td>\n",
       "    </tr>\n",
       "    <tr>\n",
       "      <th>Seoul</th>\n",
       "      <td>1280</td>\n",
       "      <td>38</td>\n",
       "    </tr>\n",
       "    <tr>\n",
       "      <th>Gyeonggi-do</th>\n",
       "      <td>1000</td>\n",
       "      <td>22</td>\n",
       "    </tr>\n",
       "    <tr>\n",
       "      <th>Incheon</th>\n",
       "      <td>202</td>\n",
       "      <td>7</td>\n",
       "    </tr>\n",
       "    <tr>\n",
       "      <th>Chungcheongnam-do</th>\n",
       "      <td>158</td>\n",
       "      <td>8</td>\n",
       "    </tr>\n",
       "    <tr>\n",
       "      <th>Busan</th>\n",
       "      <td>156</td>\n",
       "      <td>10</td>\n",
       "    </tr>\n",
       "    <tr>\n",
       "      <th>Gyeongsangnam-do</th>\n",
       "      <td>132</td>\n",
       "      <td>12</td>\n",
       "    </tr>\n",
       "    <tr>\n",
       "      <th>Daejeon</th>\n",
       "      <td>131</td>\n",
       "      <td>10</td>\n",
       "    </tr>\n",
       "    <tr>\n",
       "      <th>Gangwon-do</th>\n",
       "      <td>62</td>\n",
       "      <td>8</td>\n",
       "    </tr>\n",
       "    <tr>\n",
       "      <th>Chungcheongbuk-do</th>\n",
       "      <td>60</td>\n",
       "      <td>7</td>\n",
       "    </tr>\n",
       "    <tr>\n",
       "      <th>Ulsan</th>\n",
       "      <td>51</td>\n",
       "      <td>4</td>\n",
       "    </tr>\n",
       "    <tr>\n",
       "      <th>Sejong</th>\n",
       "      <td>49</td>\n",
       "      <td>6</td>\n",
       "    </tr>\n",
       "    <tr>\n",
       "      <th>Gwangju</th>\n",
       "      <td>43</td>\n",
       "      <td>5</td>\n",
       "    </tr>\n",
       "    <tr>\n",
       "      <th>Jeollanam-do</th>\n",
       "      <td>25</td>\n",
       "      <td>5</td>\n",
       "    </tr>\n",
       "    <tr>\n",
       "      <th>Jeollabuk-do</th>\n",
       "      <td>23</td>\n",
       "      <td>5</td>\n",
       "    </tr>\n",
       "    <tr>\n",
       "      <th>Jeju-do</th>\n",
       "      <td>19</td>\n",
       "      <td>4</td>\n",
       "    </tr>\n",
       "  </tbody>\n",
       "</table>\n",
       "</div>"
      ],
      "text/plain": [
       "                   confirmed  number_of_clusters\n",
       "province                                        \n",
       "Daegu                   6680                  10\n",
       "Gyeongsangbuk-do        1324                  13\n",
       "Seoul                   1280                  38\n",
       "Gyeonggi-do             1000                  22\n",
       "Incheon                  202                   7\n",
       "Chungcheongnam-do        158                   8\n",
       "Busan                    156                  10\n",
       "Gyeongsangnam-do         132                  12\n",
       "Daejeon                  131                  10\n",
       "Gangwon-do                62                   8\n",
       "Chungcheongbuk-do         60                   7\n",
       "Ulsan                     51                   4\n",
       "Sejong                    49                   6\n",
       "Gwangju                   43                   5\n",
       "Jeollanam-do              25                   5\n",
       "Jeollabuk-do              23                   5\n",
       "Jeju-do                   19                   4"
      ]
     },
     "execution_count": 20,
     "metadata": {},
     "output_type": "execute_result"
    }
   ],
   "source": [
    "# Sum number of cluster cases by province\n",
    "province_case_clusters_df = case_df.groupby(\"province\").sum()\n",
    "province_case_clusters_df.sort_values(by=\"province\", inplace=True)\n",
    "\n",
    "\n",
    "# Determine number of covid clusters per region\n",
    "number_of_clusters = case_df.groupby(\"province\").count()\n",
    "number_of_clusters.sort_values(by=\"province\", inplace=True)\n",
    "\n",
    "# Cut out extraneous columns, we only want the case_id counts here\n",
    "number_of_clusters.iloc[:, 0]\n",
    "\n",
    "# Add the cluster counts to the province case clusters df as a column\n",
    "province_case_clusters_df[\"number_of_clusters\"] = number_of_clusters.iloc[:, 0]\n",
    "\n",
    "# Pare down columns to just the confirmed cases and number of clusters\n",
    "province_case_clusters_df = province_case_clusters_df.iloc[:, [4, 7]]\n",
    "\n",
    "# Sort by decreasing case counts\n",
    "province_case_clusters_df.sort_values(\n",
    "    by=\"confirmed\", ascending=False, inplace=True)\n",
    "province_case_clusters_df"
   ]
  },
  {
   "cell_type": "markdown",
   "id": "26cfeb49",
   "metadata": {},
   "source": [
    "Here we can see the basis for such high case numbers in Daegu compared to the other regions. Even though there were more clusters accounted for in Seoul, Daegu had such a massive number of cases overall, which drove the virus' spread there. For scale, we can see how marked the difference in magnitude was for this region compared to all others in the country. "
   ]
  },
  {
   "cell_type": "code",
   "execution_count": 49,
   "id": "b01216ad",
   "metadata": {},
   "outputs": [
    {
     "data": {
      "image/svg+xml": [
       "<svg class=\"main-svg\" xmlns=\"http://www.w3.org/2000/svg\" xmlns:xlink=\"http://www.w3.org/1999/xlink\" width=\"700\" height=\"500\" style=\"\" viewBox=\"0 0 700 500\"><rect x=\"0\" y=\"0\" width=\"700\" height=\"500\" style=\"fill: rgb(255, 255, 255); fill-opacity: 1;\"/><defs id=\"defs-5b753b\"><g class=\"clips\"><clipPath id=\"clip5b753bxyplot\" class=\"plotclip\"><rect width=\"462\" height=\"228\"/></clipPath><clipPath class=\"axesclip\" id=\"clip5b753bx\"><rect x=\"80\" y=\"0\" width=\"462\" height=\"500\"/></clipPath><clipPath class=\"axesclip\" id=\"clip5b753by\"><rect x=\"0\" y=\"100\" width=\"700\" height=\"228\"/></clipPath><clipPath class=\"axesclip\" id=\"clip5b753bxy\"><rect x=\"80\" y=\"100\" width=\"462\" height=\"228\"/></clipPath></g><g class=\"gradients\"><linearGradient x1=\"0\" x2=\"0\" y1=\"1\" y2=\"0\" id=\"g5b753b-cbcoloraxis\"><stop offset=\"0%\" stop-color=\"rgb(13, 8, 135)\" stop-opacity=\"1\"/><stop offset=\"11.111111%\" stop-color=\"rgb(70, 3, 159)\" stop-opacity=\"1\"/><stop offset=\"22.222222%\" stop-color=\"rgb(114, 1, 168)\" stop-opacity=\"1\"/><stop offset=\"33.333333%\" stop-color=\"rgb(156, 23, 158)\" stop-opacity=\"1\"/><stop offset=\"44.444444%\" stop-color=\"rgb(189, 55, 134)\" stop-opacity=\"1\"/><stop offset=\"55.555556%\" stop-color=\"rgb(216, 87, 107)\" stop-opacity=\"1\"/><stop offset=\"66.666667%\" stop-color=\"rgb(237, 121, 83)\" stop-opacity=\"1\"/><stop offset=\"77.777778%\" stop-color=\"rgb(251, 159, 58)\" stop-opacity=\"1\"/><stop offset=\"88.888889%\" stop-color=\"rgb(253, 202, 38)\" stop-opacity=\"1\"/><stop offset=\"100%\" stop-color=\"rgb(240, 249, 33)\" stop-opacity=\"1\"/></linearGradient></g><g class=\"patterns\"/></defs><g class=\"bglayer\"><rect class=\"bg\" x=\"80\" y=\"100\" width=\"462\" height=\"228\" style=\"fill: rgb(229, 236, 246); fill-opacity: 1; stroke-width: 0;\"/></g><g class=\"layer-below\"><g class=\"imagelayer\"/><g class=\"shapelayer\"/></g><g class=\"cartesianlayer\"><g class=\"subplot xy\"><g class=\"layer-subplot\"><g class=\"shapelayer\"/><g class=\"imagelayer\"/></g><g class=\"minor-gridlayer\"><g class=\"x\"/><g class=\"y\"/></g><g class=\"gridlayer\"><g class=\"x\"/><g class=\"y\"><path class=\"ygrid crisp\" transform=\"translate(0,263.15)\" d=\"M80,0h462\" style=\"stroke: rgb(255, 255, 255); stroke-opacity: 1; stroke-width: 1px;\"/><path class=\"ygrid crisp\" transform=\"translate(0,198.3)\" d=\"M80,0h462\" style=\"stroke: rgb(255, 255, 255); stroke-opacity: 1; stroke-width: 1px;\"/><path class=\"ygrid crisp\" transform=\"translate(0,133.45)\" d=\"M80,0h462\" style=\"stroke: rgb(255, 255, 255); stroke-opacity: 1; stroke-width: 1px;\"/></g></g><g class=\"zerolinelayer\"><path class=\"yzl zl crisp\" transform=\"translate(0,328)\" d=\"M80,0h462\" style=\"stroke: rgb(255, 255, 255); stroke-opacity: 1; stroke-width: 2px;\"/></g><path class=\"xlines-below\"/><path class=\"ylines-below\"/><g class=\"overlines-below\"/><g class=\"xaxislayer-below\"/><g class=\"yaxislayer-below\"/><g class=\"overaxes-below\"/><g class=\"plot\" transform=\"translate(80,100)\" clip-path=\"url(#clip5b753bxyplot)\"><g class=\"barlayer mlayer\"><g class=\"trace bars\" style=\"opacity: 1;\"><g class=\"points\"><g class=\"point\"><path d=\"M2.72,228V11.4H24.46V228Z\" style=\"vector-effect: none; opacity: 1; stroke-width: 0.5px; fill: rgb(240, 249, 33); fill-opacity: 1; stroke: rgb(229, 236, 246); stroke-opacity: 1;\"/></g><g class=\"point\"><path d=\"M29.89,228V185.07H51.64V228Z\" style=\"vector-effect: none; opacity: 1; stroke-width: 0.5px; fill: rgb(104, 1, 166); fill-opacity: 1; stroke: rgb(229, 236, 246); stroke-opacity: 1;\"/></g><g class=\"point\"><path d=\"M57.07,228V186.5H78.81V228Z\" style=\"vector-effect: none; opacity: 1; stroke-width: 0.5px; fill: rgb(101, 2, 165); fill-opacity: 1; stroke: rgb(229, 236, 246); stroke-opacity: 1;\"/></g><g class=\"point\"><path d=\"M84.25,228V195.57H105.99V228Z\" style=\"vector-effect: none; opacity: 1; stroke-width: 0.5px; fill: rgb(84, 2, 162); fill-opacity: 1; stroke: rgb(229, 236, 246); stroke-opacity: 1;\"/></g><g class=\"point\"><path d=\"M111.42,228V221.45H133.16V228Z\" style=\"vector-effect: none; opacity: 1; stroke-width: 0.5px; fill: rgb(27, 7, 141); fill-opacity: 1; stroke: rgb(229, 236, 246); stroke-opacity: 1;\"/></g><g class=\"point\"><path d=\"M138.6,228V222.88H160.34V228Z\" style=\"vector-effect: none; opacity: 1; stroke-width: 0.5px; fill: rgb(24, 7, 140); fill-opacity: 1; stroke: rgb(229, 236, 246); stroke-opacity: 1;\"/></g><g class=\"point\"><path d=\"M165.78,228V222.94H187.52V228Z\" style=\"vector-effect: none; opacity: 1; stroke-width: 0.5px; fill: rgb(24, 7, 139); fill-opacity: 1; stroke: rgb(229, 236, 246); stroke-opacity: 1;\"/></g><g class=\"point\"><path d=\"M192.95,228V223.72H214.69V228Z\" style=\"vector-effect: none; opacity: 1; stroke-width: 0.5px; fill: rgb(22, 7, 139); fill-opacity: 1; stroke: rgb(229, 236, 246); stroke-opacity: 1;\"/></g><g class=\"point\"><path d=\"M220.13,228V223.75H241.87V228Z\" style=\"vector-effect: none; opacity: 1; stroke-width: 0.5px; fill: rgb(22, 7, 139); fill-opacity: 1; stroke: rgb(229, 236, 246); stroke-opacity: 1;\"/></g><g class=\"point\"><path d=\"M247.31,228V225.99H269.05V228Z\" style=\"vector-effect: none; opacity: 1; stroke-width: 0.5px; fill: rgb(16, 8, 136); fill-opacity: 1; stroke: rgb(229, 236, 246); stroke-opacity: 1;\"/></g><g class=\"point\"><path d=\"M274.48,228V226.05H296.22V228Z\" style=\"vector-effect: none; opacity: 1; stroke-width: 0.5px; fill: rgb(16, 8, 136); fill-opacity: 1; stroke: rgb(229, 236, 246); stroke-opacity: 1;\"/></g><g class=\"point\"><path d=\"M301.66,228V226.35H323.4V228Z\" style=\"vector-effect: none; opacity: 1; stroke-width: 0.5px; fill: rgb(15, 8, 136); fill-opacity: 1; stroke: rgb(229, 236, 246); stroke-opacity: 1;\"/></g><g class=\"point\"><path d=\"M328.84,228V226.41H350.58V228Z\" style=\"vector-effect: none; opacity: 1; stroke-width: 0.5px; fill: rgb(15, 8, 136); fill-opacity: 1; stroke: rgb(229, 236, 246); stroke-opacity: 1;\"/></g><g class=\"point\"><path d=\"M356.01,228V226.61H377.75V228Z\" style=\"vector-effect: none; opacity: 1; stroke-width: 0.5px; fill: rgb(15, 8, 136); fill-opacity: 1; stroke: rgb(229, 236, 246); stroke-opacity: 1;\"/></g><g class=\"point\"><path d=\"M383.19,228V227.19H404.93V228Z\" style=\"vector-effect: none; opacity: 1; stroke-width: 0.5px; fill: rgb(13, 8, 135); fill-opacity: 1; stroke: rgb(229, 236, 246); stroke-opacity: 1;\"/></g><g class=\"point\"><path d=\"M410.36,228V227.25H432.11V228Z\" style=\"vector-effect: none; opacity: 1; stroke-width: 0.5px; fill: rgb(13, 8, 135); fill-opacity: 1; stroke: rgb(229, 236, 246); stroke-opacity: 1;\"/></g><g class=\"point\"><path d=\"M437.54,228V227.38H459.28V228Z\" style=\"vector-effect: none; opacity: 1; stroke-width: 0.5px; fill: rgb(13, 8, 135); fill-opacity: 1; stroke: rgb(229, 236, 246); stroke-opacity: 1;\"/></g></g></g></g></g><g class=\"overplot\"/><path class=\"xlines-above crisp\" d=\"M0,0\" style=\"fill: none;\"/><path class=\"ylines-above crisp\" d=\"M0,0\" style=\"fill: none;\"/><g class=\"overlines-above\"/><g class=\"xaxislayer-above\"><g class=\"xtick\"><text text-anchor=\"start\" x=\"0\" y=\"341\" transform=\"translate(93.59,0) rotate(90,0,335)\" style=\"font-family: 'Open Sans', verdana, arial, sans-serif; font-size: 12px; fill: rgb(42, 63, 95); fill-opacity: 1; white-space: pre; opacity: 1;\">Daegu</text></g><g class=\"xtick\"><text text-anchor=\"start\" x=\"0\" y=\"341\" transform=\"translate(120.75999999999999,0) rotate(90,0,335)\" style=\"font-family: 'Open Sans', verdana, arial, sans-serif; font-size: 12px; fill: rgb(42, 63, 95); fill-opacity: 1; white-space: pre; opacity: 1;\">Gyeongsangbuk-do</text></g><g class=\"xtick\"><text text-anchor=\"start\" x=\"0\" y=\"341\" transform=\"translate(147.94,0) rotate(90,0,335)\" style=\"font-family: 'Open Sans', verdana, arial, sans-serif; font-size: 12px; fill: rgb(42, 63, 95); fill-opacity: 1; white-space: pre; opacity: 1;\">Seoul</text></g><g class=\"xtick\"><text text-anchor=\"start\" x=\"0\" y=\"341\" transform=\"translate(175.12,0) rotate(90,0,335)\" style=\"font-family: 'Open Sans', verdana, arial, sans-serif; font-size: 12px; fill: rgb(42, 63, 95); fill-opacity: 1; white-space: pre; opacity: 1;\">Gyeonggi-do</text></g><g class=\"xtick\"><text text-anchor=\"start\" x=\"0\" y=\"341\" transform=\"translate(202.29000000000002,0) rotate(90,0,335)\" style=\"font-family: 'Open Sans', verdana, arial, sans-serif; font-size: 12px; fill: rgb(42, 63, 95); fill-opacity: 1; white-space: pre; opacity: 1;\">Incheon</text></g><g class=\"xtick\"><text text-anchor=\"start\" x=\"0\" y=\"341\" transform=\"translate(229.47,0) rotate(90,0,335)\" style=\"font-family: 'Open Sans', verdana, arial, sans-serif; font-size: 12px; fill: rgb(42, 63, 95); fill-opacity: 1; white-space: pre; opacity: 1;\">Chungcheongnam-do</text></g><g class=\"xtick\"><text text-anchor=\"start\" x=\"0\" y=\"341\" transform=\"translate(256.65,0) rotate(90,0,335)\" style=\"font-family: 'Open Sans', verdana, arial, sans-serif; font-size: 12px; fill: rgb(42, 63, 95); fill-opacity: 1; white-space: pre; opacity: 1;\">Busan</text></g><g class=\"xtick\"><text text-anchor=\"start\" x=\"0\" y=\"341\" transform=\"translate(283.82,0) rotate(90,0,335)\" style=\"font-family: 'Open Sans', verdana, arial, sans-serif; font-size: 12px; fill: rgb(42, 63, 95); fill-opacity: 1; white-space: pre; opacity: 1;\">Gyeongsangnam-do</text></g><g class=\"xtick\"><text text-anchor=\"start\" x=\"0\" y=\"341\" transform=\"translate(311,0) rotate(90,0,335)\" style=\"font-family: 'Open Sans', verdana, arial, sans-serif; font-size: 12px; fill: rgb(42, 63, 95); fill-opacity: 1; white-space: pre; opacity: 1;\">Daejeon</text></g><g class=\"xtick\"><text text-anchor=\"start\" x=\"0\" y=\"341\" transform=\"translate(338.18,0) rotate(90,0,335)\" style=\"font-family: 'Open Sans', verdana, arial, sans-serif; font-size: 12px; fill: rgb(42, 63, 95); fill-opacity: 1; white-space: pre; opacity: 1;\">Gangwon-do</text></g><g class=\"xtick\"><text text-anchor=\"start\" x=\"0\" y=\"341\" transform=\"translate(365.35,0) rotate(90,0,335)\" style=\"font-family: 'Open Sans', verdana, arial, sans-serif; font-size: 12px; fill: rgb(42, 63, 95); fill-opacity: 1; white-space: pre; opacity: 1;\">Chungcheongbuk-do</text></g><g class=\"xtick\"><text text-anchor=\"start\" x=\"0\" y=\"341\" transform=\"translate(392.53,0) rotate(90,0,335)\" style=\"font-family: 'Open Sans', verdana, arial, sans-serif; font-size: 12px; fill: rgb(42, 63, 95); fill-opacity: 1; white-space: pre; opacity: 1;\">Ulsan</text></g><g class=\"xtick\"><text text-anchor=\"start\" x=\"0\" y=\"341\" transform=\"translate(419.71,0) rotate(90,0,335)\" style=\"font-family: 'Open Sans', verdana, arial, sans-serif; font-size: 12px; fill: rgb(42, 63, 95); fill-opacity: 1; white-space: pre; opacity: 1;\">Sejong</text></g><g class=\"xtick\"><text text-anchor=\"start\" x=\"0\" y=\"341\" transform=\"translate(446.88,0) rotate(90,0,335)\" style=\"font-family: 'Open Sans', verdana, arial, sans-serif; font-size: 12px; fill: rgb(42, 63, 95); fill-opacity: 1; white-space: pre; opacity: 1;\">Gwangju</text></g><g class=\"xtick\"><text text-anchor=\"start\" x=\"0\" y=\"341\" transform=\"translate(474.06,0) rotate(90,0,335)\" style=\"font-family: 'Open Sans', verdana, arial, sans-serif; font-size: 12px; fill: rgb(42, 63, 95); fill-opacity: 1; white-space: pre; opacity: 1;\">Jeollanam-do</text></g><g class=\"xtick\"><text text-anchor=\"start\" x=\"0\" y=\"341\" transform=\"translate(501.24,0) rotate(90,0,335)\" style=\"font-family: 'Open Sans', verdana, arial, sans-serif; font-size: 12px; fill: rgb(42, 63, 95); fill-opacity: 1; white-space: pre; opacity: 1;\">Jeollabuk-do</text></g><g class=\"xtick\"><text text-anchor=\"start\" x=\"0\" y=\"341\" transform=\"translate(528.4100000000001,0) rotate(90,0,335)\" style=\"font-family: 'Open Sans', verdana, arial, sans-serif; font-size: 12px; fill: rgb(42, 63, 95); fill-opacity: 1; white-space: pre; opacity: 1;\">Jeju-do</text></g></g><g class=\"yaxislayer-above\"><g class=\"ytick\"><text text-anchor=\"end\" x=\"79\" y=\"4.199999999999999\" transform=\"translate(0,328)\" style=\"font-family: 'Open Sans', verdana, arial, sans-serif; font-size: 12px; fill: rgb(42, 63, 95); fill-opacity: 1; white-space: pre; opacity: 1;\">0</text></g><g class=\"ytick\"><text text-anchor=\"end\" x=\"79\" y=\"4.199999999999999\" style=\"font-family: 'Open Sans', verdana, arial, sans-serif; font-size: 12px; fill: rgb(42, 63, 95); fill-opacity: 1; white-space: pre; opacity: 1;\" transform=\"translate(0,263.15)\">2000</text></g><g class=\"ytick\"><text text-anchor=\"end\" x=\"79\" y=\"4.199999999999999\" style=\"font-family: 'Open Sans', verdana, arial, sans-serif; font-size: 12px; fill: rgb(42, 63, 95); fill-opacity: 1; white-space: pre; opacity: 1;\" transform=\"translate(0,198.3)\">4000</text></g><g class=\"ytick\"><text text-anchor=\"end\" x=\"79\" y=\"4.199999999999999\" style=\"font-family: 'Open Sans', verdana, arial, sans-serif; font-size: 12px; fill: rgb(42, 63, 95); fill-opacity: 1; white-space: pre; opacity: 1;\" transform=\"translate(0,133.45)\">6000</text></g></g><g class=\"overaxes-above\"/></g></g><g class=\"polarlayer\"/><g class=\"smithlayer\"/><g class=\"ternarylayer\"/><g class=\"geolayer\"/><g class=\"funnelarealayer\"/><g class=\"pielayer\"/><g class=\"iciclelayer\"/><g class=\"treemaplayer\"/><g class=\"sunburstlayer\"/><g class=\"glimages\"/><defs id=\"topdefs-5b753b\"><g class=\"clips\"/></defs><g class=\"layer-above\"><g class=\"imagelayer\"/><g class=\"shapelayer\"/></g><g class=\"infolayer\"><g class=\"cbcoloraxis colorbar\" transform=\"translate(80,100)\"><rect class=\"cbbg\" x=\"471\" y=\"0\" width=\"136.34375\" height=\"228\" style=\"fill: rgb(0, 0, 0); fill-opacity: 0; stroke: rgb(68, 68, 68); stroke-opacity: 1; stroke-width: 0;\"/><g class=\"cbfills\" transform=\"translate(0,32)\"><rect class=\"cbfill gradient_filled\" style=\"fill: url('#g5b753b-cbcoloraxis');\" x=\"481\" y=\"0\" width=\"30\" height=\"186\"/></g><g class=\"cblines\" transform=\"translate(0,32)\"/><g class=\"cbaxis crisp\" transform=\"translate(0,-100)\"><g class=\"ycbcoloraxistick\"><text text-anchor=\"start\" x=\"513.9\" y=\"4.199999999999999\" transform=\"translate(0,262.68)\" style=\"font-family: 'Open Sans', verdana, arial, sans-serif; font-size: 12px; fill: rgb(42, 63, 95); fill-opacity: 1; white-space: pre; opacity: 1;\">2000</text></g><g class=\"ycbcoloraxistick\"><text text-anchor=\"start\" x=\"513.9\" y=\"4.199999999999999\" style=\"font-family: 'Open Sans', verdana, arial, sans-serif; font-size: 12px; fill: rgb(42, 63, 95); fill-opacity: 1; white-space: pre; opacity: 1;\" transform=\"translate(0,206.84)\">4000</text></g><g class=\"ycbcoloraxistick\"><text text-anchor=\"start\" x=\"513.9\" y=\"4.199999999999999\" style=\"font-family: 'Open Sans', verdana, arial, sans-serif; font-size: 12px; fill: rgb(42, 63, 95); fill-opacity: 1; white-space: pre; opacity: 1;\" transform=\"translate(0,150.99)\">6000</text></g></g><g class=\"cbtitleunshift\" transform=\"translate(-80,-100)\"><g class=\"cbtitle\" transform=\"\"><text class=\"ycbcoloraxistitle\" x=\"561.24\" y=\"123.5\" text-anchor=\"start\" style=\"font-family: 'Open Sans', verdana, arial, sans-serif; font-size: 14px; fill: rgb(42, 63, 95); opacity: 1; font-weight: normal; white-space: pre;\">Confirmed cases</text></g></g><rect class=\"cboutline\" x=\"481\" y=\"32\" width=\"30\" height=\"186\" style=\"stroke: rgb(68, 68, 68); stroke-opacity: 1; fill: none; stroke-width: 0;\"/></g><g class=\"g-gtitle\"><text class=\"gtitle\" x=\"35\" y=\"50\" text-anchor=\"start\" dy=\"0em\" style=\"font-family: 'Open Sans', verdana, arial, sans-serif; font-size: 17px; fill: rgb(42, 63, 95); opacity: 1; font-weight: normal; white-space: pre;\">Number of mass Covid infections by region</text></g><g class=\"g-xtitle\"><text class=\"xtitle\" x=\"311\" y=\"487.971875\" text-anchor=\"middle\" style=\"font-family: 'Open Sans', verdana, arial, sans-serif; font-size: 14px; fill: rgb(42, 63, 95); opacity: 1; font-weight: normal; white-space: pre;\">Province</text></g><g class=\"g-ytitle\"><text class=\"ytitle\" transform=\"rotate(-90,24.184375000000003,214)\" x=\"24.184375000000003\" y=\"214\" text-anchor=\"middle\" style=\"font-family: 'Open Sans', verdana, arial, sans-serif; font-size: 14px; fill: rgb(42, 63, 95); opacity: 1; font-weight: normal; white-space: pre;\">Confirmed cases</text></g></g></svg>"
      ]
     },
     "metadata": {},
     "output_type": "display_data"
    }
   ],
   "source": [
    "# Plot bar charts of region for scale\n",
    "fig = px.bar(\n",
    "    province_case_clusters_df,\n",
    "    x=province_case_clusters_df.index,\n",
    "    y=\"confirmed\",\n",
    "    hover_data=[\"confirmed\", \"number_of_clusters\"],\n",
    "    color=\"confirmed\",\n",
    "    labels={\"province\": \"Province\", \"confirmed\": \"Confirmed cases\"},\n",
    "    title=\"Number of mass Covid infections by region\",\n",
    ")\n",
    "fig.update_layout(barmode=\"stack\", xaxis={\"categoryorder\": \"total descending\"})\n",
    "fig.show('svg')"
   ]
  },
  {
   "cell_type": "markdown",
   "id": "b76db36b",
   "metadata": {},
   "source": [
    "## Daegu: A Closer Look"
   ]
  },
  {
   "cell_type": "markdown",
   "id": "92ad5850",
   "metadata": {},
   "source": [
    "Next, we should dive further into these clusters too see what other insights we can draw from the data. "
   ]
  },
  {
   "cell_type": "code",
   "execution_count": 22,
   "id": "43f04cde",
   "metadata": {},
   "outputs": [
    {
     "data": {
      "text/html": [
       "<div>\n",
       "<style scoped>\n",
       "    .dataframe tbody tr th:only-of-type {\n",
       "        vertical-align: middle;\n",
       "    }\n",
       "\n",
       "    .dataframe tbody tr th {\n",
       "        vertical-align: top;\n",
       "    }\n",
       "\n",
       "    .dataframe thead th {\n",
       "        text-align: right;\n",
       "    }\n",
       "</style>\n",
       "<table border=\"1\" class=\"dataframe\">\n",
       "  <thead>\n",
       "    <tr style=\"text-align: right;\">\n",
       "      <th></th>\n",
       "      <th>case_id</th>\n",
       "      <th>province</th>\n",
       "      <th>city</th>\n",
       "      <th>group</th>\n",
       "      <th>infection_case</th>\n",
       "      <th>confirmed</th>\n",
       "      <th>latitude</th>\n",
       "      <th>longitude</th>\n",
       "    </tr>\n",
       "  </thead>\n",
       "  <tbody>\n",
       "    <tr>\n",
       "      <th>48</th>\n",
       "      <td>1200001</td>\n",
       "      <td>Daegu</td>\n",
       "      <td>Nam-gu</td>\n",
       "      <td>True</td>\n",
       "      <td>Shincheonji Church</td>\n",
       "      <td>4511</td>\n",
       "      <td>35.84008</td>\n",
       "      <td>128.5667</td>\n",
       "    </tr>\n",
       "    <tr>\n",
       "      <th>56</th>\n",
       "      <td>1200009</td>\n",
       "      <td>Daegu</td>\n",
       "      <td>-</td>\n",
       "      <td>False</td>\n",
       "      <td>contact with patient</td>\n",
       "      <td>917</td>\n",
       "      <td>-</td>\n",
       "      <td>-</td>\n",
       "    </tr>\n",
       "    <tr>\n",
       "      <th>57</th>\n",
       "      <td>1200010</td>\n",
       "      <td>Daegu</td>\n",
       "      <td>-</td>\n",
       "      <td>False</td>\n",
       "      <td>etc</td>\n",
       "      <td>747</td>\n",
       "      <td>-</td>\n",
       "      <td>-</td>\n",
       "    </tr>\n",
       "    <tr>\n",
       "      <th>49</th>\n",
       "      <td>1200002</td>\n",
       "      <td>Daegu</td>\n",
       "      <td>Dalseong-gun</td>\n",
       "      <td>True</td>\n",
       "      <td>Second Mi-Ju Hospital</td>\n",
       "      <td>196</td>\n",
       "      <td>35.857375</td>\n",
       "      <td>128.466651</td>\n",
       "    </tr>\n",
       "    <tr>\n",
       "      <th>50</th>\n",
       "      <td>1200003</td>\n",
       "      <td>Daegu</td>\n",
       "      <td>Seo-gu</td>\n",
       "      <td>True</td>\n",
       "      <td>Hansarang Convalescent Hospital</td>\n",
       "      <td>124</td>\n",
       "      <td>35.885592</td>\n",
       "      <td>128.556649</td>\n",
       "    </tr>\n",
       "    <tr>\n",
       "      <th>51</th>\n",
       "      <td>1200004</td>\n",
       "      <td>Daegu</td>\n",
       "      <td>Dalseong-gun</td>\n",
       "      <td>True</td>\n",
       "      <td>Daesil Convalescent Hospital</td>\n",
       "      <td>101</td>\n",
       "      <td>35.857393</td>\n",
       "      <td>128.466653</td>\n",
       "    </tr>\n",
       "    <tr>\n",
       "      <th>55</th>\n",
       "      <td>1200008</td>\n",
       "      <td>Daegu</td>\n",
       "      <td>-</td>\n",
       "      <td>False</td>\n",
       "      <td>overseas inflow</td>\n",
       "      <td>41</td>\n",
       "      <td>-</td>\n",
       "      <td>-</td>\n",
       "    </tr>\n",
       "    <tr>\n",
       "      <th>52</th>\n",
       "      <td>1200005</td>\n",
       "      <td>Daegu</td>\n",
       "      <td>Dong-gu</td>\n",
       "      <td>True</td>\n",
       "      <td>Fatima Hospital</td>\n",
       "      <td>39</td>\n",
       "      <td>35.88395</td>\n",
       "      <td>128.624059</td>\n",
       "    </tr>\n",
       "    <tr>\n",
       "      <th>53</th>\n",
       "      <td>1200006</td>\n",
       "      <td>Daegu</td>\n",
       "      <td>from other city</td>\n",
       "      <td>True</td>\n",
       "      <td>Itaewon Clubs</td>\n",
       "      <td>2</td>\n",
       "      <td>-</td>\n",
       "      <td>-</td>\n",
       "    </tr>\n",
       "    <tr>\n",
       "      <th>54</th>\n",
       "      <td>1200007</td>\n",
       "      <td>Daegu</td>\n",
       "      <td>from other city</td>\n",
       "      <td>True</td>\n",
       "      <td>Cheongdo Daenam Hospital</td>\n",
       "      <td>2</td>\n",
       "      <td>-</td>\n",
       "      <td>-</td>\n",
       "    </tr>\n",
       "  </tbody>\n",
       "</table>\n",
       "</div>"
      ],
      "text/plain": [
       "     case_id province             city  group  \\\n",
       "48   1200001    Daegu           Nam-gu   True   \n",
       "56   1200009    Daegu                -  False   \n",
       "57   1200010    Daegu                -  False   \n",
       "49   1200002    Daegu     Dalseong-gun   True   \n",
       "50   1200003    Daegu           Seo-gu   True   \n",
       "51   1200004    Daegu     Dalseong-gun   True   \n",
       "55   1200008    Daegu                -  False   \n",
       "52   1200005    Daegu          Dong-gu   True   \n",
       "53   1200006    Daegu  from other city   True   \n",
       "54   1200007    Daegu  from other city   True   \n",
       "\n",
       "                     infection_case  confirmed   latitude   longitude  \n",
       "48               Shincheonji Church       4511   35.84008    128.5667  \n",
       "56             contact with patient        917          -           -  \n",
       "57                              etc        747          -           -  \n",
       "49            Second Mi-Ju Hospital        196  35.857375  128.466651  \n",
       "50  Hansarang Convalescent Hospital        124  35.885592  128.556649  \n",
       "51     Daesil Convalescent Hospital        101  35.857393  128.466653  \n",
       "55                  overseas inflow         41          -           -  \n",
       "52                  Fatima Hospital         39   35.88395  128.624059  \n",
       "53                    Itaewon Clubs          2          -           -  \n",
       "54         Cheongdo Daenam Hospital          2          -           -  "
      ]
     },
     "execution_count": 22,
     "metadata": {},
     "output_type": "execute_result"
    }
   ],
   "source": [
    "# Subset case_df to Daegu only\n",
    "daegu_cases_df = case_df.loc[case_df.province == \"Daegu\"]\n",
    "daegu_cases_df.sort_values(\"confirmed\", ascending=False)"
   ]
  },
  {
   "cell_type": "markdown",
   "id": "cd0aa5ab",
   "metadata": {},
   "source": [
    "This table shows that hospitals and church are major covid contagion vectors for this region, which leads me to believe that we could be seeing similar trends in the other regions, even though Daegu is a standout. Let's do a regex search for churches across all regions to see how much of a pattern emerges. "
   ]
  },
  {
   "cell_type": "code",
   "execution_count": 23,
   "id": "264d9513",
   "metadata": {},
   "outputs": [
    {
     "data": {
      "text/html": [
       "<div>\n",
       "<style scoped>\n",
       "    .dataframe tbody tr th:only-of-type {\n",
       "        vertical-align: middle;\n",
       "    }\n",
       "\n",
       "    .dataframe tbody tr th {\n",
       "        vertical-align: top;\n",
       "    }\n",
       "\n",
       "    .dataframe thead th {\n",
       "        text-align: right;\n",
       "    }\n",
       "</style>\n",
       "<table border=\"1\" class=\"dataframe\">\n",
       "  <thead>\n",
       "    <tr style=\"text-align: right;\">\n",
       "      <th></th>\n",
       "      <th>province</th>\n",
       "      <th>city</th>\n",
       "      <th>confirmed</th>\n",
       "      <th>infection_case</th>\n",
       "    </tr>\n",
       "  </thead>\n",
       "  <tbody>\n",
       "    <tr>\n",
       "      <th>48</th>\n",
       "      <td>Daegu</td>\n",
       "      <td>Nam-gu</td>\n",
       "      <td>4511</td>\n",
       "      <td>Shincheonji Church</td>\n",
       "    </tr>\n",
       "    <tr>\n",
       "      <th>145</th>\n",
       "      <td>Gyeongsangbuk-do</td>\n",
       "      <td>from other city</td>\n",
       "      <td>566</td>\n",
       "      <td>Shincheonji Church</td>\n",
       "    </tr>\n",
       "    <tr>\n",
       "      <th>90</th>\n",
       "      <td>Gyeonggi-do</td>\n",
       "      <td>Seongnam-si</td>\n",
       "      <td>67</td>\n",
       "      <td>River of Grace Community Church</td>\n",
       "    </tr>\n",
       "    <tr>\n",
       "      <th>5</th>\n",
       "      <td>Seoul</td>\n",
       "      <td>Guro-gu</td>\n",
       "      <td>41</td>\n",
       "      <td>Manmin Central Church</td>\n",
       "    </tr>\n",
       "    <tr>\n",
       "      <th>38</th>\n",
       "      <td>Busan</td>\n",
       "      <td>Dongnae-gu</td>\n",
       "      <td>39</td>\n",
       "      <td>Onchun Church</td>\n",
       "    </tr>\n",
       "    <tr>\n",
       "      <th>6</th>\n",
       "      <td>Seoul</td>\n",
       "      <td>from other city</td>\n",
       "      <td>36</td>\n",
       "      <td>SMR Newly Planted Churches Group</td>\n",
       "    </tr>\n",
       "    <tr>\n",
       "      <th>158</th>\n",
       "      <td>Gyeongsangnam-do</td>\n",
       "      <td>from other city</td>\n",
       "      <td>32</td>\n",
       "      <td>Shincheonji Church</td>\n",
       "    </tr>\n",
       "    <tr>\n",
       "      <th>9</th>\n",
       "      <td>Seoul</td>\n",
       "      <td>Gwanak-gu</td>\n",
       "      <td>30</td>\n",
       "      <td>Wangsung Church</td>\n",
       "    </tr>\n",
       "    <tr>\n",
       "      <th>96</th>\n",
       "      <td>Gyeonggi-do</td>\n",
       "      <td>from other city</td>\n",
       "      <td>29</td>\n",
       "      <td>Shincheonji Church</td>\n",
       "    </tr>\n",
       "    <tr>\n",
       "      <th>98</th>\n",
       "      <td>Gyeonggi-do</td>\n",
       "      <td>-</td>\n",
       "      <td>25</td>\n",
       "      <td>SMR Newly Planted Churches Group</td>\n",
       "    </tr>\n",
       "    <tr>\n",
       "      <th>102</th>\n",
       "      <td>Gyeonggi-do</td>\n",
       "      <td>Anyang-si</td>\n",
       "      <td>17</td>\n",
       "      <td>Lord Glory Church</td>\n",
       "    </tr>\n",
       "    <tr>\n",
       "      <th>7</th>\n",
       "      <td>Seoul</td>\n",
       "      <td>Dongdaemun-gu</td>\n",
       "      <td>17</td>\n",
       "      <td>Dongan Church</td>\n",
       "    </tr>\n",
       "    <tr>\n",
       "      <th>112</th>\n",
       "      <td>Gangwon-do</td>\n",
       "      <td>from other city</td>\n",
       "      <td>17</td>\n",
       "      <td>Shincheonji Church</td>\n",
       "    </tr>\n",
       "    <tr>\n",
       "      <th>80</th>\n",
       "      <td>Ulsan</td>\n",
       "      <td>from other city</td>\n",
       "      <td>16</td>\n",
       "      <td>Shincheonji Church</td>\n",
       "    </tr>\n",
       "    <tr>\n",
       "      <th>39</th>\n",
       "      <td>Busan</td>\n",
       "      <td>from other city</td>\n",
       "      <td>12</td>\n",
       "      <td>Shincheonji Church</td>\n",
       "    </tr>\n",
       "  </tbody>\n",
       "</table>\n",
       "</div>"
      ],
      "text/plain": [
       "             province             city  confirmed  \\\n",
       "48              Daegu           Nam-gu       4511   \n",
       "145  Gyeongsangbuk-do  from other city        566   \n",
       "90        Gyeonggi-do      Seongnam-si         67   \n",
       "5               Seoul          Guro-gu         41   \n",
       "38              Busan       Dongnae-gu         39   \n",
       "6               Seoul  from other city         36   \n",
       "158  Gyeongsangnam-do  from other city         32   \n",
       "9               Seoul        Gwanak-gu         30   \n",
       "96        Gyeonggi-do  from other city         29   \n",
       "98        Gyeonggi-do                -         25   \n",
       "102       Gyeonggi-do        Anyang-si         17   \n",
       "7               Seoul    Dongdaemun-gu         17   \n",
       "112        Gangwon-do  from other city         17   \n",
       "80              Ulsan  from other city         16   \n",
       "39              Busan  from other city         12   \n",
       "\n",
       "                       infection_case  \n",
       "48                 Shincheonji Church  \n",
       "145                Shincheonji Church  \n",
       "90    River of Grace Community Church  \n",
       "5               Manmin Central Church  \n",
       "38                      Onchun Church  \n",
       "6    SMR Newly Planted Churches Group  \n",
       "158                Shincheonji Church  \n",
       "9                     Wangsung Church  \n",
       "96                 Shincheonji Church  \n",
       "98   SMR Newly Planted Churches Group  \n",
       "102                 Lord Glory Church  \n",
       "7                       Dongan Church  \n",
       "112                Shincheonji Church  \n",
       "80                 Shincheonji Church  \n",
       "39                 Shincheonji Church  "
      ]
     },
     "execution_count": 23,
     "metadata": {},
     "output_type": "execute_result"
    }
   ],
   "source": [
    "# Expand regex to churches more generally\n",
    "case_df.infection_case.unique()\n",
    "mask = case_df.infection_case.str.contains(\"(c|C)hurch\", regex=True)\n",
    "index = case_df.infection_case[mask].index\n",
    "case_df[[\"province\", \"city\", \"confirmed\", \"infection_case\"]].iloc[index].sort_values(\n",
    "    \"confirmed\", ascending=False\n",
    ").head(15)"
   ]
  },
  {
   "cell_type": "markdown",
   "id": "1abe7019",
   "metadata": {},
   "source": [
    "Churches account for over 5000 over our cases across the country, which is pretty sizable. We should take a closer look at the infection case column to see if any other patterns emerge. I'll do a word frequency analysis for the country, and then tie our top recurring words or phrases back to the cases. We can identiy our top case types that way. "
   ]
  },
  {
   "cell_type": "code",
   "execution_count": 24,
   "id": "2fde97e5",
   "metadata": {},
   "outputs": [
    {
     "data": {
      "text/html": [
       "<div>\n",
       "<style scoped>\n",
       "    .dataframe tbody tr th:only-of-type {\n",
       "        vertical-align: middle;\n",
       "    }\n",
       "\n",
       "    .dataframe tbody tr th {\n",
       "        vertical-align: top;\n",
       "    }\n",
       "\n",
       "    .dataframe thead th {\n",
       "        text-align: right;\n",
       "    }\n",
       "</style>\n",
       "<table border=\"1\" class=\"dataframe\">\n",
       "  <thead>\n",
       "    <tr style=\"text-align: right;\">\n",
       "      <th></th>\n",
       "      <th>words</th>\n",
       "      <th>count</th>\n",
       "    </tr>\n",
       "  </thead>\n",
       "  <tbody>\n",
       "    <tr>\n",
       "      <th>0</th>\n",
       "      <td>Church</td>\n",
       "      <td>30</td>\n",
       "    </tr>\n",
       "    <tr>\n",
       "      <th>1</th>\n",
       "      <td>overseas</td>\n",
       "      <td>17</td>\n",
       "    </tr>\n",
       "    <tr>\n",
       "      <th>2</th>\n",
       "      <td>inflow</td>\n",
       "      <td>17</td>\n",
       "    </tr>\n",
       "    <tr>\n",
       "      <th>3</th>\n",
       "      <td>etc</td>\n",
       "      <td>17</td>\n",
       "    </tr>\n",
       "    <tr>\n",
       "      <th>4</th>\n",
       "      <td>contact</td>\n",
       "      <td>16</td>\n",
       "    </tr>\n",
       "    <tr>\n",
       "      <th>5</th>\n",
       "      <td>with</td>\n",
       "      <td>16</td>\n",
       "    </tr>\n",
       "    <tr>\n",
       "      <th>6</th>\n",
       "      <td>patient</td>\n",
       "      <td>16</td>\n",
       "    </tr>\n",
       "    <tr>\n",
       "      <th>7</th>\n",
       "      <td>Shincheonji</td>\n",
       "      <td>15</td>\n",
       "    </tr>\n",
       "    <tr>\n",
       "      <th>8</th>\n",
       "      <td>Center</td>\n",
       "      <td>13</td>\n",
       "    </tr>\n",
       "    <tr>\n",
       "      <th>9</th>\n",
       "      <td>Hospital</td>\n",
       "      <td>12</td>\n",
       "    </tr>\n",
       "    <tr>\n",
       "      <th>10</th>\n",
       "      <td>Itaewon</td>\n",
       "      <td>9</td>\n",
       "    </tr>\n",
       "    <tr>\n",
       "      <th>11</th>\n",
       "      <td>Clubs</td>\n",
       "      <td>9</td>\n",
       "    </tr>\n",
       "    <tr>\n",
       "      <th>12</th>\n",
       "      <td>Call</td>\n",
       "      <td>5</td>\n",
       "    </tr>\n",
       "    <tr>\n",
       "      <th>13</th>\n",
       "      <td>in</td>\n",
       "      <td>5</td>\n",
       "    </tr>\n",
       "  </tbody>\n",
       "</table>\n",
       "</div>"
      ],
      "text/plain": [
       "          words  count\n",
       "0        Church     30\n",
       "1      overseas     17\n",
       "2        inflow     17\n",
       "3           etc     17\n",
       "4       contact     16\n",
       "5          with     16\n",
       "6       patient     16\n",
       "7   Shincheonji     15\n",
       "8        Center     13\n",
       "9      Hospital     12\n",
       "10      Itaewon      9\n",
       "11        Clubs      9\n",
       "12         Call      5\n",
       "13           in      5"
      ]
     },
     "execution_count": 24,
     "metadata": {},
     "output_type": "execute_result"
    }
   ],
   "source": [
    "# Word frequency\n",
    "\n",
    "\n",
    "# Split all phrases into word lists\n",
    "word_lists = case_df.infection_case.map(lambda x: x.split())\n",
    "\n",
    "# Collapse the whole series of lists into a single list\n",
    "complete_word_list = []\n",
    "\n",
    "for list in word_lists:\n",
    "    for item in list:\n",
    "        complete_word_list.append(item)\n",
    "\n",
    "# Use the collections package to count the most common words\n",
    "counts = collections.Counter(complete_word_list)\n",
    "\n",
    "# Convert counts to pandas dataframe for easier use\n",
    "infection_case_word_frequency_df = pd.DataFrame(\n",
    "    counts.most_common(), columns=[\"words\", \"count\"]\n",
    ")\n",
    "\n",
    "infection_case_word_frequency_df.loc[infection_case_word_frequency_df[\"count\"] > 4, :]"
   ]
  },
  {
   "cell_type": "markdown",
   "id": "e6d82df9",
   "metadata": {},
   "source": [
    "Based on the frequency list here, we can see that churches, hospitals, overseas inflows, and contact with patient are our biggest cited reasons in this dataset. This to me suggests that these are our biggest infection vectors from the timeframe represented in the dataset, so let's do some quick math to see how many confirmed cases are represented by these 4 infection_case values compared to all others.  "
   ]
  },
  {
   "cell_type": "code",
   "execution_count": 25,
   "id": "ac0c2f9f",
   "metadata": {},
   "outputs": [],
   "source": [
    "# First force all letters in the case_df column to lowercase to ease regex matching\n",
    "df = case_df\n",
    "df[\"infection_case\"] = case_df.infection_case.str.lower()\n",
    "\n",
    "# Set the regex for our big 4 vectors\n",
    "re = \"church|hospital|overseas inflow|contact with patient\"\n",
    "\n",
    "# Match to regex\n",
    "mask = case_df.infection_case.str.contains(re, regex=True)\n",
    "index = case_df.infection_case[mask].index\n",
    "\n",
    "# Segment the cases by infection type\n",
    "Big_4_df = df.iloc[index]\n",
    "other_df = df.drop(index=Big_4_df.index)\n"
   ]
  },
  {
   "cell_type": "code",
   "execution_count": 26,
   "id": "6f4434bb",
   "metadata": {},
   "outputs": [],
   "source": [
    "#  Create a boolean column\n",
    "Big_4_df[\"church_boolean\"] = case_df.infection_case.str.contains(\"church\", regex=False)\n",
    "Big_4_df[\"hospital_boolean\"] = case_df.infection_case.str.contains(\n",
    "    \"hospital\", regex=False\n",
    ")\n",
    "Big_4_df[\"overseas_boolean\"] = case_df.infection_case.str.contains(\n",
    "    \"overseas inflow\", regex=False\n",
    ")\n",
    "Big_4_df[\"contact_boolean\"] = case_df.infection_case.str.contains(\n",
    "    \"contact with patient\", regex=False\n",
    ")\n",
    "\n",
    "# Sum up big 4\n",
    "Big_4_case_count = Big_4_df.confirmed.sum()\n",
    "\n",
    "# Sum up all other cases\n",
    "other_cases = other_df.confirmed.sum()\n",
    "\n",
    "# Sum up the Big 4 cases in isolation\n",
    "church_cases = Big_4_df.loc[Big_4_df.church_boolean == True].index\n",
    "church_case_count = Big_4_df[\"confirmed\"].loc[church_cases].sum()\n",
    "\n",
    "hospital_cases = Big_4_df.loc[Big_4_df.hospital_boolean == True].index\n",
    "hospital_case_count = Big_4_df[\"confirmed\"].loc[hospital_cases].sum()\n",
    "\n",
    "\n",
    "overseas_cases = Big_4_df.loc[Big_4_df.overseas_boolean == True].index\n",
    "overseas_case_count = Big_4_df[\"confirmed\"].loc[overseas_cases].sum()\n",
    "\n",
    "contact_cases = Big_4_df.loc[Big_4_df.contact_boolean == True].index\n",
    "contact_case_count = Big_4_df[\"confirmed\"].loc[contact_cases].sum()\n",
    "\n",
    "# Assemble tallies into dataframes\n",
    "Big_4_comparison = pd.DataFrame(\n",
    "    {\n",
    "        \"category\": [\"Big 4\", \"All other causes\"],\n",
    "        \"Confirmed cases\": [Big_4_case_count, other_cases],\n",
    "    }\n",
    ")\n",
    "\n",
    "Big_4_breakdown = pd.DataFrame(\n",
    "    {\n",
    "        \"Attribution\": [\n",
    "            \"Church\",\n",
    "            \"Hospital\",\n",
    "            \"Overseas inflows\",\n",
    "            \"Contact with patient\",\n",
    "        ],\n",
    "        \"Confirmed cases\": [\n",
    "            church_case_count,\n",
    "            hospital_case_count,\n",
    "            overseas_case_count,\n",
    "            contact_case_count,\n",
    "        ],\n",
    "    }\n",
    ")"
   ]
  },
  {
   "cell_type": "code",
   "execution_count": 27,
   "id": "4a7998a6",
   "metadata": {},
   "outputs": [
    {
     "data": {
      "application/vnd.plotly.v1+json": {
       "config": {
        "plotlyServerURL": "https://plot.ly"
       },
       "data": [
        {
         "domain": {
          "x": [
           0,
           1
          ],
          "y": [
           0,
           1
          ]
         },
         "hovertemplate": "category=%{label}<br>Confirmed cases=%{value}<extra></extra>",
         "labels": [
          "Big 4",
          "All other causes"
         ],
         "legendgroup": "",
         "name": "",
         "showlegend": true,
         "type": "pie",
         "values": [
          8573,
          2822
         ]
        }
       ],
       "layout": {
        "legend": {
         "tracegroupgap": 0
        },
        "template": {
         "data": {
          "bar": [
           {
            "error_x": {
             "color": "#2a3f5f"
            },
            "error_y": {
             "color": "#2a3f5f"
            },
            "marker": {
             "line": {
              "color": "#E5ECF6",
              "width": 0.5
             },
             "pattern": {
              "fillmode": "overlay",
              "size": 10,
              "solidity": 0.2
             }
            },
            "type": "bar"
           }
          ],
          "barpolar": [
           {
            "marker": {
             "line": {
              "color": "#E5ECF6",
              "width": 0.5
             },
             "pattern": {
              "fillmode": "overlay",
              "size": 10,
              "solidity": 0.2
             }
            },
            "type": "barpolar"
           }
          ],
          "carpet": [
           {
            "aaxis": {
             "endlinecolor": "#2a3f5f",
             "gridcolor": "white",
             "linecolor": "white",
             "minorgridcolor": "white",
             "startlinecolor": "#2a3f5f"
            },
            "baxis": {
             "endlinecolor": "#2a3f5f",
             "gridcolor": "white",
             "linecolor": "white",
             "minorgridcolor": "white",
             "startlinecolor": "#2a3f5f"
            },
            "type": "carpet"
           }
          ],
          "choropleth": [
           {
            "colorbar": {
             "outlinewidth": 0,
             "ticks": ""
            },
            "type": "choropleth"
           }
          ],
          "contour": [
           {
            "colorbar": {
             "outlinewidth": 0,
             "ticks": ""
            },
            "colorscale": [
             [
              0,
              "#0d0887"
             ],
             [
              0.1111111111111111,
              "#46039f"
             ],
             [
              0.2222222222222222,
              "#7201a8"
             ],
             [
              0.3333333333333333,
              "#9c179e"
             ],
             [
              0.4444444444444444,
              "#bd3786"
             ],
             [
              0.5555555555555556,
              "#d8576b"
             ],
             [
              0.6666666666666666,
              "#ed7953"
             ],
             [
              0.7777777777777778,
              "#fb9f3a"
             ],
             [
              0.8888888888888888,
              "#fdca26"
             ],
             [
              1,
              "#f0f921"
             ]
            ],
            "type": "contour"
           }
          ],
          "contourcarpet": [
           {
            "colorbar": {
             "outlinewidth": 0,
             "ticks": ""
            },
            "type": "contourcarpet"
           }
          ],
          "heatmap": [
           {
            "colorbar": {
             "outlinewidth": 0,
             "ticks": ""
            },
            "colorscale": [
             [
              0,
              "#0d0887"
             ],
             [
              0.1111111111111111,
              "#46039f"
             ],
             [
              0.2222222222222222,
              "#7201a8"
             ],
             [
              0.3333333333333333,
              "#9c179e"
             ],
             [
              0.4444444444444444,
              "#bd3786"
             ],
             [
              0.5555555555555556,
              "#d8576b"
             ],
             [
              0.6666666666666666,
              "#ed7953"
             ],
             [
              0.7777777777777778,
              "#fb9f3a"
             ],
             [
              0.8888888888888888,
              "#fdca26"
             ],
             [
              1,
              "#f0f921"
             ]
            ],
            "type": "heatmap"
           }
          ],
          "heatmapgl": [
           {
            "colorbar": {
             "outlinewidth": 0,
             "ticks": ""
            },
            "colorscale": [
             [
              0,
              "#0d0887"
             ],
             [
              0.1111111111111111,
              "#46039f"
             ],
             [
              0.2222222222222222,
              "#7201a8"
             ],
             [
              0.3333333333333333,
              "#9c179e"
             ],
             [
              0.4444444444444444,
              "#bd3786"
             ],
             [
              0.5555555555555556,
              "#d8576b"
             ],
             [
              0.6666666666666666,
              "#ed7953"
             ],
             [
              0.7777777777777778,
              "#fb9f3a"
             ],
             [
              0.8888888888888888,
              "#fdca26"
             ],
             [
              1,
              "#f0f921"
             ]
            ],
            "type": "heatmapgl"
           }
          ],
          "histogram": [
           {
            "marker": {
             "pattern": {
              "fillmode": "overlay",
              "size": 10,
              "solidity": 0.2
             }
            },
            "type": "histogram"
           }
          ],
          "histogram2d": [
           {
            "colorbar": {
             "outlinewidth": 0,
             "ticks": ""
            },
            "colorscale": [
             [
              0,
              "#0d0887"
             ],
             [
              0.1111111111111111,
              "#46039f"
             ],
             [
              0.2222222222222222,
              "#7201a8"
             ],
             [
              0.3333333333333333,
              "#9c179e"
             ],
             [
              0.4444444444444444,
              "#bd3786"
             ],
             [
              0.5555555555555556,
              "#d8576b"
             ],
             [
              0.6666666666666666,
              "#ed7953"
             ],
             [
              0.7777777777777778,
              "#fb9f3a"
             ],
             [
              0.8888888888888888,
              "#fdca26"
             ],
             [
              1,
              "#f0f921"
             ]
            ],
            "type": "histogram2d"
           }
          ],
          "histogram2dcontour": [
           {
            "colorbar": {
             "outlinewidth": 0,
             "ticks": ""
            },
            "colorscale": [
             [
              0,
              "#0d0887"
             ],
             [
              0.1111111111111111,
              "#46039f"
             ],
             [
              0.2222222222222222,
              "#7201a8"
             ],
             [
              0.3333333333333333,
              "#9c179e"
             ],
             [
              0.4444444444444444,
              "#bd3786"
             ],
             [
              0.5555555555555556,
              "#d8576b"
             ],
             [
              0.6666666666666666,
              "#ed7953"
             ],
             [
              0.7777777777777778,
              "#fb9f3a"
             ],
             [
              0.8888888888888888,
              "#fdca26"
             ],
             [
              1,
              "#f0f921"
             ]
            ],
            "type": "histogram2dcontour"
           }
          ],
          "mesh3d": [
           {
            "colorbar": {
             "outlinewidth": 0,
             "ticks": ""
            },
            "type": "mesh3d"
           }
          ],
          "parcoords": [
           {
            "line": {
             "colorbar": {
              "outlinewidth": 0,
              "ticks": ""
             }
            },
            "type": "parcoords"
           }
          ],
          "pie": [
           {
            "automargin": true,
            "type": "pie"
           }
          ],
          "scatter": [
           {
            "fillpattern": {
             "fillmode": "overlay",
             "size": 10,
             "solidity": 0.2
            },
            "type": "scatter"
           }
          ],
          "scatter3d": [
           {
            "line": {
             "colorbar": {
              "outlinewidth": 0,
              "ticks": ""
             }
            },
            "marker": {
             "colorbar": {
              "outlinewidth": 0,
              "ticks": ""
             }
            },
            "type": "scatter3d"
           }
          ],
          "scattercarpet": [
           {
            "marker": {
             "colorbar": {
              "outlinewidth": 0,
              "ticks": ""
             }
            },
            "type": "scattercarpet"
           }
          ],
          "scattergeo": [
           {
            "marker": {
             "colorbar": {
              "outlinewidth": 0,
              "ticks": ""
             }
            },
            "type": "scattergeo"
           }
          ],
          "scattergl": [
           {
            "marker": {
             "colorbar": {
              "outlinewidth": 0,
              "ticks": ""
             }
            },
            "type": "scattergl"
           }
          ],
          "scattermapbox": [
           {
            "marker": {
             "colorbar": {
              "outlinewidth": 0,
              "ticks": ""
             }
            },
            "type": "scattermapbox"
           }
          ],
          "scatterpolar": [
           {
            "marker": {
             "colorbar": {
              "outlinewidth": 0,
              "ticks": ""
             }
            },
            "type": "scatterpolar"
           }
          ],
          "scatterpolargl": [
           {
            "marker": {
             "colorbar": {
              "outlinewidth": 0,
              "ticks": ""
             }
            },
            "type": "scatterpolargl"
           }
          ],
          "scatterternary": [
           {
            "marker": {
             "colorbar": {
              "outlinewidth": 0,
              "ticks": ""
             }
            },
            "type": "scatterternary"
           }
          ],
          "surface": [
           {
            "colorbar": {
             "outlinewidth": 0,
             "ticks": ""
            },
            "colorscale": [
             [
              0,
              "#0d0887"
             ],
             [
              0.1111111111111111,
              "#46039f"
             ],
             [
              0.2222222222222222,
              "#7201a8"
             ],
             [
              0.3333333333333333,
              "#9c179e"
             ],
             [
              0.4444444444444444,
              "#bd3786"
             ],
             [
              0.5555555555555556,
              "#d8576b"
             ],
             [
              0.6666666666666666,
              "#ed7953"
             ],
             [
              0.7777777777777778,
              "#fb9f3a"
             ],
             [
              0.8888888888888888,
              "#fdca26"
             ],
             [
              1,
              "#f0f921"
             ]
            ],
            "type": "surface"
           }
          ],
          "table": [
           {
            "cells": {
             "fill": {
              "color": "#EBF0F8"
             },
             "line": {
              "color": "white"
             }
            },
            "header": {
             "fill": {
              "color": "#C8D4E3"
             },
             "line": {
              "color": "white"
             }
            },
            "type": "table"
           }
          ]
         },
         "layout": {
          "annotationdefaults": {
           "arrowcolor": "#2a3f5f",
           "arrowhead": 0,
           "arrowwidth": 1
          },
          "autotypenumbers": "strict",
          "coloraxis": {
           "colorbar": {
            "outlinewidth": 0,
            "ticks": ""
           }
          },
          "colorscale": {
           "diverging": [
            [
             0,
             "#8e0152"
            ],
            [
             0.1,
             "#c51b7d"
            ],
            [
             0.2,
             "#de77ae"
            ],
            [
             0.3,
             "#f1b6da"
            ],
            [
             0.4,
             "#fde0ef"
            ],
            [
             0.5,
             "#f7f7f7"
            ],
            [
             0.6,
             "#e6f5d0"
            ],
            [
             0.7,
             "#b8e186"
            ],
            [
             0.8,
             "#7fbc41"
            ],
            [
             0.9,
             "#4d9221"
            ],
            [
             1,
             "#276419"
            ]
           ],
           "sequential": [
            [
             0,
             "#0d0887"
            ],
            [
             0.1111111111111111,
             "#46039f"
            ],
            [
             0.2222222222222222,
             "#7201a8"
            ],
            [
             0.3333333333333333,
             "#9c179e"
            ],
            [
             0.4444444444444444,
             "#bd3786"
            ],
            [
             0.5555555555555556,
             "#d8576b"
            ],
            [
             0.6666666666666666,
             "#ed7953"
            ],
            [
             0.7777777777777778,
             "#fb9f3a"
            ],
            [
             0.8888888888888888,
             "#fdca26"
            ],
            [
             1,
             "#f0f921"
            ]
           ],
           "sequentialminus": [
            [
             0,
             "#0d0887"
            ],
            [
             0.1111111111111111,
             "#46039f"
            ],
            [
             0.2222222222222222,
             "#7201a8"
            ],
            [
             0.3333333333333333,
             "#9c179e"
            ],
            [
             0.4444444444444444,
             "#bd3786"
            ],
            [
             0.5555555555555556,
             "#d8576b"
            ],
            [
             0.6666666666666666,
             "#ed7953"
            ],
            [
             0.7777777777777778,
             "#fb9f3a"
            ],
            [
             0.8888888888888888,
             "#fdca26"
            ],
            [
             1,
             "#f0f921"
            ]
           ]
          },
          "colorway": [
           "#636efa",
           "#EF553B",
           "#00cc96",
           "#ab63fa",
           "#FFA15A",
           "#19d3f3",
           "#FF6692",
           "#B6E880",
           "#FF97FF",
           "#FECB52"
          ],
          "font": {
           "color": "#2a3f5f"
          },
          "geo": {
           "bgcolor": "white",
           "lakecolor": "white",
           "landcolor": "#E5ECF6",
           "showlakes": true,
           "showland": true,
           "subunitcolor": "white"
          },
          "hoverlabel": {
           "align": "left"
          },
          "hovermode": "closest",
          "mapbox": {
           "style": "light"
          },
          "paper_bgcolor": "white",
          "plot_bgcolor": "#E5ECF6",
          "polar": {
           "angularaxis": {
            "gridcolor": "white",
            "linecolor": "white",
            "ticks": ""
           },
           "bgcolor": "#E5ECF6",
           "radialaxis": {
            "gridcolor": "white",
            "linecolor": "white",
            "ticks": ""
           }
          },
          "scene": {
           "xaxis": {
            "backgroundcolor": "#E5ECF6",
            "gridcolor": "white",
            "gridwidth": 2,
            "linecolor": "white",
            "showbackground": true,
            "ticks": "",
            "zerolinecolor": "white"
           },
           "yaxis": {
            "backgroundcolor": "#E5ECF6",
            "gridcolor": "white",
            "gridwidth": 2,
            "linecolor": "white",
            "showbackground": true,
            "ticks": "",
            "zerolinecolor": "white"
           },
           "zaxis": {
            "backgroundcolor": "#E5ECF6",
            "gridcolor": "white",
            "gridwidth": 2,
            "linecolor": "white",
            "showbackground": true,
            "ticks": "",
            "zerolinecolor": "white"
           }
          },
          "shapedefaults": {
           "line": {
            "color": "#2a3f5f"
           }
          },
          "ternary": {
           "aaxis": {
            "gridcolor": "white",
            "linecolor": "white",
            "ticks": ""
           },
           "baxis": {
            "gridcolor": "white",
            "linecolor": "white",
            "ticks": ""
           },
           "bgcolor": "#E5ECF6",
           "caxis": {
            "gridcolor": "white",
            "linecolor": "white",
            "ticks": ""
           }
          },
          "title": {
           "x": 0.05
          },
          "xaxis": {
           "automargin": true,
           "gridcolor": "white",
           "linecolor": "white",
           "ticks": "",
           "title": {
            "standoff": 15
           },
           "zerolinecolor": "white",
           "zerolinewidth": 2
          },
          "yaxis": {
           "automargin": true,
           "gridcolor": "white",
           "linecolor": "white",
           "ticks": "",
           "title": {
            "standoff": 15
           },
           "zerolinecolor": "white",
           "zerolinewidth": 2
          }
         }
        },
        "title": {
         "text": "Covid cause breakdown"
        }
       }
      }
     },
     "metadata": {},
     "output_type": "display_data"
    },
    {
     "data": {
      "application/vnd.plotly.v1+json": {
       "config": {
        "plotlyServerURL": "https://plot.ly"
       },
       "data": [
        {
         "alignmentgroup": "True",
         "hovertemplate": "Attribution=%{x}<br>Confirmed cases=%{y}<extra></extra>",
         "legendgroup": "Church",
         "marker": {
          "color": "#636efa",
          "pattern": {
           "shape": ""
          }
         },
         "name": "Church",
         "offsetgroup": "Church",
         "orientation": "v",
         "showlegend": true,
         "textposition": "auto",
         "type": "bar",
         "x": [
          "Church"
         ],
         "xaxis": "x",
         "y": [
          5536
         ],
         "yaxis": "y"
        },
        {
         "alignmentgroup": "True",
         "hovertemplate": "Attribution=%{x}<br>Confirmed cases=%{y}<extra></extra>",
         "legendgroup": "Hospital",
         "marker": {
          "color": "#EF553B",
          "pattern": {
           "shape": ""
          }
         },
         "name": "Hospital",
         "offsetgroup": "Hospital",
         "orientation": "v",
         "showlegend": true,
         "textposition": "auto",
         "type": "bar",
         "x": [
          "Hospital"
         ],
         "xaxis": "x",
         "y": [
          685
         ],
         "yaxis": "y"
        },
        {
         "alignmentgroup": "True",
         "hovertemplate": "Attribution=%{x}<br>Confirmed cases=%{y}<extra></extra>",
         "legendgroup": "Overseas inflows",
         "marker": {
          "color": "#00cc96",
          "pattern": {
           "shape": ""
          }
         },
         "name": "Overseas inflows",
         "offsetgroup": "Overseas inflows",
         "orientation": "v",
         "showlegend": true,
         "textposition": "auto",
         "type": "bar",
         "x": [
          "Overseas inflows"
         ],
         "xaxis": "x",
         "y": [
          949
         ],
         "yaxis": "y"
        },
        {
         "alignmentgroup": "True",
         "hovertemplate": "Attribution=%{x}<br>Confirmed cases=%{y}<extra></extra>",
         "legendgroup": "Contact with patient",
         "marker": {
          "color": "#ab63fa",
          "pattern": {
           "shape": ""
          }
         },
         "name": "Contact with patient",
         "offsetgroup": "Contact with patient",
         "orientation": "v",
         "showlegend": true,
         "textposition": "auto",
         "type": "bar",
         "x": [
          "Contact with patient"
         ],
         "xaxis": "x",
         "y": [
          1403
         ],
         "yaxis": "y"
        }
       ],
       "layout": {
        "barmode": "stack",
        "height": 455,
        "legend": {
         "title": {
          "text": "Attribution"
         },
         "tracegroupgap": 0
        },
        "template": {
         "data": {
          "bar": [
           {
            "error_x": {
             "color": "#2a3f5f"
            },
            "error_y": {
             "color": "#2a3f5f"
            },
            "marker": {
             "line": {
              "color": "#E5ECF6",
              "width": 0.5
             },
             "pattern": {
              "fillmode": "overlay",
              "size": 10,
              "solidity": 0.2
             }
            },
            "type": "bar"
           }
          ],
          "barpolar": [
           {
            "marker": {
             "line": {
              "color": "#E5ECF6",
              "width": 0.5
             },
             "pattern": {
              "fillmode": "overlay",
              "size": 10,
              "solidity": 0.2
             }
            },
            "type": "barpolar"
           }
          ],
          "carpet": [
           {
            "aaxis": {
             "endlinecolor": "#2a3f5f",
             "gridcolor": "white",
             "linecolor": "white",
             "minorgridcolor": "white",
             "startlinecolor": "#2a3f5f"
            },
            "baxis": {
             "endlinecolor": "#2a3f5f",
             "gridcolor": "white",
             "linecolor": "white",
             "minorgridcolor": "white",
             "startlinecolor": "#2a3f5f"
            },
            "type": "carpet"
           }
          ],
          "choropleth": [
           {
            "colorbar": {
             "outlinewidth": 0,
             "ticks": ""
            },
            "type": "choropleth"
           }
          ],
          "contour": [
           {
            "colorbar": {
             "outlinewidth": 0,
             "ticks": ""
            },
            "colorscale": [
             [
              0,
              "#0d0887"
             ],
             [
              0.1111111111111111,
              "#46039f"
             ],
             [
              0.2222222222222222,
              "#7201a8"
             ],
             [
              0.3333333333333333,
              "#9c179e"
             ],
             [
              0.4444444444444444,
              "#bd3786"
             ],
             [
              0.5555555555555556,
              "#d8576b"
             ],
             [
              0.6666666666666666,
              "#ed7953"
             ],
             [
              0.7777777777777778,
              "#fb9f3a"
             ],
             [
              0.8888888888888888,
              "#fdca26"
             ],
             [
              1,
              "#f0f921"
             ]
            ],
            "type": "contour"
           }
          ],
          "contourcarpet": [
           {
            "colorbar": {
             "outlinewidth": 0,
             "ticks": ""
            },
            "type": "contourcarpet"
           }
          ],
          "heatmap": [
           {
            "colorbar": {
             "outlinewidth": 0,
             "ticks": ""
            },
            "colorscale": [
             [
              0,
              "#0d0887"
             ],
             [
              0.1111111111111111,
              "#46039f"
             ],
             [
              0.2222222222222222,
              "#7201a8"
             ],
             [
              0.3333333333333333,
              "#9c179e"
             ],
             [
              0.4444444444444444,
              "#bd3786"
             ],
             [
              0.5555555555555556,
              "#d8576b"
             ],
             [
              0.6666666666666666,
              "#ed7953"
             ],
             [
              0.7777777777777778,
              "#fb9f3a"
             ],
             [
              0.8888888888888888,
              "#fdca26"
             ],
             [
              1,
              "#f0f921"
             ]
            ],
            "type": "heatmap"
           }
          ],
          "heatmapgl": [
           {
            "colorbar": {
             "outlinewidth": 0,
             "ticks": ""
            },
            "colorscale": [
             [
              0,
              "#0d0887"
             ],
             [
              0.1111111111111111,
              "#46039f"
             ],
             [
              0.2222222222222222,
              "#7201a8"
             ],
             [
              0.3333333333333333,
              "#9c179e"
             ],
             [
              0.4444444444444444,
              "#bd3786"
             ],
             [
              0.5555555555555556,
              "#d8576b"
             ],
             [
              0.6666666666666666,
              "#ed7953"
             ],
             [
              0.7777777777777778,
              "#fb9f3a"
             ],
             [
              0.8888888888888888,
              "#fdca26"
             ],
             [
              1,
              "#f0f921"
             ]
            ],
            "type": "heatmapgl"
           }
          ],
          "histogram": [
           {
            "marker": {
             "pattern": {
              "fillmode": "overlay",
              "size": 10,
              "solidity": 0.2
             }
            },
            "type": "histogram"
           }
          ],
          "histogram2d": [
           {
            "colorbar": {
             "outlinewidth": 0,
             "ticks": ""
            },
            "colorscale": [
             [
              0,
              "#0d0887"
             ],
             [
              0.1111111111111111,
              "#46039f"
             ],
             [
              0.2222222222222222,
              "#7201a8"
             ],
             [
              0.3333333333333333,
              "#9c179e"
             ],
             [
              0.4444444444444444,
              "#bd3786"
             ],
             [
              0.5555555555555556,
              "#d8576b"
             ],
             [
              0.6666666666666666,
              "#ed7953"
             ],
             [
              0.7777777777777778,
              "#fb9f3a"
             ],
             [
              0.8888888888888888,
              "#fdca26"
             ],
             [
              1,
              "#f0f921"
             ]
            ],
            "type": "histogram2d"
           }
          ],
          "histogram2dcontour": [
           {
            "colorbar": {
             "outlinewidth": 0,
             "ticks": ""
            },
            "colorscale": [
             [
              0,
              "#0d0887"
             ],
             [
              0.1111111111111111,
              "#46039f"
             ],
             [
              0.2222222222222222,
              "#7201a8"
             ],
             [
              0.3333333333333333,
              "#9c179e"
             ],
             [
              0.4444444444444444,
              "#bd3786"
             ],
             [
              0.5555555555555556,
              "#d8576b"
             ],
             [
              0.6666666666666666,
              "#ed7953"
             ],
             [
              0.7777777777777778,
              "#fb9f3a"
             ],
             [
              0.8888888888888888,
              "#fdca26"
             ],
             [
              1,
              "#f0f921"
             ]
            ],
            "type": "histogram2dcontour"
           }
          ],
          "mesh3d": [
           {
            "colorbar": {
             "outlinewidth": 0,
             "ticks": ""
            },
            "type": "mesh3d"
           }
          ],
          "parcoords": [
           {
            "line": {
             "colorbar": {
              "outlinewidth": 0,
              "ticks": ""
             }
            },
            "type": "parcoords"
           }
          ],
          "pie": [
           {
            "automargin": true,
            "type": "pie"
           }
          ],
          "scatter": [
           {
            "fillpattern": {
             "fillmode": "overlay",
             "size": 10,
             "solidity": 0.2
            },
            "type": "scatter"
           }
          ],
          "scatter3d": [
           {
            "line": {
             "colorbar": {
              "outlinewidth": 0,
              "ticks": ""
             }
            },
            "marker": {
             "colorbar": {
              "outlinewidth": 0,
              "ticks": ""
             }
            },
            "type": "scatter3d"
           }
          ],
          "scattercarpet": [
           {
            "marker": {
             "colorbar": {
              "outlinewidth": 0,
              "ticks": ""
             }
            },
            "type": "scattercarpet"
           }
          ],
          "scattergeo": [
           {
            "marker": {
             "colorbar": {
              "outlinewidth": 0,
              "ticks": ""
             }
            },
            "type": "scattergeo"
           }
          ],
          "scattergl": [
           {
            "marker": {
             "colorbar": {
              "outlinewidth": 0,
              "ticks": ""
             }
            },
            "type": "scattergl"
           }
          ],
          "scattermapbox": [
           {
            "marker": {
             "colorbar": {
              "outlinewidth": 0,
              "ticks": ""
             }
            },
            "type": "scattermapbox"
           }
          ],
          "scatterpolar": [
           {
            "marker": {
             "colorbar": {
              "outlinewidth": 0,
              "ticks": ""
             }
            },
            "type": "scatterpolar"
           }
          ],
          "scatterpolargl": [
           {
            "marker": {
             "colorbar": {
              "outlinewidth": 0,
              "ticks": ""
             }
            },
            "type": "scatterpolargl"
           }
          ],
          "scatterternary": [
           {
            "marker": {
             "colorbar": {
              "outlinewidth": 0,
              "ticks": ""
             }
            },
            "type": "scatterternary"
           }
          ],
          "surface": [
           {
            "colorbar": {
             "outlinewidth": 0,
             "ticks": ""
            },
            "colorscale": [
             [
              0,
              "#0d0887"
             ],
             [
              0.1111111111111111,
              "#46039f"
             ],
             [
              0.2222222222222222,
              "#7201a8"
             ],
             [
              0.3333333333333333,
              "#9c179e"
             ],
             [
              0.4444444444444444,
              "#bd3786"
             ],
             [
              0.5555555555555556,
              "#d8576b"
             ],
             [
              0.6666666666666666,
              "#ed7953"
             ],
             [
              0.7777777777777778,
              "#fb9f3a"
             ],
             [
              0.8888888888888888,
              "#fdca26"
             ],
             [
              1,
              "#f0f921"
             ]
            ],
            "type": "surface"
           }
          ],
          "table": [
           {
            "cells": {
             "fill": {
              "color": "#EBF0F8"
             },
             "line": {
              "color": "white"
             }
            },
            "header": {
             "fill": {
              "color": "#C8D4E3"
             },
             "line": {
              "color": "white"
             }
            },
            "type": "table"
           }
          ]
         },
         "layout": {
          "annotationdefaults": {
           "arrowcolor": "#2a3f5f",
           "arrowhead": 0,
           "arrowwidth": 1
          },
          "autotypenumbers": "strict",
          "coloraxis": {
           "colorbar": {
            "outlinewidth": 0,
            "ticks": ""
           }
          },
          "colorscale": {
           "diverging": [
            [
             0,
             "#8e0152"
            ],
            [
             0.1,
             "#c51b7d"
            ],
            [
             0.2,
             "#de77ae"
            ],
            [
             0.3,
             "#f1b6da"
            ],
            [
             0.4,
             "#fde0ef"
            ],
            [
             0.5,
             "#f7f7f7"
            ],
            [
             0.6,
             "#e6f5d0"
            ],
            [
             0.7,
             "#b8e186"
            ],
            [
             0.8,
             "#7fbc41"
            ],
            [
             0.9,
             "#4d9221"
            ],
            [
             1,
             "#276419"
            ]
           ],
           "sequential": [
            [
             0,
             "#0d0887"
            ],
            [
             0.1111111111111111,
             "#46039f"
            ],
            [
             0.2222222222222222,
             "#7201a8"
            ],
            [
             0.3333333333333333,
             "#9c179e"
            ],
            [
             0.4444444444444444,
             "#bd3786"
            ],
            [
             0.5555555555555556,
             "#d8576b"
            ],
            [
             0.6666666666666666,
             "#ed7953"
            ],
            [
             0.7777777777777778,
             "#fb9f3a"
            ],
            [
             0.8888888888888888,
             "#fdca26"
            ],
            [
             1,
             "#f0f921"
            ]
           ],
           "sequentialminus": [
            [
             0,
             "#0d0887"
            ],
            [
             0.1111111111111111,
             "#46039f"
            ],
            [
             0.2222222222222222,
             "#7201a8"
            ],
            [
             0.3333333333333333,
             "#9c179e"
            ],
            [
             0.4444444444444444,
             "#bd3786"
            ],
            [
             0.5555555555555556,
             "#d8576b"
            ],
            [
             0.6666666666666666,
             "#ed7953"
            ],
            [
             0.7777777777777778,
             "#fb9f3a"
            ],
            [
             0.8888888888888888,
             "#fdca26"
            ],
            [
             1,
             "#f0f921"
            ]
           ]
          },
          "colorway": [
           "#636efa",
           "#EF553B",
           "#00cc96",
           "#ab63fa",
           "#FFA15A",
           "#19d3f3",
           "#FF6692",
           "#B6E880",
           "#FF97FF",
           "#FECB52"
          ],
          "font": {
           "color": "#2a3f5f"
          },
          "geo": {
           "bgcolor": "white",
           "lakecolor": "white",
           "landcolor": "#E5ECF6",
           "showlakes": true,
           "showland": true,
           "subunitcolor": "white"
          },
          "hoverlabel": {
           "align": "left"
          },
          "hovermode": "closest",
          "mapbox": {
           "style": "light"
          },
          "paper_bgcolor": "white",
          "plot_bgcolor": "#E5ECF6",
          "polar": {
           "angularaxis": {
            "gridcolor": "white",
            "linecolor": "white",
            "ticks": ""
           },
           "bgcolor": "#E5ECF6",
           "radialaxis": {
            "gridcolor": "white",
            "linecolor": "white",
            "ticks": ""
           }
          },
          "scene": {
           "xaxis": {
            "backgroundcolor": "#E5ECF6",
            "gridcolor": "white",
            "gridwidth": 2,
            "linecolor": "white",
            "showbackground": true,
            "ticks": "",
            "zerolinecolor": "white"
           },
           "yaxis": {
            "backgroundcolor": "#E5ECF6",
            "gridcolor": "white",
            "gridwidth": 2,
            "linecolor": "white",
            "showbackground": true,
            "ticks": "",
            "zerolinecolor": "white"
           },
           "zaxis": {
            "backgroundcolor": "#E5ECF6",
            "gridcolor": "white",
            "gridwidth": 2,
            "linecolor": "white",
            "showbackground": true,
            "ticks": "",
            "zerolinecolor": "white"
           }
          },
          "shapedefaults": {
           "line": {
            "color": "#2a3f5f"
           }
          },
          "ternary": {
           "aaxis": {
            "gridcolor": "white",
            "linecolor": "white",
            "ticks": ""
           },
           "baxis": {
            "gridcolor": "white",
            "linecolor": "white",
            "ticks": ""
           },
           "bgcolor": "#E5ECF6",
           "caxis": {
            "gridcolor": "white",
            "linecolor": "white",
            "ticks": ""
           }
          },
          "title": {
           "x": 0.05
          },
          "xaxis": {
           "automargin": true,
           "gridcolor": "white",
           "linecolor": "white",
           "ticks": "",
           "title": {
            "standoff": 15
           },
           "zerolinecolor": "white",
           "zerolinewidth": 2
          },
          "yaxis": {
           "automargin": true,
           "gridcolor": "white",
           "linecolor": "white",
           "ticks": "",
           "title": {
            "standoff": 15
           },
           "zerolinecolor": "white",
           "zerolinewidth": 2
          }
         }
        },
        "title": {
         "text": "Big 4 breakdown"
        },
        "xaxis": {
         "anchor": "y",
         "categoryarray": [
          "Church",
          "Hospital",
          "Overseas inflows",
          "Contact with patient"
         ],
         "categoryorder": "total descending",
         "domain": [
          0,
          1
         ],
         "title": {
          "text": "Attribution"
         }
        },
        "yaxis": {
         "anchor": "x",
         "domain": [
          0,
          1
         ],
         "title": {
          "text": "Confirmed cases"
         }
        }
       }
      }
     },
     "metadata": {},
     "output_type": "display_data"
    }
   ],
   "source": [
    "fig = px.pie(\n",
    "    Big_4_comparison,\n",
    "    values=\"Confirmed cases\",\n",
    "    names=\"category\",\n",
    "    title=\"Covid cause breakdown\",\n",
    ")\n",
    "fig.show()\n",
    "\n",
    "\n",
    "fig2 = px.bar(\n",
    "    Big_4_breakdown,\n",
    "    x=\"Attribution\",\n",
    "    y=\"Confirmed cases\",\n",
    "    title=\"Big 4 breakdown\",\n",
    "    color=\"Attribution\",\n",
    "    height=455,\n",
    ")\n",
    "fig2.update_layout(barmode=\"stack\", xaxis={\"categoryorder\": \"total descending\"})\n",
    "fig2.show('svg')"
   ]
  },
  {
   "cell_type": "markdown",
   "id": "50d64075",
   "metadata": {},
   "source": [
    "75% of our cases come from the 4 causes listed in figure 2, and therefore should be the main focus of our policy recommendations. But before we get into those, we should see if there is any more insights that we can gather about the effect of public spaces on viral transmission. "
   ]
  },
  {
   "cell_type": "markdown",
   "id": "869cb32f",
   "metadata": {},
   "source": [
    "## Transmissibility and public spaces\n"
   ]
  },
  {
   "cell_type": "markdown",
   "id": "8dd64f98",
   "metadata": {},
   "source": [
    "We'll start by grouping covid cases at both provincial and city levels since datasets in our pool are organized at both levels of detail. From there we'll assess how our numerical values are correlated at both levels. "
   ]
  },
  {
   "cell_type": "code",
   "execution_count": 28,
   "id": "7720d9a7",
   "metadata": {},
   "outputs": [],
   "source": [
    "# Group cases by city and province in patient_info_df\n",
    "df = patient_info_df.groupby(by=[\"province\", \"city\"]).count()\n",
    "df.sort_values([\"province\", \"city\"], inplace=True)\n",
    "\n",
    "# Isolate patient id counts by province\n",
    "province_city_cases_df = df[[\"patient_id\"]].copy()"
   ]
  },
  {
   "cell_type": "code",
   "execution_count": 29,
   "id": "6f489250",
   "metadata": {},
   "outputs": [],
   "source": [
    "# Groupby province and city\n",
    "regional_cases_df = region_df.groupby([\"province\", \"city\"]).sum()\n",
    "\n",
    "# Add our patient_id counts grouped by province and city\n",
    "regional_cases_df[\"confirmed_cases\"] = province_city_cases_df\n",
    "\n",
    "# Check for null values in case some cities were missing from other dataset\n",
    "#print(f'{regional_cases_df.confirmed_cases.isnull().sum()} observations missing out of {len(regional_cases_df.confirmed_cases)}.')"
   ]
  },
  {
   "cell_type": "code",
   "execution_count": 30,
   "id": "a6157c40",
   "metadata": {},
   "outputs": [
    {
     "data": {
      "image/png": "[encoded data removed]",
      "text/plain": [
       "<Figure size 640x480 with 2 Axes>"
      ]
     },
     "metadata": {},
     "output_type": "display_data"
    }
   ],
   "source": [
    "# Copy regional_cases_df and drop code, latitude, and longitude\n",
    "regional_cases_df_narrow = regional_cases_df.drop(\n",
    "    columns=[\"code\", \"latitude\", \"longitude\"]\n",
    ")\n",
    "\n",
    "# Check for correlations between confirmed_cases and the remaining numerical variables\n",
    "corr = regional_cases_df_narrow.corr()\n",
    "matrix = np.triu(corr)\n",
    "sns.set_style(\"darkgrid\")\n",
    "sns.heatmap(corr, annot=True, mask=matrix, cmap=\"magma\");"
   ]
  },
  {
   "cell_type": "markdown",
   "id": "c4c79c91",
   "metadata": {},
   "source": [
    "Looking at the confirmed_cases row at the bottom we can see that there aren't any super strong correlations for the numerical features here, but there is some correlation between the number of cases and the number of universities, likewise between the number of nursing homes and the number of cases. "
   ]
  },
  {
   "cell_type": "code",
   "execution_count": 31,
   "id": "b17ae246",
   "metadata": {},
   "outputs": [
    {
     "data": {
      "text/plain": [
       "<Axes: >"
      ]
     },
     "execution_count": 31,
     "metadata": {},
     "output_type": "execute_result"
    },
    {
     "data": {
      "image/png": "[encoded data removed]",
      "text/plain": [
       "<Figure size 640x480 with 2 Axes>"
      ]
     },
     "metadata": {},
     "output_type": "display_data"
    }
   ],
   "source": [
    "# Aggregate regional cases to provincial level\n",
    "province_cases_df = regional_cases_df.groupby(\"province\").sum()\n",
    "province_cases_df_narrow = province_cases_df.drop(\n",
    "    columns=[\"code\", \"latitude\", \"longitude\"]\n",
    ")\n",
    "sns.heatmap(province_cases_df_narrow.corr(), annot=True, mask=matrix, cmap=\"magma\")"
   ]
  },
  {
   "cell_type": "markdown",
   "id": "248bfdc4",
   "metadata": {},
   "source": [
    "At the provincial level, the highest correlation is between academy ratio and confirmed cases, with elderly population ratio close behind. Interestingly, elderly_population_ratio correlation was negative at the city level, so it's an interesting example of Simpson's paradox. This means that we have a lurking confounding variable in there somewhere, most likely when we aggregate the data up to the provincial level. We'd need more data and possibly more sophisticated techniques to unravel that paradox fully, but for now can rely on the connection between mortality and age in this dataset to use in our policy recommendations.  "
   ]
  },
  {
   "cell_type": "markdown",
   "id": "cbe3c0e2",
   "metadata": {},
   "source": [
    "# Policy recommendations"
   ]
  },
  {
   "cell_type": "markdown",
   "id": "02cd9fe3",
   "metadata": {},
   "source": [
    "Our analysis showed that the top four risk vectors for South Korea during an early-stage pandemic of this type were Church, contact with patients, overseas inflows, and hospitals. South Korea addressed these risks through a mix of government controls, social campaigns, public education, and distributing resources for more localized care. In this section, we'll run through recommendations for a country going through a similar public health crisis and highlight data that would need to be made available to both deepen our understanding and further clarify our recommendations. "
   ]
  },
  {
   "cell_type": "markdown",
   "id": "277e4849",
   "metadata": {},
   "source": [
    "### Policy 1 : Temporarily closing religious gathering sites"
   ]
  },
  {
   "cell_type": "code",
   "execution_count": 32,
   "id": "d126c2b3",
   "metadata": {},
   "outputs": [
    {
     "data": {
      "text/html": [
       "<div>\n",
       "<style scoped>\n",
       "    .dataframe tbody tr th:only-of-type {\n",
       "        vertical-align: middle;\n",
       "    }\n",
       "\n",
       "    .dataframe tbody tr th {\n",
       "        vertical-align: top;\n",
       "    }\n",
       "\n",
       "    .dataframe thead th {\n",
       "        text-align: right;\n",
       "    }\n",
       "</style>\n",
       "<table border=\"1\" class=\"dataframe\">\n",
       "  <thead>\n",
       "    <tr style=\"text-align: right;\">\n",
       "      <th></th>\n",
       "      <th>Attribution</th>\n",
       "      <th>Confirmed cases</th>\n",
       "    </tr>\n",
       "  </thead>\n",
       "  <tbody>\n",
       "    <tr>\n",
       "      <th>0</th>\n",
       "      <td>Church</td>\n",
       "      <td>5536</td>\n",
       "    </tr>\n",
       "    <tr>\n",
       "      <th>1</th>\n",
       "      <td>Hospital</td>\n",
       "      <td>685</td>\n",
       "    </tr>\n",
       "    <tr>\n",
       "      <th>2</th>\n",
       "      <td>Overseas inflows</td>\n",
       "      <td>949</td>\n",
       "    </tr>\n",
       "    <tr>\n",
       "      <th>3</th>\n",
       "      <td>Contact with patient</td>\n",
       "      <td>1403</td>\n",
       "    </tr>\n",
       "  </tbody>\n",
       "</table>\n",
       "</div>"
      ],
      "text/plain": [
       "            Attribution  Confirmed cases\n",
       "0                Church             5536\n",
       "1              Hospital              685\n",
       "2      Overseas inflows              949\n",
       "3  Contact with patient             1403"
      ]
     },
     "execution_count": 32,
     "metadata": {},
     "output_type": "execute_result"
    }
   ],
   "source": [
    "Big_4_breakdown.head()"
   ]
  },
  {
   "cell_type": "markdown",
   "id": "177789d9",
   "metadata": {},
   "source": [
    "Our analysis showed that churches accounted for 5,536 cases alone--this number is even higher when we expand the regex to include pastors' groups, religious campus rallies, temples, and other religious gatherings/sites. Depending on the country, taking this measure early in a pandemic could be seen as anti-religious freedom, but nonetheless would help mitigate mortality rates, especially among the elderly. Statistically speaking, more religious segments of the population often trend older, so they are at higher risk of both transmission and death. Cluster and group infections also could mean the difference between a covid wave like those seen in Daegu, vs. waves seen in Gwangju, which had both fewer cluster infections and far fewer confirmed cases. "
   ]
  },
  {
   "cell_type": "markdown",
   "id": "d677b1ea",
   "metadata": {},
   "source": [
    "### Policy 2: Closing down social commons where viruses could easily be spread"
   ]
  },
  {
   "cell_type": "code",
   "execution_count": 33,
   "id": "0d298553",
   "metadata": {},
   "outputs": [
    {
     "data": {
      "image/png": "[encoded data removed]",
      "text/plain": [
       "<Figure size 640x480 with 2 Axes>"
      ]
     },
     "metadata": {},
     "output_type": "display_data"
    }
   ],
   "source": [
    "corr = regional_cases_df_narrow.corr()\n",
    "matrix = np.triu(corr)\n",
    "sns.set_style(\"darkgrid\")\n",
    "sns.heatmap(corr, annot=True, mask=matrix, cmap=\"magma\");"
   ]
  },
  {
   "cell_type": "markdown",
   "id": "2d126182",
   "metadata": {},
   "source": [
    "Academic spaces such as universities, kindergartens, and academies should be closed down immediately because these areas not only contain a high density of youth and college-aged students, but also are supported by economic activity, commuters, and staff from other swaths of the population. Though mortality is extremely low for patients under the age of 30, our data shows that nursing homes tend to be located near elementary schools, kindergartens, and universities so all academic activity has knock on effects for the elderly population. Though this may not be true for all countries, it is worth considering since higher elderly infections and mortality would affect hospital capacity, patient routing, and other public health considerations. "
   ]
  },
  {
   "cell_type": "markdown",
   "id": "68017b75",
   "metadata": {},
   "source": [
    "### Policy 3: Immigrations and Customs Controls"
   ]
  },
  {
   "cell_type": "markdown",
   "id": "3cfeb654",
   "metadata": {},
   "source": [
    "The Coronavirus pandemic began outside of Korea, so almost all of their early cases came from tourists, returning national, or international commerce. Countries should employ testing, mandatory quarantine procedures, and collect data from people entering the country in order to mitigate viral transmission, because it both staunches case numbers in the early stages of the pandemic, but also buys the government time to mobilize domestic resources without having to fight a full-blown pandemic immediately."
   ]
  },
  {
   "cell_type": "markdown",
   "id": "f8f747fb",
   "metadata": {},
   "source": [
    "### Policy 4: Emergency authorization of testing kits, mandatory quarantine, and social distancing campaigns"
   ]
  },
  {
   "cell_type": "markdown",
   "id": "20629f64",
   "metadata": {},
   "source": [
    "This policy refers to the mix of public messaging, resource mobilization, and government oversight that South Korea employed to great effect. Countries should emphasize community-based/country-based values to encourage mask wearing, social distancing, and other social conventions during an extraordinary time. The public should have ready access to testing equipment, centers, and treatment, as well as be informed on how to behave if they might have been exposed to a covid patient. The data shows that close contact with a patient is a major transmission vector, so educating the public on symptoms and instating mandatory quarantines helps mitigate contagion. "
   ]
  },
  {
   "cell_type": "markdown",
   "id": "bc4824c6",
   "metadata": {},
   "source": [
    "### Policy 5: Instituting proper hospital/treatment procedures and providing a wide array of treatment options"
   ]
  },
  {
   "cell_type": "markdown",
   "id": "8ede60d2",
   "metadata": {},
   "source": [
    "Hospitals were a major cause of infections in our data, suggesting that either healthcare workers weren't properly protected, hospital protocols didn't protect non-Covid patients from contracting the virus from Covid patients, or a mix of the two. If treatment facilities are overloaded or there is a shortage of medical supplies, patient infections and mortality might increase. Further, if there are not enough treatment sites hospitals can be overcapacity which increases risk for both patients and healthcare workers. <br><br> Therefore, hospital treatment practices must be well designed, and potential patients must have access to clinics, makshift treatment areas, testing sites, and pharmacies outside of the hospitals. Following Policy 1 above, many academic or sports facilities could be converted to suit these ends. "
   ]
  },
  {
   "cell_type": "markdown",
   "id": "85dc98b3",
   "metadata": {},
   "source": [
    "# Questions for further research"
   ]
  },
  {
   "cell_type": "markdown",
   "id": "ef34639a",
   "metadata": {},
   "source": [
    "### How much time is there between exposure and symptom onset? Do patients experiences symptoms before or after they test positive? Do these answers differ by age and gender of the patient? \n",
    "\n",
    "To continue this research, we would need more data on patients broken down by age and gender. We were unable to calculate the delta between symptom onset and confirmed coronavirus infection due to the holes in our dataset, but can infer that the viral incubation period is between 9 and 14 days based on our international cases data and the 14-day quarantine period instituted by the government. I would like to analyze patient data to solidify these figures."
   ]
  },
  {
   "cell_type": "markdown",
   "id": "2c008f73",
   "metadata": {},
   "source": [
    "### Where were patients routed once they tested positive or presented symptoms? Which provinces in the country were underresourced, and how did these features affect patient treatment and mortality? \n",
    "\n",
    "Many countries have uneven distribution of resources, unequal service delivery, and wealth inequality. How would these features show up in our data, and how can governments anticipate these differences in service level while also responding to a once-in-a-generation crisis? My suspicion going through the data here is that Seoul had much more access to good healthcare options, very high quality service delivery, and resources to make it through this period of the coronavirus pandemic without seeing the case numbers that Daegu did. According to the map above, Seoul's population is times larger than that of Daegu but saw 19% of the cases seen in that province. Since Seoul is the capital, there may be infrastructure and logistical reasons for this that may be instructive for other countries. "
   ]
  },
  {
   "cell_type": "markdown",
   "id": "ca94a277",
   "metadata": {},
   "source": [
    "### What is the true correlation between elderly population ratio and the number of confirmed cases? \n",
    "\n",
    "Our analysis showed that when grouped at the city level, confirmed_cases had a negative correlation to elderly_population_ratio, but a positive correlation when grouped at the province level. This suggests that we have at least one confounding variable that would elucidate these relationships, but would need more data regarding the elderly population and service delivery at both city and provincial levels. We might also have to employ other data techniques to properly explore unique challenges to that demographic group. \n"
   ]
  },
  {
   "cell_type": "markdown",
   "id": "e8d20135",
   "metadata": {},
   "source": [
    "# Conclusion\n",
    "\n",
    "South Korea's experience at this stage of the Coronavirus pandemic is instructive for small, well-connected countries at a similar level of economic development. Because of its close economic ties with China and geographic proximity to the epicenter of the pandemic, it had an earlier experience with the virus also, that may be instructive for countries who face similar challenges at the very beginning of a viral pandemic. Countries should consider how their topography, demographic composition, and level of development in their healthcare infrastructure allows them to reproduce South Korea's successes during this time."
   ]
  }
 ],
 "metadata": {
  "kernelspec": {
   "display_name": "Python 3",
   "language": "python",
   "name": "python3"
  },
  "language_info": {
   "codemirror_mode": {
    "name": "ipython",
    "version": 3
   },
   "file_extension": ".py",
   "mimetype": "text/x-python",
   "name": "python",
   "nbconvert_exporter": "python",
   "pygments_lexer": "ipython3",
   "version": "3.11.7"
  },
  "toc": {
   "base_numbering": 1,
   "nav_menu": {},
   "number_sections": true,
   "sideBar": true,
   "skip_h1_title": false,
   "title_cell": "Table of Contents",
   "title_sidebar": "Contents",
   "toc_cell": false,
   "toc_position": {},
   "toc_section_display": true,
   "toc_window_display": false
  }
 },
 "nbformat": 4,
 "nbformat_minor": 5
}
